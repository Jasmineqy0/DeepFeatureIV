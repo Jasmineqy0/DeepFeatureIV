{
 "cells": [
  {
   "cell_type": "code",
   "execution_count": 1,
   "metadata": {},
   "outputs": [],
   "source": [
    "from pathlib import Path\n",
    "import plotly.express as px\n",
    "import numpy as np\n",
    "%matplotlib inline\n",
    "import matplotlib.pyplot as plt\n",
    "from mpl_toolkits import mplot3d\n",
    "import pandas as pd\n",
    "import numpy as np\n",
    "import wandb\n",
    "import torch\n",
    "from torch import nn\n",
    "import sys\n",
    "sys.path.append(str(Path.cwd().parent))\n",
    "from viz_utils import load_dfiv_model, predict_dfiv_model, load_dfiv_runs, create_combined_df, create_latex_df, convert_to_latex_table, save_latex_str"
   ]
  },
  {
   "cell_type": "code",
   "execution_count": 2,
   "metadata": {},
   "outputs": [],
   "source": [
    "IMAGE_DIR = Path.cwd() / 'images'"
   ]
  },
  {
   "cell_type": "code",
   "execution_count": 3,
   "metadata": {},
   "outputs": [],
   "source": [
    "entity, project = \"jasmineqy0\", \"spaceIV-search\" "
   ]
  },
  {
   "attachments": {},
   "cell_type": "markdown",
   "metadata": {},
   "source": [
    "# Data Size 1600"
   ]
  },
  {
   "cell_type": "code",
   "execution_count": 4,
   "metadata": {},
   "outputs": [
    {
     "name": "stdout",
     "output_type": "stream",
     "text": [
      "Number of runs:  20\n"
     ]
    }
   ],
   "source": [
    "group = 'dfiv_spaceiv_vanilla_1600'\n",
    "runs_df = load_dfiv_runs(entity, project, filters={'group' : group})\n",
    "runs_df = runs_df[runs_df['state'].apply(lambda x: x == 'finished')]\n",
    "# runs_df\n",
    "runs_df = runs_df[runs_df['summary'].apply(lambda x: 'min_test_loss' in x)]\n",
    "print('Number of runs: ', len(runs_df))"
   ]
  },
  {
   "cell_type": "code",
   "execution_count": 5,
   "metadata": {},
   "outputs": [
    {
     "name": "stdout",
     "output_type": "stream",
     "text": [
      "Number of runs with test loss:  20\n",
      "min test loss: 852.3488159179688\n",
      "\n",
      "mean test loss:  2049.4605865478516\n",
      "std test loss:  1269.9461630467458\n",
      "median test loss:  1667.8117065429688\n"
     ]
    }
   ],
   "source": [
    "test_loss_idx = runs_df['summary'].apply(lambda x: True if 'test loss' in x else False)\n",
    "test_loss_df = runs_df[test_loss_idx]\n",
    "print('Number of runs with test loss: ', len(test_loss_df))\n",
    "\n",
    "size_1600_test_loss = test_loss_df['summary'].apply(lambda x: x['min_test_loss'])\n",
    "\n",
    "min_idx, min_test_loss = np.argmin(size_1600_test_loss), np.min(size_1600_test_loss)\n",
    "print(f\"min test loss: {min_test_loss}\\n\")\n",
    "\n",
    "size_1600_mean_test_loss = np.mean(size_1600_test_loss)\n",
    "print('mean test loss: ', size_1600_mean_test_loss)\n",
    "\n",
    "size_1600_std_test_loss = np.std(size_1600_test_loss)\n",
    "print('std test loss: ', size_1600_std_test_loss)\n",
    "\n",
    "size_1600_median_test_loss = np.median(size_1600_test_loss)\n",
    "print('median test loss: ', size_1600_median_test_loss)"
   ]
  },
  {
   "cell_type": "code",
   "execution_count": 6,
   "metadata": {},
   "outputs": [
    {
     "name": "stdout",
     "output_type": "stream",
     "text": [
      "best run name: rich-moon-2061, best run id: t0d0b5em\n",
      "best run path: jasmineqy0/spaceIV-search/t0d0b5em\n"
     ]
    },
    {
     "ename": "RuntimeError",
     "evalue": "Error(s) in loading state_dict for Sequential:\n\tUnexpected key(s) in state_dict: \"4.weight\", \"4.bias\", \"6.weight\", \"6.bias\". \n\tsize mismatch for 0.weight: copying a param with shape torch.Size([57, 20]) from checkpoint, the shape in current model is torch.Size([16, 20]).\n\tsize mismatch for 0.bias: copying a param with shape torch.Size([57]) from checkpoint, the shape in current model is torch.Size([16]).\n\tsize mismatch for 2.weight: copying a param with shape torch.Size([57, 57]) from checkpoint, the shape in current model is torch.Size([1, 16]).\n\tsize mismatch for 2.bias: copying a param with shape torch.Size([57]) from checkpoint, the shape in current model is torch.Size([1]).",
     "output_type": "error",
     "traceback": [
      "\u001b[0;31m---------------------------------------------------------------------------\u001b[0m",
      "\u001b[0;31mRuntimeError\u001b[0m                              Traceback (most recent call last)",
      "Cell \u001b[0;32mIn[6], line 9\u001b[0m\n\u001b[1;32m      6\u001b[0m run_path_size_1600 \u001b[39m=\u001b[39m \u001b[39m'\u001b[39m\u001b[39m/\u001b[39m\u001b[39m'\u001b[39m\u001b[39m.\u001b[39mjoin([entity, project, best_run_id])\n\u001b[1;32m      7\u001b[0m \u001b[39mprint\u001b[39m(\u001b[39mf\u001b[39m\u001b[39m'\u001b[39m\u001b[39mbest run path: \u001b[39m\u001b[39m{\u001b[39;00mrun_path_size_1600\u001b[39m}\u001b[39;00m\u001b[39m'\u001b[39m)\n\u001b[0;32m----> 9\u001b[0m dfiv_size_1600_model \u001b[39m=\u001b[39m load_dfiv_model(run_path_size_1600)\n",
      "File \u001b[0;32m~/test/MA/DeepFeatureIV/viz/viz_utils.py:97\u001b[0m, in \u001b[0;36mload_dfiv_model\u001b[0;34m(run_path, data_config_ops)\u001b[0m\n\u001b[1;32m     94\u001b[0m treatment_net \u001b[39m=\u001b[39m networks[\u001b[39m0\u001b[39m]\n\u001b[1;32m     96\u001b[0m \u001b[39m# load weights for treatment net\u001b[39;00m\n\u001b[0;32m---> 97\u001b[0m treatment_net\u001b[39m.\u001b[39;49mload_state_dict(treatment_net_weight)\n\u001b[1;32m     98\u001b[0m \u001b[39mif\u001b[39;00m covariate_net_weight \u001b[39mis\u001b[39;00m \u001b[39mnot\u001b[39;00m \u001b[39mNone\u001b[39;00m:\n\u001b[1;32m     99\u001b[0m     covariate_net \u001b[39m=\u001b[39m networks[\u001b[39m2\u001b[39m]\n",
      "File \u001b[0;32m~/miniconda3/envs/dfiv/lib/python3.10/site-packages/torch/nn/modules/module.py:1671\u001b[0m, in \u001b[0;36mModule.load_state_dict\u001b[0;34m(self, state_dict, strict)\u001b[0m\n\u001b[1;32m   1666\u001b[0m         error_msgs\u001b[39m.\u001b[39minsert(\n\u001b[1;32m   1667\u001b[0m             \u001b[39m0\u001b[39m, \u001b[39m'\u001b[39m\u001b[39mMissing key(s) in state_dict: \u001b[39m\u001b[39m{}\u001b[39;00m\u001b[39m. \u001b[39m\u001b[39m'\u001b[39m\u001b[39m.\u001b[39mformat(\n\u001b[1;32m   1668\u001b[0m                 \u001b[39m'\u001b[39m\u001b[39m, \u001b[39m\u001b[39m'\u001b[39m\u001b[39m.\u001b[39mjoin(\u001b[39m'\u001b[39m\u001b[39m\"\u001b[39m\u001b[39m{}\u001b[39;00m\u001b[39m\"\u001b[39m\u001b[39m'\u001b[39m\u001b[39m.\u001b[39mformat(k) \u001b[39mfor\u001b[39;00m k \u001b[39min\u001b[39;00m missing_keys)))\n\u001b[1;32m   1670\u001b[0m \u001b[39mif\u001b[39;00m \u001b[39mlen\u001b[39m(error_msgs) \u001b[39m>\u001b[39m \u001b[39m0\u001b[39m:\n\u001b[0;32m-> 1671\u001b[0m     \u001b[39mraise\u001b[39;00m \u001b[39mRuntimeError\u001b[39;00m(\u001b[39m'\u001b[39m\u001b[39mError(s) in loading state_dict for \u001b[39m\u001b[39m{}\u001b[39;00m\u001b[39m:\u001b[39m\u001b[39m\\n\u001b[39;00m\u001b[39m\\t\u001b[39;00m\u001b[39m{}\u001b[39;00m\u001b[39m'\u001b[39m\u001b[39m.\u001b[39mformat(\n\u001b[1;32m   1672\u001b[0m                        \u001b[39mself\u001b[39m\u001b[39m.\u001b[39m\u001b[39m__class__\u001b[39m\u001b[39m.\u001b[39m\u001b[39m__name__\u001b[39m, \u001b[39m\"\u001b[39m\u001b[39m\\n\u001b[39;00m\u001b[39m\\t\u001b[39;00m\u001b[39m\"\u001b[39m\u001b[39m.\u001b[39mjoin(error_msgs)))\n\u001b[1;32m   1673\u001b[0m \u001b[39mreturn\u001b[39;00m _IncompatibleKeys(missing_keys, unexpected_keys)\n",
      "\u001b[0;31mRuntimeError\u001b[0m: Error(s) in loading state_dict for Sequential:\n\tUnexpected key(s) in state_dict: \"4.weight\", \"4.bias\", \"6.weight\", \"6.bias\". \n\tsize mismatch for 0.weight: copying a param with shape torch.Size([57, 20]) from checkpoint, the shape in current model is torch.Size([16, 20]).\n\tsize mismatch for 0.bias: copying a param with shape torch.Size([57]) from checkpoint, the shape in current model is torch.Size([16]).\n\tsize mismatch for 2.weight: copying a param with shape torch.Size([57, 57]) from checkpoint, the shape in current model is torch.Size([1, 16]).\n\tsize mismatch for 2.bias: copying a param with shape torch.Size([57]) from checkpoint, the shape in current model is torch.Size([1])."
     ]
    }
   ],
   "source": [
    "best_run = runs_df.iloc[min_idx]\n",
    "assert best_run['summary']['min_test_loss'] == min_test_loss, 'min test loss not equal to min test loss in test loss df'\n",
    "best_run_name, best_run_id = best_run['name'], best_run['id']\n",
    "print(f'best run name: {best_run_name}, best run id: {best_run_id}')\n",
    "\n",
    "run_path_size_1600 = '/'.join([entity, project, best_run_id])\n",
    "print(f'best run path: {run_path_size_1600}')\n",
    "\n",
    "dfiv_size_1600_model = load_dfiv_model(run_path_size_1600)"
   ]
  },
  {
   "attachments": {},
   "cell_type": "markdown",
   "metadata": {},
   "source": [
    "# Data Size 3200"
   ]
  },
  {
   "cell_type": "code",
   "execution_count": null,
   "metadata": {},
   "outputs": [
    {
     "name": "stdout",
     "output_type": "stream",
     "text": [
      "Number of runs:  20\n"
     ]
    }
   ],
   "source": [
    "group = 'dfiv_spaceiv_vanilla_3200'\n",
    "runs_df = load_dfiv_runs(entity, project, filters={'group' : group})\n",
    "runs_df = runs_df[runs_df['state'].apply(lambda x: x == 'finished')]\n",
    "# runs_df\n",
    "runs_df = runs_df[runs_df['summary'].apply(lambda x: 'min_test_loss' in x)]\n",
    "print('Number of runs: ', len(runs_df))"
   ]
  },
  {
   "cell_type": "code",
   "execution_count": null,
   "metadata": {},
   "outputs": [
    {
     "name": "stdout",
     "output_type": "stream",
     "text": [
      "Number of runs with test loss:  20\n",
      "min test loss: 1686.5736083984375\n",
      "\n",
      "mean test loss:  4859.435687255859\n",
      "std test loss:  2094.6658880503765\n",
      "median test loss:  4106.658935546875\n"
     ]
    }
   ],
   "source": [
    "test_loss_idx = runs_df['summary'].apply(lambda x: True if 'test loss' in x else False)\n",
    "test_loss_df = runs_df[test_loss_idx]\n",
    "print('Number of runs with test loss: ', len(test_loss_df))\n",
    "\n",
    "size_3200_test_loss = test_loss_df['summary'].apply(lambda x: x['min_test_loss'])\n",
    "\n",
    "min_idx, min_test_loss = np.argmin(size_3200_test_loss), np.min(size_3200_test_loss)\n",
    "print(f\"min test loss: {min_test_loss}\\n\")\n",
    "\n",
    "size_3200_mean_test_loss = np.mean(size_3200_test_loss)\n",
    "print('mean test loss: ', size_3200_mean_test_loss)\n",
    "\n",
    "size_3200_std_test_loss = np.std(size_3200_test_loss)\n",
    "print('std test loss: ', size_3200_std_test_loss)\n",
    "\n",
    "size_3200_median_test_loss = np.median(size_3200_test_loss)\n",
    "print('median test loss: ', size_3200_median_test_loss)"
   ]
  },
  {
   "cell_type": "code",
   "execution_count": null,
   "metadata": {},
   "outputs": [],
   "source": [
    "best_df = test_loss_df.iloc[min_idx]['history']\n",
    "best_df = best_df.dropna(subset=['epoch'])\n",
    "best_df = best_df.sort_values(by='epoch')\n",
    "best_df = best_df.groupby('epoch').mean().reset_index()"
   ]
  },
  {
   "cell_type": "code",
   "execution_count": null,
   "metadata": {},
   "outputs": [
    {
     "data": {
      "text/plain": [
       "[<matplotlib.lines.Line2D at 0x7f1c68488e80>]"
      ]
     },
     "execution_count": 16,
     "metadata": {},
     "output_type": "execute_result"
    },
    {
     "data": {
      "image/png": "[encoded data removed]",
      "text/plain": [
       "<Figure size 640x480 with 1 Axes>"
      ]
     },
     "metadata": {},
     "output_type": "display_data"
    }
   ],
   "source": [
    "train_2_loss_idx = best_df[best_df['stage 2 train loss'].notnull()].index\n",
    "val_2_loss_idx = best_df[best_df['stage 2 val loss'].notnull()].index\n",
    "test_loss_idx = best_df[best_df['test loss'].notnull()].index\n",
    "\n",
    "train_2_loss = best_df.loc[train_2_loss_idx]['stage 2 train loss']\n",
    "train_2_epoch = best_df.loc[train_2_loss_idx]['epoch']\n",
    "val_2_loss = best_df.loc[val_2_loss_idx]['stage 2 val loss']\n",
    "val_2_epoch = best_df.loc[val_2_loss_idx]['epoch']\n",
    "test_loss = best_df.loc[test_loss_idx]['test loss']\n",
    "test_epoch = best_df.loc[test_loss_idx]['epoch']\n",
    "\n",
    "plt.plot(train_2_epoch, train_2_loss)"
   ]
  },
  {
   "cell_type": "code",
   "execution_count": null,
   "metadata": {},
   "outputs": [
    {
     "name": "stdout",
     "output_type": "stream",
     "text": [
      "best run name: summer-salad-2026, best run id: oi66m2lu\n",
      "best run path: jasmineqy0/spaceIV-search/oi66m2lu\n"
     ]
    }
   ],
   "source": [
    "best_run = runs_df.iloc[min_idx]\n",
    "assert best_run['summary']['min_test_loss'] == min_test_loss, 'min test loss not equal to min test loss in test loss df'\n",
    "best_run_name, best_run_id = best_run['name'], best_run['id']\n",
    "print(f'best run name: {best_run_name}, best run id: {best_run_id}')\n",
    "\n",
    "run_path_size_3200 = '/'.join([entity, project, best_run_id])\n",
    "print(f'best run path: {run_path_size_3200}')\n",
    "\n",
    "dfiv_size_3200_model = load_dfiv_model(run_path_size_3200)"
   ]
  },
  {
   "attachments": {},
   "cell_type": "markdown",
   "metadata": {},
   "source": [
    "# Data Size 6400"
   ]
  },
  {
   "cell_type": "code",
   "execution_count": 31,
   "metadata": {},
   "outputs": [
    {
     "name": "stdout",
     "output_type": "stream",
     "text": [
      "Number of runs:  20\n"
     ]
    }
   ],
   "source": [
    "group = 'dfiv_spaceiv_vanilla_6400'\n",
    "runs_df = load_dfiv_runs(entity, project, filters={'group' : group})\n",
    "runs_df = runs_df[runs_df['state'].apply(lambda x: x == 'finished')]\n",
    "# runs_df\n",
    "runs_df = runs_df[runs_df['summary'].apply(lambda x: 'min_test_loss' in x)]\n",
    "print('Number of runs: ', len(runs_df))"
   ]
  },
  {
   "cell_type": "code",
   "execution_count": 33,
   "metadata": {},
   "outputs": [
    {
     "name": "stdout",
     "output_type": "stream",
     "text": [
      "Number of runs with test loss:  20\n",
      "min test loss: 3349.1435546875\n",
      "\n",
      "mean test loss:  9730.828564453124\n",
      "std test loss:  4019.425053160236\n",
      "median test loss:  8394.35546875\n"
     ]
    }
   ],
   "source": [
    "test_loss_idx = runs_df['summary'].apply(lambda x: True if 'test loss' in x else False)\n",
    "test_loss_df = runs_df[test_loss_idx]\n",
    "print('Number of runs with test loss: ', len(test_loss_df))\n",
    "\n",
    "size_6400_test_loss = test_loss_df['summary'].apply(lambda x: x['min_test_loss'])\n",
    "\n",
    "min_idx, min_test_loss = np.argmin(size_6400_test_loss), np.min(size_6400_test_loss)\n",
    "print(f\"min test loss: {min_test_loss}\\n\")\n",
    "\n",
    "size_6400_mean_test_loss = np.mean(size_6400_test_loss)\n",
    "print('mean test loss: ', size_6400_mean_test_loss)\n",
    "\n",
    "size_6400_std_test_loss = np.std(size_6400_test_loss)\n",
    "print('std test loss: ', size_6400_std_test_loss)\n",
    "\n",
    "size_6400_median_test_loss = np.median(size_6400_test_loss)\n",
    "print('median test loss: ', size_6400_median_test_loss)"
   ]
  },
  {
   "cell_type": "code",
   "execution_count": null,
   "metadata": {},
   "outputs": [
    {
     "name": "stdout",
     "output_type": "stream",
     "text": [
      "best run name: rich-moon-2061, best run id: t0d0b5em\n",
      "best run path: jasmineqy0/spaceIV-search/t0d0b5em\n"
     ]
    }
   ],
   "source": [
    "best_run = runs_df.iloc[min_idx]\n",
    "assert best_run['summary']['min_test_loss'] == min_test_loss, 'min test loss not equal to min test loss in test loss df'\n",
    "best_run_name, best_run_id = best_run['name'], best_run['id']\n",
    "print(f'best run name: {best_run_name}, best run id: {best_run_id}')\n",
    "\n",
    "run_path_size_1600 = '/'.join([entity, project, best_run_id])\n",
    "print(f'best run path: {run_path_size_1600}')\n",
    "\n",
    "dfiv_size_1600_model = load_dfiv_model(run_path_size_1600)"
   ]
  },
  {
   "attachments": {},
   "cell_type": "markdown",
   "metadata": {},
   "source": [
    "## Unidentifiable"
   ]
  },
  {
   "attachments": {},
   "cell_type": "markdown",
   "metadata": {},
   "source": [
    "## spaceIV"
   ]
  },
  {
   "cell_type": "code",
   "execution_count": 37,
   "metadata": {},
   "outputs": [],
   "source": [
    "spaceiv_dir = Path('../../spaceIV')\n",
    "spaceiv_res_root_dir = spaceiv_dir / 'results' / 'comp'\n",
    "spaceiv_data_root_dir = spaceiv_dir / 'data'\n",
    "case = 'case:identifiable-iv_num:30'"
   ]
  },
  {
   "cell_type": "code",
   "execution_count": 38,
   "metadata": {},
   "outputs": [
    {
     "data": {
      "text/html": [
       "<div>\n",
       "<style scoped>\n",
       "    .dataframe tbody tr th:only-of-type {\n",
       "        vertical-align: middle;\n",
       "    }\n",
       "\n",
       "    .dataframe tbody tr th {\n",
       "        vertical-align: top;\n",
       "    }\n",
       "\n",
       "    .dataframe thead th {\n",
       "        text-align: right;\n",
       "    }\n",
       "</style>\n",
       "<table border=\"1\" class=\"dataframe\">\n",
       "  <thead>\n",
       "    <tr style=\"text-align: right;\">\n",
       "      <th></th>\n",
       "      <th>Unnamed: 0</th>\n",
       "      <th>case</th>\n",
       "      <th>data_size</th>\n",
       "      <th>test_size</th>\n",
       "      <th>mse</th>\n",
       "      <th>sample_dir</th>\n",
       "      <th>model</th>\n",
       "    </tr>\n",
       "  </thead>\n",
       "  <tbody>\n",
       "    <tr>\n",
       "      <th>0</th>\n",
       "      <td>0</td>\n",
       "      <td>case:identifiable-iv_num:30</td>\n",
       "      <td>3200</td>\n",
       "      <td>400</td>\n",
       "      <td>0.001727</td>\n",
       "      <td>a1a3-1</td>\n",
       "      <td>spaceIV</td>\n",
       "    </tr>\n",
       "    <tr>\n",
       "      <th>1</th>\n",
       "      <td>1</td>\n",
       "      <td>case:identifiable-iv_num:30</td>\n",
       "      <td>3200</td>\n",
       "      <td>400</td>\n",
       "      <td>0.002294</td>\n",
       "      <td>a1a3-9</td>\n",
       "      <td>spaceIV</td>\n",
       "    </tr>\n",
       "    <tr>\n",
       "      <th>2</th>\n",
       "      <td>2</td>\n",
       "      <td>case:identifiable-iv_num:30</td>\n",
       "      <td>3200</td>\n",
       "      <td>400</td>\n",
       "      <td>0.000120</td>\n",
       "      <td>a1a3-3</td>\n",
       "      <td>spaceIV</td>\n",
       "    </tr>\n",
       "    <tr>\n",
       "      <th>3</th>\n",
       "      <td>3</td>\n",
       "      <td>case:identifiable-iv_num:30</td>\n",
       "      <td>3200</td>\n",
       "      <td>400</td>\n",
       "      <td>0.000363</td>\n",
       "      <td>a1a3-2</td>\n",
       "      <td>spaceIV</td>\n",
       "    </tr>\n",
       "    <tr>\n",
       "      <th>4</th>\n",
       "      <td>4</td>\n",
       "      <td>case:identifiable-iv_num:30</td>\n",
       "      <td>3200</td>\n",
       "      <td>400</td>\n",
       "      <td>0.002536</td>\n",
       "      <td>a1a3-14</td>\n",
       "      <td>spaceIV</td>\n",
       "    </tr>\n",
       "    <tr>\n",
       "      <th>5</th>\n",
       "      <td>5</td>\n",
       "      <td>case:identifiable-iv_num:30</td>\n",
       "      <td>3200</td>\n",
       "      <td>400</td>\n",
       "      <td>0.000634</td>\n",
       "      <td>a1a3-6</td>\n",
       "      <td>spaceIV</td>\n",
       "    </tr>\n",
       "    <tr>\n",
       "      <th>6</th>\n",
       "      <td>6</td>\n",
       "      <td>case:identifiable-iv_num:30</td>\n",
       "      <td>3200</td>\n",
       "      <td>400</td>\n",
       "      <td>0.009812</td>\n",
       "      <td>a1a3-16</td>\n",
       "      <td>spaceIV</td>\n",
       "    </tr>\n",
       "    <tr>\n",
       "      <th>7</th>\n",
       "      <td>7</td>\n",
       "      <td>case:identifiable-iv_num:30</td>\n",
       "      <td>3200</td>\n",
       "      <td>400</td>\n",
       "      <td>0.000988</td>\n",
       "      <td>a1a3-15</td>\n",
       "      <td>spaceIV</td>\n",
       "    </tr>\n",
       "    <tr>\n",
       "      <th>8</th>\n",
       "      <td>8</td>\n",
       "      <td>case:identifiable-iv_num:30</td>\n",
       "      <td>3200</td>\n",
       "      <td>400</td>\n",
       "      <td>0.006077</td>\n",
       "      <td>a1a3-5</td>\n",
       "      <td>spaceIV</td>\n",
       "    </tr>\n",
       "    <tr>\n",
       "      <th>9</th>\n",
       "      <td>9</td>\n",
       "      <td>case:identifiable-iv_num:30</td>\n",
       "      <td>3200</td>\n",
       "      <td>400</td>\n",
       "      <td>0.002041</td>\n",
       "      <td>a1a3-10</td>\n",
       "      <td>spaceIV</td>\n",
       "    </tr>\n",
       "    <tr>\n",
       "      <th>10</th>\n",
       "      <td>10</td>\n",
       "      <td>case:identifiable-iv_num:30</td>\n",
       "      <td>3200</td>\n",
       "      <td>400</td>\n",
       "      <td>0.005700</td>\n",
       "      <td>a1a3-19</td>\n",
       "      <td>spaceIV</td>\n",
       "    </tr>\n",
       "    <tr>\n",
       "      <th>11</th>\n",
       "      <td>11</td>\n",
       "      <td>case:identifiable-iv_num:30</td>\n",
       "      <td>3200</td>\n",
       "      <td>400</td>\n",
       "      <td>0.009395</td>\n",
       "      <td>a1a3-4</td>\n",
       "      <td>spaceIV</td>\n",
       "    </tr>\n",
       "    <tr>\n",
       "      <th>12</th>\n",
       "      <td>12</td>\n",
       "      <td>case:identifiable-iv_num:30</td>\n",
       "      <td>3200</td>\n",
       "      <td>400</td>\n",
       "      <td>0.011002</td>\n",
       "      <td>a1a3-13</td>\n",
       "      <td>spaceIV</td>\n",
       "    </tr>\n",
       "    <tr>\n",
       "      <th>13</th>\n",
       "      <td>13</td>\n",
       "      <td>case:identifiable-iv_num:30</td>\n",
       "      <td>3200</td>\n",
       "      <td>400</td>\n",
       "      <td>0.000631</td>\n",
       "      <td>a1a3-7</td>\n",
       "      <td>spaceIV</td>\n",
       "    </tr>\n",
       "    <tr>\n",
       "      <th>14</th>\n",
       "      <td>14</td>\n",
       "      <td>case:identifiable-iv_num:30</td>\n",
       "      <td>3200</td>\n",
       "      <td>400</td>\n",
       "      <td>0.001759</td>\n",
       "      <td>a1a3-17</td>\n",
       "      <td>spaceIV</td>\n",
       "    </tr>\n",
       "    <tr>\n",
       "      <th>15</th>\n",
       "      <td>15</td>\n",
       "      <td>case:identifiable-iv_num:30</td>\n",
       "      <td>3200</td>\n",
       "      <td>400</td>\n",
       "      <td>0.001548</td>\n",
       "      <td>a1a3-0</td>\n",
       "      <td>spaceIV</td>\n",
       "    </tr>\n",
       "    <tr>\n",
       "      <th>16</th>\n",
       "      <td>16</td>\n",
       "      <td>case:identifiable-iv_num:30</td>\n",
       "      <td>3200</td>\n",
       "      <td>400</td>\n",
       "      <td>0.001110</td>\n",
       "      <td>a1a3-8</td>\n",
       "      <td>spaceIV</td>\n",
       "    </tr>\n",
       "    <tr>\n",
       "      <th>17</th>\n",
       "      <td>17</td>\n",
       "      <td>case:identifiable-iv_num:30</td>\n",
       "      <td>3200</td>\n",
       "      <td>400</td>\n",
       "      <td>0.000137</td>\n",
       "      <td>a1a3-11</td>\n",
       "      <td>spaceIV</td>\n",
       "    </tr>\n",
       "    <tr>\n",
       "      <th>18</th>\n",
       "      <td>18</td>\n",
       "      <td>case:identifiable-iv_num:30</td>\n",
       "      <td>3200</td>\n",
       "      <td>400</td>\n",
       "      <td>0.001914</td>\n",
       "      <td>a1a3-18</td>\n",
       "      <td>spaceIV</td>\n",
       "    </tr>\n",
       "    <tr>\n",
       "      <th>19</th>\n",
       "      <td>19</td>\n",
       "      <td>case:identifiable-iv_num:30</td>\n",
       "      <td>3200</td>\n",
       "      <td>400</td>\n",
       "      <td>0.005550</td>\n",
       "      <td>a1a3-12</td>\n",
       "      <td>spaceIV</td>\n",
       "    </tr>\n",
       "  </tbody>\n",
       "</table>\n",
       "</div>"
      ],
      "text/plain": [
       "    Unnamed: 0                         case  data_size  test_size       mse  \\\n",
       "0            0  case:identifiable-iv_num:30       3200        400  0.001727   \n",
       "1            1  case:identifiable-iv_num:30       3200        400  0.002294   \n",
       "2            2  case:identifiable-iv_num:30       3200        400  0.000120   \n",
       "3            3  case:identifiable-iv_num:30       3200        400  0.000363   \n",
       "4            4  case:identifiable-iv_num:30       3200        400  0.002536   \n",
       "5            5  case:identifiable-iv_num:30       3200        400  0.000634   \n",
       "6            6  case:identifiable-iv_num:30       3200        400  0.009812   \n",
       "7            7  case:identifiable-iv_num:30       3200        400  0.000988   \n",
       "8            8  case:identifiable-iv_num:30       3200        400  0.006077   \n",
       "9            9  case:identifiable-iv_num:30       3200        400  0.002041   \n",
       "10          10  case:identifiable-iv_num:30       3200        400  0.005700   \n",
       "11          11  case:identifiable-iv_num:30       3200        400  0.009395   \n",
       "12          12  case:identifiable-iv_num:30       3200        400  0.011002   \n",
       "13          13  case:identifiable-iv_num:30       3200        400  0.000631   \n",
       "14          14  case:identifiable-iv_num:30       3200        400  0.001759   \n",
       "15          15  case:identifiable-iv_num:30       3200        400  0.001548   \n",
       "16          16  case:identifiable-iv_num:30       3200        400  0.001110   \n",
       "17          17  case:identifiable-iv_num:30       3200        400  0.000137   \n",
       "18          18  case:identifiable-iv_num:30       3200        400  0.001914   \n",
       "19          19  case:identifiable-iv_num:30       3200        400  0.005550   \n",
       "\n",
       "   sample_dir    model  \n",
       "0      a1a3-1  spaceIV  \n",
       "1      a1a3-9  spaceIV  \n",
       "2      a1a3-3  spaceIV  \n",
       "3      a1a3-2  spaceIV  \n",
       "4     a1a3-14  spaceIV  \n",
       "5      a1a3-6  spaceIV  \n",
       "6     a1a3-16  spaceIV  \n",
       "7     a1a3-15  spaceIV  \n",
       "8      a1a3-5  spaceIV  \n",
       "9     a1a3-10  spaceIV  \n",
       "10    a1a3-19  spaceIV  \n",
       "11     a1a3-4  spaceIV  \n",
       "12    a1a3-13  spaceIV  \n",
       "13     a1a3-7  spaceIV  \n",
       "14    a1a3-17  spaceIV  \n",
       "15     a1a3-0  spaceIV  \n",
       "16     a1a3-8  spaceIV  \n",
       "17    a1a3-11  spaceIV  \n",
       "18    a1a3-18  spaceIV  \n",
       "19    a1a3-12  spaceIV  "
      ]
     },
     "execution_count": 38,
     "metadata": {},
     "output_type": "execute_result"
    }
   ],
   "source": [
    "cases = [case]\n",
    "dfs = {case: pd.read_csv(spaceiv_res_root_dir / f'{case}.csv') for case in cases}\n",
    "df_spaceiv = dfs[case]\n",
    "df_spaceiv['model'] = 'spaceIV'\n",
    "df_spaceiv"
   ]
  },
  {
   "cell_type": "code",
   "execution_count": 39,
   "metadata": {},
   "outputs": [
    {
     "name": "stdout",
     "output_type": "stream",
     "text": [
      "spaceIV mean mse: 0.003267003353068485, std mse: 0.003429944871225407 median 0.001836368413609\n"
     ]
    }
   ],
   "source": [
    "spaceiv_mean_mse = df_spaceiv['mse'].mean()\n",
    "spaceiv_std_mse = df_spaceiv['mse'].std()\n",
    "print(f'spaceIV mean mse: {spaceiv_mean_mse}, std mse: {spaceiv_std_mse}', 'median', df_spaceiv['mse'].median())"
   ]
  },
  {
   "cell_type": "code",
   "execution_count": 16,
   "metadata": {},
   "outputs": [],
   "source": [
    "# find best sample\n",
    "best_sample = df_spaceiv.iloc[df_spaceiv['mse'].idxmin()]\n",
    "best_sample_name = best_sample['sample_dir']\n",
    "best_sample_train_size = best_sample['data_size']\n",
    "best_sample_test_size = best_sample['test_size']\n",
    "best_sample_train_dir = spaceiv_data_root_dir / case / best_sample_name / f'data_size:{best_sample_train_size}'\n",
    "best_sample_test_dir = spaceiv_data_root_dir / case / best_sample_name / f'data_size:{best_sample_test_size}'\n",
    "assert best_sample_train_dir.exists(), f'error: best sample dir {best_sample_train_dir} not exist'\n",
    "assert best_sample_test_dir.exists(), f'error: best sample dir {best_sample_test_dir} not exist'\n",
    "\n",
    "# load from best sample\n",
    "best_beta_hat = np.loadtxt(best_sample_train_dir / 'beta_hat.csv', delimiter=',')\n",
    "best_beta_star = np.loadtxt(best_sample_train_dir / 'beta_star.csv', delimiter=',')\n",
    "test_X = np.loadtxt(best_sample_test_dir / 'X.csv', delimiter=',')\n"
   ]
  },
  {
   "cell_type": "code",
   "execution_count": 34,
   "metadata": {},
   "outputs": [],
   "source": [
    "num_point = 20000\n",
    "\n",
    "assert np.array_equal(np.nonzero(best_beta_star),np.nonzero(best_beta_hat)), 'error: non-zero indices not equal'\n",
    "nonzero_idx = np.nonzero(best_beta_star)[0]\n",
    "\n",
    "cols_min = np.min(test_X, axis=0)\n",
    "cols_max = np.max(test_X, axis=0)\n",
    "cols_samples = np.vstack([np.random.uniform(cols_min[i], cols_max[i], num_point) for i in range(cols_min.shape[0])]).T\n",
    "col0, col1 = cols_samples[:, nonzero_idx[0]], cols_samples[:, nonzero_idx[1]]\n",
    "\n",
    "true_structual = cols_samples @ best_beta_star\n",
    "est_structual = cols_samples @ best_beta_hat"
   ]
  },
  {
   "cell_type": "code",
   "execution_count": 36,
   "metadata": {},
   "outputs": [],
   "source": [
    "# df = pd.DataFrame(dict(\n",
    "#     x = np.tile(col0_vals.squeeze(), 2),\n",
    "#     y = np.tile(col1_vals.squeeze(), 2),\n",
    "#     z = np.concatenate((est_structual, true_structual)),\n",
    "#     type = np.array(['estimation'] * num_point + ['truth'] * num_point)\n",
    "# ))\n",
    "# fig = px.line_3d(df, x=\"x\", y=\"y\", z='z', color='type', title=\"estimation\") \n",
    "# fig.show()"
   ]
  },
  {
   "cell_type": "code",
   "execution_count": 44,
   "metadata": {},
   "outputs": [
    {
     "data": {
      "text/plain": [
       "<matplotlib.legend.Legend at 0x7f656a8405b0>"
      ]
     },
     "execution_count": 44,
     "metadata": {},
     "output_type": "execute_result"
    },
    {
     "data": {
      "image/png": "[encoded data removed]",
      "text/plain": [
       "<Figure size 640x480 with 1 Axes>"
      ]
     },
     "metadata": {},
     "output_type": "display_data"
    }
   ],
   "source": [
    "fig = plt.figure()\n",
    "ax = plt.axes(projection='3d')\n",
    "ax.w_xaxis.set_pane_color((1.0, 1.0, 1.0, 0.0))\n",
    "ax.w_yaxis.set_pane_color((1.0, 1.0, 1.0, 0.0))\n",
    "ax.w_zaxis.set_pane_color((1.0, 1.0, 1.0, 0.0))\n",
    "\n",
    "ax.plot(col0, col1, true_structual, 'orange', label='truth', linewidth=5)\n",
    "ax.plot(col0, col1, est_structual, 'blue', label='estimation')\n",
    "ax.set_zlabel('$Y$')\n",
    "ax.set_xlabel(f'$X_8$')\n",
    "ax.set_ylabel('$X_{14}$')\n",
    "ax.legend()"
   ]
  },
  {
   "attachments": {},
   "cell_type": "markdown",
   "metadata": {},
   "source": [
    "# DFIV"
   ]
  },
  {
   "attachments": {},
   "cell_type": "markdown",
   "metadata": {},
   "source": [
    "## Num IV 20"
   ]
  },
  {
   "cell_type": "code",
   "execution_count": 40,
   "metadata": {},
   "outputs": [
    {
     "name": "stdout",
     "output_type": "stream",
     "text": [
      "Number of runs:  20\n"
     ]
    }
   ],
   "source": [
    "project, group = 'default', 'dfiv_spaceiv_identifiable_dim_iv_20'\n",
    "runs_df = load_dfiv_runs(entity, project, filters={'group' : group})\n",
    "runs_df = runs_df[runs_df['state'].apply(lambda x: x == 'finished')]\n",
    "# runs_df\n",
    "runs_df = runs_df[runs_df['summary'].apply(lambda x: 'min_test_loss' in x)]\n",
    "print('Number of runs: ', len(runs_df))"
   ]
  },
  {
   "cell_type": "code",
   "execution_count": 41,
   "metadata": {},
   "outputs": [
    {
     "name": "stdout",
     "output_type": "stream",
     "text": [
      "Number of runs with test loss:  20\n",
      "min test loss: 2880.83984375\n",
      "\n",
      "mean test loss:  5967.03955078125\n",
      "std test loss:  2295.2417059229665\n",
      "median test loss:  5459.358154296875\n"
     ]
    }
   ],
   "source": [
    "test_loss_idx = runs_df['summary'].apply(lambda x: True if 'test loss' in x else False)\n",
    "test_loss_df = runs_df[test_loss_idx]\n",
    "print('Number of runs with test loss: ', len(test_loss_df))\n",
    "\n",
    "div_20_test_loss = test_loss_df['summary'].apply(lambda x: x['min_test_loss'])\n",
    "\n",
    "min_idx, min_test_loss = np.argmin(div_20_test_loss), np.min(div_20_test_loss)\n",
    "print(f\"min test loss: {min_test_loss}\\n\")\n",
    "\n",
    "div_20_mean_test_loss = np.mean(div_20_test_loss)\n",
    "print('mean test loss: ', div_20_mean_test_loss)\n",
    "\n",
    "div_20_std_test_loss = np.std(div_20_test_loss)\n",
    "print('std test loss: ', div_20_std_test_loss)\n",
    "\n",
    "div_20_median_test_loss = np.median(div_20_test_loss)\n",
    "print('median test loss: ', div_20_median_test_loss)"
   ]
  },
  {
   "cell_type": "code",
   "execution_count": 42,
   "metadata": {},
   "outputs": [
    {
     "name": "stdout",
     "output_type": "stream",
     "text": [
      "best run name: dauntless-lion-19, best run id: 5av5u6jj\n",
      "best run path: jasmineqy0/default/5av5u6jj\n"
     ]
    }
   ],
   "source": [
    "best_run = runs_df.iloc[min_idx]\n",
    "assert best_run['summary']['min_test_loss'] == min_test_loss, 'min test loss not equal to min test loss in test loss df'\n",
    "best_run_name, best_run_id = best_run['name'], best_run['id']\n",
    "print(f'best run name: {best_run_name}, best run id: {best_run_id}')\n",
    "\n",
    "run_path_div_20 = '/'.join([entity, project, best_run_id])\n",
    "print(f'best run path: {run_path_div_20}')\n",
    "\n",
    "dfiv_div_20_model = load_dfiv_model(run_path_div_20)"
   ]
  },
  {
   "attachments": {},
   "cell_type": "markdown",
   "metadata": {},
   "source": [
    "## Num IV 30"
   ]
  },
  {
   "cell_type": "code",
   "execution_count": 43,
   "metadata": {},
   "outputs": [
    {
     "name": "stdout",
     "output_type": "stream",
     "text": [
      "Number of runs:  20\n"
     ]
    }
   ],
   "source": [
    "project, group = 'default', 'dfiv_spaceiv_identifiable_dim_iv_30'\n",
    "runs_df = load_dfiv_runs(entity, project, filters={'group' : group})\n",
    "runs_df = runs_df[runs_df['state'].apply(lambda x: x == 'finished')]\n",
    "# runs_df\n",
    "runs_df = runs_df[runs_df['summary'].apply(lambda x: 'min_test_loss' in x)]\n",
    "print('Number of runs: ', len(runs_df))"
   ]
  },
  {
   "cell_type": "code",
   "execution_count": 44,
   "metadata": {},
   "outputs": [
    {
     "name": "stdout",
     "output_type": "stream",
     "text": [
      "Number of runs with test loss:  20\n",
      "min test loss: 3058.67919921875\n",
      "\n",
      "mean test loss:  6902.294213867188\n",
      "std test loss:  2514.6034014968086\n",
      "median test loss:  7198.861083984375\n"
     ]
    }
   ],
   "source": [
    "test_loss_idx = runs_df['summary'].apply(lambda x: True if 'test loss' in x else False)\n",
    "test_loss_df = runs_df[test_loss_idx]\n",
    "print('Number of runs with test loss: ', len(test_loss_df))\n",
    "\n",
    "div_30_test_loss = test_loss_df['summary'].apply(lambda x: x['min_test_loss'])\n",
    "\n",
    "min_idx, min_test_loss = np.argmin(div_30_test_loss), np.min(div_30_test_loss)\n",
    "print(f\"min test loss: {min_test_loss}\\n\")\n",
    "\n",
    "div_30_mean_test_loss = np.mean(div_30_test_loss)\n",
    "print('mean test loss: ', div_30_mean_test_loss)\n",
    "\n",
    "div_30_std_test_loss = np.std(div_30_test_loss)\n",
    "print('std test loss: ', div_30_std_test_loss)\n",
    "\n",
    "div_30_median_test_loss = np.median(div_30_test_loss)\n",
    "print('median test loss: ', div_30_median_test_loss)"
   ]
  },
  {
   "cell_type": "code",
   "execution_count": 87,
   "metadata": {},
   "outputs": [
    {
     "name": "stdout",
     "output_type": "stream",
     "text": [
      "best run name: confused-field-39, best run id: vo59heqy\n",
      "best run path: jasmineqy0/default/vo59heqy\n"
     ]
    }
   ],
   "source": [
    "best_run = runs_df.iloc[min_idx]\n",
    "assert best_run['summary']['min_test_loss'] == min_test_loss, 'min test loss not equal to min test loss in test loss df'\n",
    "best_run_name, best_run_id = best_run['name'], best_run['id']\n",
    "print(f'best run name: {best_run_name}, best run id: {best_run_id}')\n",
    "\n",
    "run_path_div_30 = '/'.join([entity, project, best_run_id])\n",
    "print(f'best run path: {run_path_div_30}')\n",
    "\n",
    "dfiv_div_30_model = load_dfiv_model(run_path_div_30)"
   ]
  },
  {
   "attachments": {},
   "cell_type": "markdown",
   "metadata": {},
   "source": [
    "## Visualization"
   ]
  },
  {
   "cell_type": "code",
   "execution_count": 40,
   "metadata": {},
   "outputs": [],
   "source": [
    "run_path = 'jasmineqy0/spaceIV-final/3hvmbt5r'"
   ]
  },
  {
   "cell_type": "code",
   "execution_count": 38,
   "metadata": {},
   "outputs": [],
   "source": [
    "num_point = 20000\n",
    "\n",
    "assert np.array_equal(np.nonzero(best_beta_star),np.nonzero(best_beta_hat)), 'error: non-zero indices not equal'\n",
    "nonzero_idx = np.nonzero(best_beta_star)[0]\n",
    "\n",
    "cols_min = np.min(test_X, axis=0)\n",
    "cols_max = np.max(test_X, axis=0)\n",
    "cols_samples = np.vstack([np.random.uniform(cols_min[i], cols_max[i], num_point) for i in range(cols_min.shape[0])]).T\n",
    "col0, col1 = cols_samples[:, nonzero_idx[0]], cols_samples[:, nonzero_idx[1]]\n",
    "\n",
    "true_structual = cols_samples @ best_beta_star\n",
    "est_structual = cols_samples @ best_beta_hat"
   ]
  },
  {
   "cell_type": "code",
   "execution_count": 41,
   "metadata": {},
   "outputs": [],
   "source": [
    "# load model\n",
    "dfiv_model = load_dfiv_model(run_path)"
   ]
  },
  {
   "cell_type": "code",
   "execution_count": 49,
   "metadata": {},
   "outputs": [],
   "source": [
    "# predict\n",
    "test_X = np.tile(cols_mean, (num_point, 1))\n",
    "test_X[:, nonzero_idx] = cols_samples[:, nonzero_idx]\n",
    "# dfiv_pred = mdl.predict_t(treatment=test_X_tensor, covariate=None).detach().numpy()\n",
    "dfiv_pred = predict_dfiv_model(dfiv_model, cols_samples, None)\n",
    "dfiv_pred = dfiv_pred.squeeze()"
   ]
  },
  {
   "cell_type": "code",
   "execution_count": 61,
   "metadata": {},
   "outputs": [
    {
     "data": {
      "image/png": "[encoded data removed]",
      "text/plain": [
       "<Figure size 640x480 with 1 Axes>"
      ]
     },
     "metadata": {},
     "output_type": "display_data"
    }
   ],
   "source": [
    "fig = plt.figure()\n",
    "ax = plt.axes(projection='3d')\n",
    "ax.w_xaxis.set_pane_color((1.0, 1.0, 1.0, 0.0))\n",
    "ax.w_yaxis.set_pane_color((1.0, 1.0, 1.0, 0.0))\n",
    "ax.w_zaxis.set_pane_color((1.0, 1.0, 1.0, 0.0))\n",
    "\n",
    "ax.plot(col0, col1, dfiv_pred, 'green', label='DFIV')\n",
    "ax.plot(col0, col1, true_structual, 'orange', label='Truth', linewidth=7)\n",
    "ax.plot(col0, col1, est_structual, 'blue', label='SpaceIV')\n",
    "ax.set_zlabel('$Y$')\n",
    "ax.set_xlabel('$X_8$')\n",
    "ax.set_ylabel('$X_{14}$')\n",
    "ax.legend()\n",
    "plt.savefig(IMAGE_DIR / 'data:spaceiv_alg:spaceiv_and_dfiv.pdf')"
   ]
  },
  {
   "attachments": {},
   "cell_type": "markdown",
   "metadata": {},
   "source": [
    "## Loss Visualization"
   ]
  },
  {
   "cell_type": "code",
   "execution_count": 14,
   "metadata": {},
   "outputs": [],
   "source": [
    "from viz_utils import load_dfiv_runs"
   ]
  },
  {
   "cell_type": "code",
   "execution_count": 15,
   "metadata": {},
   "outputs": [],
   "source": [
    "wandb_data_dir = Path.cwd() / 'data'\n",
    "\n",
    "train_loss = pd.read_csv(wandb_data_dir / 'train_loss.csv')['summer-salad-2026 - stage 2 train loss'][:100]\n",
    "test_loss = pd.read_csv(wandb_data_dir / 'test_loss.csv')['summer-salad-2026 - test loss'][:100]\n",
    "val_loss = pd.read_csv(wandb_data_dir / 'val_loss.csv')['summer-salad-2026 - stage 2 val loss'][:100]\n",
    "epoch = pd.read_csv(wandb_data_dir / 'val_loss.csv')['epoch'][:100]"
   ]
  },
  {
   "cell_type": "code",
   "execution_count": 16,
   "metadata": {},
   "outputs": [],
   "source": [
    "# val_loss[1:].shape\n",
    "# val_loss[:1].shape"
   ]
  },
  {
   "cell_type": "code",
   "execution_count": 9,
   "metadata": {},
   "outputs": [
    {
     "data": {
      "text/plain": [
       "(100,)"
      ]
     },
     "execution_count": 9,
     "metadata": {},
     "output_type": "execute_result"
    }
   ],
   "source": [
    "shifted_vector = np.concatenate((val_loss[1:], val_loss[:1]))\n",
    "shifted_vector.shape"
   ]
  },
  {
   "cell_type": "code",
   "execution_count": 19,
   "metadata": {},
   "outputs": [
    {
     "data": {
      "image/png": "[encoded data removed]",
      "text/plain": [
       "<Figure size 640x480 with 1 Axes>"
      ]
     },
     "metadata": {},
     "output_type": "display_data"
    }
   ],
   "source": [
    "plt.plot(epoch, train_loss, '-g', label='Training Loss')\n",
    "# plt.plot(epoch, val_loss, '-b', label='Validation Loss')\n",
    "# plt.plot(epoch, test_loss, '-r', label='test loss')\n",
    "plt.legend()\n",
    "plt.ylim([10.2,11.8])\n",
    "plt.savefig('images/train_val_loss.pdf')\n",
    "plt.rcParams.update({'font.size': 15})"
   ]
  },
  {
   "cell_type": "code",
   "execution_count": 20,
   "metadata": {},
   "outputs": [
    {
     "data": {
      "image/png": "[encoded data removed]",
      "text/plain": [
       "<Figure size 640x480 with 1 Axes>"
      ]
     },
     "metadata": {},
     "output_type": "display_data"
    }
   ],
   "source": [
    "plt.plot(epoch, test_loss, '-r', label='Testing Loss')\n",
    "plt.legend()\n",
    "plt.savefig('images/test_loss.pdf')\n",
    "plt.rcParams.update({'font.size': 15})"
   ]
  },
  {
   "attachments": {},
   "cell_type": "markdown",
   "metadata": {},
   "source": []
  }
 ],
 "metadata": {
  "kernelspec": {
   "display_name": "dfiv",
   "language": "python",
   "name": "python3"
  },
  "language_info": {
   "codemirror_mode": {
    "name": "ipython",
    "version": 3
   },
   "file_extension": ".py",
   "mimetype": "text/x-python",
   "name": "python",
   "nbconvert_exporter": "python",
   "pygments_lexer": "ipython3",
   "version": "3.10.11"
  },
  "orig_nbformat": 4
 },
 "nbformat": 4,
 "nbformat_minor": 2
}
