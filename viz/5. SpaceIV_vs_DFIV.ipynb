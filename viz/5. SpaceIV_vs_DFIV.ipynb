{
 "cells": [
  {
   "cell_type": "code",
   "execution_count": null,
   "metadata": {},
   "outputs": [],
   "source": [
    "from pathlib import Path\n",
    "import plotly.express as px\n",
    "import numpy as np\n",
    "%matplotlib inline\n",
    "import matplotlib.pyplot as plt\n",
    "from mpl_toolkits import mplot3d\n",
    "import pandas as pd\n",
    "import numpy as np\n",
    "import wandb\n",
    "import torch\n",
    "from torch import nn\n",
    "import sys\n",
    "sys.path.append(str(Path.cwd().parent))\n",
    "from viz_utils import load_dfiv_model, predict_dfiv_model"
   ]
  },
  {
   "cell_type": "code",
   "execution_count": null,
   "metadata": {},
   "outputs": [],
   "source": [
    "IMAGE_DIR = Path.cwd() / 'images'"
   ]
  },
  {
   "attachments": {},
   "cell_type": "markdown",
   "metadata": {},
   "source": [
    "## Unidentifiable"
   ]
  },
  {
   "attachments": {},
   "cell_type": "markdown",
   "metadata": {},
   "source": [
    "## spaceIV"
   ]
  },
  {
   "cell_type": "code",
   "execution_count": null,
   "metadata": {},
   "outputs": [],
   "source": [
    "spaceiv_dir = Path('../../spaceIV')\n",
    "spaceiv_res_root_dir = spaceiv_dir / 'results' / 'comp'\n",
    "spaceiv_data_root_dir = spaceiv_dir / 'data'\n",
    "case = 'case:vanilla'"
   ]
  },
  {
   "cell_type": "code",
   "execution_count": null,
   "metadata": {},
   "outputs": [],
   "source": [
    "cases = [case]\n",
    "dfs = {case: pd.read_csv(spaceiv_res_root_dir / f'{case}.csv') for case in cases}\n",
    "df_spaceiv = dfs[case]\n",
    "df_spaceiv['model'] = 'spaceIV'\n",
    "df_spaceiv"
   ]
  },
  {
   "cell_type": "code",
   "execution_count": null,
   "metadata": {},
   "outputs": [],
   "source": [
    "spaceiv_mean_mse = df_spaceiv['mse'].mean()\n",
    "spaceiv_std_mse = df_spaceiv['mse'].std()\n",
    "print(f'spaceIV mean mse: {spaceiv_mean_mse}, std mse: {spaceiv_std_mse}')"
   ]
  },
  {
   "cell_type": "code",
   "execution_count": null,
   "metadata": {},
   "outputs": [],
   "source": [
    "# find best sample\n",
    "best_sample = df_spaceiv.iloc[df_spaceiv['mse'].idxmin()]\n",
    "best_sample_name = best_sample['sample_dir']\n",
    "best_sample_train_size = best_sample['data_size']\n",
    "best_sample_test_size = best_sample['test_size']\n",
    "best_sample_train_dir = spaceiv_data_root_dir / case / best_sample_name / f'data_size:{best_sample_train_size}'\n",
    "best_sample_test_dir = spaceiv_data_root_dir / case / best_sample_name / f'data_size:{best_sample_test_size}'\n",
    "assert best_sample_train_dir.exists(), f'error: best sample dir {best_sample_train_dir} not exist'\n",
    "assert best_sample_test_dir.exists(), f'error: best sample dir {best_sample_test_dir} not exist'\n",
    "\n",
    "# load from best sample\n",
    "best_beta_hat = np.loadtxt(best_sample_train_dir / 'beta_hat.csv', delimiter=',')\n",
    "best_beta_star = np.loadtxt(best_sample_train_dir / 'beta_star.csv', delimiter=',')\n",
    "test_X = np.loadtxt(best_sample_test_dir / 'X.csv', delimiter=',')\n"
   ]
  },
  {
   "cell_type": "code",
   "execution_count": null,
   "metadata": {},
   "outputs": [],
   "source": [
    "num_point = 20\n",
    "\n",
    "assert np.array_equal(np.nonzero(best_beta_star),np.nonzero(best_beta_hat)), 'error: non-zero indices not equal'\n",
    "nonzero_idx = np.nonzero(best_beta_star)[0]\n",
    "\n",
    "cols_min = np.min(test_X, axis=0)\n",
    "cols_max = np.max(test_X, axis=0)\n",
    "cols_mean = np.mean(test_X, axis=0)\n",
    "cols_samples = np.asarray([np.linspace(cols_min[i], cols_max[i], num_point) for i in range(cols_min.shape[0])])\n",
    "col0, col1 = cols_samples[:, nonzero_idx[0]], cols_samples[:, nonzero_idx[1]]\n",
    "\n",
    "col0_min, col0_max = np.min(col0), np.max(col0)\n",
    "col1_min, col1_max = np.min(col1), np.max(col1)\n",
    "col0_vals = np.asarray(np.linspace(col0_min, col0_max, num_point)).reshape((-1, 1))\n",
    "col1_vals = np.asarray(np.linspace(col1_min, col1_max, num_point)).reshape((-1, 1))\n",
    "cols = np.hstack([col0_vals, col1_vals])\n",
    "true_structual = cols @ best_beta_star[nonzero_idx]\n",
    "est_structual = cols @ best_beta_hat[nonzero_idx]"
   ]
  },
  {
   "cell_type": "code",
   "execution_count": null,
   "metadata": {},
   "outputs": [],
   "source": [
    "# df = pd.DataFrame(dict(\n",
    "#     x = np.tile(col0_vals.squeeze(), 2),\n",
    "#     y = np.tile(col1_vals.squeeze(), 2),\n",
    "#     z = np.concatenate((est_structual, true_structual)),\n",
    "#     type = np.array(['estimation'] * num_point + ['truth'] * num_point)\n",
    "# ))\n",
    "# fig = px.line_3d(df, x=\"x\", y=\"y\", z='z', color='type', title=\"estimation\") \n",
    "# fig.show()"
   ]
  },
  {
   "cell_type": "code",
   "execution_count": null,
   "metadata": {},
   "outputs": [],
   "source": [
    "nonzero_idx"
   ]
  },
  {
   "cell_type": "code",
   "execution_count": null,
   "metadata": {},
   "outputs": [],
   "source": [
    "fig = plt.figure()\n",
    "ax = plt.axes(projection='3d')\n",
    "ax.w_xaxis.set_pane_color((1.0, 1.0, 1.0, 0.0))\n",
    "ax.w_yaxis.set_pane_color((1.0, 1.0, 1.0, 0.0))\n",
    "ax.w_zaxis.set_pane_color((1.0, 1.0, 1.0, 0.0))\n",
    "\n",
    "ax.plot(col0_vals.squeeze(), col1_vals.squeeze(), true_structual, 'orange', label='truth', linewidth=5)\n",
    "ax.plot(col0_vals.squeeze(), col1_vals.squeeze(), est_structual, 'blue', label='estimation')\n",
    "ax.set_zlabel('$Y$')\n",
    "ax.set_xlabel(f'$X_8$')\n",
    "ax.set_ylabel('$X_{14}$')\n",
    "ax.legend()"
   ]
  },
  {
   "attachments": {},
   "cell_type": "markdown",
   "metadata": {},
   "source": [
    "## DFIV"
   ]
  },
  {
   "cell_type": "code",
   "execution_count": null,
   "metadata": {},
   "outputs": [],
   "source": [
    "run_path = 'jasmineqy0/spaceIV-final/3hvmbt5r'"
   ]
  },
  {
   "cell_type": "code",
   "execution_count": null,
   "metadata": {},
   "outputs": [],
   "source": [
    "# load model\n",
    "dfiv_model = load_dfiv_model(run_path)"
   ]
  },
  {
   "cell_type": "code",
   "execution_count": null,
   "metadata": {},
   "outputs": [],
   "source": [
    "# predict\n",
    "test_X = np.tile(cols_mean, (num_point, 1))\n",
    "test_X[:, nonzero_idx] = cols_samples[:, nonzero_idx]\n",
    "# dfiv_pred = mdl.predict_t(treatment=test_X_tensor, covariate=None).detach().numpy()\n",
    "dfiv_pred = predict_dfiv_model(dfiv_model, test_X, None)"
   ]
  },
  {
   "cell_type": "code",
   "execution_count": null,
   "metadata": {},
   "outputs": [],
   "source": [
    "fig = plt.figure()\n",
    "ax = plt.axes(projection='3d')\n",
    "ax.w_xaxis.set_pane_color((1.0, 1.0, 1.0, 0.0))\n",
    "ax.w_yaxis.set_pane_color((1.0, 1.0, 1.0, 0.0))\n",
    "ax.w_zaxis.set_pane_color((1.0, 1.0, 1.0, 0.0))\n",
    "\n",
    "ax.plot(col0_vals.squeeze(), col1_vals.squeeze(), true_structual, 'orange', label='Truth', linewidth=5)\n",
    "ax.plot(col0_vals.squeeze(), col1_vals.squeeze(), est_structual, 'blue', label='SpaceIV')\n",
    "ax.plot(col0_vals.squeeze(), col1_vals.squeeze(), dfiv_pred.squeeze(), 'green', label='DFIV')\n",
    "ax.set_zlabel('$Y$')\n",
    "ax.set_xlabel('$X_8$')\n",
    "ax.set_ylabel('$X_{14}$')\n",
    "ax.legend()\n",
    "plt.savefig(IMAGE_DIR / 'data:spaceiv_alg:spaceiv_and_dfiv.pdf')"
   ]
  },
  {
   "attachments": {},
   "cell_type": "markdown",
   "metadata": {},
   "source": [
    "## Varying SpaceIV Dataset Size"
   ]
  },
  {
   "cell_type": "code",
   "execution_count": null,
   "metadata": {},
   "outputs": [],
   "source": [
    "from viz_utils import load_dfiv_runs"
   ]
  },
  {
   "cell_type": "code",
   "execution_count": null,
   "metadata": {},
   "outputs": [],
   "source": [
    "entity, project = \"jasmineqy0\", \"spaceIV-final\"  \n",
    "runs_df = load_dfiv_runs(entity, project)\n",
    "runs_df"
   ]
  },
  {
   "cell_type": "code",
   "execution_count": null,
   "metadata": {},
   "outputs": [],
   "source": [
    "df_size_3200 = runs_df[runs_df['config'].apply(lambda x: x['data_configs']['data_size']) == 3200]\n",
    "df_size_1600 = runs_df[runs_df['config'].apply(lambda x: x['data_configs']['data_size']) == 1600]"
   ]
  },
  {
   "cell_type": "code",
   "execution_count": null,
   "metadata": {},
   "outputs": [],
   "source": [
    "mean_3200 = df_size_3200['summary'].apply(lambda x: x['test loss']).mean()\n",
    "std_3200 = df_size_3200['summary'].apply(lambda x: x['test loss']).std()\n",
    "print(f\"mean: {mean_3200}, std: {std_3200}\")"
   ]
  },
  {
   "cell_type": "code",
   "execution_count": null,
   "metadata": {},
   "outputs": [],
   "source": [
    "mean_1600 = df_size_1600['summary'].apply(lambda x: x['test loss']).mean()\n",
    "std_1600 = df_size_1600['summary'].apply(lambda x: x['test loss']).std()\n",
    "print(f\"mean: {mean_1600}, std: {std_1600}\")"
   ]
  },
  {
   "cell_type": "markdown",
   "metadata": {},
   "source": [
    "# Identifiable"
   ]
  },
  {
   "cell_type": "markdown",
   "metadata": {},
   "source": []
  }
 ],
 "metadata": {
  "kernelspec": {
   "display_name": "dfiv",
   "language": "python",
   "name": "python3"
  },
  "language_info": {
   "codemirror_mode": {
    "name": "ipython",
    "version": 3
   },
   "file_extension": ".py",
   "mimetype": "text/x-python",
   "name": "python",
   "nbconvert_exporter": "python",
   "pygments_lexer": "ipython3",
   "version": "3.10.11"
  },
  "orig_nbformat": 4
 },
 "nbformat": 4,
 "nbformat_minor": 2
}
