{
 "cells": [
  {
   "cell_type": "code",
   "execution_count": 3,
   "metadata": {},
   "outputs": [],
   "source": [
    "from pathlib import Path\n",
    "import plotly.express as px\n",
    "import numpy as np\n",
    "%matplotlib inline\n",
    "import matplotlib.pyplot as plt\n",
    "from mpl_toolkits import mplot3d\n",
    "import pandas as pd\n",
    "import numpy as np\n",
    "import wandb\n",
    "import torch\n",
    "from torch import nn\n",
    "import sys\n",
    "sys.path.append(str(Path.cwd().parent))\n",
    "from viz_utils import load_dfiv_model, predict_dfiv_model, load_dfiv_runs"
   ]
  },
  {
   "cell_type": "code",
   "execution_count": 4,
   "metadata": {},
   "outputs": [],
   "source": [
    "from ivtk.alg.spaceiv import spaceiv"
   ]
  },
  {
   "cell_type": "code",
   "execution_count": 5,
   "metadata": {},
   "outputs": [],
   "source": [
    "plt.rcParams[\"figure.figsize\"] = [7.50, 3.50]\n",
    "plt.rcParams[\"figure.autolayout\"] = True\n",
    "plt.rcParams.update({\n",
    "    \"figure.figsize\": [7.50, 4.50],\n",
    "    \"figure.autolayout\": True,\n",
    "    \"text.usetex\": False,\n",
    "    \"font.family\": \"sans-serif\",\n",
    "    'font.size': 16\n",
    "})"
   ]
  },
  {
   "cell_type": "code",
   "execution_count": 6,
   "metadata": {},
   "outputs": [],
   "source": [
    "PARCS_CONFIG_DIR = Path('src') / 'data' / 'parcs_simulation' / 'config'"
   ]
  },
  {
   "cell_type": "code",
   "execution_count": 7,
   "metadata": {},
   "outputs": [],
   "source": [
    "entity, project = \"jasmineqy0\", \"formal_3\"  "
   ]
  },
  {
   "cell_type": "code",
   "execution_count": 8,
   "metadata": {},
   "outputs": [],
   "source": [
    "run_path = 'jasmineqy0/formal_3/zbwji1m3'\n",
    "dfiv_model = load_dfiv_model(run_path)"
   ]
  },
  {
   "attachments": {},
   "cell_type": "markdown",
   "metadata": {},
   "source": [
    "# Demand Original"
   ]
  },
  {
   "cell_type": "code",
   "execution_count": 9,
   "metadata": {},
   "outputs": [],
   "source": [
    "from src.data.demand_design import psi, f"
   ]
  },
  {
   "cell_type": "code",
   "execution_count": 10,
   "metadata": {},
   "outputs": [],
   "source": [
    "group = 'dfiv_low_dim_parcs_revise'\n",
    "runs_df = load_dfiv_runs(entity, project, filters={'group' : group})\n",
    "runs_df = runs_df[runs_df['state'].apply(lambda x: x == 'finished')]\n",
    "\n",
    "# original_test_loss = runs_df['summary'].apply(lambda x: x['min_test_loss']).tolist()\n",
    "# original_rho = runs_df['config'].apply(lambda x: x['data_configs']['rho']).tolist()\n",
    "# # original_data_size = runs_df['config'].apply(lambda x: x['data_configs']['data_size'])\n",
    "# len(original_test_loss), len(original_rho)"
   ]
  },
  {
   "cell_type": "code",
   "execution_count": null,
   "metadata": {},
   "outputs": [
    {
     "data": {
      "text/plain": [
       "(162, 162)"
      ]
     },
     "execution_count": 84,
     "metadata": {},
     "output_type": "execute_result"
    }
   ],
   "source": [
    "# group = 'dfiv_low_dim_hetero_stage_2'\n",
    "# runs_df = load_dfiv_runs(entity, project, filters={'group' : group})\n",
    "# runs_df = runs_df[runs_df['state'].apply(lambda x: x == 'finished')]\n",
    "# runs_df = runs_df[runs_df['config'].apply(lambda x: x['data_configs']['data_size'] == 10000)]\n",
    "# runs_df = runs_df[runs_df['summary'].apply(lambda x: x['min_test_loss'] < 5e3)]\n",
    "# runs_df = runs_df.iloc[:162, :]\n",
    "\n",
    "# hetero_test_loss = runs_df['summary'].apply(lambda x: x['min_test_loss']).tolist()\n",
    "# hetero_rho = runs_df['config'].apply(lambda x: x['data_configs']['rho']).tolist()\n",
    "# len(hetero_test_loss), len(hetero_rho)"
   ]
  },
  {
   "cell_type": "code",
   "execution_count": 88,
   "metadata": {},
   "outputs": [
    {
     "data": {
      "application/vnd.plotly.v1+json": {
       "config": {
        "plotlyServerURL": "https://plot.ly"
       },
       "data": [
        {
         "alignmentgroup": "True",
         "boxpoints": "all",
         "hovertemplate": "group=original<br>$\\rho$=%{x}<br>MSE=%{y}<extra></extra>",
         "legendgroup": "original",
         "marker": {
          "color": "#636efa"
         },
         "name": "original",
         "notched": false,
         "offsetgroup": "original",
         "orientation": "v",
         "quartilemethod": "exclusive",
         "showlegend": true,
         "type": "box",
         "x": [
          1,
          1,
          1,
          1,
          1,
          1,
          1,
          1,
          1,
          1,
          1,
          1,
          1,
          1,
          1,
          1,
          1,
          1,
          1,
          1,
          1,
          1,
          1,
          1,
          0.9,
          0.9,
          0.9,
          0.9,
          0.9,
          0.9,
          0.9,
          0.9,
          0.9,
          0.9,
          0.9,
          0.9,
          0.9,
          0.9,
          0.9,
          0.9,
          0.9,
          0.9,
          0.9,
          0.9,
          0.9,
          0.9,
          0.9,
          0.9,
          0.9,
          0.9,
          0.9,
          0.7,
          0.7,
          0.7,
          0.7,
          0.7,
          0.7,
          0.7,
          0.7,
          0.7,
          0.7,
          0.7,
          0.7,
          0.7,
          0.7,
          0.7,
          0.7,
          0.7,
          0.7,
          0.7,
          0.7,
          0.7,
          0.7,
          0.7,
          0.7,
          0.7,
          0.7,
          0.7,
          0.7,
          0.5,
          0.5,
          0.5,
          0.5,
          0.5,
          0.5,
          0.5,
          0.5,
          0.5,
          0.5,
          0.5,
          0.5,
          0.5,
          0.5,
          0.5,
          0.5,
          0.5,
          0.5,
          0.5,
          0.5,
          0.5,
          0.5,
          0.5,
          0.5,
          0.5,
          0.5,
          0.3,
          0.3,
          0.3,
          0.3,
          0.3,
          0.3,
          0.3,
          0.3,
          0.3,
          0.3,
          0.3,
          0.3,
          0.3,
          0.3,
          0.3,
          0.3,
          0.3,
          0.3,
          0.3,
          0.3,
          0.3,
          0.3,
          0.3,
          0.3,
          0.3,
          0.3,
          0.3,
          0.3,
          0.3,
          0.1,
          0.1,
          0.1,
          0.1,
          0.1,
          0.1,
          0.1,
          0.1,
          0.1,
          0.1,
          0.1,
          0.1,
          0.1,
          0.1,
          0.1,
          0.1,
          0.1,
          0.1,
          0.1,
          0.1,
          0.1,
          0.1,
          0.1,
          0.1,
          0.1,
          0.1,
          0.1,
          0.1
         ],
         "x0": " ",
         "xaxis": "x",
         "y": [
          608.0020751953125,
          742.39501953125,
          681.5264892578125,
          858.3383178710938,
          916.8072509765624,
          1281.503173828125,
          3855.39990234375,
          574.8548583984375,
          705.205810546875,
          1509.2855224609375,
          1504.0281982421875,
          1014.5316772460938,
          733.003662109375,
          2508.980224609375,
          2197.0400390625,
          1575.896240234375,
          1338.788818359375,
          1844.55712890625,
          2146.781982421875,
          427.9859924316406,
          479.8869934082031,
          2920.132568359375,
          1067.251953125,
          1538.6048583984375,
          4448.53271484375,
          3732.52734375,
          3768.5302734375,
          436.8416442871094,
          1376.8515625,
          742.7833862304688,
          484.4348754882813,
          1175.923095703125,
          1872.111083984375,
          1625.3446044921875,
          1329.61181640625,
          914.2862548828124,
          1173.2593994140625,
          1265.8079833984375,
          1136.1778564453125,
          3813.05859375,
          935.3378295898438,
          1315.1556396484375,
          818.8617553710938,
          395.2384033203125,
          2548.47509765625,
          790.546875,
          527.4268188476562,
          984.8607177734376,
          1344.430908203125,
          862.2835693359375,
          1239.010498046875,
          713.8706665039062,
          1014.7147827148438,
          461.1684265136719,
          1258.5347900390625,
          2380.323974609375,
          1257.575927734375,
          1035.7841796875,
          851.9444580078125,
          1629.208740234375,
          746.265869140625,
          929.3291015625,
          888.8991088867188,
          1103.04541015625,
          665.0086059570312,
          1059.1251220703125,
          1304.2366943359375,
          943.5713500976562,
          690.2733764648438,
          958.52490234375,
          604.6116333007812,
          1378.5684814453125,
          584.8851928710938,
          3781.425048828125,
          1340.608642578125,
          3669.295654296875,
          1229.6151123046875,
          2670.6728515625,
          725.6012573242188,
          865.46533203125,
          3954.65576171875,
          1638.44140625,
          1480.8690185546875,
          1110.6156005859375,
          1757.77392578125,
          1115.6005859375,
          867.939697265625,
          473.4062805175781,
          1206.1751708984375,
          1044.4954833984375,
          1262.0740966796875,
          1305.2435302734375,
          911.420166015625,
          1160.39990234375,
          541.0899047851562,
          2943.83447265625,
          906.8262329101562,
          2474.29345703125,
          1208.355224609375,
          1207.078857421875,
          3183.831298828125,
          783.015869140625,
          2778.275634765625,
          879.7083740234375,
          621.6551513671875,
          824.3601684570312,
          686.088623046875,
          1336.1875,
          1974.53662109375,
          1164.829833984375,
          1010.5912475585938,
          1015.4395141601562,
          1035.51171875,
          1054.6702880859375,
          872.4628295898438,
          727.1192626953125,
          1554.04052734375,
          1596.2628173828125,
          1308.7060546875,
          801.4844360351562,
          1288.4971923828125,
          1908.6357421875,
          1652.7237548828125,
          1049.0440673828125,
          1283.248291015625,
          716.5563354492188,
          593.2071533203125,
          856.3067016601562,
          1681.6644287109375,
          999.1566162109376,
          1081.634765625,
          2237.599609375,
          1064.011474609375,
          820.4014892578125,
          3456.645751953125,
          1947.697998046875,
          878.4747314453125,
          2303.650634765625,
          1137.14306640625,
          1239.2410888671875,
          1332.82958984375,
          1097.0633544921875,
          878.2463989257812,
          1818.624267578125,
          1161.16357421875,
          1466.6856689453125,
          939.7135009765624,
          884.2841186523438,
          4899.01611328125,
          557.4421997070312,
          2096.7900390625,
          2250.13427734375,
          1322.0985107421875,
          442.6705322265625,
          757.5972900390625,
          910.7938232421876,
          1096.386474609375,
          1571.765869140625,
          4527.0888671875,
          1123.9173583984375,
          2182.333251953125,
          2224.5390625
         ],
         "y0": " ",
         "yaxis": "y"
        },
        {
         "alignmentgroup": "True",
         "boxpoints": "all",
         "hovertemplate": "group=hetero<br>$\\rho$=%{x}<br>MSE=%{y}<extra></extra>",
         "legendgroup": "hetero",
         "marker": {
          "color": "#EF553B"
         },
         "name": "hetero",
         "notched": false,
         "offsetgroup": "hetero",
         "orientation": "v",
         "quartilemethod": "exclusive",
         "showlegend": true,
         "type": "box",
         "x": [
          1,
          1,
          1,
          1,
          1,
          1,
          1,
          1,
          1,
          1,
          1,
          1,
          1,
          1,
          1,
          1,
          1,
          1,
          1,
          1,
          1,
          1,
          1,
          1,
          1,
          1,
          1,
          1,
          1,
          1,
          0.9,
          0.9,
          0.9,
          0.9,
          0.9,
          0.9,
          0.9,
          0.9,
          0.9,
          0.9,
          0.9,
          0.9,
          0.9,
          0.9,
          0.9,
          0.9,
          0.9,
          0.9,
          0.9,
          0.9,
          0.9,
          0.9,
          0.9,
          0.9,
          0.9,
          0.9,
          0.9,
          0.9,
          0.7,
          0.7,
          0.7,
          0.7,
          0.7,
          0.7,
          0.7,
          0.7,
          0.7,
          0.7,
          0.7,
          0.7,
          0.7,
          0.7,
          0.7,
          0.7,
          0.7,
          0.7,
          0.7,
          0.7,
          0.7,
          0.7,
          0.7,
          0.5,
          0.5,
          0.5,
          0.5,
          0.5,
          0.5,
          0.5,
          0.5,
          0.5,
          0.5,
          0.5,
          0.5,
          0.5,
          0.5,
          0.5,
          0.5,
          0.5,
          0.5,
          0.5,
          0.5,
          0.5,
          0.5,
          0.5,
          0.5,
          0.5,
          0.5,
          0.5,
          0.5,
          0.5,
          0.5,
          0.5,
          0.3,
          0.3,
          0.3,
          0.3,
          0.3,
          0.3,
          0.3,
          0.3,
          0.3,
          0.3,
          0.3,
          0.3,
          0.3,
          0.3,
          0.3,
          0.3,
          0.3,
          0.3,
          0.3,
          0.3,
          0.3,
          0.3,
          0.3,
          0.3,
          0.3,
          0.3,
          0.3,
          0.3,
          0.1,
          0.1,
          0.1,
          0.1,
          0.1,
          0.1,
          0.1,
          0.1,
          0.1,
          0.1,
          0.1,
          0.1,
          0.1,
          0.1,
          0.1,
          0.1,
          0.1,
          0.1,
          0.1,
          0.1,
          0.1,
          0.1
         ],
         "x0": " ",
         "xaxis": "x",
         "y": [
          1846.020751953125,
          346.0001525878906,
          780.328125,
          2240.579833984375,
          1791.75390625,
          1472.225830078125,
          1297.0479736328125,
          2544.2998046875,
          1034.023681640625,
          749.7249755859375,
          883.4534912109375,
          408.7229919433594,
          941.2530517578124,
          1845.2161865234375,
          2117.50830078125,
          1784.1083984375,
          843.9024047851562,
          1054.82080078125,
          821.74462890625,
          1156.503173828125,
          1695.4287109375,
          743.1495971679688,
          699.6774291992188,
          1428.6995849609375,
          746.2421264648438,
          3032.322021484375,
          1175.877197265625,
          744.611572265625,
          860.7832641601562,
          355.8926086425781,
          765.3139038085938,
          935.3021240234376,
          1341.7041015625,
          755.8491821289062,
          1404.5919189453125,
          712.7697143554688,
          487.0622863769531,
          4156.5947265625,
          3259.817138671875,
          804.5926513671875,
          1025.2958984375,
          771.9113159179688,
          2011.2296142578125,
          1382.830810546875,
          2825.396484375,
          719.7301025390625,
          1278.48974609375,
          1549.2821044921875,
          1018.5746459960938,
          899.0470581054688,
          758.1820678710938,
          1866.9560546875,
          1230.0386962890625,
          679.0540771484375,
          1211.5450439453125,
          890.7384033203125,
          4046.7626953125,
          814.95703125,
          2792.493408203125,
          2227.3271484375,
          3551.7470703125,
          790.36767578125,
          824.4385375976562,
          765.7055053710938,
          2718.215087890625,
          803.688720703125,
          1083.8564453125,
          4568.4580078125,
          707.7630004882812,
          937.531982421875,
          1178.425537109375,
          1699.42822265625,
          808.2124633789062,
          797.05712890625,
          2431.793701171875,
          814.2977294921875,
          756.0556030273438,
          2184.084716796875,
          807.6322021484375,
          2386.384521484375,
          1945.858154296875,
          880.7866821289062,
          1685.5828857421875,
          1116.679931640625,
          629.1185913085938,
          2571.764404296875,
          2261.3671875,
          1457.5853271484375,
          996.4334106445312,
          597.3109130859375,
          755.2197875976562,
          701.2481079101562,
          3365.421630859375,
          756.7112426757812,
          850.2269287109375,
          4586.90185546875,
          630.2583618164062,
          1241.7474365234375,
          1423.2843017578125,
          3545.653076171875,
          3978.7685546875,
          428.5830383300781,
          854.9451904296875,
          739.8973388671875,
          4936.0361328125,
          1552.76318359375,
          1450.3570556640625,
          1631.129150390625,
          919.0418701171876,
          1938.16357421875,
          1007.7772216796876,
          989.405517578125,
          1413.39013671875,
          1106.637939453125,
          1034.504150390625,
          877.110107421875,
          3152.63330078125,
          782.5814819335938,
          3417.5849609375,
          2795.26416015625,
          988.1263427734376,
          1585.887451171875,
          3423.822021484375,
          811.7849731445312,
          1490.7078857421875,
          542.047119140625,
          1030.8135986328125,
          983.4522094726562,
          2067.20263671875,
          1380.9984130859375,
          847.5765380859375,
          2686.426025390625,
          2621.677001953125,
          2259.72705078125,
          955.2078247070312,
          702.2533569335938,
          1106.363525390625,
          764.4178466796875,
          888.9057006835938,
          646.8897094726562,
          1679.1207275390625,
          1626.3187255859375,
          2962.56689453125,
          897.0208740234375,
          3059.897216796875,
          2359.4638671875,
          1669.7989501953125,
          961.481689453125,
          1175.6214599609375,
          4916.11669921875,
          1379.8211669921875,
          2665.18115234375,
          1712.5953369140625,
          808.9259643554688,
          2397.83544921875,
          842.658935546875,
          1758.35888671875,
          1196.5107421875,
          612.3519897460938,
          2198.670654296875,
          1873.4671630859375,
          900.283447265625
         ],
         "y0": " ",
         "yaxis": "y"
        }
       ],
       "layout": {
        "boxmode": "group",
        "legend": {
         "title": {
          "text": "group"
         },
         "tracegroupgap": 0
        },
        "margin": {
         "t": 60
        },
        "template": {
         "data": {
          "bar": [
           {
            "error_x": {
             "color": "#2a3f5f"
            },
            "error_y": {
             "color": "#2a3f5f"
            },
            "marker": {
             "line": {
              "color": "#E5ECF6",
              "width": 0.5
             },
             "pattern": {
              "fillmode": "overlay",
              "size": 10,
              "solidity": 0.2
             }
            },
            "type": "bar"
           }
          ],
          "barpolar": [
           {
            "marker": {
             "line": {
              "color": "#E5ECF6",
              "width": 0.5
             },
             "pattern": {
              "fillmode": "overlay",
              "size": 10,
              "solidity": 0.2
             }
            },
            "type": "barpolar"
           }
          ],
          "carpet": [
           {
            "aaxis": {
             "endlinecolor": "#2a3f5f",
             "gridcolor": "white",
             "linecolor": "white",
             "minorgridcolor": "white",
             "startlinecolor": "#2a3f5f"
            },
            "baxis": {
             "endlinecolor": "#2a3f5f",
             "gridcolor": "white",
             "linecolor": "white",
             "minorgridcolor": "white",
             "startlinecolor": "#2a3f5f"
            },
            "type": "carpet"
           }
          ],
          "choropleth": [
           {
            "colorbar": {
             "outlinewidth": 0,
             "ticks": ""
            },
            "type": "choropleth"
           }
          ],
          "contour": [
           {
            "colorbar": {
             "outlinewidth": 0,
             "ticks": ""
            },
            "colorscale": [
             [
              0,
              "#0d0887"
             ],
             [
              0.1111111111111111,
              "#46039f"
             ],
             [
              0.2222222222222222,
              "#7201a8"
             ],
             [
              0.3333333333333333,
              "#9c179e"
             ],
             [
              0.4444444444444444,
              "#bd3786"
             ],
             [
              0.5555555555555556,
              "#d8576b"
             ],
             [
              0.6666666666666666,
              "#ed7953"
             ],
             [
              0.7777777777777778,
              "#fb9f3a"
             ],
             [
              0.8888888888888888,
              "#fdca26"
             ],
             [
              1,
              "#f0f921"
             ]
            ],
            "type": "contour"
           }
          ],
          "contourcarpet": [
           {
            "colorbar": {
             "outlinewidth": 0,
             "ticks": ""
            },
            "type": "contourcarpet"
           }
          ],
          "heatmap": [
           {
            "colorbar": {
             "outlinewidth": 0,
             "ticks": ""
            },
            "colorscale": [
             [
              0,
              "#0d0887"
             ],
             [
              0.1111111111111111,
              "#46039f"
             ],
             [
              0.2222222222222222,
              "#7201a8"
             ],
             [
              0.3333333333333333,
              "#9c179e"
             ],
             [
              0.4444444444444444,
              "#bd3786"
             ],
             [
              0.5555555555555556,
              "#d8576b"
             ],
             [
              0.6666666666666666,
              "#ed7953"
             ],
             [
              0.7777777777777778,
              "#fb9f3a"
             ],
             [
              0.8888888888888888,
              "#fdca26"
             ],
             [
              1,
              "#f0f921"
             ]
            ],
            "type": "heatmap"
           }
          ],
          "heatmapgl": [
           {
            "colorbar": {
             "outlinewidth": 0,
             "ticks": ""
            },
            "colorscale": [
             [
              0,
              "#0d0887"
             ],
             [
              0.1111111111111111,
              "#46039f"
             ],
             [
              0.2222222222222222,
              "#7201a8"
             ],
             [
              0.3333333333333333,
              "#9c179e"
             ],
             [
              0.4444444444444444,
              "#bd3786"
             ],
             [
              0.5555555555555556,
              "#d8576b"
             ],
             [
              0.6666666666666666,
              "#ed7953"
             ],
             [
              0.7777777777777778,
              "#fb9f3a"
             ],
             [
              0.8888888888888888,
              "#fdca26"
             ],
             [
              1,
              "#f0f921"
             ]
            ],
            "type": "heatmapgl"
           }
          ],
          "histogram": [
           {
            "marker": {
             "pattern": {
              "fillmode": "overlay",
              "size": 10,
              "solidity": 0.2
             }
            },
            "type": "histogram"
           }
          ],
          "histogram2d": [
           {
            "colorbar": {
             "outlinewidth": 0,
             "ticks": ""
            },
            "colorscale": [
             [
              0,
              "#0d0887"
             ],
             [
              0.1111111111111111,
              "#46039f"
             ],
             [
              0.2222222222222222,
              "#7201a8"
             ],
             [
              0.3333333333333333,
              "#9c179e"
             ],
             [
              0.4444444444444444,
              "#bd3786"
             ],
             [
              0.5555555555555556,
              "#d8576b"
             ],
             [
              0.6666666666666666,
              "#ed7953"
             ],
             [
              0.7777777777777778,
              "#fb9f3a"
             ],
             [
              0.8888888888888888,
              "#fdca26"
             ],
             [
              1,
              "#f0f921"
             ]
            ],
            "type": "histogram2d"
           }
          ],
          "histogram2dcontour": [
           {
            "colorbar": {
             "outlinewidth": 0,
             "ticks": ""
            },
            "colorscale": [
             [
              0,
              "#0d0887"
             ],
             [
              0.1111111111111111,
              "#46039f"
             ],
             [
              0.2222222222222222,
              "#7201a8"
             ],
             [
              0.3333333333333333,
              "#9c179e"
             ],
             [
              0.4444444444444444,
              "#bd3786"
             ],
             [
              0.5555555555555556,
              "#d8576b"
             ],
             [
              0.6666666666666666,
              "#ed7953"
             ],
             [
              0.7777777777777778,
              "#fb9f3a"
             ],
             [
              0.8888888888888888,
              "#fdca26"
             ],
             [
              1,
              "#f0f921"
             ]
            ],
            "type": "histogram2dcontour"
           }
          ],
          "mesh3d": [
           {
            "colorbar": {
             "outlinewidth": 0,
             "ticks": ""
            },
            "type": "mesh3d"
           }
          ],
          "parcoords": [
           {
            "line": {
             "colorbar": {
              "outlinewidth": 0,
              "ticks": ""
             }
            },
            "type": "parcoords"
           }
          ],
          "pie": [
           {
            "automargin": true,
            "type": "pie"
           }
          ],
          "scatter": [
           {
            "fillpattern": {
             "fillmode": "overlay",
             "size": 10,
             "solidity": 0.2
            },
            "type": "scatter"
           }
          ],
          "scatter3d": [
           {
            "line": {
             "colorbar": {
              "outlinewidth": 0,
              "ticks": ""
             }
            },
            "marker": {
             "colorbar": {
              "outlinewidth": 0,
              "ticks": ""
             }
            },
            "type": "scatter3d"
           }
          ],
          "scattercarpet": [
           {
            "marker": {
             "colorbar": {
              "outlinewidth": 0,
              "ticks": ""
             }
            },
            "type": "scattercarpet"
           }
          ],
          "scattergeo": [
           {
            "marker": {
             "colorbar": {
              "outlinewidth": 0,
              "ticks": ""
             }
            },
            "type": "scattergeo"
           }
          ],
          "scattergl": [
           {
            "marker": {
             "colorbar": {
              "outlinewidth": 0,
              "ticks": ""
             }
            },
            "type": "scattergl"
           }
          ],
          "scattermapbox": [
           {
            "marker": {
             "colorbar": {
              "outlinewidth": 0,
              "ticks": ""
             }
            },
            "type": "scattermapbox"
           }
          ],
          "scatterpolar": [
           {
            "marker": {
             "colorbar": {
              "outlinewidth": 0,
              "ticks": ""
             }
            },
            "type": "scatterpolar"
           }
          ],
          "scatterpolargl": [
           {
            "marker": {
             "colorbar": {
              "outlinewidth": 0,
              "ticks": ""
             }
            },
            "type": "scatterpolargl"
           }
          ],
          "scatterternary": [
           {
            "marker": {
             "colorbar": {
              "outlinewidth": 0,
              "ticks": ""
             }
            },
            "type": "scatterternary"
           }
          ],
          "surface": [
           {
            "colorbar": {
             "outlinewidth": 0,
             "ticks": ""
            },
            "colorscale": [
             [
              0,
              "#0d0887"
             ],
             [
              0.1111111111111111,
              "#46039f"
             ],
             [
              0.2222222222222222,
              "#7201a8"
             ],
             [
              0.3333333333333333,
              "#9c179e"
             ],
             [
              0.4444444444444444,
              "#bd3786"
             ],
             [
              0.5555555555555556,
              "#d8576b"
             ],
             [
              0.6666666666666666,
              "#ed7953"
             ],
             [
              0.7777777777777778,
              "#fb9f3a"
             ],
             [
              0.8888888888888888,
              "#fdca26"
             ],
             [
              1,
              "#f0f921"
             ]
            ],
            "type": "surface"
           }
          ],
          "table": [
           {
            "cells": {
             "fill": {
              "color": "#EBF0F8"
             },
             "line": {
              "color": "white"
             }
            },
            "header": {
             "fill": {
              "color": "#C8D4E3"
             },
             "line": {
              "color": "white"
             }
            },
            "type": "table"
           }
          ]
         },
         "layout": {
          "annotationdefaults": {
           "arrowcolor": "#2a3f5f",
           "arrowhead": 0,
           "arrowwidth": 1
          },
          "autotypenumbers": "strict",
          "coloraxis": {
           "colorbar": {
            "outlinewidth": 0,
            "ticks": ""
           }
          },
          "colorscale": {
           "diverging": [
            [
             0,
             "#8e0152"
            ],
            [
             0.1,
             "#c51b7d"
            ],
            [
             0.2,
             "#de77ae"
            ],
            [
             0.3,
             "#f1b6da"
            ],
            [
             0.4,
             "#fde0ef"
            ],
            [
             0.5,
             "#f7f7f7"
            ],
            [
             0.6,
             "#e6f5d0"
            ],
            [
             0.7,
             "#b8e186"
            ],
            [
             0.8,
             "#7fbc41"
            ],
            [
             0.9,
             "#4d9221"
            ],
            [
             1,
             "#276419"
            ]
           ],
           "sequential": [
            [
             0,
             "#0d0887"
            ],
            [
             0.1111111111111111,
             "#46039f"
            ],
            [
             0.2222222222222222,
             "#7201a8"
            ],
            [
             0.3333333333333333,
             "#9c179e"
            ],
            [
             0.4444444444444444,
             "#bd3786"
            ],
            [
             0.5555555555555556,
             "#d8576b"
            ],
            [
             0.6666666666666666,
             "#ed7953"
            ],
            [
             0.7777777777777778,
             "#fb9f3a"
            ],
            [
             0.8888888888888888,
             "#fdca26"
            ],
            [
             1,
             "#f0f921"
            ]
           ],
           "sequentialminus": [
            [
             0,
             "#0d0887"
            ],
            [
             0.1111111111111111,
             "#46039f"
            ],
            [
             0.2222222222222222,
             "#7201a8"
            ],
            [
             0.3333333333333333,
             "#9c179e"
            ],
            [
             0.4444444444444444,
             "#bd3786"
            ],
            [
             0.5555555555555556,
             "#d8576b"
            ],
            [
             0.6666666666666666,
             "#ed7953"
            ],
            [
             0.7777777777777778,
             "#fb9f3a"
            ],
            [
             0.8888888888888888,
             "#fdca26"
            ],
            [
             1,
             "#f0f921"
            ]
           ]
          },
          "colorway": [
           "#636efa",
           "#EF553B",
           "#00cc96",
           "#ab63fa",
           "#FFA15A",
           "#19d3f3",
           "#FF6692",
           "#B6E880",
           "#FF97FF",
           "#FECB52"
          ],
          "font": {
           "color": "#2a3f5f"
          },
          "geo": {
           "bgcolor": "white",
           "lakecolor": "white",
           "landcolor": "#E5ECF6",
           "showlakes": true,
           "showland": true,
           "subunitcolor": "white"
          },
          "hoverlabel": {
           "align": "left"
          },
          "hovermode": "closest",
          "mapbox": {
           "style": "light"
          },
          "paper_bgcolor": "white",
          "plot_bgcolor": "#E5ECF6",
          "polar": {
           "angularaxis": {
            "gridcolor": "white",
            "linecolor": "white",
            "ticks": ""
           },
           "bgcolor": "#E5ECF6",
           "radialaxis": {
            "gridcolor": "white",
            "linecolor": "white",
            "ticks": ""
           }
          },
          "scene": {
           "xaxis": {
            "backgroundcolor": "#E5ECF6",
            "gridcolor": "white",
            "gridwidth": 2,
            "linecolor": "white",
            "showbackground": true,
            "ticks": "",
            "zerolinecolor": "white"
           },
           "yaxis": {
            "backgroundcolor": "#E5ECF6",
            "gridcolor": "white",
            "gridwidth": 2,
            "linecolor": "white",
            "showbackground": true,
            "ticks": "",
            "zerolinecolor": "white"
           },
           "zaxis": {
            "backgroundcolor": "#E5ECF6",
            "gridcolor": "white",
            "gridwidth": 2,
            "linecolor": "white",
            "showbackground": true,
            "ticks": "",
            "zerolinecolor": "white"
           }
          },
          "shapedefaults": {
           "line": {
            "color": "#2a3f5f"
           }
          },
          "ternary": {
           "aaxis": {
            "gridcolor": "white",
            "linecolor": "white",
            "ticks": ""
           },
           "baxis": {
            "gridcolor": "white",
            "linecolor": "white",
            "ticks": ""
           },
           "bgcolor": "#E5ECF6",
           "caxis": {
            "gridcolor": "white",
            "linecolor": "white",
            "ticks": ""
           }
          },
          "title": {
           "x": 0.05
          },
          "xaxis": {
           "automargin": true,
           "gridcolor": "white",
           "linecolor": "white",
           "ticks": "",
           "title": {
            "standoff": 15
           },
           "zerolinecolor": "white",
           "zerolinewidth": 2
          },
          "yaxis": {
           "automargin": true,
           "gridcolor": "white",
           "linecolor": "white",
           "ticks": "",
           "title": {
            "standoff": 15
           },
           "zerolinecolor": "white",
           "zerolinewidth": 2
          }
         }
        },
        "xaxis": {
         "anchor": "y",
         "categoryarray": [
          0.1,
          0.3,
          0.5,
          0.7,
          0.9
         ],
         "categoryorder": "array",
         "domain": [
          0,
          1
         ],
         "title": {
          "text": "$\\rho$"
         },
         "type": "category"
        },
        "yaxis": {
         "anchor": "x",
         "domain": [
          0,
          1
         ],
         "range": [
          2,
          4
         ],
         "title": {
          "text": "MSE"
         },
         "type": "log"
        }
       }
      },
      "text/html": [
       "<div>                            <div id=\"669359ba-6fef-4e5e-9638-76b3e084a875\" class=\"plotly-graph-div\" style=\"height:525px; width:100%;\"></div>            <script type=\"text/javascript\">                require([\"plotly\"], function(Plotly) {                    window.PLOTLYENV=window.PLOTLYENV || {};                                    if (document.getElementById(\"669359ba-6fef-4e5e-9638-76b3e084a875\")) {                    Plotly.newPlot(                        \"669359ba-6fef-4e5e-9638-76b3e084a875\",                        [{\"alignmentgroup\":\"True\",\"boxpoints\":\"all\",\"hovertemplate\":\"group=original<br>$\\\\rho$=%{x}<br>MSE=%{y}<extra></extra>\",\"legendgroup\":\"original\",\"marker\":{\"color\":\"#636efa\"},\"name\":\"original\",\"notched\":false,\"offsetgroup\":\"original\",\"orientation\":\"v\",\"showlegend\":true,\"x\":[1.0,1.0,1.0,1.0,1.0,1.0,1.0,1.0,1.0,1.0,1.0,1.0,1.0,1.0,1.0,1.0,1.0,1.0,1.0,1.0,1.0,1.0,1.0,1.0,0.9,0.9,0.9,0.9,0.9,0.9,0.9,0.9,0.9,0.9,0.9,0.9,0.9,0.9,0.9,0.9,0.9,0.9,0.9,0.9,0.9,0.9,0.9,0.9,0.9,0.9,0.9,0.7,0.7,0.7,0.7,0.7,0.7,0.7,0.7,0.7,0.7,0.7,0.7,0.7,0.7,0.7,0.7,0.7,0.7,0.7,0.7,0.7,0.7,0.7,0.7,0.7,0.7,0.7,0.7,0.5,0.5,0.5,0.5,0.5,0.5,0.5,0.5,0.5,0.5,0.5,0.5,0.5,0.5,0.5,0.5,0.5,0.5,0.5,0.5,0.5,0.5,0.5,0.5,0.5,0.5,0.3,0.3,0.3,0.3,0.3,0.3,0.3,0.3,0.3,0.3,0.3,0.3,0.3,0.3,0.3,0.3,0.3,0.3,0.3,0.3,0.3,0.3,0.3,0.3,0.3,0.3,0.3,0.3,0.3,0.1,0.1,0.1,0.1,0.1,0.1,0.1,0.1,0.1,0.1,0.1,0.1,0.1,0.1,0.1,0.1,0.1,0.1,0.1,0.1,0.1,0.1,0.1,0.1,0.1,0.1,0.1,0.1],\"x0\":\" \",\"xaxis\":\"x\",\"y\":[608.0020751953125,742.39501953125,681.5264892578125,858.3383178710938,916.8072509765624,1281.503173828125,3855.39990234375,574.8548583984375,705.205810546875,1509.2855224609375,1504.0281982421875,1014.5316772460938,733.003662109375,2508.980224609375,2197.0400390625,1575.896240234375,1338.788818359375,1844.55712890625,2146.781982421875,427.9859924316406,479.8869934082031,2920.132568359375,1067.251953125,1538.6048583984375,4448.53271484375,3732.52734375,3768.5302734375,436.8416442871094,1376.8515625,742.7833862304688,484.4348754882813,1175.923095703125,1872.111083984375,1625.3446044921875,1329.61181640625,914.2862548828124,1173.2593994140625,1265.8079833984375,1136.1778564453125,3813.05859375,935.3378295898438,1315.1556396484375,818.8617553710938,395.2384033203125,2548.47509765625,790.546875,527.4268188476562,984.8607177734376,1344.430908203125,862.2835693359375,1239.010498046875,713.8706665039062,1014.7147827148438,461.1684265136719,1258.5347900390625,2380.323974609375,1257.575927734375,1035.7841796875,851.9444580078125,1629.208740234375,746.265869140625,929.3291015625,888.8991088867188,1103.04541015625,665.0086059570312,1059.1251220703125,1304.2366943359375,943.5713500976562,690.2733764648438,958.52490234375,604.6116333007812,1378.5684814453125,584.8851928710938,3781.425048828125,1340.608642578125,3669.295654296875,1229.6151123046875,2670.6728515625,725.6012573242188,865.46533203125,3954.65576171875,1638.44140625,1480.8690185546875,1110.6156005859375,1757.77392578125,1115.6005859375,867.939697265625,473.4062805175781,1206.1751708984375,1044.4954833984375,1262.0740966796875,1305.2435302734375,911.420166015625,1160.39990234375,541.0899047851562,2943.83447265625,906.8262329101562,2474.29345703125,1208.355224609375,1207.078857421875,3183.831298828125,783.015869140625,2778.275634765625,879.7083740234375,621.6551513671875,824.3601684570312,686.088623046875,1336.1875,1974.53662109375,1164.829833984375,1010.5912475585938,1015.4395141601562,1035.51171875,1054.6702880859375,872.4628295898438,727.1192626953125,1554.04052734375,1596.2628173828125,1308.7060546875,801.4844360351562,1288.4971923828125,1908.6357421875,1652.7237548828125,1049.0440673828125,1283.248291015625,716.5563354492188,593.2071533203125,856.3067016601562,1681.6644287109375,999.1566162109376,1081.634765625,2237.599609375,1064.011474609375,820.4014892578125,3456.645751953125,1947.697998046875,878.4747314453125,2303.650634765625,1137.14306640625,1239.2410888671875,1332.82958984375,1097.0633544921875,878.2463989257812,1818.624267578125,1161.16357421875,1466.6856689453125,939.7135009765624,884.2841186523438,4899.01611328125,557.4421997070312,2096.7900390625,2250.13427734375,1322.0985107421875,442.6705322265625,757.5972900390625,910.7938232421876,1096.386474609375,1571.765869140625,4527.0888671875,1123.9173583984375,2182.333251953125,2224.5390625],\"y0\":\" \",\"yaxis\":\"y\",\"type\":\"box\",\"quartilemethod\":\"exclusive\"},{\"alignmentgroup\":\"True\",\"boxpoints\":\"all\",\"hovertemplate\":\"group=hetero<br>$\\\\rho$=%{x}<br>MSE=%{y}<extra></extra>\",\"legendgroup\":\"hetero\",\"marker\":{\"color\":\"#EF553B\"},\"name\":\"hetero\",\"notched\":false,\"offsetgroup\":\"hetero\",\"orientation\":\"v\",\"showlegend\":true,\"x\":[1.0,1.0,1.0,1.0,1.0,1.0,1.0,1.0,1.0,1.0,1.0,1.0,1.0,1.0,1.0,1.0,1.0,1.0,1.0,1.0,1.0,1.0,1.0,1.0,1.0,1.0,1.0,1.0,1.0,1.0,0.9,0.9,0.9,0.9,0.9,0.9,0.9,0.9,0.9,0.9,0.9,0.9,0.9,0.9,0.9,0.9,0.9,0.9,0.9,0.9,0.9,0.9,0.9,0.9,0.9,0.9,0.9,0.9,0.7,0.7,0.7,0.7,0.7,0.7,0.7,0.7,0.7,0.7,0.7,0.7,0.7,0.7,0.7,0.7,0.7,0.7,0.7,0.7,0.7,0.7,0.7,0.5,0.5,0.5,0.5,0.5,0.5,0.5,0.5,0.5,0.5,0.5,0.5,0.5,0.5,0.5,0.5,0.5,0.5,0.5,0.5,0.5,0.5,0.5,0.5,0.5,0.5,0.5,0.5,0.5,0.5,0.5,0.3,0.3,0.3,0.3,0.3,0.3,0.3,0.3,0.3,0.3,0.3,0.3,0.3,0.3,0.3,0.3,0.3,0.3,0.3,0.3,0.3,0.3,0.3,0.3,0.3,0.3,0.3,0.3,0.1,0.1,0.1,0.1,0.1,0.1,0.1,0.1,0.1,0.1,0.1,0.1,0.1,0.1,0.1,0.1,0.1,0.1,0.1,0.1,0.1,0.1],\"x0\":\" \",\"xaxis\":\"x\",\"y\":[1846.020751953125,346.0001525878906,780.328125,2240.579833984375,1791.75390625,1472.225830078125,1297.0479736328125,2544.2998046875,1034.023681640625,749.7249755859375,883.4534912109375,408.7229919433594,941.2530517578124,1845.2161865234375,2117.50830078125,1784.1083984375,843.9024047851562,1054.82080078125,821.74462890625,1156.503173828125,1695.4287109375,743.1495971679688,699.6774291992188,1428.6995849609375,746.2421264648438,3032.322021484375,1175.877197265625,744.611572265625,860.7832641601562,355.8926086425781,765.3139038085938,935.3021240234376,1341.7041015625,755.8491821289062,1404.5919189453125,712.7697143554688,487.0622863769531,4156.5947265625,3259.817138671875,804.5926513671875,1025.2958984375,771.9113159179688,2011.2296142578125,1382.830810546875,2825.396484375,719.7301025390625,1278.48974609375,1549.2821044921875,1018.5746459960938,899.0470581054688,758.1820678710938,1866.9560546875,1230.0386962890625,679.0540771484375,1211.5450439453125,890.7384033203125,4046.7626953125,814.95703125,2792.493408203125,2227.3271484375,3551.7470703125,790.36767578125,824.4385375976562,765.7055053710938,2718.215087890625,803.688720703125,1083.8564453125,4568.4580078125,707.7630004882812,937.531982421875,1178.425537109375,1699.42822265625,808.2124633789062,797.05712890625,2431.793701171875,814.2977294921875,756.0556030273438,2184.084716796875,807.6322021484375,2386.384521484375,1945.858154296875,880.7866821289062,1685.5828857421875,1116.679931640625,629.1185913085938,2571.764404296875,2261.3671875,1457.5853271484375,996.4334106445312,597.3109130859375,755.2197875976562,701.2481079101562,3365.421630859375,756.7112426757812,850.2269287109375,4586.90185546875,630.2583618164062,1241.7474365234375,1423.2843017578125,3545.653076171875,3978.7685546875,428.5830383300781,854.9451904296875,739.8973388671875,4936.0361328125,1552.76318359375,1450.3570556640625,1631.129150390625,919.0418701171876,1938.16357421875,1007.7772216796876,989.405517578125,1413.39013671875,1106.637939453125,1034.504150390625,877.110107421875,3152.63330078125,782.5814819335938,3417.5849609375,2795.26416015625,988.1263427734376,1585.887451171875,3423.822021484375,811.7849731445312,1490.7078857421875,542.047119140625,1030.8135986328125,983.4522094726562,2067.20263671875,1380.9984130859375,847.5765380859375,2686.426025390625,2621.677001953125,2259.72705078125,955.2078247070312,702.2533569335938,1106.363525390625,764.4178466796875,888.9057006835938,646.8897094726562,1679.1207275390625,1626.3187255859375,2962.56689453125,897.0208740234375,3059.897216796875,2359.4638671875,1669.7989501953125,961.481689453125,1175.6214599609375,4916.11669921875,1379.8211669921875,2665.18115234375,1712.5953369140625,808.9259643554688,2397.83544921875,842.658935546875,1758.35888671875,1196.5107421875,612.3519897460938,2198.670654296875,1873.4671630859375,900.283447265625],\"y0\":\" \",\"yaxis\":\"y\",\"type\":\"box\",\"quartilemethod\":\"exclusive\"}],                        {\"template\":{\"data\":{\"histogram2dcontour\":[{\"type\":\"histogram2dcontour\",\"colorbar\":{\"outlinewidth\":0,\"ticks\":\"\"},\"colorscale\":[[0.0,\"#0d0887\"],[0.1111111111111111,\"#46039f\"],[0.2222222222222222,\"#7201a8\"],[0.3333333333333333,\"#9c179e\"],[0.4444444444444444,\"#bd3786\"],[0.5555555555555556,\"#d8576b\"],[0.6666666666666666,\"#ed7953\"],[0.7777777777777778,\"#fb9f3a\"],[0.8888888888888888,\"#fdca26\"],[1.0,\"#f0f921\"]]}],\"choropleth\":[{\"type\":\"choropleth\",\"colorbar\":{\"outlinewidth\":0,\"ticks\":\"\"}}],\"histogram2d\":[{\"type\":\"histogram2d\",\"colorbar\":{\"outlinewidth\":0,\"ticks\":\"\"},\"colorscale\":[[0.0,\"#0d0887\"],[0.1111111111111111,\"#46039f\"],[0.2222222222222222,\"#7201a8\"],[0.3333333333333333,\"#9c179e\"],[0.4444444444444444,\"#bd3786\"],[0.5555555555555556,\"#d8576b\"],[0.6666666666666666,\"#ed7953\"],[0.7777777777777778,\"#fb9f3a\"],[0.8888888888888888,\"#fdca26\"],[1.0,\"#f0f921\"]]}],\"heatmap\":[{\"type\":\"heatmap\",\"colorbar\":{\"outlinewidth\":0,\"ticks\":\"\"},\"colorscale\":[[0.0,\"#0d0887\"],[0.1111111111111111,\"#46039f\"],[0.2222222222222222,\"#7201a8\"],[0.3333333333333333,\"#9c179e\"],[0.4444444444444444,\"#bd3786\"],[0.5555555555555556,\"#d8576b\"],[0.6666666666666666,\"#ed7953\"],[0.7777777777777778,\"#fb9f3a\"],[0.8888888888888888,\"#fdca26\"],[1.0,\"#f0f921\"]]}],\"heatmapgl\":[{\"type\":\"heatmapgl\",\"colorbar\":{\"outlinewidth\":0,\"ticks\":\"\"},\"colorscale\":[[0.0,\"#0d0887\"],[0.1111111111111111,\"#46039f\"],[0.2222222222222222,\"#7201a8\"],[0.3333333333333333,\"#9c179e\"],[0.4444444444444444,\"#bd3786\"],[0.5555555555555556,\"#d8576b\"],[0.6666666666666666,\"#ed7953\"],[0.7777777777777778,\"#fb9f3a\"],[0.8888888888888888,\"#fdca26\"],[1.0,\"#f0f921\"]]}],\"contourcarpet\":[{\"type\":\"contourcarpet\",\"colorbar\":{\"outlinewidth\":0,\"ticks\":\"\"}}],\"contour\":[{\"type\":\"contour\",\"colorbar\":{\"outlinewidth\":0,\"ticks\":\"\"},\"colorscale\":[[0.0,\"#0d0887\"],[0.1111111111111111,\"#46039f\"],[0.2222222222222222,\"#7201a8\"],[0.3333333333333333,\"#9c179e\"],[0.4444444444444444,\"#bd3786\"],[0.5555555555555556,\"#d8576b\"],[0.6666666666666666,\"#ed7953\"],[0.7777777777777778,\"#fb9f3a\"],[0.8888888888888888,\"#fdca26\"],[1.0,\"#f0f921\"]]}],\"surface\":[{\"type\":\"surface\",\"colorbar\":{\"outlinewidth\":0,\"ticks\":\"\"},\"colorscale\":[[0.0,\"#0d0887\"],[0.1111111111111111,\"#46039f\"],[0.2222222222222222,\"#7201a8\"],[0.3333333333333333,\"#9c179e\"],[0.4444444444444444,\"#bd3786\"],[0.5555555555555556,\"#d8576b\"],[0.6666666666666666,\"#ed7953\"],[0.7777777777777778,\"#fb9f3a\"],[0.8888888888888888,\"#fdca26\"],[1.0,\"#f0f921\"]]}],\"mesh3d\":[{\"type\":\"mesh3d\",\"colorbar\":{\"outlinewidth\":0,\"ticks\":\"\"}}],\"scatter\":[{\"fillpattern\":{\"fillmode\":\"overlay\",\"size\":10,\"solidity\":0.2},\"type\":\"scatter\"}],\"parcoords\":[{\"type\":\"parcoords\",\"line\":{\"colorbar\":{\"outlinewidth\":0,\"ticks\":\"\"}}}],\"scatterpolargl\":[{\"type\":\"scatterpolargl\",\"marker\":{\"colorbar\":{\"outlinewidth\":0,\"ticks\":\"\"}}}],\"bar\":[{\"error_x\":{\"color\":\"#2a3f5f\"},\"error_y\":{\"color\":\"#2a3f5f\"},\"marker\":{\"line\":{\"color\":\"#E5ECF6\",\"width\":0.5},\"pattern\":{\"fillmode\":\"overlay\",\"size\":10,\"solidity\":0.2}},\"type\":\"bar\"}],\"scattergeo\":[{\"type\":\"scattergeo\",\"marker\":{\"colorbar\":{\"outlinewidth\":0,\"ticks\":\"\"}}}],\"scatterpolar\":[{\"type\":\"scatterpolar\",\"marker\":{\"colorbar\":{\"outlinewidth\":0,\"ticks\":\"\"}}}],\"histogram\":[{\"marker\":{\"pattern\":{\"fillmode\":\"overlay\",\"size\":10,\"solidity\":0.2}},\"type\":\"histogram\"}],\"scattergl\":[{\"type\":\"scattergl\",\"marker\":{\"colorbar\":{\"outlinewidth\":0,\"ticks\":\"\"}}}],\"scatter3d\":[{\"type\":\"scatter3d\",\"line\":{\"colorbar\":{\"outlinewidth\":0,\"ticks\":\"\"}},\"marker\":{\"colorbar\":{\"outlinewidth\":0,\"ticks\":\"\"}}}],\"scattermapbox\":[{\"type\":\"scattermapbox\",\"marker\":{\"colorbar\":{\"outlinewidth\":0,\"ticks\":\"\"}}}],\"scatterternary\":[{\"type\":\"scatterternary\",\"marker\":{\"colorbar\":{\"outlinewidth\":0,\"ticks\":\"\"}}}],\"scattercarpet\":[{\"type\":\"scattercarpet\",\"marker\":{\"colorbar\":{\"outlinewidth\":0,\"ticks\":\"\"}}}],\"carpet\":[{\"aaxis\":{\"endlinecolor\":\"#2a3f5f\",\"gridcolor\":\"white\",\"linecolor\":\"white\",\"minorgridcolor\":\"white\",\"startlinecolor\":\"#2a3f5f\"},\"baxis\":{\"endlinecolor\":\"#2a3f5f\",\"gridcolor\":\"white\",\"linecolor\":\"white\",\"minorgridcolor\":\"white\",\"startlinecolor\":\"#2a3f5f\"},\"type\":\"carpet\"}],\"table\":[{\"cells\":{\"fill\":{\"color\":\"#EBF0F8\"},\"line\":{\"color\":\"white\"}},\"header\":{\"fill\":{\"color\":\"#C8D4E3\"},\"line\":{\"color\":\"white\"}},\"type\":\"table\"}],\"barpolar\":[{\"marker\":{\"line\":{\"color\":\"#E5ECF6\",\"width\":0.5},\"pattern\":{\"fillmode\":\"overlay\",\"size\":10,\"solidity\":0.2}},\"type\":\"barpolar\"}],\"pie\":[{\"automargin\":true,\"type\":\"pie\"}]},\"layout\":{\"autotypenumbers\":\"strict\",\"colorway\":[\"#636efa\",\"#EF553B\",\"#00cc96\",\"#ab63fa\",\"#FFA15A\",\"#19d3f3\",\"#FF6692\",\"#B6E880\",\"#FF97FF\",\"#FECB52\"],\"font\":{\"color\":\"#2a3f5f\"},\"hovermode\":\"closest\",\"hoverlabel\":{\"align\":\"left\"},\"paper_bgcolor\":\"white\",\"plot_bgcolor\":\"#E5ECF6\",\"polar\":{\"bgcolor\":\"#E5ECF6\",\"angularaxis\":{\"gridcolor\":\"white\",\"linecolor\":\"white\",\"ticks\":\"\"},\"radialaxis\":{\"gridcolor\":\"white\",\"linecolor\":\"white\",\"ticks\":\"\"}},\"ternary\":{\"bgcolor\":\"#E5ECF6\",\"aaxis\":{\"gridcolor\":\"white\",\"linecolor\":\"white\",\"ticks\":\"\"},\"baxis\":{\"gridcolor\":\"white\",\"linecolor\":\"white\",\"ticks\":\"\"},\"caxis\":{\"gridcolor\":\"white\",\"linecolor\":\"white\",\"ticks\":\"\"}},\"coloraxis\":{\"colorbar\":{\"outlinewidth\":0,\"ticks\":\"\"}},\"colorscale\":{\"sequential\":[[0.0,\"#0d0887\"],[0.1111111111111111,\"#46039f\"],[0.2222222222222222,\"#7201a8\"],[0.3333333333333333,\"#9c179e\"],[0.4444444444444444,\"#bd3786\"],[0.5555555555555556,\"#d8576b\"],[0.6666666666666666,\"#ed7953\"],[0.7777777777777778,\"#fb9f3a\"],[0.8888888888888888,\"#fdca26\"],[1.0,\"#f0f921\"]],\"sequentialminus\":[[0.0,\"#0d0887\"],[0.1111111111111111,\"#46039f\"],[0.2222222222222222,\"#7201a8\"],[0.3333333333333333,\"#9c179e\"],[0.4444444444444444,\"#bd3786\"],[0.5555555555555556,\"#d8576b\"],[0.6666666666666666,\"#ed7953\"],[0.7777777777777778,\"#fb9f3a\"],[0.8888888888888888,\"#fdca26\"],[1.0,\"#f0f921\"]],\"diverging\":[[0,\"#8e0152\"],[0.1,\"#c51b7d\"],[0.2,\"#de77ae\"],[0.3,\"#f1b6da\"],[0.4,\"#fde0ef\"],[0.5,\"#f7f7f7\"],[0.6,\"#e6f5d0\"],[0.7,\"#b8e186\"],[0.8,\"#7fbc41\"],[0.9,\"#4d9221\"],[1,\"#276419\"]]},\"xaxis\":{\"gridcolor\":\"white\",\"linecolor\":\"white\",\"ticks\":\"\",\"title\":{\"standoff\":15},\"zerolinecolor\":\"white\",\"automargin\":true,\"zerolinewidth\":2},\"yaxis\":{\"gridcolor\":\"white\",\"linecolor\":\"white\",\"ticks\":\"\",\"title\":{\"standoff\":15},\"zerolinecolor\":\"white\",\"automargin\":true,\"zerolinewidth\":2},\"scene\":{\"xaxis\":{\"backgroundcolor\":\"#E5ECF6\",\"gridcolor\":\"white\",\"linecolor\":\"white\",\"showbackground\":true,\"ticks\":\"\",\"zerolinecolor\":\"white\",\"gridwidth\":2},\"yaxis\":{\"backgroundcolor\":\"#E5ECF6\",\"gridcolor\":\"white\",\"linecolor\":\"white\",\"showbackground\":true,\"ticks\":\"\",\"zerolinecolor\":\"white\",\"gridwidth\":2},\"zaxis\":{\"backgroundcolor\":\"#E5ECF6\",\"gridcolor\":\"white\",\"linecolor\":\"white\",\"showbackground\":true,\"ticks\":\"\",\"zerolinecolor\":\"white\",\"gridwidth\":2}},\"shapedefaults\":{\"line\":{\"color\":\"#2a3f5f\"}},\"annotationdefaults\":{\"arrowcolor\":\"#2a3f5f\",\"arrowhead\":0,\"arrowwidth\":1},\"geo\":{\"bgcolor\":\"white\",\"landcolor\":\"#E5ECF6\",\"subunitcolor\":\"white\",\"showland\":true,\"showlakes\":true,\"lakecolor\":\"white\"},\"title\":{\"x\":0.05},\"mapbox\":{\"style\":\"light\"}}},\"xaxis\":{\"anchor\":\"y\",\"domain\":[0.0,1.0],\"title\":{\"text\":\"$\\\\rho$\"},\"categoryorder\":\"array\",\"categoryarray\":[0.1,0.3,0.5,0.7,0.9],\"type\":\"category\"},\"yaxis\":{\"anchor\":\"x\",\"domain\":[0.0,1.0],\"title\":{\"text\":\"MSE\"},\"type\":\"log\",\"range\":[2,4]},\"legend\":{\"title\":{\"text\":\"group\"},\"tracegroupgap\":0},\"margin\":{\"t\":60},\"boxmode\":\"group\"},                        {\"responsive\": true}                    ).then(function(){\n",
       "                            \n",
       "var gd = document.getElementById('669359ba-6fef-4e5e-9638-76b3e084a875');\n",
       "var x = new MutationObserver(function (mutations, observer) {{\n",
       "        var display = window.getComputedStyle(gd).display;\n",
       "        if (!display || display === 'none') {{\n",
       "            console.log([gd, 'removed!']);\n",
       "            Plotly.purge(gd);\n",
       "            observer.disconnect();\n",
       "        }}\n",
       "}});\n",
       "\n",
       "// Listen for the removal of the full notebook cells\n",
       "var notebookContainer = gd.closest('#notebook-container');\n",
       "if (notebookContainer) {{\n",
       "    x.observe(notebookContainer, {childList: true});\n",
       "}}\n",
       "\n",
       "// Listen for the clearing of the current output cell\n",
       "var outputEl = gd.closest('.output');\n",
       "if (outputEl) {{\n",
       "    x.observe(outputEl, {childList: true});\n",
       "}}\n",
       "\n",
       "                        })                };                });            </script>        </div>"
      ]
     },
     "metadata": {},
     "output_type": "display_data"
    }
   ],
   "source": [
    "fig = px.box(runs_df, x=\"rho\", y=\"test_loss\",\n",
    "            #  facet_col=\"data_size\",\n",
    "             log_y=True, points=\"all\", boxmode=\"overlay\"\n",
    "             category_orders = {'rho': [0.1, 0.3, 0.5, 0.7, 0.9], 'data_size': [1000, 5000, 10000]},\n",
    "             labels = {'rho': r'$\\rho$', 'data_size': 'Data Size', 'test_loss': 'MSE'})\n",
    "# fig.update_layout(width=10)\n",
    "# fig.update_layout(boxgap=0)\n",
    "fig.update_xaxes(type='category')\n",
    "fig.update_traces(quartilemethod=\"exclusive\")\n",
    "fig.update_yaxes(range = [2,4])\n",
    "fig.show()\n",
    "fig.write_image(\"images/demand_original.pdf\")"
   ]
  },
  {
   "attachments": {},
   "cell_type": "markdown",
   "metadata": {},
   "source": [
    "## CATE"
   ]
  },
  {
   "cell_type": "code",
   "execution_count": null,
   "metadata": {},
   "outputs": [],
   "source": [
    "num_point = 50"
   ]
  },
  {
   "cell_type": "code",
   "execution_count": null,
   "metadata": {},
   "outputs": [],
   "source": [
    "# vary t: fix p = 25, S = E[S]\n",
    "emotion_range = np.array([1, 2, 3, 4, 5, 6, 7])\n",
    "price_val = 25\n",
    "price = np.ones(num_point) * price_val\n",
    "time = np.linspace(0.0, 10, num_point)\n",
    "emotion = (np.ones(num_point) * np.mean(emotion_range))\n",
    "covariate = np.c_[time, emotion]"
   ]
  },
  {
   "cell_type": "code",
   "execution_count": null,
   "metadata": {},
   "outputs": [],
   "source": [
    "true_demand = f(price, time, emotion)\n",
    "price = price[:, np.newaxis]\n",
    "pred_demand = predict_dfiv_model(dfiv_model, price, covariate)"
   ]
  },
  {
   "cell_type": "code",
   "execution_count": null,
   "metadata": {},
   "outputs": [],
   "source": [
    "import matplotlib\n",
    "matplotlib.rcParams.update({'font.size': 22})"
   ]
  },
  {
   "cell_type": "code",
   "execution_count": null,
   "metadata": {},
   "outputs": [
    {
     "data": {
      "image/png": "[encoded data removed]",
      "text/plain": [
       "<Figure size 800x500 with 1 Axes>"
      ]
     },
     "metadata": {},
     "output_type": "display_data"
    }
   ],
   "source": [
    "fig, ax = plt.subplots()\n",
    "fig.set_figheight(5)\n",
    "fig.set_figwidth(8)\n",
    "time = time.squeeze()\n",
    "l1 = ax.scatter(time, true_demand, color='red', label='Truth')\n",
    "l2 = ax.scatter(time, pred_demand, color='blue', label='DFIV')\n",
    "ax.legend()\n",
    "\n",
    "ax.set_xlabel('Time t')\n",
    "ax.set_ylabel('$\\mathbb{E}[Y\\mid do(P=25), T=t]$')\n",
    "# plt.savefig(f'{img_dir}/CATE hst2.pdf')\n",
    "plt.savefig(\"images/CATE_demand_original.pdf\")\n",
    "plt.show()"
   ]
  },
  {
   "attachments": {},
   "cell_type": "markdown",
   "metadata": {},
   "source": [
    "## ATE"
   ]
  },
  {
   "cell_type": "code",
   "execution_count": null,
   "metadata": {},
   "outputs": [],
   "source": [
    "num_point = 50"
   ]
  },
  {
   "cell_type": "code",
   "execution_count": null,
   "metadata": {},
   "outputs": [],
   "source": [
    "# vary p: fix t = E[t] = 5, S = E[S] = 4\n",
    "emotion_range = np.array([1, 2, 3, 4, 5, 6, 7])\n",
    "price = np.ones(num_point) * np.linspace(10, 25, num_point)\n",
    "time = np.linspace(0.0, 10, num_point)\n",
    "emotion = (np.ones(num_point) * np.mean(emotion_range))\n",
    "covariate = np.c_[time, emotion]"
   ]
  },
  {
   "cell_type": "code",
   "execution_count": null,
   "metadata": {},
   "outputs": [],
   "source": [
    "G = np.mean(psi(time)) * np.mean(emotion_range)\n",
    "coef = G - 2\n",
    "offset = 100 + 10 * G\n",
    "\n",
    "true_demand = coef * price + offset"
   ]
  },
  {
   "cell_type": "code",
   "execution_count": null,
   "metadata": {},
   "outputs": [],
   "source": [
    "pred_demand = []\n",
    "for p in price:\n",
    "    p = (np.ones(num_point) * p)[:, np.newaxis]\n",
    "    pred = np.mean((predict_dfiv_model(dfiv_model, p, covariate)))\n",
    "    pred_demand.append(pred)"
   ]
  },
  {
   "cell_type": "code",
   "execution_count": null,
   "metadata": {},
   "outputs": [
    {
     "data": {
      "image/png": "[encoded data removed]",
      "text/plain": [
       "<Figure size 800x500 with 1 Axes>"
      ]
     },
     "metadata": {},
     "output_type": "display_data"
    }
   ],
   "source": [
    "fig, ax = plt.subplots(figsize=(8, 6))\n",
    "price = price.squeeze()\n",
    "fig.set_figheight(5)\n",
    "fig.set_figwidth(8)\n",
    "l1 = ax.plot(price, true_demand, color='red', label='Truth')\n",
    "l2 = ax.plot(price, pred_demand, color='blue', label='DFIV')\n",
    "ax.legend()\n",
    "\n",
    "ax.set_xlabel('Price p')\n",
    "ax.set_ylabel('$\\mathbb{E}[Y\\mid do(P=p)]$')\n",
    "ax.set_ylim([-300, -100])\n",
    "# plt.savefig(f'{img_dir}/CATE hst2.pdf')\n",
    "plt.savefig(\"images/ATE_demand_original.pdf\")\n",
    "plt.show()\n"
   ]
  },
  {
   "attachments": {},
   "cell_type": "markdown",
   "metadata": {},
   "source": [
    "# Demand Revised"
   ]
  },
  {
   "cell_type": "code",
   "execution_count": null,
   "metadata": {},
   "outputs": [],
   "source": [
    "# from src.data.demand_design import psi, f\n",
    "from src.data.demand_design_parcs_revise import psi, f"
   ]
  },
  {
   "cell_type": "code",
   "execution_count": null,
   "metadata": {},
   "outputs": [],
   "source": [
    "run_path = 'jasmineqy0/dfiv_demand_search/kytpqqlu'\n",
    "dfiv_model = load_dfiv_model(run_path)"
   ]
  },
  {
   "cell_type": "code",
   "execution_count": null,
   "metadata": {},
   "outputs": [],
   "source": [
    "group = 'dfiv_low_dim_parcs_revise_1'\n",
    "runs_df = load_dfiv_runs(entity, project, filters={'group' : group})\n",
    "runs_df = runs_df[runs_df['state'].apply(lambda x: x == 'finished')]"
   ]
  },
  {
   "cell_type": "code",
   "execution_count": null,
   "metadata": {},
   "outputs": [
    {
     "data": {
      "text/html": [
       "<div>\n",
       "<style scoped>\n",
       "    .dataframe tbody tr th:only-of-type {\n",
       "        vertical-align: middle;\n",
       "    }\n",
       "\n",
       "    .dataframe tbody tr th {\n",
       "        vertical-align: top;\n",
       "    }\n",
       "\n",
       "    .dataframe thead th {\n",
       "        text-align: right;\n",
       "    }\n",
       "</style>\n",
       "<table border=\"1\" class=\"dataframe\">\n",
       "  <thead>\n",
       "    <tr style=\"text-align: right;\">\n",
       "      <th></th>\n",
       "      <th>rho</th>\n",
       "      <th>data_size</th>\n",
       "      <th>test_loss</th>\n",
       "    </tr>\n",
       "  </thead>\n",
       "  <tbody>\n",
       "    <tr>\n",
       "      <th>0</th>\n",
       "      <td>0.9</td>\n",
       "      <td>10000</td>\n",
       "      <td>4600.174316</td>\n",
       "    </tr>\n",
       "    <tr>\n",
       "      <th>1</th>\n",
       "      <td>0.9</td>\n",
       "      <td>10000</td>\n",
       "      <td>6157.083496</td>\n",
       "    </tr>\n",
       "    <tr>\n",
       "      <th>2</th>\n",
       "      <td>0.9</td>\n",
       "      <td>10000</td>\n",
       "      <td>4218.197266</td>\n",
       "    </tr>\n",
       "    <tr>\n",
       "      <th>3</th>\n",
       "      <td>0.9</td>\n",
       "      <td>10000</td>\n",
       "      <td>1930.087891</td>\n",
       "    </tr>\n",
       "    <tr>\n",
       "      <th>4</th>\n",
       "      <td>0.9</td>\n",
       "      <td>10000</td>\n",
       "      <td>1373.994507</td>\n",
       "    </tr>\n",
       "    <tr>\n",
       "      <th>...</th>\n",
       "      <td>...</td>\n",
       "      <td>...</td>\n",
       "      <td>...</td>\n",
       "    </tr>\n",
       "    <tr>\n",
       "      <th>175</th>\n",
       "      <td>0.1</td>\n",
       "      <td>10000</td>\n",
       "      <td>442061.843750</td>\n",
       "    </tr>\n",
       "    <tr>\n",
       "      <th>176</th>\n",
       "      <td>0.1</td>\n",
       "      <td>10000</td>\n",
       "      <td>1780.394287</td>\n",
       "    </tr>\n",
       "    <tr>\n",
       "      <th>177</th>\n",
       "      <td>0.1</td>\n",
       "      <td>10000</td>\n",
       "      <td>199116.390625</td>\n",
       "    </tr>\n",
       "    <tr>\n",
       "      <th>178</th>\n",
       "      <td>0.1</td>\n",
       "      <td>10000</td>\n",
       "      <td>866.486084</td>\n",
       "    </tr>\n",
       "    <tr>\n",
       "      <th>179</th>\n",
       "      <td>0.1</td>\n",
       "      <td>10000</td>\n",
       "      <td>1737.937866</td>\n",
       "    </tr>\n",
       "  </tbody>\n",
       "</table>\n",
       "<p>180 rows × 3 columns</p>\n",
       "</div>"
      ],
      "text/plain": [
       "     rho  data_size      test_loss\n",
       "0    0.9      10000    4600.174316\n",
       "1    0.9      10000    6157.083496\n",
       "2    0.9      10000    4218.197266\n",
       "3    0.9      10000    1930.087891\n",
       "4    0.9      10000    1373.994507\n",
       "..   ...        ...            ...\n",
       "175  0.1      10000  442061.843750\n",
       "176  0.1      10000    1780.394287\n",
       "177  0.1      10000  199116.390625\n",
       "178  0.1      10000     866.486084\n",
       "179  0.1      10000    1737.937866\n",
       "\n",
       "[180 rows x 3 columns]"
      ]
     },
     "execution_count": null,
     "metadata": {},
     "output_type": "execute_result"
    }
   ],
   "source": [
    "revised_test_loss = runs_df['summary'].apply(lambda x: x['test loss'])\n",
    "revised_rho = runs_df['config'].apply(lambda x: x['data_configs']['rho'])\n",
    "revised_data_size = runs_df['config'].apply(lambda x: x['data_configs']['data_size'])\n",
    "\n",
    "revised_df = pd.DataFrame({'rho': original_rho, 'data_size': revised_data_size, 'test_loss': revised_test_loss})\n",
    "revised_df = revised_df.dropna(subset=['rho'])\n",
    "revised_df"
   ]
  },
  {
   "cell_type": "code",
   "execution_count": null,
   "metadata": {},
   "outputs": [],
   "source": [
    "# fig = px.box(revised_df, x=\"rho\", y=\"test_loss\", facet_col=\"data_size\",\n",
    "#              log_y=True, points=\"all\",\n",
    "#              category_orders = {'rho': [0.1, 0.5, 0.9], 'data_size': [1000, 5000, 10000]},\n",
    "#              labels = {'rho': r'$\\rho$', 'data_size': 'Data Size', 'test_loss': 'MSE'},\n",
    "#              boxmode='overlay')\n",
    "# # fig.update_layout(width=10)\n",
    "# # fig.update_layout(boxgap=0)\n",
    "# fig.show()\n",
    "# fig.write_image(\"images/demand_original.pdf\")"
   ]
  },
  {
   "attachments": {},
   "cell_type": "markdown",
   "metadata": {},
   "source": [
    "## CATE"
   ]
  },
  {
   "cell_type": "code",
   "execution_count": null,
   "metadata": {},
   "outputs": [],
   "source": [
    "num_point = 50"
   ]
  },
  {
   "cell_type": "code",
   "execution_count": null,
   "metadata": {},
   "outputs": [],
   "source": [
    "# vary t: fix p = 25, S = E[S]\n",
    "emotion_range = np.array([1, 2, 3, 4, 5, 6, 7])\n",
    "price_val = 25\n",
    "price = np.ones(num_point) * price_val\n",
    "time = np.linspace(0.0, 10, num_point)\n",
    "emotion = (np.ones(num_point) * np.mean(emotion_range))\n",
    "covariate = np.c_[time, emotion]"
   ]
  },
  {
   "cell_type": "code",
   "execution_count": null,
   "metadata": {},
   "outputs": [],
   "source": [
    "true_demand = f(price, time, emotion)\n",
    "price = price[:, np.newaxis]\n",
    "pred_demand = predict_dfiv_model(dfiv_model, price, covariate)"
   ]
  },
  {
   "cell_type": "code",
   "execution_count": null,
   "metadata": {},
   "outputs": [
    {
     "data": {
      "image/png": "[encoded data removed]",
      "text/plain": [
       "<Figure size 750x450 with 1 Axes>"
      ]
     },
     "metadata": {},
     "output_type": "display_data"
    }
   ],
   "source": [
    "fig, ax = plt.subplots()\n",
    "time = time.squeeze()\n",
    "l1 = ax.scatter(time, true_demand, color='red', label='Truth')\n",
    "l2 = ax.scatter(time, pred_demand, color='blue', label='DFIV')\n",
    "ax.legend()\n",
    "\n",
    "ax.set_xlabel('Time t')\n",
    "ax.set_ylabel('$\\mathbb{E}[Y\\mid do(P=25), T=t]$')\n",
    "ax.set_ylim([-2400, 0])\n",
    "plt.savefig(f'images/CATE_demand_revised.pdf')\n",
    "plt.show()"
   ]
  },
  {
   "attachments": {},
   "cell_type": "markdown",
   "metadata": {},
   "source": [
    "## ATE"
   ]
  },
  {
   "cell_type": "code",
   "execution_count": null,
   "metadata": {},
   "outputs": [],
   "source": [
    "num_point = 50"
   ]
  },
  {
   "cell_type": "code",
   "execution_count": null,
   "metadata": {},
   "outputs": [],
   "source": [
    "# vary p: fix t = E[t] = 5, S = E[S] = 4\n",
    "emotion_range = np.array([1, 2, 3, 4, 5, 6, 7])\n",
    "price = np.ones(num_point) * np.linspace(10, 25, num_point)\n",
    "time = np.linspace(0.0, 10, num_point)\n",
    "emotion = (np.ones(num_point) * np.mean(emotion_range))\n",
    "covariate = np.c_[time, emotion]"
   ]
  },
  {
   "cell_type": "code",
   "execution_count": null,
   "metadata": {},
   "outputs": [],
   "source": [
    "G = np.mean(psi(time)) * np.mean(emotion_range)\n",
    "coef = G - 2\n",
    "offset = 100 + 10 * G\n",
    "\n",
    "true_demand = coef * price + offset"
   ]
  },
  {
   "cell_type": "code",
   "execution_count": null,
   "metadata": {},
   "outputs": [],
   "source": [
    "pred_demand = []\n",
    "for p in price:\n",
    "    p = (np.ones(num_point) * p)[:, np.newaxis]\n",
    "    pred = np.mean((predict_dfiv_model(dfiv_model, p, covariate)))\n",
    "    pred_demand.append(pred)"
   ]
  },
  {
   "cell_type": "code",
   "execution_count": null,
   "metadata": {},
   "outputs": [
    {
     "data": {
      "image/png": "[encoded data removed]",
      "text/plain": [
       "<Figure size 800x500 with 1 Axes>"
      ]
     },
     "metadata": {},
     "output_type": "display_data"
    }
   ],
   "source": [
    "fig, ax = plt.subplots(figsize=(8, 6))\n",
    "price = price.squeeze()\n",
    "fig.set_figheight(5)\n",
    "fig.set_figwidth(8)\n",
    "l1 = ax.plot(price, true_demand, color='red', label='Truth')\n",
    "l2 = ax.plot(price, pred_demand, color='blue', label='DFIV')\n",
    "ax.legend()\n",
    "\n",
    "ax.set_xlabel('Price p')\n",
    "ax.set_ylabel('$\\mathbb{E}[Y\\mid do(P=p)]$')\n",
    "# plt.savefig(f'{img_dir}/CATE hst2.pdf')\n",
    "plt.savefig(f'images/ATE_demand_revised.pdf')\n",
    "plt.show()\n"
   ]
  },
  {
   "cell_type": "code",
   "execution_count": null,
   "metadata": {},
   "outputs": [],
   "source": [
    "# # vary p: fix t = E[t] = 5, S = E[S] = 4\n",
    "# emotion_range = np.array([1, 2, 3, 4, 5, 6, 7])\n",
    "# price_val = np.linspace(10, 25, num_point)\n",
    "# price = np.ones(num_point) * price_val\n",
    "# time = np.array([5] * num_point)\n",
    "# emotion = (np.ones(num_point) * np.mean(emotion_range))\n",
    "# covariate = np.c_[time, emotion]"
   ]
  },
  {
   "cell_type": "code",
   "execution_count": null,
   "metadata": {},
   "outputs": [],
   "source": [
    "# true_demand = f(price, time, emotion)\n",
    "# price = price[:, np.newaxis]\n",
    "# pred_demand = predict_dfiv_model(dfiv_model, price, covariate)"
   ]
  },
  {
   "cell_type": "code",
   "execution_count": null,
   "metadata": {},
   "outputs": [],
   "source": [
    "# fig, ax = plt.subplots()\n",
    "# price = price.squeeze()\n",
    "# l1 = ax.plot(price, true_demand, color='red', label='Truth')\n",
    "# l2 = ax.plot(price, pred_demand, color='blue', label='DFIV')\n",
    "# ax.legend()\n",
    "\n",
    "# ax.set_xlabel('Time of the year t')\n",
    "# ax.set_ylabel('ATE')\n",
    "# ax.set_ylim([-1000, 200])\n",
    "# # plt.savefig(f'{img_dir}/CATE hst2.pdf')\n",
    "# plt.show()"
   ]
  },
  {
   "attachments": {},
   "cell_type": "markdown",
   "metadata": {},
   "source": [
    "## spaceIV"
   ]
  },
  {
   "cell_type": "code",
   "execution_count": null,
   "metadata": {},
   "outputs": [],
   "source": [
    "from src.data.demand_design_parcs_revise import generate_train_demand_design_parcs_revise\n",
    "import os"
   ]
  },
  {
   "cell_type": "code",
   "execution_count": null,
   "metadata": {},
   "outputs": [],
   "source": [
    "# Get the current working directory\n",
    "prev_dir = os.getcwd()\n",
    "print(\"Prev working directory:\", prev_dir)\n",
    "\n",
    "# Change the working directory\n",
    "os.chdir(\"../\")\n",
    "\n",
    "# Check the new working directory\n",
    "print(\"Updated working directory:\", os.getcwd())"
   ]
  },
  {
   "cell_type": "code",
   "execution_count": null,
   "metadata": {},
   "outputs": [],
   "source": [
    "# deadloop, invertible matrix\n",
    "valid_seed = get_valid_seed()"
   ]
  },
  {
   "cell_type": "code",
   "execution_count": null,
   "metadata": {},
   "outputs": [],
   "source": [
    "get_valid_seed\n"
   ]
  },
  {
   "cell_type": "code",
   "execution_count": null,
   "metadata": {},
   "outputs": [],
   "source": [
    "def get_valid_seed():\n",
    "    seed = 0\n",
    "    valid = False\n",
    "    while not valid:\n",
    "        try: \n",
    "            train_data = generate_train_demand_design(data_size=5000, rho=0.5, rand_seed=seed)\n",
    "            I = train_data.instrumental\n",
    "            covariate = train_data.covariate\n",
    "            treatment = train_data.treatment\n",
    "            X = np.c_[covariate, treatment]\n",
    "            Y = train_data.outcome\n",
    "            beta_placeholder = np.zeros((X.shape[1], 1))\n",
    "            beta_hat, _ = spaceiv(I, X, Y, beta_placeholder)\n",
    "            valid = True\n",
    "        except Exception as e:\n",
    "            seed += 1\n",
    "            print(e)\n",
    "    print(f'Valid seed: {seed}')\n",
    "    return seed"
   ]
  },
  {
   "cell_type": "code",
   "execution_count": null,
   "metadata": {},
   "outputs": [],
   "source": []
  },
  {
   "cell_type": "code",
   "execution_count": null,
   "metadata": {},
   "outputs": [],
   "source": []
  }
 ],
 "metadata": {
  "kernelspec": {
   "display_name": "dfiv",
   "language": "python",
   "name": "python3"
  },
  "language_info": {
   "codemirror_mode": {
    "name": "ipython",
    "version": 3
   },
   "file_extension": ".py",
   "mimetype": "text/x-python",
   "name": "python",
   "nbconvert_exporter": "python",
   "pygments_lexer": "ipython3",
   "version": "3.10.11"
  }
 },
 "nbformat": 4,
 "nbformat_minor": 2
}
