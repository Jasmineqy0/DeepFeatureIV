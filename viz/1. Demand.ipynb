{
 "cells": [
  {
   "cell_type": "code",
   "execution_count": 1,
   "metadata": {},
   "outputs": [],
   "source": [
    "from pathlib import Path\n",
    "import plotly.express as px\n",
    "import numpy as np\n",
    "%matplotlib inline\n",
    "import matplotlib\n",
    "import matplotlib.pyplot as plt\n",
    "from mpl_toolkits import mplot3d\n",
    "import pandas as pd\n",
    "import numpy as np\n",
    "import wandb\n",
    "import torch\n",
    "from torch import nn\n",
    "from itertools import product\n",
    "import sys\n",
    "from tqdm.notebook import tqdm\n",
    "sys.path.append(str(Path.cwd().parent))\n",
    "from src.data.demand_design import psi, f\n",
    "from viz_utils import load_dfiv_model, predict_dfiv_model, load_dfiv_runs"
   ]
  },
  {
   "cell_type": "code",
   "execution_count": 2,
   "metadata": {},
   "outputs": [],
   "source": [
    "from ivtk.alg.spaceiv import spaceiv"
   ]
  },
  {
   "cell_type": "code",
   "execution_count": 3,
   "metadata": {},
   "outputs": [],
   "source": [
    "plt.rcParams[\"figure.figsize\"] = [7.50, 3.50]\n",
    "plt.rcParams[\"figure.autolayout\"] = True\n",
    "plt.rcParams.update({\n",
    "    \"figure.figsize\": [7.50, 4.50],\n",
    "    \"figure.autolayout\": True,\n",
    "    \"text.usetex\": False,\n",
    "    \"font.family\": \"sans-serif\",\n",
    "    'font.size': 16\n",
    "})"
   ]
  },
  {
   "cell_type": "code",
   "execution_count": 4,
   "metadata": {},
   "outputs": [],
   "source": [
    "PARCS_CONFIG_DIR = Path('src') / 'data' / 'parcs_simulation' / 'config'"
   ]
  },
  {
   "cell_type": "code",
   "execution_count": 5,
   "metadata": {},
   "outputs": [],
   "source": [
    "entity, project = \"jasmineqy0\", \"formal_7\"  \n",
    "rho = 0.5"
   ]
  },
  {
   "cell_type": "code",
   "execution_count": 6,
   "metadata": {},
   "outputs": [],
   "source": [
    "group = 'dfiv_low_dim_parcs'\n",
    "runs_df = load_dfiv_runs(entity, project, filters={'group' : group})\n",
    "runs_df = runs_df[runs_df['state'].apply(lambda x: x == 'finished')]\n",
    "# original_test_loss = runs_df['summary'].apply(lambda x: x['min_test_loss']).tolist()\n",
    "# original_rho = runs_df['config'].apply(lambda x: x['data_configs']['rho']).tolist()\n",
    "# # original_data_size = runs_df['config'].apply(lambda x: x['data_configs']['data_size'])\n",
    "# len(original_test_loss), len(original_rho)"
   ]
  },
  {
   "attachments": {},
   "cell_type": "markdown",
   "metadata": {},
   "source": [
    "# Visualization"
   ]
  },
  {
   "cell_type": "code",
   "execution_count": 74,
   "metadata": {},
   "outputs": [
    {
     "data": {
      "text/plain": [
       "300"
      ]
     },
     "execution_count": 74,
     "metadata": {},
     "output_type": "execute_result"
    }
   ],
   "source": [
    "viz_prep_df = runs_df[runs_df['config'].apply(lambda x: x['data_configs']['function'] == 'original')]\n",
    "len(viz_prep_df)"
   ]
  },
  {
   "cell_type": "code",
   "execution_count": 69,
   "metadata": {},
   "outputs": [
    {
     "name": "stdout",
     "output_type": "stream",
     "text": [
      "Group: 0.1 Length: 60\n",
      "\t best run id:  7z2i9bdn\n",
      "\t best run seed:  1\n",
      "\t Number of runs with test loss:  60\n",
      "\t min test loss: 52.91168975830078\n",
      "\t mean test loss:  75.29901034037272\n",
      "\t std test loss:  11.967363163909495\n",
      "\tmedian test loss:  74.10586929321289\n",
      "Group: 0.3 Length: 60\n",
      "\t best run id:  yglblz5a\n",
      "\t best run seed:  1\n",
      "\t Number of runs with test loss:  60\n",
      "\t min test loss: 48.66018295288086\n",
      "\t mean test loss:  72.68782285054525\n",
      "\t std test loss:  13.526608870959452\n",
      "\tmedian test loss:  70.09551620483398\n",
      "Group: 0.5 Length: 60\n",
      "\t best run id:  thm0wwry\n",
      "\t best run seed:  28\n",
      "\t Number of runs with test loss:  60\n",
      "\t min test loss: 46.693233489990234\n",
      "\t mean test loss:  69.39695491790772\n",
      "\t std test loss:  10.760331310962183\n",
      "\tmedian test loss:  69.52937316894531\n",
      "Group: 0.7 Length: 60\n",
      "\t best run id:  mfz5kq5o\n",
      "\t best run seed:  8\n",
      "\t Number of runs with test loss:  60\n",
      "\t min test loss: 43.03330993652344\n",
      "\t mean test loss:  72.96509583791097\n",
      "\t std test loss:  11.13658238966414\n",
      "\tmedian test loss:  72.07757949829102\n",
      "Group: 0.9 Length: 60\n",
      "\t best run id:  bua27fk7\n",
      "\t best run seed:  3\n",
      "\t Number of runs with test loss:  60\n",
      "\t min test loss: 46.79248046875\n",
      "\t mean test loss:  75.16884848276774\n",
      "\t std test loss:  12.762155280675918\n",
      "\tmedian test loss:  75.74754333496094\n"
     ]
    }
   ],
   "source": [
    "grouped_df = viz_prep_df.groupby(viz_prep_df['config'].apply(lambda x: x['data_configs']['rho']))\n",
    "\n",
    "\n",
    "original_rhos = []\n",
    "run_ids, run_seeds = {}, []\n",
    "best_run_ids, best_run_seeds = [], []\n",
    "original_mean_test_loss_list = []\n",
    "original_std_test_loss_list = []\n",
    "original_median_test_loss_list = []\n",
    "original_test_loss_list = {}\n",
    "original_data_sizes = {}\n",
    "for group, group_df in grouped_df:\n",
    "    n = len(group_df)\n",
    "    print(\"Group:\", group, 'Length:', n)\n",
    "    \n",
    "    original_rhos.append(group)\n",
    "    \n",
    "    run_id = group_df['id']\n",
    "    run_ids[group] = run_id\n",
    "    \n",
    "    best_run_df_id = group_df['summary'].apply(lambda x: x['min_test_loss']).idxmin()\n",
    "    best_run_id = group_df.loc[best_run_df_id]['id']\n",
    "    best_run_ids.append(best_run_id)\n",
    "    print('\\t best run id: ', best_run_id)\n",
    "    \n",
    "    original_data_size = group_df['config'].apply(lambda x: x['data_configs']['data_size'])\n",
    "    original_data_sizes[group] = original_data_size\n",
    "    \n",
    "    run_seed = group_df['config'].apply(lambda x: x['experiment_id'])\n",
    "    run_seeds.append(run_seed)\n",
    "    \n",
    "    best_run_seed = group_df.loc[best_run_df_id]['config']['experiment_id']\n",
    "    best_run_seeds.append(best_run_seed)\n",
    "    print('\\t best run seed: ', best_run_seed)\n",
    "    \n",
    "    test_loss_idx = group_df['summary'].apply(lambda x: True if 'min_test_loss' in x else False)\n",
    "    test_loss_df = group_df[test_loss_idx]\n",
    "    print('\\t Number of runs with test loss: ', len(test_loss_df))\n",
    "\n",
    "    original_test_loss = test_loss_df['summary'].apply(lambda x: x['min_test_loss'])\n",
    "    original_test_loss_list[group] = original_test_loss\n",
    "\n",
    "    min_idx, min_test_loss = np.argmin(original_test_loss), np.min(original_test_loss)\n",
    "    print(f\"\\t min test loss: {min_test_loss}\")\n",
    "\n",
    "    original_mean_test_loss = np.mean(original_test_loss)\n",
    "    original_mean_test_loss_list.append(original_mean_test_loss)\n",
    "    print('\\t mean test loss: ', original_mean_test_loss)\n",
    "\n",
    "    original_std_test_loss = np.std(original_test_loss)\n",
    "    original_std_test_loss_list.append(original_std_test_loss)\n",
    "    print('\\t std test loss: ', original_std_test_loss)\n",
    "\n",
    "    original_median_test_loss = np.median(original_test_loss)\n",
    "    original_median_test_loss_list.append(original_median_test_loss)\n",
    "    print('\\tmedian test loss: ', original_median_test_loss)"
   ]
  },
  {
   "cell_type": "code",
   "execution_count": 70,
   "metadata": {},
   "outputs": [],
   "source": [
    "from itertools import chain\n",
    "\n",
    "viz_rhos = [[rho] * len(original_test_loss_list[rho]) for rho in original_rhos]\n",
    "viz_test_loss = [original_test_loss_list[rho] for rho in original_rhos]\n",
    "viz_data_size = [original_data_sizes[rho] for rho in original_rhos]\n",
    "\n",
    "viz_rhos = list(chain(*viz_rhos))\n",
    "viz_test_loss = list(chain(*viz_test_loss))\n",
    "viz_data_size = list(chain(*viz_data_size))"
   ]
  },
  {
   "cell_type": "code",
   "execution_count": 71,
   "metadata": {},
   "outputs": [],
   "source": [
    "viz_df = pd.DataFrame({ 'rho': viz_rhos,\n",
    "                        'test_loss': viz_test_loss,\n",
    "                        'data_size': viz_data_size\n",
    "                     })"
   ]
  },
  {
   "cell_type": "code",
   "execution_count": 72,
   "metadata": {},
   "outputs": [
    {
     "data": {
      "application/vnd.plotly.v1+json": {
       "config": {
        "plotlyServerURL": "https://plot.ly"
       },
       "data": [
        {
         "alignmentgroup": "True",
         "boxpoints": "all",
         "hovertemplate": "data_size=10000<br>rho=%{x}<br>test_loss=%{y}<extra></extra>",
         "legendgroup": "",
         "marker": {
          "color": "#636efa"
         },
         "name": "",
         "notched": false,
         "offsetgroup": "",
         "orientation": "v",
         "showlegend": false,
         "type": "box",
         "x": [
          0.1,
          0.1,
          0.1,
          0.1,
          0.1,
          0.1,
          0.1,
          0.1,
          0.1,
          0.1,
          0.1,
          0.1,
          0.1,
          0.1,
          0.1,
          0.1,
          0.1,
          0.1,
          0.1,
          0.1,
          0.1,
          0.1,
          0.1,
          0.1,
          0.1,
          0.1,
          0.1,
          0.1,
          0.1,
          0.1,
          0.1,
          0.1,
          0.1,
          0.1,
          0.1,
          0.1,
          0.1,
          0.1,
          0.1,
          0.1,
          0.1,
          0.1,
          0.1,
          0.1,
          0.1,
          0.1,
          0.1,
          0.1,
          0.1,
          0.1,
          0.1,
          0.1,
          0.1,
          0.1,
          0.1,
          0.1,
          0.1,
          0.1,
          0.1,
          0.1,
          0.3,
          0.3,
          0.3,
          0.3,
          0.3,
          0.3,
          0.3,
          0.3,
          0.3,
          0.3,
          0.3,
          0.3,
          0.3,
          0.3,
          0.3,
          0.3,
          0.3,
          0.3,
          0.3,
          0.3,
          0.3,
          0.3,
          0.3,
          0.3,
          0.3,
          0.3,
          0.3,
          0.3,
          0.3,
          0.3,
          0.3,
          0.3,
          0.3,
          0.3,
          0.3,
          0.3,
          0.3,
          0.3,
          0.3,
          0.3,
          0.3,
          0.3,
          0.3,
          0.3,
          0.3,
          0.3,
          0.3,
          0.3,
          0.3,
          0.3,
          0.3,
          0.3,
          0.3,
          0.3,
          0.3,
          0.3,
          0.3,
          0.3,
          0.3,
          0.3,
          0.5,
          0.5,
          0.5,
          0.5,
          0.5,
          0.5,
          0.5,
          0.5,
          0.5,
          0.5,
          0.5,
          0.5,
          0.5,
          0.5,
          0.5,
          0.5,
          0.5,
          0.5,
          0.5,
          0.5,
          0.5,
          0.5,
          0.5,
          0.5,
          0.5,
          0.5,
          0.5,
          0.5,
          0.5,
          0.5,
          0.5,
          0.5,
          0.5,
          0.5,
          0.5,
          0.5,
          0.5,
          0.5,
          0.5,
          0.5,
          0.5,
          0.5,
          0.5,
          0.5,
          0.5,
          0.5,
          0.5,
          0.5,
          0.5,
          0.5,
          0.5,
          0.5,
          0.5,
          0.5,
          0.5,
          0.5,
          0.5,
          0.5,
          0.5,
          0.5,
          0.7,
          0.7,
          0.7,
          0.7,
          0.7,
          0.7,
          0.7,
          0.7,
          0.7,
          0.7,
          0.7,
          0.7,
          0.7,
          0.7,
          0.7,
          0.7,
          0.7,
          0.7,
          0.7,
          0.7,
          0.7,
          0.7,
          0.7,
          0.7,
          0.7,
          0.7,
          0.7,
          0.7,
          0.7,
          0.7,
          0.7,
          0.7,
          0.7,
          0.7,
          0.7,
          0.7,
          0.7,
          0.7,
          0.7,
          0.7,
          0.7,
          0.7,
          0.7,
          0.7,
          0.7,
          0.7,
          0.7,
          0.7,
          0.7,
          0.7,
          0.7,
          0.7,
          0.7,
          0.7,
          0.7,
          0.7,
          0.7,
          0.7,
          0.7,
          0.7,
          0.9,
          0.9,
          0.9,
          0.9,
          0.9,
          0.9,
          0.9,
          0.9,
          0.9,
          0.9,
          0.9,
          0.9,
          0.9,
          0.9,
          0.9,
          0.9,
          0.9,
          0.9,
          0.9,
          0.9,
          0.9,
          0.9,
          0.9,
          0.9,
          0.9,
          0.9,
          0.9,
          0.9,
          0.9,
          0.9,
          0.9,
          0.9,
          0.9,
          0.9,
          0.9,
          0.9,
          0.9,
          0.9,
          0.9,
          0.9,
          0.9,
          0.9,
          0.9,
          0.9,
          0.9,
          0.9,
          0.9,
          0.9,
          0.9,
          0.9,
          0.9,
          0.9,
          0.9,
          0.9,
          0.9,
          0.9,
          0.9,
          0.9,
          0.9,
          0.9
         ],
         "x0": " ",
         "xaxis": "x",
         "y": [
          69.77081298828125,
          81.22257995605469,
          85.4714584350586,
          100.17755126953124,
          74.43675994873047,
          70.92235565185547,
          64.57231140136719,
          64.96040344238281,
          73.32029724121094,
          82.1147689819336,
          86.48573303222656,
          75.96482849121094,
          72.49055480957031,
          78.76648712158203,
          71.12602233886719,
          67.8090591430664,
          119.72024536132812,
          80.4633560180664,
          75.83419036865234,
          108.55043029785156,
          78.17481231689453,
          73.43421936035156,
          80.23028564453125,
          72.18623352050781,
          63.94411087036133,
          61.13252639770508,
          76.76251220703125,
          66.88720703125,
          52.91168975830078,
          89.97058868408203,
          59.90086364746094,
          80.19459533691406,
          64.00597381591797,
          73.81302642822266,
          64.06448364257812,
          71.90485382080078,
          90.08082580566406,
          90.3109359741211,
          55.29334259033203,
          67.58438873291016,
          78.54984283447266,
          79.2437973022461,
          71.7950439453125,
          68.34969329833984,
          72.61027526855469,
          63.90916061401367,
          93.52166748046876,
          74.4900131225586,
          76.2527847290039,
          77.28524780273438,
          68.57186126708984,
          74.6776351928711,
          88.7568130493164,
          53.04966354370117,
          66.36683654785156,
          71.80165100097656,
          77.86962127685547,
          64.53948211669922,
          74.39871215820312,
          84.93313598632812,
          67.50736236572266,
          77.8493881225586,
          82.574951171875,
          65.69168090820312,
          73.7768783569336,
          83.79740142822266,
          50.84351348876953,
          62.28261184692383,
          78.12826538085938,
          54.83333587646485,
          75.88414764404297,
          68.49913024902344,
          69.38365936279297,
          64.13636779785156,
          85.94109344482422,
          65.02980041503906,
          70.06707763671875,
          61.8026237487793,
          100.1448745727539,
          55.25939178466797,
          76.82557678222656,
          90.5602798461914,
          57.08684158325195,
          51.6953125,
          78.88264465332031,
          69.46028900146484,
          91.69723510742188,
          101.63491821289062,
          77.81571960449219,
          66.31568908691406,
          86.66815948486328,
          66.32246398925781,
          89.57752990722656,
          62.812347412109375,
          70.62822723388672,
          93.7926025390625,
          81.65548706054688,
          65.54386901855469,
          61.87040710449219,
          70.12395477294922,
          59.10328674316406,
          60.6547966003418,
          59.85022735595703,
          53.56440734863281,
          71.16604614257812,
          68.31842803955078,
          65.29280853271484,
          110.70018005371094,
          85.31128692626953,
          54.588287353515625,
          77.12297058105469,
          83.33953857421875,
          69.37152862548828,
          98.7010498046875,
          61.22868728637695,
          75.0692138671875,
          81.38066101074219,
          73.53305053710938,
          48.66018295288086,
          79.90962219238281,
          70.75965118408203,
          46.693233489990234,
          91.29428100585938,
          56.873661041259766,
          63.36003112792969,
          67.6717758178711,
          69.77752685546875,
          59.1453742980957,
          90.9057159423828,
          79.43196105957031,
          68.01610565185547,
          66.02812957763672,
          62.127193450927734,
          80.74388885498047,
          71.760009765625,
          87.91473388671875,
          73.6319808959961,
          63.792476654052734,
          76.2480697631836,
          65.7675552368164,
          76.23918151855469,
          54.08726501464844,
          67.27825927734375,
          71.04876708984375,
          56.494163513183594,
          64.67622375488281,
          74.44154357910156,
          64.29934692382812,
          73.37139129638672,
          57.22247314453125,
          74.67855834960938,
          83.59286499023438,
          64.67950439453125,
          81.39993286132812,
          49.0290412902832,
          64.08500671386719,
          78.16436004638672,
          67.51178741455078,
          77.3445053100586,
          54.6170539855957,
          79.58739471435547,
          87.18415832519531,
          57.35164642333984,
          70.17984008789062,
          59.30335235595703,
          69.7110824584961,
          75.0605239868164,
          65.89358520507812,
          61.08430862426758,
          63.19574737548828,
          72.59544372558594,
          50.993873596191406,
          77.0095443725586,
          91.83956146240234,
          76.3794937133789,
          69.34766387939453,
          47.00160598754883,
          66.0355453491211,
          84.65154266357422,
          73.20679473876953,
          69.20549011230469,
          73.9789810180664,
          66.23438262939453,
          75.81555938720703,
          62.48853302001953,
          69.78504180908203,
          76.67732238769531,
          89.14848327636719,
          89.8239517211914,
          66.53203582763672,
          68.5756607055664,
          90.86270141601562,
          66.24546813964844,
          72.38571166992188,
          71.59841918945312,
          86.43179321289062,
          66.13687896728516,
          70.28657531738281,
          71.17311096191406,
          78.13208770751953,
          60.26473617553711,
          57.58419418334961,
          64.8088150024414,
          83.82340240478516,
          78.91190338134766,
          64.45377349853516,
          52.35491180419922,
          65.81866455078125,
          65.55265045166016,
          87.33124542236328,
          53.310523986816406,
          71.90840148925781,
          70.06697082519531,
          84.52605438232422,
          59.56216049194336,
          74.14899444580078,
          80.23780059814453,
          86.93820190429688,
          73.7722396850586,
          73.52092742919922,
          72.24675750732422,
          96.130615234375,
          76.40074920654297,
          89.75054931640625,
          73.3362808227539,
          84.81986236572266,
          73.39925384521484,
          84.6333236694336,
          68.82974243164062,
          76.55006408691406,
          57.82918930053711,
          43.03330993652344,
          88.08578491210938,
          63.53919982910156,
          62.76963806152344,
          58.99710464477539,
          99.45500183105467,
          69.85957336425781,
          70.72059631347656,
          77.1043930053711,
          87.59063720703125,
          88.19679260253906,
          66.0451431274414,
          82.9390640258789,
          60.63544464111328,
          80.80436706542969,
          78.80012512207031,
          63.98541259765625,
          74.28578186035156,
          76.67886352539062,
          82.345947265625,
          69.30570983886719,
          63.96623229980469,
          92.36808776855467,
          75.18794250488281,
          83.415771484375,
          57.97929763793945,
          74.94551849365234,
          83.7306137084961,
          51.51054000854492,
          76.30714416503906,
          69.05754089355469,
          88.371826171875,
          56.32246780395508,
          84.59712982177734,
          76.70344543457031,
          46.79248046875,
          81.77381896972656,
          80.29264068603516,
          75.10514831542969,
          86.67205047607422,
          69.23318481445312,
          82.21183776855469,
          54.89274978637695,
          96.80915832519533,
          70.1944580078125,
          74.60224914550781,
          103.60025787353516,
          84.2536849975586,
          85.38453674316406,
          67.86557006835938,
          59.75031280517578,
          89.97632598876953,
          59.61310577392578,
          89.9162368774414,
          81.36750793457031,
          97.05712890625,
          48.0145378112793,
          57.302978515625,
          67.29798126220703,
          56.080360412597656,
          62.85820770263672,
          82.1073226928711,
          76.60501098632812,
          86.63504791259766,
          96.2853775024414,
          71.90138244628906,
          73.57295227050781,
          74.18328094482422,
          73.84517669677734
         ],
         "y0": " ",
         "yaxis": "y"
        }
       ],
       "layout": {
        "annotations": [
         {
          "font": {},
          "showarrow": false,
          "text": "data_size=10000",
          "x": 0.5,
          "xanchor": "center",
          "xref": "paper",
          "y": 1,
          "yanchor": "bottom",
          "yref": "paper"
         }
        ],
        "boxmode": "group",
        "legend": {
         "tracegroupgap": 0
        },
        "margin": {
         "t": 60
        },
        "template": {
         "data": {
          "bar": [
           {
            "error_x": {
             "color": "#2a3f5f"
            },
            "error_y": {
             "color": "#2a3f5f"
            },
            "marker": {
             "line": {
              "color": "#E5ECF6",
              "width": 0.5
             },
             "pattern": {
              "fillmode": "overlay",
              "size": 10,
              "solidity": 0.2
             }
            },
            "type": "bar"
           }
          ],
          "barpolar": [
           {
            "marker": {
             "line": {
              "color": "#E5ECF6",
              "width": 0.5
             },
             "pattern": {
              "fillmode": "overlay",
              "size": 10,
              "solidity": 0.2
             }
            },
            "type": "barpolar"
           }
          ],
          "carpet": [
           {
            "aaxis": {
             "endlinecolor": "#2a3f5f",
             "gridcolor": "white",
             "linecolor": "white",
             "minorgridcolor": "white",
             "startlinecolor": "#2a3f5f"
            },
            "baxis": {
             "endlinecolor": "#2a3f5f",
             "gridcolor": "white",
             "linecolor": "white",
             "minorgridcolor": "white",
             "startlinecolor": "#2a3f5f"
            },
            "type": "carpet"
           }
          ],
          "choropleth": [
           {
            "colorbar": {
             "outlinewidth": 0,
             "ticks": ""
            },
            "type": "choropleth"
           }
          ],
          "contour": [
           {
            "colorbar": {
             "outlinewidth": 0,
             "ticks": ""
            },
            "colorscale": [
             [
              0,
              "#0d0887"
             ],
             [
              0.1111111111111111,
              "#46039f"
             ],
             [
              0.2222222222222222,
              "#7201a8"
             ],
             [
              0.3333333333333333,
              "#9c179e"
             ],
             [
              0.4444444444444444,
              "#bd3786"
             ],
             [
              0.5555555555555556,
              "#d8576b"
             ],
             [
              0.6666666666666666,
              "#ed7953"
             ],
             [
              0.7777777777777778,
              "#fb9f3a"
             ],
             [
              0.8888888888888888,
              "#fdca26"
             ],
             [
              1,
              "#f0f921"
             ]
            ],
            "type": "contour"
           }
          ],
          "contourcarpet": [
           {
            "colorbar": {
             "outlinewidth": 0,
             "ticks": ""
            },
            "type": "contourcarpet"
           }
          ],
          "heatmap": [
           {
            "colorbar": {
             "outlinewidth": 0,
             "ticks": ""
            },
            "colorscale": [
             [
              0,
              "#0d0887"
             ],
             [
              0.1111111111111111,
              "#46039f"
             ],
             [
              0.2222222222222222,
              "#7201a8"
             ],
             [
              0.3333333333333333,
              "#9c179e"
             ],
             [
              0.4444444444444444,
              "#bd3786"
             ],
             [
              0.5555555555555556,
              "#d8576b"
             ],
             [
              0.6666666666666666,
              "#ed7953"
             ],
             [
              0.7777777777777778,
              "#fb9f3a"
             ],
             [
              0.8888888888888888,
              "#fdca26"
             ],
             [
              1,
              "#f0f921"
             ]
            ],
            "type": "heatmap"
           }
          ],
          "heatmapgl": [
           {
            "colorbar": {
             "outlinewidth": 0,
             "ticks": ""
            },
            "colorscale": [
             [
              0,
              "#0d0887"
             ],
             [
              0.1111111111111111,
              "#46039f"
             ],
             [
              0.2222222222222222,
              "#7201a8"
             ],
             [
              0.3333333333333333,
              "#9c179e"
             ],
             [
              0.4444444444444444,
              "#bd3786"
             ],
             [
              0.5555555555555556,
              "#d8576b"
             ],
             [
              0.6666666666666666,
              "#ed7953"
             ],
             [
              0.7777777777777778,
              "#fb9f3a"
             ],
             [
              0.8888888888888888,
              "#fdca26"
             ],
             [
              1,
              "#f0f921"
             ]
            ],
            "type": "heatmapgl"
           }
          ],
          "histogram": [
           {
            "marker": {
             "pattern": {
              "fillmode": "overlay",
              "size": 10,
              "solidity": 0.2
             }
            },
            "type": "histogram"
           }
          ],
          "histogram2d": [
           {
            "colorbar": {
             "outlinewidth": 0,
             "ticks": ""
            },
            "colorscale": [
             [
              0,
              "#0d0887"
             ],
             [
              0.1111111111111111,
              "#46039f"
             ],
             [
              0.2222222222222222,
              "#7201a8"
             ],
             [
              0.3333333333333333,
              "#9c179e"
             ],
             [
              0.4444444444444444,
              "#bd3786"
             ],
             [
              0.5555555555555556,
              "#d8576b"
             ],
             [
              0.6666666666666666,
              "#ed7953"
             ],
             [
              0.7777777777777778,
              "#fb9f3a"
             ],
             [
              0.8888888888888888,
              "#fdca26"
             ],
             [
              1,
              "#f0f921"
             ]
            ],
            "type": "histogram2d"
           }
          ],
          "histogram2dcontour": [
           {
            "colorbar": {
             "outlinewidth": 0,
             "ticks": ""
            },
            "colorscale": [
             [
              0,
              "#0d0887"
             ],
             [
              0.1111111111111111,
              "#46039f"
             ],
             [
              0.2222222222222222,
              "#7201a8"
             ],
             [
              0.3333333333333333,
              "#9c179e"
             ],
             [
              0.4444444444444444,
              "#bd3786"
             ],
             [
              0.5555555555555556,
              "#d8576b"
             ],
             [
              0.6666666666666666,
              "#ed7953"
             ],
             [
              0.7777777777777778,
              "#fb9f3a"
             ],
             [
              0.8888888888888888,
              "#fdca26"
             ],
             [
              1,
              "#f0f921"
             ]
            ],
            "type": "histogram2dcontour"
           }
          ],
          "mesh3d": [
           {
            "colorbar": {
             "outlinewidth": 0,
             "ticks": ""
            },
            "type": "mesh3d"
           }
          ],
          "parcoords": [
           {
            "line": {
             "colorbar": {
              "outlinewidth": 0,
              "ticks": ""
             }
            },
            "type": "parcoords"
           }
          ],
          "pie": [
           {
            "automargin": true,
            "type": "pie"
           }
          ],
          "scatter": [
           {
            "fillpattern": {
             "fillmode": "overlay",
             "size": 10,
             "solidity": 0.2
            },
            "type": "scatter"
           }
          ],
          "scatter3d": [
           {
            "line": {
             "colorbar": {
              "outlinewidth": 0,
              "ticks": ""
             }
            },
            "marker": {
             "colorbar": {
              "outlinewidth": 0,
              "ticks": ""
             }
            },
            "type": "scatter3d"
           }
          ],
          "scattercarpet": [
           {
            "marker": {
             "colorbar": {
              "outlinewidth": 0,
              "ticks": ""
             }
            },
            "type": "scattercarpet"
           }
          ],
          "scattergeo": [
           {
            "marker": {
             "colorbar": {
              "outlinewidth": 0,
              "ticks": ""
             }
            },
            "type": "scattergeo"
           }
          ],
          "scattergl": [
           {
            "marker": {
             "colorbar": {
              "outlinewidth": 0,
              "ticks": ""
             }
            },
            "type": "scattergl"
           }
          ],
          "scattermapbox": [
           {
            "marker": {
             "colorbar": {
              "outlinewidth": 0,
              "ticks": ""
             }
            },
            "type": "scattermapbox"
           }
          ],
          "scatterpolar": [
           {
            "marker": {
             "colorbar": {
              "outlinewidth": 0,
              "ticks": ""
             }
            },
            "type": "scatterpolar"
           }
          ],
          "scatterpolargl": [
           {
            "marker": {
             "colorbar": {
              "outlinewidth": 0,
              "ticks": ""
             }
            },
            "type": "scatterpolargl"
           }
          ],
          "scatterternary": [
           {
            "marker": {
             "colorbar": {
              "outlinewidth": 0,
              "ticks": ""
             }
            },
            "type": "scatterternary"
           }
          ],
          "surface": [
           {
            "colorbar": {
             "outlinewidth": 0,
             "ticks": ""
            },
            "colorscale": [
             [
              0,
              "#0d0887"
             ],
             [
              0.1111111111111111,
              "#46039f"
             ],
             [
              0.2222222222222222,
              "#7201a8"
             ],
             [
              0.3333333333333333,
              "#9c179e"
             ],
             [
              0.4444444444444444,
              "#bd3786"
             ],
             [
              0.5555555555555556,
              "#d8576b"
             ],
             [
              0.6666666666666666,
              "#ed7953"
             ],
             [
              0.7777777777777778,
              "#fb9f3a"
             ],
             [
              0.8888888888888888,
              "#fdca26"
             ],
             [
              1,
              "#f0f921"
             ]
            ],
            "type": "surface"
           }
          ],
          "table": [
           {
            "cells": {
             "fill": {
              "color": "#EBF0F8"
             },
             "line": {
              "color": "white"
             }
            },
            "header": {
             "fill": {
              "color": "#C8D4E3"
             },
             "line": {
              "color": "white"
             }
            },
            "type": "table"
           }
          ]
         },
         "layout": {
          "annotationdefaults": {
           "arrowcolor": "#2a3f5f",
           "arrowhead": 0,
           "arrowwidth": 1
          },
          "autotypenumbers": "strict",
          "coloraxis": {
           "colorbar": {
            "outlinewidth": 0,
            "ticks": ""
           }
          },
          "colorscale": {
           "diverging": [
            [
             0,
             "#8e0152"
            ],
            [
             0.1,
             "#c51b7d"
            ],
            [
             0.2,
             "#de77ae"
            ],
            [
             0.3,
             "#f1b6da"
            ],
            [
             0.4,
             "#fde0ef"
            ],
            [
             0.5,
             "#f7f7f7"
            ],
            [
             0.6,
             "#e6f5d0"
            ],
            [
             0.7,
             "#b8e186"
            ],
            [
             0.8,
             "#7fbc41"
            ],
            [
             0.9,
             "#4d9221"
            ],
            [
             1,
             "#276419"
            ]
           ],
           "sequential": [
            [
             0,
             "#0d0887"
            ],
            [
             0.1111111111111111,
             "#46039f"
            ],
            [
             0.2222222222222222,
             "#7201a8"
            ],
            [
             0.3333333333333333,
             "#9c179e"
            ],
            [
             0.4444444444444444,
             "#bd3786"
            ],
            [
             0.5555555555555556,
             "#d8576b"
            ],
            [
             0.6666666666666666,
             "#ed7953"
            ],
            [
             0.7777777777777778,
             "#fb9f3a"
            ],
            [
             0.8888888888888888,
             "#fdca26"
            ],
            [
             1,
             "#f0f921"
            ]
           ],
           "sequentialminus": [
            [
             0,
             "#0d0887"
            ],
            [
             0.1111111111111111,
             "#46039f"
            ],
            [
             0.2222222222222222,
             "#7201a8"
            ],
            [
             0.3333333333333333,
             "#9c179e"
            ],
            [
             0.4444444444444444,
             "#bd3786"
            ],
            [
             0.5555555555555556,
             "#d8576b"
            ],
            [
             0.6666666666666666,
             "#ed7953"
            ],
            [
             0.7777777777777778,
             "#fb9f3a"
            ],
            [
             0.8888888888888888,
             "#fdca26"
            ],
            [
             1,
             "#f0f921"
            ]
           ]
          },
          "colorway": [
           "#636efa",
           "#EF553B",
           "#00cc96",
           "#ab63fa",
           "#FFA15A",
           "#19d3f3",
           "#FF6692",
           "#B6E880",
           "#FF97FF",
           "#FECB52"
          ],
          "font": {
           "color": "#2a3f5f"
          },
          "geo": {
           "bgcolor": "white",
           "lakecolor": "white",
           "landcolor": "#E5ECF6",
           "showlakes": true,
           "showland": true,
           "subunitcolor": "white"
          },
          "hoverlabel": {
           "align": "left"
          },
          "hovermode": "closest",
          "mapbox": {
           "style": "light"
          },
          "paper_bgcolor": "white",
          "plot_bgcolor": "#E5ECF6",
          "polar": {
           "angularaxis": {
            "gridcolor": "white",
            "linecolor": "white",
            "ticks": ""
           },
           "bgcolor": "#E5ECF6",
           "radialaxis": {
            "gridcolor": "white",
            "linecolor": "white",
            "ticks": ""
           }
          },
          "scene": {
           "xaxis": {
            "backgroundcolor": "#E5ECF6",
            "gridcolor": "white",
            "gridwidth": 2,
            "linecolor": "white",
            "showbackground": true,
            "ticks": "",
            "zerolinecolor": "white"
           },
           "yaxis": {
            "backgroundcolor": "#E5ECF6",
            "gridcolor": "white",
            "gridwidth": 2,
            "linecolor": "white",
            "showbackground": true,
            "ticks": "",
            "zerolinecolor": "white"
           },
           "zaxis": {
            "backgroundcolor": "#E5ECF6",
            "gridcolor": "white",
            "gridwidth": 2,
            "linecolor": "white",
            "showbackground": true,
            "ticks": "",
            "zerolinecolor": "white"
           }
          },
          "shapedefaults": {
           "line": {
            "color": "#2a3f5f"
           }
          },
          "ternary": {
           "aaxis": {
            "gridcolor": "white",
            "linecolor": "white",
            "ticks": ""
           },
           "baxis": {
            "gridcolor": "white",
            "linecolor": "white",
            "ticks": ""
           },
           "bgcolor": "#E5ECF6",
           "caxis": {
            "gridcolor": "white",
            "linecolor": "white",
            "ticks": ""
           }
          },
          "title": {
           "x": 0.05
          },
          "xaxis": {
           "automargin": true,
           "gridcolor": "white",
           "linecolor": "white",
           "ticks": "",
           "title": {
            "standoff": 15
           },
           "zerolinecolor": "white",
           "zerolinewidth": 2
          },
          "yaxis": {
           "automargin": true,
           "gridcolor": "white",
           "linecolor": "white",
           "ticks": "",
           "title": {
            "standoff": 15
           },
           "zerolinecolor": "white",
           "zerolinewidth": 2
          }
         }
        },
        "xaxis": {
         "anchor": "y",
         "domain": [
          0,
          1
         ],
         "title": {
          "text": "rho"
         }
        },
        "yaxis": {
         "anchor": "x",
         "domain": [
          0,
          1
         ],
         "title": {
          "text": "test_loss"
         }
        }
       }
      },
      "text/html": [
       "<div>                            <div id=\"3ef54717-ccd2-4ed9-b995-cb506490a452\" class=\"plotly-graph-div\" style=\"height:525px; width:100%;\"></div>            <script type=\"text/javascript\">                require([\"plotly\"], function(Plotly) {                    window.PLOTLYENV=window.PLOTLYENV || {};                                    if (document.getElementById(\"3ef54717-ccd2-4ed9-b995-cb506490a452\")) {                    Plotly.newPlot(                        \"3ef54717-ccd2-4ed9-b995-cb506490a452\",                        [{\"alignmentgroup\":\"True\",\"boxpoints\":\"all\",\"hovertemplate\":\"data_size=10000<br>rho=%{x}<br>test_loss=%{y}<extra></extra>\",\"legendgroup\":\"\",\"marker\":{\"color\":\"#636efa\"},\"name\":\"\",\"notched\":false,\"offsetgroup\":\"\",\"orientation\":\"v\",\"showlegend\":false,\"x\":[0.1,0.1,0.1,0.1,0.1,0.1,0.1,0.1,0.1,0.1,0.1,0.1,0.1,0.1,0.1,0.1,0.1,0.1,0.1,0.1,0.1,0.1,0.1,0.1,0.1,0.1,0.1,0.1,0.1,0.1,0.1,0.1,0.1,0.1,0.1,0.1,0.1,0.1,0.1,0.1,0.1,0.1,0.1,0.1,0.1,0.1,0.1,0.1,0.1,0.1,0.1,0.1,0.1,0.1,0.1,0.1,0.1,0.1,0.1,0.1,0.3,0.3,0.3,0.3,0.3,0.3,0.3,0.3,0.3,0.3,0.3,0.3,0.3,0.3,0.3,0.3,0.3,0.3,0.3,0.3,0.3,0.3,0.3,0.3,0.3,0.3,0.3,0.3,0.3,0.3,0.3,0.3,0.3,0.3,0.3,0.3,0.3,0.3,0.3,0.3,0.3,0.3,0.3,0.3,0.3,0.3,0.3,0.3,0.3,0.3,0.3,0.3,0.3,0.3,0.3,0.3,0.3,0.3,0.3,0.3,0.5,0.5,0.5,0.5,0.5,0.5,0.5,0.5,0.5,0.5,0.5,0.5,0.5,0.5,0.5,0.5,0.5,0.5,0.5,0.5,0.5,0.5,0.5,0.5,0.5,0.5,0.5,0.5,0.5,0.5,0.5,0.5,0.5,0.5,0.5,0.5,0.5,0.5,0.5,0.5,0.5,0.5,0.5,0.5,0.5,0.5,0.5,0.5,0.5,0.5,0.5,0.5,0.5,0.5,0.5,0.5,0.5,0.5,0.5,0.5,0.7,0.7,0.7,0.7,0.7,0.7,0.7,0.7,0.7,0.7,0.7,0.7,0.7,0.7,0.7,0.7,0.7,0.7,0.7,0.7,0.7,0.7,0.7,0.7,0.7,0.7,0.7,0.7,0.7,0.7,0.7,0.7,0.7,0.7,0.7,0.7,0.7,0.7,0.7,0.7,0.7,0.7,0.7,0.7,0.7,0.7,0.7,0.7,0.7,0.7,0.7,0.7,0.7,0.7,0.7,0.7,0.7,0.7,0.7,0.7,0.9,0.9,0.9,0.9,0.9,0.9,0.9,0.9,0.9,0.9,0.9,0.9,0.9,0.9,0.9,0.9,0.9,0.9,0.9,0.9,0.9,0.9,0.9,0.9,0.9,0.9,0.9,0.9,0.9,0.9,0.9,0.9,0.9,0.9,0.9,0.9,0.9,0.9,0.9,0.9,0.9,0.9,0.9,0.9,0.9,0.9,0.9,0.9,0.9,0.9,0.9,0.9,0.9,0.9,0.9,0.9,0.9,0.9,0.9,0.9],\"x0\":\" \",\"xaxis\":\"x\",\"y\":[69.77081298828125,81.22257995605469,85.4714584350586,100.17755126953124,74.43675994873047,70.92235565185547,64.57231140136719,64.96040344238281,73.32029724121094,82.1147689819336,86.48573303222656,75.96482849121094,72.49055480957031,78.76648712158203,71.12602233886719,67.8090591430664,119.72024536132812,80.4633560180664,75.83419036865234,108.55043029785156,78.17481231689453,73.43421936035156,80.23028564453125,72.18623352050781,63.94411087036133,61.13252639770508,76.76251220703125,66.88720703125,52.91168975830078,89.97058868408203,59.90086364746094,80.19459533691406,64.00597381591797,73.81302642822266,64.06448364257812,71.90485382080078,90.08082580566406,90.3109359741211,55.29334259033203,67.58438873291016,78.54984283447266,79.2437973022461,71.7950439453125,68.34969329833984,72.61027526855469,63.90916061401367,93.52166748046876,74.4900131225586,76.2527847290039,77.28524780273438,68.57186126708984,74.6776351928711,88.7568130493164,53.04966354370117,66.36683654785156,71.80165100097656,77.86962127685547,64.53948211669922,74.39871215820312,84.93313598632812,67.50736236572266,77.8493881225586,82.574951171875,65.69168090820312,73.7768783569336,83.79740142822266,50.84351348876953,62.28261184692383,78.12826538085938,54.83333587646485,75.88414764404297,68.49913024902344,69.38365936279297,64.13636779785156,85.94109344482422,65.02980041503906,70.06707763671875,61.8026237487793,100.1448745727539,55.25939178466797,76.82557678222656,90.5602798461914,57.08684158325195,51.6953125,78.88264465332031,69.46028900146484,91.69723510742188,101.63491821289062,77.81571960449219,66.31568908691406,86.66815948486328,66.32246398925781,89.57752990722656,62.812347412109375,70.62822723388672,93.7926025390625,81.65548706054688,65.54386901855469,61.87040710449219,70.12395477294922,59.10328674316406,60.6547966003418,59.85022735595703,53.56440734863281,71.16604614257812,68.31842803955078,65.29280853271484,110.70018005371094,85.31128692626953,54.588287353515625,77.12297058105469,83.33953857421875,69.37152862548828,98.7010498046875,61.22868728637695,75.0692138671875,81.38066101074219,73.53305053710938,48.66018295288086,79.90962219238281,70.75965118408203,46.693233489990234,91.29428100585938,56.873661041259766,63.36003112792969,67.6717758178711,69.77752685546875,59.1453742980957,90.9057159423828,79.43196105957031,68.01610565185547,66.02812957763672,62.127193450927734,80.74388885498047,71.760009765625,87.91473388671875,73.6319808959961,63.792476654052734,76.2480697631836,65.7675552368164,76.23918151855469,54.08726501464844,67.27825927734375,71.04876708984375,56.494163513183594,64.67622375488281,74.44154357910156,64.29934692382812,73.37139129638672,57.22247314453125,74.67855834960938,83.59286499023438,64.67950439453125,81.39993286132812,49.0290412902832,64.08500671386719,78.16436004638672,67.51178741455078,77.3445053100586,54.6170539855957,79.58739471435547,87.18415832519531,57.35164642333984,70.17984008789062,59.30335235595703,69.7110824584961,75.0605239868164,65.89358520507812,61.08430862426758,63.19574737548828,72.59544372558594,50.993873596191406,77.0095443725586,91.83956146240234,76.3794937133789,69.34766387939453,47.00160598754883,66.0355453491211,84.65154266357422,73.20679473876953,69.20549011230469,73.9789810180664,66.23438262939453,75.81555938720703,62.48853302001953,69.78504180908203,76.67732238769531,89.14848327636719,89.8239517211914,66.53203582763672,68.5756607055664,90.86270141601562,66.24546813964844,72.38571166992188,71.59841918945312,86.43179321289062,66.13687896728516,70.28657531738281,71.17311096191406,78.13208770751953,60.26473617553711,57.58419418334961,64.8088150024414,83.82340240478516,78.91190338134766,64.45377349853516,52.35491180419922,65.81866455078125,65.55265045166016,87.33124542236328,53.310523986816406,71.90840148925781,70.06697082519531,84.52605438232422,59.56216049194336,74.14899444580078,80.23780059814453,86.93820190429688,73.7722396850586,73.52092742919922,72.24675750732422,96.130615234375,76.40074920654297,89.75054931640625,73.3362808227539,84.81986236572266,73.39925384521484,84.6333236694336,68.82974243164062,76.55006408691406,57.82918930053711,43.03330993652344,88.08578491210938,63.53919982910156,62.76963806152344,58.99710464477539,99.45500183105467,69.85957336425781,70.72059631347656,77.1043930053711,87.59063720703125,88.19679260253906,66.0451431274414,82.9390640258789,60.63544464111328,80.80436706542969,78.80012512207031,63.98541259765625,74.28578186035156,76.67886352539062,82.345947265625,69.30570983886719,63.96623229980469,92.36808776855467,75.18794250488281,83.415771484375,57.97929763793945,74.94551849365234,83.7306137084961,51.51054000854492,76.30714416503906,69.05754089355469,88.371826171875,56.32246780395508,84.59712982177734,76.70344543457031,46.79248046875,81.77381896972656,80.29264068603516,75.10514831542969,86.67205047607422,69.23318481445312,82.21183776855469,54.89274978637695,96.80915832519533,70.1944580078125,74.60224914550781,103.60025787353516,84.2536849975586,85.38453674316406,67.86557006835938,59.75031280517578,89.97632598876953,59.61310577392578,89.9162368774414,81.36750793457031,97.05712890625,48.0145378112793,57.302978515625,67.29798126220703,56.080360412597656,62.85820770263672,82.1073226928711,76.60501098632812,86.63504791259766,96.2853775024414,71.90138244628906,73.57295227050781,74.18328094482422,73.84517669677734],\"y0\":\" \",\"yaxis\":\"y\",\"type\":\"box\"}],                        {\"template\":{\"data\":{\"histogram2dcontour\":[{\"type\":\"histogram2dcontour\",\"colorbar\":{\"outlinewidth\":0,\"ticks\":\"\"},\"colorscale\":[[0.0,\"#0d0887\"],[0.1111111111111111,\"#46039f\"],[0.2222222222222222,\"#7201a8\"],[0.3333333333333333,\"#9c179e\"],[0.4444444444444444,\"#bd3786\"],[0.5555555555555556,\"#d8576b\"],[0.6666666666666666,\"#ed7953\"],[0.7777777777777778,\"#fb9f3a\"],[0.8888888888888888,\"#fdca26\"],[1.0,\"#f0f921\"]]}],\"choropleth\":[{\"type\":\"choropleth\",\"colorbar\":{\"outlinewidth\":0,\"ticks\":\"\"}}],\"histogram2d\":[{\"type\":\"histogram2d\",\"colorbar\":{\"outlinewidth\":0,\"ticks\":\"\"},\"colorscale\":[[0.0,\"#0d0887\"],[0.1111111111111111,\"#46039f\"],[0.2222222222222222,\"#7201a8\"],[0.3333333333333333,\"#9c179e\"],[0.4444444444444444,\"#bd3786\"],[0.5555555555555556,\"#d8576b\"],[0.6666666666666666,\"#ed7953\"],[0.7777777777777778,\"#fb9f3a\"],[0.8888888888888888,\"#fdca26\"],[1.0,\"#f0f921\"]]}],\"heatmap\":[{\"type\":\"heatmap\",\"colorbar\":{\"outlinewidth\":0,\"ticks\":\"\"},\"colorscale\":[[0.0,\"#0d0887\"],[0.1111111111111111,\"#46039f\"],[0.2222222222222222,\"#7201a8\"],[0.3333333333333333,\"#9c179e\"],[0.4444444444444444,\"#bd3786\"],[0.5555555555555556,\"#d8576b\"],[0.6666666666666666,\"#ed7953\"],[0.7777777777777778,\"#fb9f3a\"],[0.8888888888888888,\"#fdca26\"],[1.0,\"#f0f921\"]]}],\"heatmapgl\":[{\"type\":\"heatmapgl\",\"colorbar\":{\"outlinewidth\":0,\"ticks\":\"\"},\"colorscale\":[[0.0,\"#0d0887\"],[0.1111111111111111,\"#46039f\"],[0.2222222222222222,\"#7201a8\"],[0.3333333333333333,\"#9c179e\"],[0.4444444444444444,\"#bd3786\"],[0.5555555555555556,\"#d8576b\"],[0.6666666666666666,\"#ed7953\"],[0.7777777777777778,\"#fb9f3a\"],[0.8888888888888888,\"#fdca26\"],[1.0,\"#f0f921\"]]}],\"contourcarpet\":[{\"type\":\"contourcarpet\",\"colorbar\":{\"outlinewidth\":0,\"ticks\":\"\"}}],\"contour\":[{\"type\":\"contour\",\"colorbar\":{\"outlinewidth\":0,\"ticks\":\"\"},\"colorscale\":[[0.0,\"#0d0887\"],[0.1111111111111111,\"#46039f\"],[0.2222222222222222,\"#7201a8\"],[0.3333333333333333,\"#9c179e\"],[0.4444444444444444,\"#bd3786\"],[0.5555555555555556,\"#d8576b\"],[0.6666666666666666,\"#ed7953\"],[0.7777777777777778,\"#fb9f3a\"],[0.8888888888888888,\"#fdca26\"],[1.0,\"#f0f921\"]]}],\"surface\":[{\"type\":\"surface\",\"colorbar\":{\"outlinewidth\":0,\"ticks\":\"\"},\"colorscale\":[[0.0,\"#0d0887\"],[0.1111111111111111,\"#46039f\"],[0.2222222222222222,\"#7201a8\"],[0.3333333333333333,\"#9c179e\"],[0.4444444444444444,\"#bd3786\"],[0.5555555555555556,\"#d8576b\"],[0.6666666666666666,\"#ed7953\"],[0.7777777777777778,\"#fb9f3a\"],[0.8888888888888888,\"#fdca26\"],[1.0,\"#f0f921\"]]}],\"mesh3d\":[{\"type\":\"mesh3d\",\"colorbar\":{\"outlinewidth\":0,\"ticks\":\"\"}}],\"scatter\":[{\"fillpattern\":{\"fillmode\":\"overlay\",\"size\":10,\"solidity\":0.2},\"type\":\"scatter\"}],\"parcoords\":[{\"type\":\"parcoords\",\"line\":{\"colorbar\":{\"outlinewidth\":0,\"ticks\":\"\"}}}],\"scatterpolargl\":[{\"type\":\"scatterpolargl\",\"marker\":{\"colorbar\":{\"outlinewidth\":0,\"ticks\":\"\"}}}],\"bar\":[{\"error_x\":{\"color\":\"#2a3f5f\"},\"error_y\":{\"color\":\"#2a3f5f\"},\"marker\":{\"line\":{\"color\":\"#E5ECF6\",\"width\":0.5},\"pattern\":{\"fillmode\":\"overlay\",\"size\":10,\"solidity\":0.2}},\"type\":\"bar\"}],\"scattergeo\":[{\"type\":\"scattergeo\",\"marker\":{\"colorbar\":{\"outlinewidth\":0,\"ticks\":\"\"}}}],\"scatterpolar\":[{\"type\":\"scatterpolar\",\"marker\":{\"colorbar\":{\"outlinewidth\":0,\"ticks\":\"\"}}}],\"histogram\":[{\"marker\":{\"pattern\":{\"fillmode\":\"overlay\",\"size\":10,\"solidity\":0.2}},\"type\":\"histogram\"}],\"scattergl\":[{\"type\":\"scattergl\",\"marker\":{\"colorbar\":{\"outlinewidth\":0,\"ticks\":\"\"}}}],\"scatter3d\":[{\"type\":\"scatter3d\",\"line\":{\"colorbar\":{\"outlinewidth\":0,\"ticks\":\"\"}},\"marker\":{\"colorbar\":{\"outlinewidth\":0,\"ticks\":\"\"}}}],\"scattermapbox\":[{\"type\":\"scattermapbox\",\"marker\":{\"colorbar\":{\"outlinewidth\":0,\"ticks\":\"\"}}}],\"scatterternary\":[{\"type\":\"scatterternary\",\"marker\":{\"colorbar\":{\"outlinewidth\":0,\"ticks\":\"\"}}}],\"scattercarpet\":[{\"type\":\"scattercarpet\",\"marker\":{\"colorbar\":{\"outlinewidth\":0,\"ticks\":\"\"}}}],\"carpet\":[{\"aaxis\":{\"endlinecolor\":\"#2a3f5f\",\"gridcolor\":\"white\",\"linecolor\":\"white\",\"minorgridcolor\":\"white\",\"startlinecolor\":\"#2a3f5f\"},\"baxis\":{\"endlinecolor\":\"#2a3f5f\",\"gridcolor\":\"white\",\"linecolor\":\"white\",\"minorgridcolor\":\"white\",\"startlinecolor\":\"#2a3f5f\"},\"type\":\"carpet\"}],\"table\":[{\"cells\":{\"fill\":{\"color\":\"#EBF0F8\"},\"line\":{\"color\":\"white\"}},\"header\":{\"fill\":{\"color\":\"#C8D4E3\"},\"line\":{\"color\":\"white\"}},\"type\":\"table\"}],\"barpolar\":[{\"marker\":{\"line\":{\"color\":\"#E5ECF6\",\"width\":0.5},\"pattern\":{\"fillmode\":\"overlay\",\"size\":10,\"solidity\":0.2}},\"type\":\"barpolar\"}],\"pie\":[{\"automargin\":true,\"type\":\"pie\"}]},\"layout\":{\"autotypenumbers\":\"strict\",\"colorway\":[\"#636efa\",\"#EF553B\",\"#00cc96\",\"#ab63fa\",\"#FFA15A\",\"#19d3f3\",\"#FF6692\",\"#B6E880\",\"#FF97FF\",\"#FECB52\"],\"font\":{\"color\":\"#2a3f5f\"},\"hovermode\":\"closest\",\"hoverlabel\":{\"align\":\"left\"},\"paper_bgcolor\":\"white\",\"plot_bgcolor\":\"#E5ECF6\",\"polar\":{\"bgcolor\":\"#E5ECF6\",\"angularaxis\":{\"gridcolor\":\"white\",\"linecolor\":\"white\",\"ticks\":\"\"},\"radialaxis\":{\"gridcolor\":\"white\",\"linecolor\":\"white\",\"ticks\":\"\"}},\"ternary\":{\"bgcolor\":\"#E5ECF6\",\"aaxis\":{\"gridcolor\":\"white\",\"linecolor\":\"white\",\"ticks\":\"\"},\"baxis\":{\"gridcolor\":\"white\",\"linecolor\":\"white\",\"ticks\":\"\"},\"caxis\":{\"gridcolor\":\"white\",\"linecolor\":\"white\",\"ticks\":\"\"}},\"coloraxis\":{\"colorbar\":{\"outlinewidth\":0,\"ticks\":\"\"}},\"colorscale\":{\"sequential\":[[0.0,\"#0d0887\"],[0.1111111111111111,\"#46039f\"],[0.2222222222222222,\"#7201a8\"],[0.3333333333333333,\"#9c179e\"],[0.4444444444444444,\"#bd3786\"],[0.5555555555555556,\"#d8576b\"],[0.6666666666666666,\"#ed7953\"],[0.7777777777777778,\"#fb9f3a\"],[0.8888888888888888,\"#fdca26\"],[1.0,\"#f0f921\"]],\"sequentialminus\":[[0.0,\"#0d0887\"],[0.1111111111111111,\"#46039f\"],[0.2222222222222222,\"#7201a8\"],[0.3333333333333333,\"#9c179e\"],[0.4444444444444444,\"#bd3786\"],[0.5555555555555556,\"#d8576b\"],[0.6666666666666666,\"#ed7953\"],[0.7777777777777778,\"#fb9f3a\"],[0.8888888888888888,\"#fdca26\"],[1.0,\"#f0f921\"]],\"diverging\":[[0,\"#8e0152\"],[0.1,\"#c51b7d\"],[0.2,\"#de77ae\"],[0.3,\"#f1b6da\"],[0.4,\"#fde0ef\"],[0.5,\"#f7f7f7\"],[0.6,\"#e6f5d0\"],[0.7,\"#b8e186\"],[0.8,\"#7fbc41\"],[0.9,\"#4d9221\"],[1,\"#276419\"]]},\"xaxis\":{\"gridcolor\":\"white\",\"linecolor\":\"white\",\"ticks\":\"\",\"title\":{\"standoff\":15},\"zerolinecolor\":\"white\",\"automargin\":true,\"zerolinewidth\":2},\"yaxis\":{\"gridcolor\":\"white\",\"linecolor\":\"white\",\"ticks\":\"\",\"title\":{\"standoff\":15},\"zerolinecolor\":\"white\",\"automargin\":true,\"zerolinewidth\":2},\"scene\":{\"xaxis\":{\"backgroundcolor\":\"#E5ECF6\",\"gridcolor\":\"white\",\"linecolor\":\"white\",\"showbackground\":true,\"ticks\":\"\",\"zerolinecolor\":\"white\",\"gridwidth\":2},\"yaxis\":{\"backgroundcolor\":\"#E5ECF6\",\"gridcolor\":\"white\",\"linecolor\":\"white\",\"showbackground\":true,\"ticks\":\"\",\"zerolinecolor\":\"white\",\"gridwidth\":2},\"zaxis\":{\"backgroundcolor\":\"#E5ECF6\",\"gridcolor\":\"white\",\"linecolor\":\"white\",\"showbackground\":true,\"ticks\":\"\",\"zerolinecolor\":\"white\",\"gridwidth\":2}},\"shapedefaults\":{\"line\":{\"color\":\"#2a3f5f\"}},\"annotationdefaults\":{\"arrowcolor\":\"#2a3f5f\",\"arrowhead\":0,\"arrowwidth\":1},\"geo\":{\"bgcolor\":\"white\",\"landcolor\":\"#E5ECF6\",\"subunitcolor\":\"white\",\"showland\":true,\"showlakes\":true,\"lakecolor\":\"white\"},\"title\":{\"x\":0.05},\"mapbox\":{\"style\":\"light\"}}},\"xaxis\":{\"anchor\":\"y\",\"domain\":[0.0,1.0],\"title\":{\"text\":\"rho\"}},\"yaxis\":{\"anchor\":\"x\",\"domain\":[0.0,1.0],\"title\":{\"text\":\"test_loss\"}},\"annotations\":[{\"font\":{},\"showarrow\":false,\"text\":\"data_size=10000\",\"x\":0.5,\"xanchor\":\"center\",\"xref\":\"paper\",\"y\":1.0,\"yanchor\":\"bottom\",\"yref\":\"paper\"}],\"legend\":{\"tracegroupgap\":0},\"margin\":{\"t\":60},\"boxmode\":\"group\"},                        {\"responsive\": true}                    ).then(function(){\n",
       "                            \n",
       "var gd = document.getElementById('3ef54717-ccd2-4ed9-b995-cb506490a452');\n",
       "var x = new MutationObserver(function (mutations, observer) {{\n",
       "        var display = window.getComputedStyle(gd).display;\n",
       "        if (!display || display === 'none') {{\n",
       "            console.log([gd, 'removed!']);\n",
       "            Plotly.purge(gd);\n",
       "            observer.disconnect();\n",
       "        }}\n",
       "}});\n",
       "\n",
       "// Listen for the removal of the full notebook cells\n",
       "var notebookContainer = gd.closest('#notebook-container');\n",
       "if (notebookContainer) {{\n",
       "    x.observe(notebookContainer, {childList: true});\n",
       "}}\n",
       "\n",
       "// Listen for the clearing of the current output cell\n",
       "var outputEl = gd.closest('.output');\n",
       "if (outputEl) {{\n",
       "    x.observe(outputEl, {childList: true});\n",
       "}}\n",
       "\n",
       "                        })                };                });            </script>        </div>"
      ]
     },
     "metadata": {},
     "output_type": "display_data"
    }
   ],
   "source": [
    "fig = px.box(viz_df, x=\"rho\", y=\"test_loss\", facet_col='data_size', points=\"all\")\n",
    "fig.show()"
   ]
  },
  {
   "attachments": {},
   "cell_type": "markdown",
   "metadata": {},
   "source": [
    "# Demand Original"
   ]
  },
  {
   "cell_type": "code",
   "execution_count": 7,
   "metadata": {},
   "outputs": [
    {
     "data": {
      "text/html": [
       "<div>\n",
       "<style scoped>\n",
       "    .dataframe tbody tr th:only-of-type {\n",
       "        vertical-align: middle;\n",
       "    }\n",
       "\n",
       "    .dataframe tbody tr th {\n",
       "        vertical-align: top;\n",
       "    }\n",
       "\n",
       "    .dataframe thead th {\n",
       "        text-align: right;\n",
       "    }\n",
       "</style>\n",
       "<table border=\"1\" class=\"dataframe\">\n",
       "  <thead>\n",
       "    <tr style=\"text-align: right;\">\n",
       "      <th></th>\n",
       "      <th>summary</th>\n",
       "      <th>config</th>\n",
       "      <th>name</th>\n",
       "      <th>id</th>\n",
       "      <th>state</th>\n",
       "      <th>history</th>\n",
       "    </tr>\n",
       "  </thead>\n",
       "  <tbody>\n",
       "    <tr>\n",
       "      <th>210</th>\n",
       "      <td>{'stage 1 val loss': 0.2068190574645996, 'stag...</td>\n",
       "      <td>{'data_configs': {'rho': 0.5, 'sigma': None, '...</td>\n",
       "      <td>leafy-dream-630</td>\n",
       "      <td>9ocioe8y</td>\n",
       "      <td>finished</td>\n",
       "      <td>_step  epoch   test loss  stage 2 val los...</td>\n",
       "    </tr>\n",
       "    <tr>\n",
       "      <th>211</th>\n",
       "      <td>{'_step': 3749, '_wandb': {'runtime': 69}, '_r...</td>\n",
       "      <td>{'data_configs': {'rho': 0.5, 'sigma': None, '...</td>\n",
       "      <td>pretty-paper-629</td>\n",
       "      <td>thm0wwry</td>\n",
       "      <td>finished</td>\n",
       "      <td>_step   _runtime  test loss  stage 1 trai...</td>\n",
       "    </tr>\n",
       "    <tr>\n",
       "      <th>212</th>\n",
       "      <td>{'min_test_loss_epoch': 136, 'stage 2 train co...</td>\n",
       "      <td>{'data_configs': {'rho': 0.5, 'sigma': None, '...</td>\n",
       "      <td>denim-puddle-628</td>\n",
       "      <td>y27qclu2</td>\n",
       "      <td>finished</td>\n",
       "      <td>stage 2 train loss  _step   _runtime  sta...</td>\n",
       "    </tr>\n",
       "    <tr>\n",
       "      <th>213</th>\n",
       "      <td>{'_runtime': 70.645094871521, '_timestamp': 16...</td>\n",
       "      <td>{'data_configs': {'rho': 0.5, 'sigma': None, '...</td>\n",
       "      <td>revived-field-627</td>\n",
       "      <td>9x36y2vu</td>\n",
       "      <td>finished</td>\n",
       "      <td>_runtime  test loss    _timestamp  stage...</td>\n",
       "    </tr>\n",
       "    <tr>\n",
       "      <th>214</th>\n",
       "      <td>{'stage 2 train loss': 219.42498779296875, 'ep...</td>\n",
       "      <td>{'data_configs': {'rho': 0.5, 'sigma': None, '...</td>\n",
       "      <td>divine-dew-626</td>\n",
       "      <td>crhmbywz</td>\n",
       "      <td>finished</td>\n",
       "      <td>stage 1 val loss  stage 2 val loss  stage...</td>\n",
       "    </tr>\n",
       "    <tr>\n",
       "      <th>215</th>\n",
       "      <td>{'stage 2 train covariate loss': 1062377, '_st...</td>\n",
       "      <td>{'data_configs': {'rho': 0.5, 'sigma': None, '...</td>\n",
       "      <td>warm-microwave-625</td>\n",
       "      <td>qypn6smb</td>\n",
       "      <td>finished</td>\n",
       "      <td>_step  test loss    _timestamp  stage 1 v...</td>\n",
       "    </tr>\n",
       "    <tr>\n",
       "      <th>216</th>\n",
       "      <td>{'_wandb': {'runtime': 69}, 'min_test_loss': 6...</td>\n",
       "      <td>{'data_configs': {'rho': 0.5, 'sigma': None, '...</td>\n",
       "      <td>faithful-water-624</td>\n",
       "      <td>ubo3v8jm</td>\n",
       "      <td>finished</td>\n",
       "      <td>_timestamp  stage 1 train loss  stage 2...</td>\n",
       "    </tr>\n",
       "    <tr>\n",
       "      <th>217</th>\n",
       "      <td>{'epoch': 149, '_wandb': {'runtime': 68}, '_ru...</td>\n",
       "      <td>{'data_configs': {'rho': 0.5, 'sigma': None, '...</td>\n",
       "      <td>balmy-frost-623</td>\n",
       "      <td>yactuueh</td>\n",
       "      <td>finished</td>\n",
       "      <td>epoch   _runtime  test loss    _timestamp...</td>\n",
       "    </tr>\n",
       "    <tr>\n",
       "      <th>218</th>\n",
       "      <td>{'stage 2 train covariate loss': 1053721.75, '...</td>\n",
       "      <td>{'data_configs': {'rho': 0.5, 'sigma': None, '...</td>\n",
       "      <td>dulcet-mountain-622</td>\n",
       "      <td>5ud58qaa</td>\n",
       "      <td>finished</td>\n",
       "      <td>_step  epoch    _timestamp  stage 2 val l...</td>\n",
       "    </tr>\n",
       "    <tr>\n",
       "      <th>219</th>\n",
       "      <td>{'epoch': 149, '_wandb': {'runtime': 71}, '_ru...</td>\n",
       "      <td>{'data_configs': {'rho': 0.5, 'sigma': None, '...</td>\n",
       "      <td>sage-mountain-621</td>\n",
       "      <td>q9hf2m61</td>\n",
       "      <td>finished</td>\n",
       "      <td>_step  stage 2 val loss  test loss    _ti...</td>\n",
       "    </tr>\n",
       "    <tr>\n",
       "      <th>220</th>\n",
       "      <td>{'_wandb': {'runtime': 69}, '_runtime': 71.208...</td>\n",
       "      <td>{'data_configs': {'rho': 0.5, 'sigma': None, '...</td>\n",
       "      <td>efficient-plant-620</td>\n",
       "      <td>819mh9ll</td>\n",
       "      <td>finished</td>\n",
       "      <td>_step  epoch    _timestamp  stage 2 train...</td>\n",
       "    </tr>\n",
       "    <tr>\n",
       "      <th>221</th>\n",
       "      <td>{'stage 1 train loss': 0.0237326230853796, '_s...</td>\n",
       "      <td>{'data_configs': {'rho': 0.5, 'sigma': None, '...</td>\n",
       "      <td>frosty-pine-619</td>\n",
       "      <td>ao4xtyxy</td>\n",
       "      <td>finished</td>\n",
       "      <td>stage 1 train loss  stage 2 train covaria...</td>\n",
       "    </tr>\n",
       "    <tr>\n",
       "      <th>222</th>\n",
       "      <td>{'test loss': 105.74713897705078, 'stage 2 val...</td>\n",
       "      <td>{'data_configs': {'rho': 0.5, 'sigma': None, '...</td>\n",
       "      <td>lilac-monkey-618</td>\n",
       "      <td>zvhuvfiu</td>\n",
       "      <td>finished</td>\n",
       "      <td>_timestamp  stage 1 val loss  stage 2 v...</td>\n",
       "    </tr>\n",
       "    <tr>\n",
       "      <th>223</th>\n",
       "      <td>{'min_test_loss_epoch': 122, 'stage 2 train co...</td>\n",
       "      <td>{'data_configs': {'rho': 0.5, 'sigma': None, '...</td>\n",
       "      <td>crimson-universe-617</td>\n",
       "      <td>3r31z7x5</td>\n",
       "      <td>finished</td>\n",
       "      <td>stage 2 train loss   _runtime  stage 1 va...</td>\n",
       "    </tr>\n",
       "    <tr>\n",
       "      <th>224</th>\n",
       "      <td>{'stage 2 train covariate loss': 1011501.125, ...</td>\n",
       "      <td>{'data_configs': {'rho': 0.5, 'sigma': None, '...</td>\n",
       "      <td>floral-spaceship-616</td>\n",
       "      <td>o6lopsua</td>\n",
       "      <td>finished</td>\n",
       "      <td>stage 1 train loss  stage 2 train covaria...</td>\n",
       "    </tr>\n",
       "    <tr>\n",
       "      <th>225</th>\n",
       "      <td>{'_wandb': {'runtime': 68}, '_runtime': 70.201...</td>\n",
       "      <td>{'data_configs': {'rho': 0.5, 'sigma': None, '...</td>\n",
       "      <td>dandy-brook-615</td>\n",
       "      <td>d89st9np</td>\n",
       "      <td>finished</td>\n",
       "      <td>test loss  stage 1 val loss  stage 2 tra...</td>\n",
       "    </tr>\n",
       "    <tr>\n",
       "      <th>226</th>\n",
       "      <td>{'stage 1 train loss': 0.013559399172663689, '...</td>\n",
       "      <td>{'data_configs': {'rho': 0.5, 'sigma': None, '...</td>\n",
       "      <td>avid-sponge-614</td>\n",
       "      <td>irtreudv</td>\n",
       "      <td>finished</td>\n",
       "      <td>_runtime  test loss  stage 1 val loss  s...</td>\n",
       "    </tr>\n",
       "    <tr>\n",
       "      <th>227</th>\n",
       "      <td>{'_runtime': 70.7608630657196, 'test loss': 86...</td>\n",
       "      <td>{'data_configs': {'rho': 0.5, 'sigma': None, '...</td>\n",
       "      <td>smart-wildflower-613</td>\n",
       "      <td>0kll8xlu</td>\n",
       "      <td>finished</td>\n",
       "      <td>epoch   _runtime  test loss    _timestamp...</td>\n",
       "    </tr>\n",
       "    <tr>\n",
       "      <th>228</th>\n",
       "      <td>{'_step': 3749, 'epoch': 149, 'test loss': 129...</td>\n",
       "      <td>{'data_configs': {'rho': 0.5, 'sigma': None, '...</td>\n",
       "      <td>volcanic-snow-612</td>\n",
       "      <td>myk3ukay</td>\n",
       "      <td>finished</td>\n",
       "      <td>stage 1 train loss  stage 2 train loss  _...</td>\n",
       "    </tr>\n",
       "    <tr>\n",
       "      <th>229</th>\n",
       "      <td>{'_step': 3749, '_runtime': 73.9241669178009, ...</td>\n",
       "      <td>{'data_configs': {'rho': 0.5, 'sigma': None, '...</td>\n",
       "      <td>wobbly-blaze-611</td>\n",
       "      <td>mpq2mv5e</td>\n",
       "      <td>finished</td>\n",
       "      <td>_step  stage 2 val loss  stage 2 train co...</td>\n",
       "    </tr>\n",
       "    <tr>\n",
       "      <th>230</th>\n",
       "      <td>{'epoch': 149, '_runtime': 69.0767228603363, '...</td>\n",
       "      <td>{'data_configs': {'rho': 0.5, 'sigma': None, '...</td>\n",
       "      <td>rich-galaxy-610</td>\n",
       "      <td>peo8d1wz</td>\n",
       "      <td>finished</td>\n",
       "      <td>stage 2 val loss  stage 1 train loss  tes...</td>\n",
       "    </tr>\n",
       "    <tr>\n",
       "      <th>231</th>\n",
       "      <td>{'test loss': 58.03612518310547, 'stage 1 val ...</td>\n",
       "      <td>{'data_configs': {'rho': 0.5, 'sigma': None, '...</td>\n",
       "      <td>unique-galaxy-609</td>\n",
       "      <td>mqz9henc</td>\n",
       "      <td>finished</td>\n",
       "      <td>test loss    _timestamp  stage 2 val loss...</td>\n",
       "    </tr>\n",
       "    <tr>\n",
       "      <th>232</th>\n",
       "      <td>{'stage 1 train loss': 0.119526244699955, 'sta...</td>\n",
       "      <td>{'data_configs': {'rho': 0.5, 'sigma': None, '...</td>\n",
       "      <td>twilight-pine-608</td>\n",
       "      <td>i6zl1lfh</td>\n",
       "      <td>finished</td>\n",
       "      <td>epoch   _runtime  stage 1 val loss  stage...</td>\n",
       "    </tr>\n",
       "    <tr>\n",
       "      <th>233</th>\n",
       "      <td>{'stage 2 train covariate loss': 993739.375, '...</td>\n",
       "      <td>{'data_configs': {'rho': 0.5, 'sigma': None, '...</td>\n",
       "      <td>worthy-fog-607</td>\n",
       "      <td>52v8guru</td>\n",
       "      <td>finished</td>\n",
       "      <td>_step  epoch    _timestamp  stage 2 val l...</td>\n",
       "    </tr>\n",
       "    <tr>\n",
       "      <th>234</th>\n",
       "      <td>{'_timestamp': 1685385885.9904776, 'stage 1 va...</td>\n",
       "      <td>{'data_configs': {'rho': 0.5, 'sigma': None, '...</td>\n",
       "      <td>cerulean-cherry-606</td>\n",
       "      <td>rqa3k67v</td>\n",
       "      <td>finished</td>\n",
       "      <td>_runtime    _timestamp  stage 1 val loss...</td>\n",
       "    </tr>\n",
       "    <tr>\n",
       "      <th>235</th>\n",
       "      <td>{'stage 2 train loss': 203.75347900390625, '_r...</td>\n",
       "      <td>{'data_configs': {'rho': 0.5, 'sigma': None, '...</td>\n",
       "      <td>usual-pond-605</td>\n",
       "      <td>h0dh51xb</td>\n",
       "      <td>finished</td>\n",
       "      <td>_step  epoch   _runtime  stage 2 val loss...</td>\n",
       "    </tr>\n",
       "    <tr>\n",
       "      <th>236</th>\n",
       "      <td>{'stage 2 train covariate loss': 1019357.0625,...</td>\n",
       "      <td>{'data_configs': {'rho': 0.5, 'sigma': None, '...</td>\n",
       "      <td>robust-jazz-604</td>\n",
       "      <td>ykh89yf3</td>\n",
       "      <td>finished</td>\n",
       "      <td>_runtime  stage 1 val loss  stage 2 trai...</td>\n",
       "    </tr>\n",
       "    <tr>\n",
       "      <th>237</th>\n",
       "      <td>{'_step': 3749, 'epoch': 149, '_wandb': {'runt...</td>\n",
       "      <td>{'data_configs': {'rho': 0.5, 'sigma': None, '...</td>\n",
       "      <td>toasty-blaze-603</td>\n",
       "      <td>weqol2bm</td>\n",
       "      <td>finished</td>\n",
       "      <td>_runtime  stage 2 val loss  stage 1 trai...</td>\n",
       "    </tr>\n",
       "    <tr>\n",
       "      <th>238</th>\n",
       "      <td>{'stage 2 val loss': 223.6488494873047, 'stage...</td>\n",
       "      <td>{'data_configs': {'rho': 0.5, 'sigma': None, '...</td>\n",
       "      <td>playful-galaxy-602</td>\n",
       "      <td>dq2xosz2</td>\n",
       "      <td>finished</td>\n",
       "      <td>_step  epoch  test loss  stage 1 val loss...</td>\n",
       "    </tr>\n",
       "    <tr>\n",
       "      <th>239</th>\n",
       "      <td>{'stage 2 train covariate loss': 1046882, 'epo...</td>\n",
       "      <td>{'data_configs': {'rho': 0.5, 'sigma': None, '...</td>\n",
       "      <td>rare-pond-601</td>\n",
       "      <td>omm35ejs</td>\n",
       "      <td>finished</td>\n",
       "      <td>stage 1 val loss  stage 2 val loss  stage...</td>\n",
       "    </tr>\n",
       "  </tbody>\n",
       "</table>\n",
       "</div>"
      ],
      "text/plain": [
       "                                               summary  \\\n",
       "210  {'stage 1 val loss': 0.2068190574645996, 'stag...   \n",
       "211  {'_step': 3749, '_wandb': {'runtime': 69}, '_r...   \n",
       "212  {'min_test_loss_epoch': 136, 'stage 2 train co...   \n",
       "213  {'_runtime': 70.645094871521, '_timestamp': 16...   \n",
       "214  {'stage 2 train loss': 219.42498779296875, 'ep...   \n",
       "215  {'stage 2 train covariate loss': 1062377, '_st...   \n",
       "216  {'_wandb': {'runtime': 69}, 'min_test_loss': 6...   \n",
       "217  {'epoch': 149, '_wandb': {'runtime': 68}, '_ru...   \n",
       "218  {'stage 2 train covariate loss': 1053721.75, '...   \n",
       "219  {'epoch': 149, '_wandb': {'runtime': 71}, '_ru...   \n",
       "220  {'_wandb': {'runtime': 69}, '_runtime': 71.208...   \n",
       "221  {'stage 1 train loss': 0.0237326230853796, '_s...   \n",
       "222  {'test loss': 105.74713897705078, 'stage 2 val...   \n",
       "223  {'min_test_loss_epoch': 122, 'stage 2 train co...   \n",
       "224  {'stage 2 train covariate loss': 1011501.125, ...   \n",
       "225  {'_wandb': {'runtime': 68}, '_runtime': 70.201...   \n",
       "226  {'stage 1 train loss': 0.013559399172663689, '...   \n",
       "227  {'_runtime': 70.7608630657196, 'test loss': 86...   \n",
       "228  {'_step': 3749, 'epoch': 149, 'test loss': 129...   \n",
       "229  {'_step': 3749, '_runtime': 73.9241669178009, ...   \n",
       "230  {'epoch': 149, '_runtime': 69.0767228603363, '...   \n",
       "231  {'test loss': 58.03612518310547, 'stage 1 val ...   \n",
       "232  {'stage 1 train loss': 0.119526244699955, 'sta...   \n",
       "233  {'stage 2 train covariate loss': 993739.375, '...   \n",
       "234  {'_timestamp': 1685385885.9904776, 'stage 1 va...   \n",
       "235  {'stage 2 train loss': 203.75347900390625, '_r...   \n",
       "236  {'stage 2 train covariate loss': 1019357.0625,...   \n",
       "237  {'_step': 3749, 'epoch': 149, '_wandb': {'runt...   \n",
       "238  {'stage 2 val loss': 223.6488494873047, 'stage...   \n",
       "239  {'stage 2 train covariate loss': 1046882, 'epo...   \n",
       "\n",
       "                                                config                  name  \\\n",
       "210  {'data_configs': {'rho': 0.5, 'sigma': None, '...       leafy-dream-630   \n",
       "211  {'data_configs': {'rho': 0.5, 'sigma': None, '...      pretty-paper-629   \n",
       "212  {'data_configs': {'rho': 0.5, 'sigma': None, '...      denim-puddle-628   \n",
       "213  {'data_configs': {'rho': 0.5, 'sigma': None, '...     revived-field-627   \n",
       "214  {'data_configs': {'rho': 0.5, 'sigma': None, '...        divine-dew-626   \n",
       "215  {'data_configs': {'rho': 0.5, 'sigma': None, '...    warm-microwave-625   \n",
       "216  {'data_configs': {'rho': 0.5, 'sigma': None, '...    faithful-water-624   \n",
       "217  {'data_configs': {'rho': 0.5, 'sigma': None, '...       balmy-frost-623   \n",
       "218  {'data_configs': {'rho': 0.5, 'sigma': None, '...   dulcet-mountain-622   \n",
       "219  {'data_configs': {'rho': 0.5, 'sigma': None, '...     sage-mountain-621   \n",
       "220  {'data_configs': {'rho': 0.5, 'sigma': None, '...   efficient-plant-620   \n",
       "221  {'data_configs': {'rho': 0.5, 'sigma': None, '...       frosty-pine-619   \n",
       "222  {'data_configs': {'rho': 0.5, 'sigma': None, '...      lilac-monkey-618   \n",
       "223  {'data_configs': {'rho': 0.5, 'sigma': None, '...  crimson-universe-617   \n",
       "224  {'data_configs': {'rho': 0.5, 'sigma': None, '...  floral-spaceship-616   \n",
       "225  {'data_configs': {'rho': 0.5, 'sigma': None, '...       dandy-brook-615   \n",
       "226  {'data_configs': {'rho': 0.5, 'sigma': None, '...       avid-sponge-614   \n",
       "227  {'data_configs': {'rho': 0.5, 'sigma': None, '...  smart-wildflower-613   \n",
       "228  {'data_configs': {'rho': 0.5, 'sigma': None, '...     volcanic-snow-612   \n",
       "229  {'data_configs': {'rho': 0.5, 'sigma': None, '...      wobbly-blaze-611   \n",
       "230  {'data_configs': {'rho': 0.5, 'sigma': None, '...       rich-galaxy-610   \n",
       "231  {'data_configs': {'rho': 0.5, 'sigma': None, '...     unique-galaxy-609   \n",
       "232  {'data_configs': {'rho': 0.5, 'sigma': None, '...     twilight-pine-608   \n",
       "233  {'data_configs': {'rho': 0.5, 'sigma': None, '...        worthy-fog-607   \n",
       "234  {'data_configs': {'rho': 0.5, 'sigma': None, '...   cerulean-cherry-606   \n",
       "235  {'data_configs': {'rho': 0.5, 'sigma': None, '...        usual-pond-605   \n",
       "236  {'data_configs': {'rho': 0.5, 'sigma': None, '...       robust-jazz-604   \n",
       "237  {'data_configs': {'rho': 0.5, 'sigma': None, '...      toasty-blaze-603   \n",
       "238  {'data_configs': {'rho': 0.5, 'sigma': None, '...    playful-galaxy-602   \n",
       "239  {'data_configs': {'rho': 0.5, 'sigma': None, '...         rare-pond-601   \n",
       "\n",
       "           id     state                                            history  \n",
       "210  9ocioe8y  finished       _step  epoch   test loss  stage 2 val los...  \n",
       "211  thm0wwry  finished       _step   _runtime  test loss  stage 1 trai...  \n",
       "212  y27qclu2  finished       stage 2 train loss  _step   _runtime  sta...  \n",
       "213  9x36y2vu  finished        _runtime  test loss    _timestamp  stage...  \n",
       "214  crhmbywz  finished       stage 1 val loss  stage 2 val loss  stage...  \n",
       "215  qypn6smb  finished       _step  test loss    _timestamp  stage 1 v...  \n",
       "216  ubo3v8jm  finished         _timestamp  stage 1 train loss  stage 2...  \n",
       "217  yactuueh  finished       epoch   _runtime  test loss    _timestamp...  \n",
       "218  5ud58qaa  finished       _step  epoch    _timestamp  stage 2 val l...  \n",
       "219  q9hf2m61  finished       _step  stage 2 val loss  test loss    _ti...  \n",
       "220  819mh9ll  finished       _step  epoch    _timestamp  stage 2 train...  \n",
       "221  ao4xtyxy  finished       stage 1 train loss  stage 2 train covaria...  \n",
       "222  zvhuvfiu  finished         _timestamp  stage 1 val loss  stage 2 v...  \n",
       "223  3r31z7x5  finished       stage 2 train loss   _runtime  stage 1 va...  \n",
       "224  o6lopsua  finished       stage 1 train loss  stage 2 train covaria...  \n",
       "225  d89st9np  finished        test loss  stage 1 val loss  stage 2 tra...  \n",
       "226  irtreudv  finished        _runtime  test loss  stage 1 val loss  s...  \n",
       "227  0kll8xlu  finished       epoch   _runtime  test loss    _timestamp...  \n",
       "228  myk3ukay  finished       stage 1 train loss  stage 2 train loss  _...  \n",
       "229  mpq2mv5e  finished       _step  stage 2 val loss  stage 2 train co...  \n",
       "230  peo8d1wz  finished       stage 2 val loss  stage 1 train loss  tes...  \n",
       "231  mqz9henc  finished       test loss    _timestamp  stage 2 val loss...  \n",
       "232  i6zl1lfh  finished       epoch   _runtime  stage 1 val loss  stage...  \n",
       "233  52v8guru  finished       _step  epoch    _timestamp  stage 2 val l...  \n",
       "234  rqa3k67v  finished        _runtime    _timestamp  stage 1 val loss...  \n",
       "235  h0dh51xb  finished       _step  epoch   _runtime  stage 2 val loss...  \n",
       "236  ykh89yf3  finished        _runtime  stage 1 val loss  stage 2 trai...  \n",
       "237  weqol2bm  finished        _runtime  stage 2 val loss  stage 1 trai...  \n",
       "238  dq2xosz2  finished       _step  epoch  test loss  stage 1 val loss...  \n",
       "239  omm35ejs  finished       stage 1 val loss  stage 2 val loss  stage...  "
      ]
     },
     "execution_count": 7,
     "metadata": {},
     "output_type": "execute_result"
    }
   ],
   "source": [
    "result_df = runs_df[runs_df['config'].apply(lambda x: x['data_configs']['function'] == 'original')]\n",
    "result_df = result_df[result_df['config'].apply(lambda x: x['data_configs']['hetero'] == False)]\n",
    "# result_df['rho'] = result_df['config'].apply(lambda x: x['data_configs']['rho'])\n",
    "# result_df.groupby('rho').count()\n",
    "result_df = result_df[result_df['config'].apply(lambda x: x['data_configs']['rho'] == rho)]\n",
    "result_df"
   ]
  },
  {
   "cell_type": "code",
   "execution_count": 8,
   "metadata": {},
   "outputs": [
    {
     "data": {
      "text/plain": [
       "(69.0367, 10.3331)"
      ]
     },
     "execution_count": 8,
     "metadata": {},
     "output_type": "execute_result"
    }
   ],
   "source": [
    "min_test_loss = result_df['summary'].apply(lambda x: x['min_test_loss']).tolist()\n",
    "np.mean(min_test_loss).round(4), np.std(min_test_loss).round(4)"
   ]
  },
  {
   "cell_type": "code",
   "execution_count": 9,
   "metadata": {},
   "outputs": [],
   "source": [
    "# best_model_df_id = result_df['summary'].apply(lambda x: x['min_test_loss']).idxmin()\n",
    "# best_model_id = result_df.loc[best_model_df_id]['id']\n",
    "# print('best model id:', best_model_id)"
   ]
  },
  {
   "attachments": {},
   "cell_type": "markdown",
   "metadata": {},
   "source": [
    "## CATE"
   ]
  },
  {
   "cell_type": "code",
   "execution_count": 10,
   "metadata": {},
   "outputs": [],
   "source": [
    "num_point = 100\n",
    "function = 'original'\n",
    "noise_price_mean, noise_price_std = 0, 1"
   ]
  },
  {
   "cell_type": "code",
   "execution_count": 11,
   "metadata": {},
   "outputs": [],
   "source": [
    "# vary t: fix p = 25, S = E[S]\n",
    "emotion_range = np.array([1, 2, 3, 4, 5, 6, 7])\n",
    "price_val = 25\n",
    "price = np.ones(num_point) * price_val\n",
    "time_range = np.linspace(0.0, 10, num_point)\n",
    "cost = np.random.normal(0, 1.0, num_point)\n",
    "noise_price = np.random.normal(noise_price_mean, noise_price_std, num_point)"
   ]
  },
  {
   "cell_type": "code",
   "execution_count": 12,
   "metadata": {},
   "outputs": [],
   "source": [
    "time = time_range.copy()   \n",
    "true_demand = f(function, price, time, np.mean(emotion_range))\n",
    "# true_price =  25 + (0 + 3) * psi(function, time) + noise_price_mean"
   ]
  },
  {
   "cell_type": "code",
   "execution_count": 13,
   "metadata": {},
   "outputs": [],
   "source": [
    "# np.round(np.min(true_price)), np.round(np.max(true_price))"
   ]
  },
  {
   "cell_type": "code",
   "execution_count": 14,
   "metadata": {},
   "outputs": [
    {
     "data": {
      "application/vnd.jupyter.widget-view+json": {
       "model_id": "6f10863036b74d7b9df5fa2ff278e571",
       "version_major": 2,
       "version_minor": 0
      },
      "text/plain": [
       "model:   0%|          | 0/30 [00:00<?, ?it/s]"
      ]
     },
     "metadata": {},
     "output_type": "display_data"
    },
    {
     "name": "stdout",
     "output_type": "stream",
     "text": [
      "(30, 100)\n"
     ]
    }
   ],
   "source": [
    "pred_demands = []\n",
    "\n",
    "for id in tqdm(result_df['id'], position=0, leave=True, desc='model'):\n",
    "    run_path = f'{entity}/{project}/{id}'\n",
    "    dfiv_model = load_dfiv_model(run_path)\n",
    "    \n",
    "    emotions = np.repeat(emotion_range.reshape(-1, 1), num_point, axis=0)\n",
    "    prices = np.tile(price[:, np.newaxis], (len(emotion_range), 1))\n",
    "    times = np.tile(time[:, np.newaxis], (len(emotion_range), 1))\n",
    "    covariates = np.c_[times, emotions]\n",
    "    \n",
    "    tmp_demands = predict_dfiv_model(dfiv_model, prices, covariates).reshape(-1, num_point)\n",
    "    \n",
    "    mean_demand = tmp_demands.mean(axis=0).reshape(1, -1)\n",
    "    pred_demands.append(mean_demand)\n",
    "\n",
    "pred_demands = np.vstack(pred_demands)\n",
    "print(pred_demands.shape)"
   ]
  },
  {
   "cell_type": "code",
   "execution_count": 15,
   "metadata": {},
   "outputs": [],
   "source": [
    "mean_pred_demand = np.mean(pred_demands, axis=0)\n",
    "min_pred_demand = np.min(pred_demands, axis=0)\n",
    "max_pred_demand = np.max(pred_demands, axis=0)\n",
    "std_pred_demand = np.std(pred_demands, axis=0)\n",
    "error_min_pred_demand = mean_pred_demand - min_pred_demand\n",
    "error_max_pred_demand = max_pred_demand - mean_pred_demand"
   ]
  },
  {
   "cell_type": "code",
   "execution_count": 16,
   "metadata": {},
   "outputs": [],
   "source": [
    "matplotlib.rcParams.update({'font.size': 22})"
   ]
  },
  {
   "cell_type": "code",
   "execution_count": 17,
   "metadata": {},
   "outputs": [
    {
     "data": {
      "image/png": "[encoded data removed]",
      "text/plain": [
       "<Figure size 800x600 with 1 Axes>"
      ]
     },
     "metadata": {},
     "output_type": "display_data"
    }
   ],
   "source": [
    "fig, ax = plt.subplots(figsize=(8, 6))\n",
    "# fig.set_figheight(5)\n",
    "# fig.set_figwidth(8)\n",
    "time = time.squeeze()\n",
    "l1 = ax.scatter(time, true_demand, color='r', label='Truth')\n",
    "l2 = ax.scatter(time, mean_pred_demand, color='b', label='DFIV')\n",
    "# l3 = ax.scatter(time, pred_demand_best, color='orange', label='DFIV')\n",
    "ax.legend()\n",
    "\n",
    "ax.set_xlabel('Time t')\n",
    "ax.set_ylabel('$\\mathbb{E}[Y\\mid do(P=25), T=t]$')\n",
    "# plt.fill_between(time, mean_pred_demand-error_min_pred_demand, mean_pred_demand+error_max_pred_demand, alpha=0.15, color='b')\n",
    "plt.fill_between(time, mean_pred_demand-std_pred_demand, mean_pred_demand+std_pred_demand, alpha=0.15, color='b')\n",
    "plt.savefig(\"images/CATE_demand_original.pdf\")\n",
    "plt.show()"
   ]
  },
  {
   "attachments": {},
   "cell_type": "markdown",
   "metadata": {},
   "source": [
    "## ATE"
   ]
  },
  {
   "cell_type": "code",
   "execution_count": 18,
   "metadata": {},
   "outputs": [],
   "source": [
    "num_point = 50"
   ]
  },
  {
   "cell_type": "code",
   "execution_count": 19,
   "metadata": {},
   "outputs": [],
   "source": [
    "# vary p: fix t = E[t] = 5, S = E[S] = 4\n",
    "emotion_range = np.array([1, 2, 3, 4, 5, 6, 7])\n",
    "price = np.linspace(10, 25, num_point)\n",
    "time_range = np.linspace(0.0, 10, num_point)\n",
    "# emotion = (np.ones(num_point) * np.mean(emotion_range))\n",
    "# covariate = np.c_[time, emotion]"
   ]
  },
  {
   "cell_type": "code",
   "execution_count": 20,
   "metadata": {},
   "outputs": [],
   "source": [
    "time_range = np.linspace(0.0, 10, num_point)\n",
    "tmp_time = []\n",
    "for time in time_range:\n",
    "    pred = psi(function, time)\n",
    "    tmp_time.append(pred)\n",
    "G = np.mean(tmp_time) * np.mean(emotion_range)\n",
    "# G = np.mean(psi(function, time)) * np.mean(emotion_range)\n",
    "coef = G - 2\n",
    "offset = 100 + 10 * G\n",
    "\n",
    "true_demand = coef * price + offset"
   ]
  },
  {
   "cell_type": "code",
   "execution_count": 21,
   "metadata": {},
   "outputs": [],
   "source": [
    "# pred_demand = []\n",
    "# for p in price:\n",
    "#     p = (np.ones(num_point) * p)[:, np.newaxis]\n",
    "#     pred = np.mean((predict_dfiv_model(dfiv_model, p, covariate)))\n",
    "#     pred_demand.append(pred)"
   ]
  },
  {
   "cell_type": "code",
   "execution_count": 22,
   "metadata": {},
   "outputs": [
    {
     "data": {
      "application/vnd.jupyter.widget-view+json": {
       "model_id": "d2a4cfda4d004d13a0f00ea34e222ec4",
       "version_major": 2,
       "version_minor": 0
      },
      "text/plain": [
       "model:   0%|          | 0/30 [00:00<?, ?it/s]"
      ]
     },
     "metadata": {},
     "output_type": "display_data"
    }
   ],
   "source": [
    "pred_demands = []\n",
    "\n",
    "for id in tqdm(result_df['id'], desc='model', position=0):\n",
    "    run_path = f'{entity}/{project}/{id}'\n",
    "    dfiv_model = load_dfiv_model(run_path)\n",
    "    \n",
    "    # Generate the combinations of emotion and time\n",
    "    emotions, times = np.meshgrid(emotion_range, time_range)\n",
    "    combs = np.column_stack((emotions.ravel(), times.ravel()))  \n",
    "    \n",
    "    # Create the covariates array\n",
    "    time = np.repeat(combs[:, 1].reshape(-1, 1), num_point, axis=0)\n",
    "    emotion = np.repeat(combs[:, 0].reshape(-1, 1), num_point, axis=0)\n",
    "    covariates = np.concatenate((time, emotion), axis=1)\n",
    "\n",
    "    prices = np.tile(price[:, np.newaxis], (len(combs), 1))\n",
    "    \n",
    "    tmp_pred_demands = predict_dfiv_model(dfiv_model, prices, covariates).reshape(-1, num_point)\n",
    "    mean_pred_demand = np.mean(tmp_pred_demands, axis=0).reshape(1, -1)\n",
    "\n",
    "    pred_demands.append(mean_pred_demand)\n",
    "\n",
    "pred_demands = np.vstack(pred_demands)"
   ]
  },
  {
   "cell_type": "code",
   "execution_count": 23,
   "metadata": {},
   "outputs": [
    {
     "data": {
      "text/plain": [
       "(30, 50)"
      ]
     },
     "execution_count": 23,
     "metadata": {},
     "output_type": "execute_result"
    }
   ],
   "source": [
    "pred_demands.shape"
   ]
  },
  {
   "cell_type": "code",
   "execution_count": 24,
   "metadata": {},
   "outputs": [],
   "source": [
    "mean_pred_demand = np.mean(pred_demands, axis=0)\n",
    "min_pred_demand = np.min(pred_demands, axis=0)\n",
    "max_pred_demand = np.max(pred_demands, axis=0)\n",
    "std_pred_demand = np.std(pred_demands, axis=0)\n",
    "error_min_pred_demand = mean_pred_demand - min_pred_demand\n",
    "error_max_pred_demand = max_pred_demand - mean_pred_demand"
   ]
  },
  {
   "cell_type": "code",
   "execution_count": 25,
   "metadata": {},
   "outputs": [
    {
     "data": {
      "image/png": "[encoded data removed]",
      "text/plain": [
       "<Figure size 800x500 with 1 Axes>"
      ]
     },
     "metadata": {},
     "output_type": "display_data"
    }
   ],
   "source": [
    "fig, ax = plt.subplots(figsize=(8, 6))\n",
    "price = price.squeeze()\n",
    "fig.set_figheight(5)\n",
    "fig.set_figwidth(8)\n",
    "l1 = ax.plot(price, true_demand, color='red', label='Truth')\n",
    "l2 = ax.plot(price, mean_pred_demand, color='blue', label='DFIV')\n",
    "ax.legend()\n",
    "\n",
    "ax.set_xlabel('Price p')\n",
    "ax.set_ylabel('$\\mathbb{E}[Y\\mid do(P=p)]$')\n",
    "# plt.fill_between(price, mean_pred_demand-error_min_pred_demand, mean_pred_demand+error_max_pred_demand, alpha=0.15, color='b')\n",
    "plt.fill_between(price, mean_pred_demand-std_pred_demand, mean_pred_demand+std_pred_demand, alpha=0.15, color='b')\n",
    "# ax.set_ylim([-300, -100])\n",
    "plt.savefig(\"images/ATE_demand_original.pdf\")\n",
    "plt.show()\n"
   ]
  },
  {
   "attachments": {},
   "cell_type": "markdown",
   "metadata": {},
   "source": [
    "# Demand Revised"
   ]
  },
  {
   "cell_type": "code",
   "execution_count": 26,
   "metadata": {},
   "outputs": [],
   "source": [
    "function = 'revised'\n",
    "noise_price_mean, noise_price_std = 0, 1"
   ]
  },
  {
   "cell_type": "code",
   "execution_count": 27,
   "metadata": {},
   "outputs": [],
   "source": [
    "result_df = runs_df[runs_df['config'].apply(lambda x: x['data_configs']['function'] == 'revised')]\n",
    "result_df = result_df[result_df['config'].apply(lambda x: x['data_configs']['hetero'] == False)]\n",
    "# result_df['rho'] = result_df['config'].apply(lambda x: x['data_configs']['rho'])\n",
    "# result_df.groupby('rho').count()\n",
    "result_df = result_df[result_df['config'].apply(lambda x: x['data_configs']['rho'] == rho)]\n",
    "# result_df"
   ]
  },
  {
   "attachments": {},
   "cell_type": "markdown",
   "metadata": {},
   "source": [
    "## CATE"
   ]
  },
  {
   "cell_type": "code",
   "execution_count": 28,
   "metadata": {},
   "outputs": [],
   "source": [
    "num_point = 50"
   ]
  },
  {
   "cell_type": "code",
   "execution_count": 29,
   "metadata": {},
   "outputs": [
    {
     "data": {
      "text/plain": [
       "18.0"
      ]
     },
     "execution_count": 29,
     "metadata": {},
     "output_type": "execute_result"
    }
   ],
   "source": [
    "# obtain the approx range of the expected price\n",
    "boostrap_size = 5000\n",
    "time = np.linspace(0.0, 10, boostrap_size)\n",
    "# E[C] = 0, E[V] = noise_price_bias -> E[P | t] = 25 + (0 + 3) * psi(t) + noise_price_bias\n",
    "exp_true_price =  25 + (0 + 3) * psi(function, time) + noise_price_mean\n",
    "exp_min_price, exp_max_price = np.round(np.min(exp_true_price)), np.round(np.max(exp_true_price))\n",
    "exp_max_price"
   ]
  },
  {
   "cell_type": "code",
   "execution_count": 30,
   "metadata": {},
   "outputs": [],
   "source": [
    "# vary t: fix p = 25, S = E[S]\n",
    "emotion_range = np.array([1, 2, 3, 4, 5, 6, 7])\n",
    "price_val = exp_max_price\n",
    "price = np.ones(num_point) * exp_max_price\n",
    "time = np.linspace(0.0, 10, num_point)\n",
    "cost = np.random.normal(0, 1.0, num_point)\n",
    "noise_price = np.random.normal(noise_price_mean, noise_price_std, num_point)\n",
    "emotion = (np.ones(num_point) * np.mean(emotion_range))\n",
    "covariate = np.c_[time, emotion]"
   ]
  },
  {
   "cell_type": "code",
   "execution_count": 31,
   "metadata": {},
   "outputs": [],
   "source": [
    "time = time_range.copy()   \n",
    "true_demand = f(function, price, time, np.mean(emotion_range))"
   ]
  },
  {
   "cell_type": "code",
   "execution_count": 32,
   "metadata": {},
   "outputs": [],
   "source": [
    "# np.round(np.min(true_price)), np.round(np.max(true_price))"
   ]
  },
  {
   "cell_type": "code",
   "execution_count": 33,
   "metadata": {},
   "outputs": [
    {
     "data": {
      "application/vnd.jupyter.widget-view+json": {
       "model_id": "00b98c61404340e9ba3d6520b06226ce",
       "version_major": 2,
       "version_minor": 0
      },
      "text/plain": [
       "model:   0%|          | 0/30 [00:00<?, ?it/s]"
      ]
     },
     "metadata": {},
     "output_type": "display_data"
    },
    {
     "name": "stdout",
     "output_type": "stream",
     "text": [
      "(30, 50)\n"
     ]
    }
   ],
   "source": [
    "pred_demands = []\n",
    "\n",
    "for id in tqdm(result_df['id'], position=0, leave=True, desc='model'):\n",
    "    run_path = f'{entity}/{project}/{id}'\n",
    "    dfiv_model = load_dfiv_model(run_path)\n",
    "    \n",
    "    emotions = np.repeat(emotion_range.reshape(-1, 1), num_point, axis=0)\n",
    "    prices = np.tile(price[:, np.newaxis], (len(emotion_range), 1))\n",
    "    times = np.tile(time[:, np.newaxis], (len(emotion_range), 1))\n",
    "    covariates = np.c_[times, emotions]\n",
    "    \n",
    "    tmp_demands = predict_dfiv_model(dfiv_model, prices, covariates).reshape(-1, num_point)\n",
    "    \n",
    "    mean_demand = tmp_demands.mean(axis=0).reshape(1, -1)\n",
    "    pred_demands.append(mean_demand)\n",
    "\n",
    "pred_demands = np.vstack(pred_demands)\n",
    "print(pred_demands.shape)"
   ]
  },
  {
   "cell_type": "code",
   "execution_count": 34,
   "metadata": {},
   "outputs": [],
   "source": [
    "mean_pred_demand = np.mean(pred_demands, axis=0)\n",
    "min_pred_demand = np.min(pred_demands, axis=0)\n",
    "max_pred_demand = np.max(pred_demands, axis=0)\n",
    "error_min_pred_demand = mean_pred_demand - min_pred_demand\n",
    "error_max_pred_demand = max_pred_demand - mean_pred_demand"
   ]
  },
  {
   "cell_type": "code",
   "execution_count": 35,
   "metadata": {},
   "outputs": [],
   "source": [
    "matplotlib.rcParams.update({'font.size': 22})"
   ]
  },
  {
   "cell_type": "code",
   "execution_count": 36,
   "metadata": {},
   "outputs": [
    {
     "data": {
      "image/png": "[encoded data removed]",
      "text/plain": [
       "<Figure size 800x600 with 1 Axes>"
      ]
     },
     "metadata": {},
     "output_type": "display_data"
    }
   ],
   "source": [
    "fig, ax = plt.subplots(figsize=(8, 6))\n",
    "time = time.squeeze()\n",
    "l1 = ax.scatter(time, true_demand, color='red', label='Truth')\n",
    "l2 = ax.scatter(time, mean_pred_demand, color='blue', label='DFIV')\n",
    "ax.legend()\n",
    "\n",
    "ax.set_xlabel('Time t')\n",
    "ax.set_ylabel('$\\mathbb{E}[Y\\mid do(P=18), T=t]$')\n",
    "plt.fill_between(time, mean_pred_demand-error_min_pred_demand, mean_pred_demand+error_max_pred_demand, alpha=0.15, color='b')\n",
    "# ax.set_ylim([-2400, 0])\n",
    "plt.savefig(f'images/CATE_demand_revised.pdf')\n",
    "plt.show()"
   ]
  },
  {
   "attachments": {},
   "cell_type": "markdown",
   "metadata": {},
   "source": [
    "## ATE"
   ]
  },
  {
   "cell_type": "code",
   "execution_count": 37,
   "metadata": {},
   "outputs": [],
   "source": [
    "num_point = 50"
   ]
  },
  {
   "cell_type": "code",
   "execution_count": 38,
   "metadata": {},
   "outputs": [],
   "source": [
    "# vary p: fix t = E[t] = 5, S = E[S] = 4\n",
    "emotion_range = np.array([1, 2, 3, 4, 5, 6, 7])\n",
    "price = np.linspace(exp_min_price, exp_max_price, num_point)\n",
    "time_range = np.linspace(0.0, 10, num_point)\n",
    "# emotion = (np.ones(num_point) * np.mean(emotion_range))\n",
    "# covariate = np.c_[time, emotion]"
   ]
  },
  {
   "cell_type": "code",
   "execution_count": 39,
   "metadata": {},
   "outputs": [],
   "source": [
    "G = np.mean(psi(function, time)) * np.mean(emotion_range)\n",
    "coef = G - 2\n",
    "offset = 100 + 10 * G\n",
    "\n",
    "true_demand = coef * price + offset"
   ]
  },
  {
   "cell_type": "code",
   "execution_count": 40,
   "metadata": {},
   "outputs": [
    {
     "data": {
      "application/vnd.jupyter.widget-view+json": {
       "model_id": "62faeb9b3abe42bb8610b3a93bec95e7",
       "version_major": 2,
       "version_minor": 0
      },
      "text/plain": [
       "model:   0%|          | 0/30 [00:00<?, ?it/s]"
      ]
     },
     "metadata": {},
     "output_type": "display_data"
    }
   ],
   "source": [
    "pred_demands = []\n",
    "\n",
    "for id in tqdm(result_df['id'], desc='model', position=0):\n",
    "    run_path = f'{entity}/{project}/{id}'\n",
    "    dfiv_model = load_dfiv_model(run_path)\n",
    "    \n",
    "    # Generate the combinations of emotion and time\n",
    "    emotions, times = np.meshgrid(emotion_range, time_range)\n",
    "    combs = np.column_stack((emotions.ravel(), times.ravel()))  \n",
    "    \n",
    "    # Create the covariates array\n",
    "    time = np.repeat(combs[:, 1].reshape(-1, 1), num_point, axis=0)\n",
    "    emotion = np.repeat(combs[:, 0].reshape(-1, 1), num_point, axis=0)\n",
    "    covariates = np.concatenate((time, emotion), axis=1)\n",
    "\n",
    "    prices = np.tile(price[:, np.newaxis], (len(combs), 1))\n",
    "    \n",
    "    tmp_pred_demands = predict_dfiv_model(dfiv_model, prices, covariates).reshape(-1, num_point)\n",
    "    mean_pred_demand = np.mean(tmp_pred_demands, axis=0).reshape(1, -1)\n",
    "\n",
    "    pred_demands.append(mean_pred_demand)\n",
    "\n",
    "pred_demands = np.vstack(pred_demands)"
   ]
  },
  {
   "cell_type": "code",
   "execution_count": 41,
   "metadata": {},
   "outputs": [],
   "source": [
    "mean_pred_demand = np.mean(pred_demands, axis=0)\n",
    "min_pred_demand = np.min(pred_demands, axis=0)\n",
    "max_pred_demand = np.max(pred_demands, axis=0)\n",
    "std_pred_demand = np.std(pred_demands, axis=0)\n",
    "error_min_pred_demand = mean_pred_demand - min_pred_demand\n",
    "error_max_pred_demand = max_pred_demand - mean_pred_demand"
   ]
  },
  {
   "cell_type": "code",
   "execution_count": 44,
   "metadata": {},
   "outputs": [
    {
     "data": {
      "image/png": "[encoded data removed]",
      "text/plain": [
       "<Figure size 800x600 with 1 Axes>"
      ]
     },
     "metadata": {},
     "output_type": "display_data"
    }
   ],
   "source": [
    "fig, ax = plt.subplots(figsize=(8, 6))\n",
    "price = price.squeeze()\n",
    "l1 = ax.plot(price, true_demand, color='red', label='Truth')\n",
    "l2 = ax.plot(price, mean_pred_demand, color='blue', label='DFIV')\n",
    "ax.legend()\n",
    "\n",
    "ax.set_xlabel('Price p')\n",
    "ax.set_ylabel('$\\mathbb{E}[Y\\mid do(P=p)]$')\n",
    "plt.fill_between(price, mean_pred_demand-std_pred_demand, mean_pred_demand+std_pred_demand, alpha=0.15, color='b')\n",
    "# ax.set_ylim([-300, -100])\n",
    "plt.savefig(\"images/ATE_demand_revised.pdf\")\n",
    "plt.show()\n"
   ]
  },
  {
   "attachments": {},
   "cell_type": "markdown",
   "metadata": {},
   "source": [
    "## spaceIV"
   ]
  },
  {
   "cell_type": "code",
   "execution_count": 43,
   "metadata": {},
   "outputs": [
    {
     "ename": "ModuleNotFoundError",
     "evalue": "No module named 'src.data.demand_design_parcs_revise'",
     "output_type": "error",
     "traceback": [
      "\u001b[0;31m---------------------------------------------------------------------------\u001b[0m",
      "\u001b[0;31mModuleNotFoundError\u001b[0m                       Traceback (most recent call last)",
      "Cell \u001b[0;32mIn[43], line 1\u001b[0m\n\u001b[0;32m----> 1\u001b[0m \u001b[39mfrom\u001b[39;00m \u001b[39msrc\u001b[39;00m\u001b[39m.\u001b[39;00m\u001b[39mdata\u001b[39;00m\u001b[39m.\u001b[39;00m\u001b[39mdemand_design_parcs_revise\u001b[39;00m \u001b[39mimport\u001b[39;00m generate_train_demand_design_parcs_revise\n\u001b[1;32m      2\u001b[0m \u001b[39mimport\u001b[39;00m \u001b[39mos\u001b[39;00m\n",
      "\u001b[0;31mModuleNotFoundError\u001b[0m: No module named 'src.data.demand_design_parcs_revise'"
     ]
    }
   ],
   "source": [
    "from src.data.demand_design_parcs_revise import generate_train_demand_design_parcs_revise\n",
    "import os"
   ]
  },
  {
   "cell_type": "code",
   "execution_count": null,
   "metadata": {},
   "outputs": [],
   "source": [
    "# Get the current working directory\n",
    "prev_dir = os.getcwd()\n",
    "print(\"Prev working directory:\", prev_dir)\n",
    "\n",
    "# Change the working directory\n",
    "os.chdir(\"../\")\n",
    "\n",
    "# Check the new working directory\n",
    "print(\"Updated working directory:\", os.getcwd())"
   ]
  },
  {
   "cell_type": "code",
   "execution_count": null,
   "metadata": {},
   "outputs": [],
   "source": [
    "# deadloop, invertible matrix\n",
    "valid_seed = get_valid_seed()"
   ]
  },
  {
   "cell_type": "code",
   "execution_count": null,
   "metadata": {},
   "outputs": [],
   "source": [
    "def get_valid_seed():\n",
    "    seed = 0\n",
    "    valid = False\n",
    "    while not valid:\n",
    "        try: \n",
    "            train_data = generate_train_demand_design(data_size=5000, rho=0.5, rand_seed=seed)\n",
    "            I = train_data.instrumental\n",
    "            covariate = train_data.covariate\n",
    "            treatment = train_data.treatment\n",
    "            X = np.c_[covariate, treatment]\n",
    "            Y = train_data.outcome\n",
    "            beta_placeholder = np.zeros((X.shape[1], 1))\n",
    "            beta_hat, _ = spaceiv(I, X, Y, beta_placeholder)\n",
    "            valid = True\n",
    "        except Exception as e:\n",
    "            seed += 1\n",
    "            print(e)\n",
    "    print(f'Valid seed: {seed}')\n",
    "    return seed"
   ]
  },
  {
   "cell_type": "code",
   "execution_count": null,
   "metadata": {},
   "outputs": [],
   "source": []
  },
  {
   "cell_type": "code",
   "execution_count": null,
   "metadata": {},
   "outputs": [],
   "source": []
  }
 ],
 "metadata": {
  "kernelspec": {
   "display_name": "Python 3 (ipykernel)",
   "language": "python",
   "name": "python3"
  },
  "language_info": {
   "codemirror_mode": {
    "name": "ipython",
    "version": 3
   },
   "file_extension": ".py",
   "mimetype": "text/x-python",
   "name": "python",
   "nbconvert_exporter": "python",
   "pygments_lexer": "ipython3",
   "version": "3.10.11"
  }
 },
 "nbformat": 4,
 "nbformat_minor": 2
}
