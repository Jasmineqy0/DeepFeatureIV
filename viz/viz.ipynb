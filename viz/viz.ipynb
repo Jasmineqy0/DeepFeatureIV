{
 "cells": [
  {
   "cell_type": "code",
   "execution_count": 3,
   "metadata": {
    "tags": []
   },
   "outputs": [],
   "source": [
    "import plotly.express as px\n",
    "from glob import glob\n",
    "import os\n",
    "import pandas as pd\n",
    "import csv\n",
    "import numpy as np\n",
    "import seaborn as sns\n",
    "from collections import defaultdict\n",
    "import plotly.graph_objects as go\n",
    "from matplotlib import pyplot as plt"
   ]
  },
  {
   "cell_type": "code",
   "execution_count": 4,
   "metadata": {},
   "outputs": [],
   "source": [
    "img_dir = 'images'\n",
    "os.makedirs(img_dir, exist_ok=True)"
   ]
  },
  {
   "attachments": {},
   "cell_type": "markdown",
   "metadata": {},
   "source": [
    "# DFIV Results"
   ]
  },
  {
   "cell_type": "code",
   "execution_count": 3,
   "metadata": {
    "tags": []
   },
   "outputs": [],
   "source": [
    "DUMP_DIR = '../dumps'\n",
    "dir = 'dfiv_low_dim_parcs'"
   ]
  },
  {
   "cell_type": "code",
   "execution_count": 4,
   "metadata": {
    "tags": []
   },
   "outputs": [],
   "source": [
    "def get_results(dir):\n",
    "    dfs = []\n",
    "    root = os.path.join(DUMP_DIR, dir)\n",
    "    for subdir in os.listdir(root):\n",
    "        if not os.path.isdir(os.path.join(root, subdir)):\n",
    "            continue\n",
    "        props =  [item.split(':') for item in subdir.split('-')]\n",
    "        props = {item[0]: [item[1]] for item in props}\n",
    "\n",
    "        with open (os.path.join(root, subdir, 'result.csv'), 'r') as f:\n",
    "            reader = csv.reader(f)\n",
    "            mse = [float(row[0]) for row in list(reader)]\n",
    "            \n",
    "        n = len(mse)\n",
    "        props = {key: val * n for key, val in props.items()}\n",
    "        props.update({'mse': mse, 'dir': [dir] * n})\n",
    "        dfs.append(pd.DataFrame(props))\n",
    "    return pd.concat(dfs)"
   ]
  },
  {
   "cell_type": "code",
   "execution_count": 5,
   "metadata": {
    "tags": []
   },
   "outputs": [
    {
     "ename": "FileNotFoundError",
     "evalue": "[Errno 2] No such file or directory: '../dumps/dfiv_low_dim_parcs'",
     "output_type": "error",
     "traceback": [
      "\u001b[0;31m---------------------------------------------------------------------------\u001b[0m",
      "\u001b[0;31mFileNotFoundError\u001b[0m                         Traceback (most recent call last)",
      "Cell \u001b[0;32mIn[5], line 1\u001b[0m\n\u001b[0;32m----> 1\u001b[0m df_parcs \u001b[39m=\u001b[39m  get_results(\u001b[39m'\u001b[39;49m\u001b[39mdfiv_low_dim_parcs\u001b[39;49m\u001b[39m'\u001b[39;49m)\n\u001b[1;32m      2\u001b[0m df_parcs \u001b[39m=\u001b[39m df_parcs\u001b[39m.\u001b[39mfillna(\u001b[39m0\u001b[39m)\n\u001b[1;32m      3\u001b[0m \u001b[39m# set(df.sigma)\u001b[39;00m\n",
      "Cell \u001b[0;32mIn[4], line 4\u001b[0m, in \u001b[0;36mget_results\u001b[0;34m(dir)\u001b[0m\n\u001b[1;32m      2\u001b[0m dfs \u001b[39m=\u001b[39m []\n\u001b[1;32m      3\u001b[0m root \u001b[39m=\u001b[39m os\u001b[39m.\u001b[39mpath\u001b[39m.\u001b[39mjoin(DUMP_DIR, \u001b[39mdir\u001b[39m)\n\u001b[0;32m----> 4\u001b[0m \u001b[39mfor\u001b[39;00m subdir \u001b[39min\u001b[39;00m os\u001b[39m.\u001b[39;49mlistdir(root):\n\u001b[1;32m      5\u001b[0m     \u001b[39mif\u001b[39;00m \u001b[39mnot\u001b[39;00m os\u001b[39m.\u001b[39mpath\u001b[39m.\u001b[39misdir(os\u001b[39m.\u001b[39mpath\u001b[39m.\u001b[39mjoin(root, subdir)):\n\u001b[1;32m      6\u001b[0m         \u001b[39mcontinue\u001b[39;00m\n",
      "\u001b[0;31mFileNotFoundError\u001b[0m: [Errno 2] No such file or directory: '../dumps/dfiv_low_dim_parcs'"
     ]
    }
   ],
   "source": [
    "df_parcs =  get_results('dfiv_low_dim_parcs')\n",
    "df_parcs = df_parcs.fillna(0)\n",
    "# set(df.sigma)\n",
    "df_parcs.sigma = ['0' if val == 'None' else val for val in df_parcs.sigma]\n",
    "df_parcs['rho'] = '0.5'\n",
    "set(df_parcs.sigma)"
   ]
  },
  {
   "cell_type": "code",
   "execution_count": null,
   "metadata": {},
   "outputs": [],
   "source": [
    "df_orignal = get_results('dfiv_low_dim')\n",
    "df_orignal['rho'] = '0.5'\n",
    "df_orignal"
   ]
  },
  {
   "cell_type": "code",
   "execution_count": null,
   "metadata": {},
   "outputs": [],
   "source": [
    "df_comb = pd.concat([df_parcs, df_orignal])\n",
    "df_comb\n",
    "df_comb = df_comb.fillna('0')\n",
    "df_comb = df_comb[df_comb['rho'] == '0.5']\n",
    "df_comb"
   ]
  },
  {
   "cell_type": "code",
   "execution_count": null,
   "metadata": {},
   "outputs": [],
   "source": [
    "df_comb.loc[df_comb['dir'] == 'dfiv_low_dim', 'case'] = 'Original'\n",
    "df_comb.loc[df_comb['dir'] == 'dfiv_low_dim_parcs', 'case'] = \"PARCS'\"\n",
    "df_comb"
   ]
  },
  {
   "cell_type": "code",
   "execution_count": null,
   "metadata": {},
   "outputs": [],
   "source": [
    "df_avg = df_comb.groupby(['data_size', 'rho', 'case', 'sigma']).mean()\n",
    "df_avg = df_avg.reset_index()\n",
    "df_avg = df_avg.fillna(0)\n",
    "df_avg = df_avg[df_avg['rho'] == '0.5']\n",
    "df_avg"
   ]
  },
  {
   "cell_type": "code",
   "execution_count": null,
   "metadata": {},
   "outputs": [],
   "source": [
    "df_std = df_comb.groupby(['data_size', 'rho', 'case', 'sigma'])['mse'].std()\n",
    "df_std = df_std.reset_index()\n",
    "df_std[df_std['rho'] == '0.5']"
   ]
  },
  {
   "cell_type": "code",
   "execution_count": null,
   "metadata": {},
   "outputs": [],
   "source": [
    "df_avg['std'] = df_std['mse']\n",
    "df_avg"
   ]
  },
  {
   "cell_type": "code",
   "execution_count": null,
   "metadata": {},
   "outputs": [],
   "source": [
    "# df_comb = df_comb.loc[df_comb['data_size'] != '1000']\n",
    "df_comb"
   ]
  },
  {
   "cell_type": "code",
   "execution_count": null,
   "metadata": {
    "tags": []
   },
   "outputs": [],
   "source": [
    "fig = px.box(df_comb, x='sigma', y='mse', color = 'case', points='all',\n",
    "                facet_col='data_size', facet_col_wrap=3,\n",
    "                log_y=True, range_y=[90,3*10**3],\n",
    "                height = 400, width = 1200,\n",
    "                category_orders = {'sigma': ['0', '0.2', '1', '1.8'],\n",
    "                                   'data_size': ['1000', '5000', '10000'],\n",
    "                                   'rho': ['0.1', '0.5', '0.9']},\n",
    "                labels={\n",
    "                     \"data_size\": \"N\",\n",
    "                     \"mse\": \"MSE\",\n",
    "                     \"case\": \"Case\",\n",
    "                     'sigma': 'Sigma'\n",
    "                 })\n",
    "fig.update_layout(\n",
    "    font=dict(\n",
    "        size=30\n",
    "    ))\n",
    "fig.update_yaxes(dtick=1)\n",
    "fig.update_traces(width=0.6)\n",
    "fig.show()\n",
    "fig.write_image(f\"{img_dir}/mean squared error box.pdf\")"
   ]
  },
  {
   "cell_type": "code",
   "execution_count": null,
   "metadata": {},
   "outputs": [],
   "source": [
    "fig = px.bar(df_avg, x='sigma', y='mse', barmode='group', color = 'case',\n",
    "                facet_col='data_size', facet_col_wrap=3,\n",
    "                height = 400, width = 1200,\n",
    "                category_orders = {'sigma': ['0', '0.2', '1', '1.8'],\n",
    "                                   'data_size': ['5000', '10000'],\n",
    "                                   'data_size': ['1000', '5000', '10000'],\n",
    "                                   'rho': ['0.1', '0.5', '0.9']},\n",
    "                labels={\n",
    "                     \"data_size\": \"N\",\n",
    "                     \"mse\": \"MSE\",\n",
    "                     \"case\": \"Case\",\n",
    "                     'sigma': 'Sigma'\n",
    "                 })\n",
    "fig.update_xaxes(type='category')\n",
    "fig.update_layout(\n",
    "    font=dict(\n",
    "        size=25\n",
    "    )\n",
    ")\n",
    "fig.update_traces(width=0.3)\n",
    "fig.show()\n",
    "fig.write_image(f\"{img_dir}/mean squared error bar.pdf\")"
   ]
  },
  {
   "cell_type": "code",
   "execution_count": null,
   "metadata": {},
   "outputs": [],
   "source": [
    "# fig = sns.FacetGrid(df, col = 'rho')\n",
    "# fig.map_dataframe(sns.boxplot, x='data_size', y='mse', hue='case')\n",
    "# plt.yscale('log')\n",
    "# fig.set(yscale=\"log\")\n",
    "# fig.tight_layout()\n",
    "# fig.add_legend()"
   ]
  },
  {
   "attachments": {},
   "cell_type": "markdown",
   "metadata": {},
   "source": [
    "# DFIV vs SpaceIV"
   ]
  },
  {
   "cell_type": "code",
   "execution_count": null,
   "metadata": {},
   "outputs": [],
   "source": [
    "case = 'case_hc_num_7'\n",
    "spaceiv_dir = '../MA/spaceIV'"
   ]
  },
  {
   "cell_type": "code",
   "execution_count": null,
   "metadata": {},
   "outputs": [],
   "source": [
    "cases = [case]\n",
    "res_dir = os.path.join(spaceiv_dir, 'results/comp/')\n",
    "dfs = {case: pd.read_csv(os.path.join(res_dir, f'{case}.csv')) for case in cases}\n",
    "df_sparseiv = dfs[case]\n",
    "df_sparseiv['model'] = 'spaceIV'"
   ]
  },
  {
   "cell_type": "code",
   "execution_count": null,
   "metadata": {},
   "outputs": [],
   "source": [
    "def read_ys(data_dir, case):\n",
    "    ys = []\n",
    "    for dir in os.listdir(os.path.join(data_dir, case)):\n",
    "        if all(item in dir for item in ['a1', 'a2', 'a3']):\n",
    "            dir = os.path.join(data_dir, case, dir)\n",
    "            data_file = os.path.join(dir, 'data_size1600.csv')\n",
    "            df = pd.read_csv(data_file)\n",
    "            y = df['y_0'].to_numpy()\n",
    "            ys.append(y)\n",
    "        else:\n",
    "            print(f'neglected foler {dir}')\n",
    "    return np.hstack(ys)"
   ]
  },
  {
   "cell_type": "code",
   "execution_count": null,
   "metadata": {},
   "outputs": [],
   "source": [
    "data_dir = os.path.join(spaceiv_dir, 'data')\n",
    "ys = read_ys(data_dir, case)\n",
    "print(f'{ys.mean()}', ys.std())"
   ]
  },
  {
   "cell_type": "code",
   "execution_count": null,
   "metadata": {},
   "outputs": [],
   "source": [
    "# spaceIV_data_root = '../../spaceIV/data/'\n",
    "# spaceIV_data_dir = os.path.join(spaceIV_data_root, case)\n",
    "# print(spaceIV_data_dir)\n",
    "# assert os.path.exists(spaceIV_data_dir), 'no such data'"
   ]
  },
  {
   "cell_type": "code",
   "execution_count": null,
   "metadata": {},
   "outputs": [],
   "source": [
    "df_dfiv =  get_results('dfiv_spaceiv_vanilla')\n",
    "df_dfiv['model'] = 'DFIV'\n",
    "df_dfiv = df_dfiv[df_dfiv['case'] == case]"
   ]
  },
  {
   "cell_type": "code",
   "execution_count": null,
   "metadata": {},
   "outputs": [],
   "source": [
    "df_merge = pd.concat([df_sparseiv,df_dfiv], axis=0)\n",
    "df_merge"
   ]
  },
  {
   "cell_type": "code",
   "execution_count": null,
   "metadata": {},
   "outputs": [],
   "source": [
    "df_merge.groupby('model')['mse'].mean()"
   ]
  },
  {
   "cell_type": "code",
   "execution_count": null,
   "metadata": {},
   "outputs": [],
   "source": [
    "df_merge.groupby('model')['mse'].std()"
   ]
  },
  {
   "cell_type": "code",
   "execution_count": null,
   "metadata": {},
   "outputs": [],
   "source": [
    "fig = px.box(df_merge, x='model', y='mse', log_y=True,\n",
    "             points=\"all\",\n",
    "             height = 400, width = 800,\n",
    "             labels={\n",
    "                     \"mode\": \"Algorithm\",\n",
    "                     \"mse\": \"Mean Squared Error\",\n",
    "                 })\n",
    "fig.update_layout(\n",
    "    font=dict(\n",
    "        size=18\n",
    "    )\n",
    ")\n",
    "fig.show()\n",
    "fig.write_image(f\"{img_dir}/{case}.pdf\")"
   ]
  },
  {
   "attachments": {},
   "cell_type": "markdown",
   "metadata": {},
   "source": [
    "# Viz Demand Dataset"
   ]
  },
  {
   "cell_type": "code",
   "execution_count": 5,
   "metadata": {},
   "outputs": [],
   "source": [
    "plt.rcParams[\"figure.figsize\"] = [7.50, 3.50]\n",
    "plt.rcParams[\"figure.autolayout\"] = True\n",
    "plt.rcParams.update({\n",
    "    \"figure.figsize\": [7.50, 3.50],\n",
    "    \"figure.autolayout\": True,\n",
    "    \"text.usetex\": False,\n",
    "    \"font.family\": \"sans-serif\",\n",
    "    'font.size': 16\n",
    "})\n",
    "\n",
    "data_size = 1000"
   ]
  },
  {
   "cell_type": "code",
   "execution_count": 51,
   "metadata": {},
   "outputs": [
    {
     "data": {
      "image/png": "[encoded data removed]",
      "text/plain": [
       "<Figure size 750x350 with 1 Axes>"
      ]
     },
     "metadata": {},
     "output_type": "display_data"
    }
   ],
   "source": [
    "def psi(t: np.ndarray) -> np.ndarray:\n",
    "    return 2 * (((t - 3) ** 3 )/ 500 + np.exp(-6 * ((t-5) ** 2) ) - np.sqrt(t) + np.log(25 * (t ** 2) + 5) + np.sin(t)  - 7)\n",
    "    # return 2 * ((t - 5) ** 4 / 600 + np.exp(-4 * (t - 5) ** 2) + t / 10 - 2)\n",
    "\n",
    "\n",
    "def f(p: np.ndarray, t: np.ndarray, s: np.ndarray) -> np.ndarray:\n",
    "    return 100 + (10 + p) * s * psi(t) - 2 * p\n",
    "\n",
    "t = np.linspace(0, 10, data_size)\n",
    "\n",
    "plt.plot(t, psi(t), color='blue')\n",
    "plt.title('Function $g(t) = 2((t-5)^4)/600 + \\exp(-4(t-5)^2) + t/10 - 2)$')\n",
    "plt.savefig(f'{img_dir}/time_function.pdf')\n",
    "plt.show()"
   ]
  },
  {
   "cell_type": "code",
   "execution_count": 53,
   "metadata": {},
   "outputs": [
    {
     "data": {
      "text/plain": [
       "-5.548802781269209"
      ]
     },
     "execution_count": 53,
     "metadata": {},
     "output_type": "execute_result"
    }
   ],
   "source": [
    "np.mean(psi(t))"
   ]
  },
  {
   "cell_type": "code",
   "execution_count": null,
   "metadata": {},
   "outputs": [],
   "source": [
    "min_t = 2.53379\n",
    "min_psi_t = psi(min_t)\n",
    "print(f'min psi(t): {min_psi_t}')\n",
    "z = 3\n",
    "min_p = 25 + min_psi_t * (z + 3) -3\n",
    "print(f'min p: {min_p}')\n",
    "\n",
    "max_t = 10\n",
    "max_psi_t = psi(max_t)\n",
    "print(f'max psi(t): {max_psi_t}')\n",
    "z = 3\n",
    "max_p = 25 + max_psi_t * (z + 3) + 3\n",
    "print(f'max p: {max_p}')"
   ]
  },
  {
   "cell_type": "code",
   "execution_count": null,
   "metadata": {},
   "outputs": [],
   "source": [
    "rng = np.random.default_rng(seed=0)\n",
    "rho = 0.5\n",
    "emotion = rng.choice(list(range(1, 8)), data_size)\n",
    "time = rng.uniform(0, 10, data_size)\n",
    "cost = rng.normal(0, 1.0, data_size)\n",
    "noise_price = rng.normal(0, 1.0, data_size)\n",
    "noise_demand = rho * noise_price + rng.normal(0, np.sqrt(1 - rho ** 2), data_size)\n",
    "price = 25 + (cost + 3) * psi(time) + noise_price\n",
    "structural: np.ndarray = f(price, time, emotion).astype(float)\n",
    "outcome: np.ndarray = (structural + noise_demand).astype(float)\n",
    "\n",
    "price_scale = (price - min_p) / (max_p - min_p)\n",
    "sigmas = [0.2, 1, 1.8]\n",
    "hetero_noise_demand = [rho * noise_price + rng.normal(0, price_scale * sigma, data_size) for sigma in sigmas]"
   ]
  },
  {
   "cell_type": "code",
   "execution_count": null,
   "metadata": {},
   "outputs": [],
   "source": [
    "# fig = px.scatter(x=price, y=noise_demand, width=800, height=400)\n",
    "# fig.update_traces(marker_size=10)\n",
    "# fig.show()"
   ]
  },
  {
   "cell_type": "code",
   "execution_count": null,
   "metadata": {},
   "outputs": [],
   "source": [
    "# from plotly.subplots import make_subplots\n",
    "# import plotly.graph_objects as go\n",
    "\n",
    "# fig = make_subplots(rows=2, cols=2, subplot_titles=(r'$\\text{Demand Variance} = 1-\\rho^2$ = 0.75$',\n",
    "#                                                     r'$\\text{Demand Variance} = r(p) * 0.2$', \n",
    "#                                                     r'$\\text{Demand Variance} = r(p)$', \n",
    "#                                                     r'$\\text{Demand Variance} = $r(p) * 1.8$'))\n",
    "\n",
    "# fig.add_trace(go.Scatter(x=price, y=noise_demand, mode=\"markers\", marker=dict(color='blue', size=10)), row=1, col=1)\n",
    "\n",
    "# fig.add_trace(go.Scatter(x=price, y=hetero_noise_demand[0], mode=\"markers\", marker=dict(color='blue', size=10)), row=1, col=2)\n",
    "\n",
    "# fig.add_trace(go.Scatter(x=price, y=hetero_noise_demand[1], mode=\"markers\", marker=dict(color='blue', size=10)), row=2, col=1)\n",
    "\n",
    "# fig.add_trace(go.Scatter(x=price, y=hetero_noise_demand[2], mode=\"markers\", marker=dict(color='blue', size=10)), row=2, col=2)\n",
    "\n",
    "# fig.update_layout(height=800, width=1200, title_text=\"\", showlegend=False)\n",
    "\n",
    "# fig.show()"
   ]
  },
  {
   "cell_type": "code",
   "execution_count": null,
   "metadata": {},
   "outputs": [],
   "source": [
    "fig, axs = plt.subplots(2, 2, figsize=(12, 7))\n",
    "\n",
    "axs[0, 0].scatter(price, noise_demand)\n",
    "axs[0, 0].set_title(r'Demand Variance = $1-\\rho ^2 = 0.75$')\n",
    "axs[0, 0].set_ylabel('The Noise of Demand')\n",
    "axs[0, 0].set_xlabel('Price')\n",
    "\n",
    "axs[0, 1].scatter(price, hetero_noise_demand[0])\n",
    "axs[0, 1].set_title(r'Demand Variance = $r(p) * 0.2$')\n",
    "axs[0, 1].set_ylabel('The Noise of Demand')\n",
    "axs[0, 1].set_xlabel('Price')\n",
    "\n",
    "axs[1, 0].scatter(price, hetero_noise_demand[1])\n",
    "axs[1, 0].set_title(r'Demand Variance = $r(p)$')\n",
    "axs[1, 0].set_ylabel('The Noise of Demand')\n",
    "axs[1, 0].set_xlabel('Price')\n",
    "\n",
    "axs[1, 1].scatter(price, hetero_noise_demand[2])\n",
    "axs[1, 1].set_title(r'Demand Variance = $r(p) * 1.8$')\n",
    "axs[1, 1].set_ylabel('The Noise of Demand')\n",
    "axs[1, 1].set_xlabel('Price')\n",
    "\n",
    "fig.savefig(f'{img_dir}/demand_noise.pdf')"
   ]
  },
  {
   "cell_type": "code",
   "execution_count": null,
   "metadata": {},
   "outputs": [],
   "source": []
  }
 ],
 "metadata": {
  "kernelspec": {
   "display_name": "Python 3 (ipykernel)",
   "language": "python",
   "name": "python3"
  },
  "language_info": {
   "codemirror_mode": {
    "name": "ipython",
    "version": 3
   },
   "file_extension": ".py",
   "mimetype": "text/x-python",
   "name": "python",
   "nbconvert_exporter": "python",
   "pygments_lexer": "ipython3",
   "version": "3.10.11"
  },
  "vscode": {
   "interpreter": {
    "hash": "13044e9446dc9e79fa0a14def05fedede05157fce78ba134978c65b5d53ab147"
   }
  }
 },
 "nbformat": 4,
 "nbformat_minor": 4
}
