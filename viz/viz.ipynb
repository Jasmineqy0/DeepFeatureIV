{
 "cells": [
  {
   "cell_type": "code",
   "execution_count": 2,
   "metadata": {
    "tags": []
   },
   "outputs": [],
   "source": [
    "import plotly.express as px\n",
    "from glob import glob\n",
    "import os\n",
    "import pandas as pd\n",
    "import csv\n",
    "import numpy as np\n",
    "import seaborn as sns\n",
    "from collections import defaultdict\n",
    "import plotly.graph_objects as go\n",
    "from matplotlib import pyplot as plt"
   ]
  },
  {
   "cell_type": "code",
   "execution_count": 3,
   "metadata": {},
   "outputs": [],
   "source": [
    "img_dir = 'images'\n",
    "os.makedirs(img_dir, exist_ok=True)"
   ]
  },
  {
   "attachments": {},
   "cell_type": "markdown",
   "metadata": {},
   "source": [
    "# DFIV Results"
   ]
  },
  {
   "cell_type": "code",
   "execution_count": 4,
   "metadata": {
    "tags": []
   },
   "outputs": [],
   "source": [
    "DUMP_DIR = '../dumps'\n",
    "dir = 'dfiv_low_dim_original'"
   ]
  },
  {
   "cell_type": "code",
   "execution_count": 5,
   "metadata": {
    "tags": []
   },
   "outputs": [],
   "source": [
    "def get_results(dir):\n",
    "    dfs = []\n",
    "    root = os.path.join(DUMP_DIR, dir)\n",
    "    for subdir in os.listdir(root):\n",
    "        if not os.path.isdir(os.path.join(root, subdir)):\n",
    "            continue\n",
    "\n",
    "        result = np.load(os.path.join(root, subdir, 'result.npz'))\n",
    "        mse = list(result['oos_loss'])[:2800]\n",
    "            \n",
    "        n = len(mse)\n",
    "        props = {}\n",
    "        if ':' in subdir:\n",
    "            props =  [item.split(':') for item in subdir.split('-')]\n",
    "            props = {item[0]: [item[1]] for item in props}\n",
    "            props = {key: val * n for key, val in props.items()}\n",
    "        props.update({'rmse': np.sqrt(mse), 'dir': [dir] * n})\n",
    "        dfs.append(pd.DataFrame(props))\n",
    "    return pd.concat(dfs)"
   ]
  },
  {
   "cell_type": "code",
   "execution_count": 51,
   "metadata": {
    "tags": []
   },
   "outputs": [
    {
     "data": {
      "text/html": [
       "<div>\n",
       "<style scoped>\n",
       "    .dataframe tbody tr th:only-of-type {\n",
       "        vertical-align: middle;\n",
       "    }\n",
       "\n",
       "    .dataframe tbody tr th {\n",
       "        vertical-align: top;\n",
       "    }\n",
       "\n",
       "    .dataframe thead th {\n",
       "        text-align: right;\n",
       "    }\n",
       "</style>\n",
       "<table border=\"1\" class=\"dataframe\">\n",
       "  <thead>\n",
       "    <tr style=\"text-align: right;\">\n",
       "      <th></th>\n",
       "      <th>data_size</th>\n",
       "      <th>rho</th>\n",
       "      <th>parcs_config</th>\n",
       "      <th>rmse</th>\n",
       "      <th>dir</th>\n",
       "    </tr>\n",
       "  </thead>\n",
       "  <tbody>\n",
       "    <tr>\n",
       "      <th>0</th>\n",
       "      <td>10000</td>\n",
       "      <td>0.5</td>\n",
       "      <td>8</td>\n",
       "      <td>22.783050</td>\n",
       "      <td>dfiv_low_dim_noise_demand_mu</td>\n",
       "    </tr>\n",
       "    <tr>\n",
       "      <th>1</th>\n",
       "      <td>10000</td>\n",
       "      <td>0.5</td>\n",
       "      <td>8</td>\n",
       "      <td>19.448071</td>\n",
       "      <td>dfiv_low_dim_noise_demand_mu</td>\n",
       "    </tr>\n",
       "    <tr>\n",
       "      <th>2</th>\n",
       "      <td>10000</td>\n",
       "      <td>0.5</td>\n",
       "      <td>8</td>\n",
       "      <td>19.584381</td>\n",
       "      <td>dfiv_low_dim_noise_demand_mu</td>\n",
       "    </tr>\n",
       "    <tr>\n",
       "      <th>3</th>\n",
       "      <td>10000</td>\n",
       "      <td>0.5</td>\n",
       "      <td>8</td>\n",
       "      <td>26.383984</td>\n",
       "      <td>dfiv_low_dim_noise_demand_mu</td>\n",
       "    </tr>\n",
       "    <tr>\n",
       "      <th>4</th>\n",
       "      <td>10000</td>\n",
       "      <td>0.5</td>\n",
       "      <td>8</td>\n",
       "      <td>20.426969</td>\n",
       "      <td>dfiv_low_dim_noise_demand_mu</td>\n",
       "    </tr>\n",
       "    <tr>\n",
       "      <th>0</th>\n",
       "      <td>10000</td>\n",
       "      <td>0.5</td>\n",
       "      <td>2</td>\n",
       "      <td>13.830667</td>\n",
       "      <td>dfiv_low_dim_noise_demand_mu</td>\n",
       "    </tr>\n",
       "    <tr>\n",
       "      <th>1</th>\n",
       "      <td>10000</td>\n",
       "      <td>0.5</td>\n",
       "      <td>2</td>\n",
       "      <td>15.430808</td>\n",
       "      <td>dfiv_low_dim_noise_demand_mu</td>\n",
       "    </tr>\n",
       "    <tr>\n",
       "      <th>2</th>\n",
       "      <td>10000</td>\n",
       "      <td>0.5</td>\n",
       "      <td>2</td>\n",
       "      <td>14.879340</td>\n",
       "      <td>dfiv_low_dim_noise_demand_mu</td>\n",
       "    </tr>\n",
       "    <tr>\n",
       "      <th>3</th>\n",
       "      <td>10000</td>\n",
       "      <td>0.5</td>\n",
       "      <td>2</td>\n",
       "      <td>15.545421</td>\n",
       "      <td>dfiv_low_dim_noise_demand_mu</td>\n",
       "    </tr>\n",
       "    <tr>\n",
       "      <th>4</th>\n",
       "      <td>10000</td>\n",
       "      <td>0.5</td>\n",
       "      <td>2</td>\n",
       "      <td>14.289064</td>\n",
       "      <td>dfiv_low_dim_noise_demand_mu</td>\n",
       "    </tr>\n",
       "    <tr>\n",
       "      <th>0</th>\n",
       "      <td>10000</td>\n",
       "      <td>0.5</td>\n",
       "      <td>4</td>\n",
       "      <td>20.626984</td>\n",
       "      <td>dfiv_low_dim_noise_demand_mu</td>\n",
       "    </tr>\n",
       "    <tr>\n",
       "      <th>1</th>\n",
       "      <td>10000</td>\n",
       "      <td>0.5</td>\n",
       "      <td>4</td>\n",
       "      <td>16.647415</td>\n",
       "      <td>dfiv_low_dim_noise_demand_mu</td>\n",
       "    </tr>\n",
       "    <tr>\n",
       "      <th>2</th>\n",
       "      <td>10000</td>\n",
       "      <td>0.5</td>\n",
       "      <td>4</td>\n",
       "      <td>15.237683</td>\n",
       "      <td>dfiv_low_dim_noise_demand_mu</td>\n",
       "    </tr>\n",
       "    <tr>\n",
       "      <th>3</th>\n",
       "      <td>10000</td>\n",
       "      <td>0.5</td>\n",
       "      <td>4</td>\n",
       "      <td>20.659525</td>\n",
       "      <td>dfiv_low_dim_noise_demand_mu</td>\n",
       "    </tr>\n",
       "    <tr>\n",
       "      <th>4</th>\n",
       "      <td>10000</td>\n",
       "      <td>0.5</td>\n",
       "      <td>4</td>\n",
       "      <td>16.168991</td>\n",
       "      <td>dfiv_low_dim_noise_demand_mu</td>\n",
       "    </tr>\n",
       "  </tbody>\n",
       "</table>\n",
       "</div>"
      ],
      "text/plain": [
       "  data_size  rho parcs_config       rmse                           dir\n",
       "0     10000  0.5            8  22.783050  dfiv_low_dim_noise_demand_mu\n",
       "1     10000  0.5            8  19.448071  dfiv_low_dim_noise_demand_mu\n",
       "2     10000  0.5            8  19.584381  dfiv_low_dim_noise_demand_mu\n",
       "3     10000  0.5            8  26.383984  dfiv_low_dim_noise_demand_mu\n",
       "4     10000  0.5            8  20.426969  dfiv_low_dim_noise_demand_mu\n",
       "0     10000  0.5            2  13.830667  dfiv_low_dim_noise_demand_mu\n",
       "1     10000  0.5            2  15.430808  dfiv_low_dim_noise_demand_mu\n",
       "2     10000  0.5            2  14.879340  dfiv_low_dim_noise_demand_mu\n",
       "3     10000  0.5            2  15.545421  dfiv_low_dim_noise_demand_mu\n",
       "4     10000  0.5            2  14.289064  dfiv_low_dim_noise_demand_mu\n",
       "0     10000  0.5            4  20.626984  dfiv_low_dim_noise_demand_mu\n",
       "1     10000  0.5            4  16.647415  dfiv_low_dim_noise_demand_mu\n",
       "2     10000  0.5            4  15.237683  dfiv_low_dim_noise_demand_mu\n",
       "3     10000  0.5            4  20.659525  dfiv_low_dim_noise_demand_mu\n",
       "4     10000  0.5            4  16.168991  dfiv_low_dim_noise_demand_mu"
      ]
     },
     "execution_count": 51,
     "metadata": {},
     "output_type": "execute_result"
    }
   ],
   "source": [
    "df_parcs =  get_results('dfiv_low_dim_noise_demand_mu')\n",
    "df_parcs = df_parcs.fillna(0)\n",
    "# set(df.sigma)\n",
    "# df_parcs.sigma = ['0' if val == 'None' else val for val in df_parcs.sigma]\n",
    "df_parcs = df_parcs[df_parcs['rho'] == '0.5']\n",
    "df_parcs = df_parcs[df_parcs['data_size'] == '10000']\n",
    "df_parcs['parcs_config'] = df_parcs['parcs_config'].apply(lambda x: 'None' if x == 'None' else x.split('_')[-1])\n",
    "# df_parcs = df_parcs[['rmse', 'dir']]\n",
    "# set(df_parcs.sigma)\n",
    "df_parcs"
   ]
  },
  {
   "cell_type": "code",
   "execution_count": 52,
   "metadata": {},
   "outputs": [
    {
     "data": {
      "text/html": [
       "<div>\n",
       "<style scoped>\n",
       "    .dataframe tbody tr th:only-of-type {\n",
       "        vertical-align: middle;\n",
       "    }\n",
       "\n",
       "    .dataframe tbody tr th {\n",
       "        vertical-align: top;\n",
       "    }\n",
       "\n",
       "    .dataframe thead th {\n",
       "        text-align: right;\n",
       "    }\n",
       "</style>\n",
       "<table border=\"1\" class=\"dataframe\">\n",
       "  <thead>\n",
       "    <tr style=\"text-align: right;\">\n",
       "      <th></th>\n",
       "      <th>data_size</th>\n",
       "      <th>rho</th>\n",
       "      <th>rmse</th>\n",
       "      <th>dir</th>\n",
       "    </tr>\n",
       "  </thead>\n",
       "  <tbody>\n",
       "    <tr>\n",
       "      <th>0</th>\n",
       "      <td>10000</td>\n",
       "      <td>0.5</td>\n",
       "      <td>18.132303</td>\n",
       "      <td>dfiv_low_dim_original</td>\n",
       "    </tr>\n",
       "    <tr>\n",
       "      <th>1</th>\n",
       "      <td>10000</td>\n",
       "      <td>0.5</td>\n",
       "      <td>15.151604</td>\n",
       "      <td>dfiv_low_dim_original</td>\n",
       "    </tr>\n",
       "    <tr>\n",
       "      <th>2</th>\n",
       "      <td>10000</td>\n",
       "      <td>0.5</td>\n",
       "      <td>15.876135</td>\n",
       "      <td>dfiv_low_dim_original</td>\n",
       "    </tr>\n",
       "    <tr>\n",
       "      <th>3</th>\n",
       "      <td>10000</td>\n",
       "      <td>0.5</td>\n",
       "      <td>15.062214</td>\n",
       "      <td>dfiv_low_dim_original</td>\n",
       "    </tr>\n",
       "    <tr>\n",
       "      <th>4</th>\n",
       "      <td>10000</td>\n",
       "      <td>0.5</td>\n",
       "      <td>11.821062</td>\n",
       "      <td>dfiv_low_dim_original</td>\n",
       "    </tr>\n",
       "  </tbody>\n",
       "</table>\n",
       "</div>"
      ],
      "text/plain": [
       "  data_size  rho       rmse                    dir\n",
       "0     10000  0.5  18.132303  dfiv_low_dim_original\n",
       "1     10000  0.5  15.151604  dfiv_low_dim_original\n",
       "2     10000  0.5  15.876135  dfiv_low_dim_original\n",
       "3     10000  0.5  15.062214  dfiv_low_dim_original\n",
       "4     10000  0.5  11.821062  dfiv_low_dim_original"
      ]
     },
     "execution_count": 52,
     "metadata": {},
     "output_type": "execute_result"
    }
   ],
   "source": [
    "df_orignal = get_results('dfiv_low_dim_original')\n",
    "# df_orignal['rho'] = '0.5'\n",
    "df_orignal = df_orignal[df_orignal['rho'] == '0.5']\n",
    "df_orignal = df_orignal[df_orignal['data_size'] == '10000']\n",
    "df_orignal"
   ]
  },
  {
   "cell_type": "code",
   "execution_count": 53,
   "metadata": {},
   "outputs": [],
   "source": [
    "df_comb = pd.concat([df_parcs, df_orignal])\n",
    "df_comb\n",
    "df_comb = df_comb.fillna('0')\n",
    "# df_comb = df_comb[df_comb['rho'] == '0.5']\n",
    "# df_comb"
   ]
  },
  {
   "cell_type": "code",
   "execution_count": 54,
   "metadata": {},
   "outputs": [
    {
     "data": {
      "text/html": [
       "<div>\n",
       "<style scoped>\n",
       "    .dataframe tbody tr th:only-of-type {\n",
       "        vertical-align: middle;\n",
       "    }\n",
       "\n",
       "    .dataframe tbody tr th {\n",
       "        vertical-align: top;\n",
       "    }\n",
       "\n",
       "    .dataframe thead th {\n",
       "        text-align: right;\n",
       "    }\n",
       "</style>\n",
       "<table border=\"1\" class=\"dataframe\">\n",
       "  <thead>\n",
       "    <tr style=\"text-align: right;\">\n",
       "      <th></th>\n",
       "      <th>data_size</th>\n",
       "      <th>rho</th>\n",
       "      <th>parcs_config</th>\n",
       "      <th>rmse</th>\n",
       "      <th>dir</th>\n",
       "      <th>case</th>\n",
       "    </tr>\n",
       "  </thead>\n",
       "  <tbody>\n",
       "    <tr>\n",
       "      <th>0</th>\n",
       "      <td>10000</td>\n",
       "      <td>0.5</td>\n",
       "      <td>8</td>\n",
       "      <td>22.783050</td>\n",
       "      <td>dfiv_low_dim_noise_demand_mu</td>\n",
       "      <td>Strong HC</td>\n",
       "    </tr>\n",
       "    <tr>\n",
       "      <th>1</th>\n",
       "      <td>10000</td>\n",
       "      <td>0.5</td>\n",
       "      <td>8</td>\n",
       "      <td>19.448071</td>\n",
       "      <td>dfiv_low_dim_noise_demand_mu</td>\n",
       "      <td>Strong HC</td>\n",
       "    </tr>\n",
       "    <tr>\n",
       "      <th>2</th>\n",
       "      <td>10000</td>\n",
       "      <td>0.5</td>\n",
       "      <td>8</td>\n",
       "      <td>19.584381</td>\n",
       "      <td>dfiv_low_dim_noise_demand_mu</td>\n",
       "      <td>Strong HC</td>\n",
       "    </tr>\n",
       "    <tr>\n",
       "      <th>3</th>\n",
       "      <td>10000</td>\n",
       "      <td>0.5</td>\n",
       "      <td>8</td>\n",
       "      <td>26.383984</td>\n",
       "      <td>dfiv_low_dim_noise_demand_mu</td>\n",
       "      <td>Strong HC</td>\n",
       "    </tr>\n",
       "    <tr>\n",
       "      <th>4</th>\n",
       "      <td>10000</td>\n",
       "      <td>0.5</td>\n",
       "      <td>8</td>\n",
       "      <td>20.426969</td>\n",
       "      <td>dfiv_low_dim_noise_demand_mu</td>\n",
       "      <td>Strong HC</td>\n",
       "    </tr>\n",
       "    <tr>\n",
       "      <th>0</th>\n",
       "      <td>10000</td>\n",
       "      <td>0.5</td>\n",
       "      <td>2</td>\n",
       "      <td>13.830667</td>\n",
       "      <td>dfiv_low_dim_noise_demand_mu</td>\n",
       "      <td>Strong HC</td>\n",
       "    </tr>\n",
       "    <tr>\n",
       "      <th>1</th>\n",
       "      <td>10000</td>\n",
       "      <td>0.5</td>\n",
       "      <td>2</td>\n",
       "      <td>15.430808</td>\n",
       "      <td>dfiv_low_dim_noise_demand_mu</td>\n",
       "      <td>Strong HC</td>\n",
       "    </tr>\n",
       "    <tr>\n",
       "      <th>2</th>\n",
       "      <td>10000</td>\n",
       "      <td>0.5</td>\n",
       "      <td>2</td>\n",
       "      <td>14.879340</td>\n",
       "      <td>dfiv_low_dim_noise_demand_mu</td>\n",
       "      <td>Strong HC</td>\n",
       "    </tr>\n",
       "    <tr>\n",
       "      <th>3</th>\n",
       "      <td>10000</td>\n",
       "      <td>0.5</td>\n",
       "      <td>2</td>\n",
       "      <td>15.545421</td>\n",
       "      <td>dfiv_low_dim_noise_demand_mu</td>\n",
       "      <td>Strong HC</td>\n",
       "    </tr>\n",
       "    <tr>\n",
       "      <th>4</th>\n",
       "      <td>10000</td>\n",
       "      <td>0.5</td>\n",
       "      <td>2</td>\n",
       "      <td>14.289064</td>\n",
       "      <td>dfiv_low_dim_noise_demand_mu</td>\n",
       "      <td>Strong HC</td>\n",
       "    </tr>\n",
       "    <tr>\n",
       "      <th>0</th>\n",
       "      <td>10000</td>\n",
       "      <td>0.5</td>\n",
       "      <td>4</td>\n",
       "      <td>20.626984</td>\n",
       "      <td>dfiv_low_dim_noise_demand_mu</td>\n",
       "      <td>Strong HC</td>\n",
       "    </tr>\n",
       "    <tr>\n",
       "      <th>1</th>\n",
       "      <td>10000</td>\n",
       "      <td>0.5</td>\n",
       "      <td>4</td>\n",
       "      <td>16.647415</td>\n",
       "      <td>dfiv_low_dim_noise_demand_mu</td>\n",
       "      <td>Strong HC</td>\n",
       "    </tr>\n",
       "    <tr>\n",
       "      <th>2</th>\n",
       "      <td>10000</td>\n",
       "      <td>0.5</td>\n",
       "      <td>4</td>\n",
       "      <td>15.237683</td>\n",
       "      <td>dfiv_low_dim_noise_demand_mu</td>\n",
       "      <td>Strong HC</td>\n",
       "    </tr>\n",
       "    <tr>\n",
       "      <th>3</th>\n",
       "      <td>10000</td>\n",
       "      <td>0.5</td>\n",
       "      <td>4</td>\n",
       "      <td>20.659525</td>\n",
       "      <td>dfiv_low_dim_noise_demand_mu</td>\n",
       "      <td>Strong HC</td>\n",
       "    </tr>\n",
       "    <tr>\n",
       "      <th>4</th>\n",
       "      <td>10000</td>\n",
       "      <td>0.5</td>\n",
       "      <td>4</td>\n",
       "      <td>16.168991</td>\n",
       "      <td>dfiv_low_dim_noise_demand_mu</td>\n",
       "      <td>Strong HC</td>\n",
       "    </tr>\n",
       "    <tr>\n",
       "      <th>0</th>\n",
       "      <td>10000</td>\n",
       "      <td>0.5</td>\n",
       "      <td>0</td>\n",
       "      <td>18.132303</td>\n",
       "      <td>dfiv_low_dim_original</td>\n",
       "      <td>Original</td>\n",
       "    </tr>\n",
       "    <tr>\n",
       "      <th>1</th>\n",
       "      <td>10000</td>\n",
       "      <td>0.5</td>\n",
       "      <td>0</td>\n",
       "      <td>15.151604</td>\n",
       "      <td>dfiv_low_dim_original</td>\n",
       "      <td>Original</td>\n",
       "    </tr>\n",
       "    <tr>\n",
       "      <th>2</th>\n",
       "      <td>10000</td>\n",
       "      <td>0.5</td>\n",
       "      <td>0</td>\n",
       "      <td>15.876135</td>\n",
       "      <td>dfiv_low_dim_original</td>\n",
       "      <td>Original</td>\n",
       "    </tr>\n",
       "    <tr>\n",
       "      <th>3</th>\n",
       "      <td>10000</td>\n",
       "      <td>0.5</td>\n",
       "      <td>0</td>\n",
       "      <td>15.062214</td>\n",
       "      <td>dfiv_low_dim_original</td>\n",
       "      <td>Original</td>\n",
       "    </tr>\n",
       "    <tr>\n",
       "      <th>4</th>\n",
       "      <td>10000</td>\n",
       "      <td>0.5</td>\n",
       "      <td>0</td>\n",
       "      <td>11.821062</td>\n",
       "      <td>dfiv_low_dim_original</td>\n",
       "      <td>Original</td>\n",
       "    </tr>\n",
       "  </tbody>\n",
       "</table>\n",
       "</div>"
      ],
      "text/plain": [
       "  data_size  rho parcs_config       rmse                           dir  \\\n",
       "0     10000  0.5            8  22.783050  dfiv_low_dim_noise_demand_mu   \n",
       "1     10000  0.5            8  19.448071  dfiv_low_dim_noise_demand_mu   \n",
       "2     10000  0.5            8  19.584381  dfiv_low_dim_noise_demand_mu   \n",
       "3     10000  0.5            8  26.383984  dfiv_low_dim_noise_demand_mu   \n",
       "4     10000  0.5            8  20.426969  dfiv_low_dim_noise_demand_mu   \n",
       "0     10000  0.5            2  13.830667  dfiv_low_dim_noise_demand_mu   \n",
       "1     10000  0.5            2  15.430808  dfiv_low_dim_noise_demand_mu   \n",
       "2     10000  0.5            2  14.879340  dfiv_low_dim_noise_demand_mu   \n",
       "3     10000  0.5            2  15.545421  dfiv_low_dim_noise_demand_mu   \n",
       "4     10000  0.5            2  14.289064  dfiv_low_dim_noise_demand_mu   \n",
       "0     10000  0.5            4  20.626984  dfiv_low_dim_noise_demand_mu   \n",
       "1     10000  0.5            4  16.647415  dfiv_low_dim_noise_demand_mu   \n",
       "2     10000  0.5            4  15.237683  dfiv_low_dim_noise_demand_mu   \n",
       "3     10000  0.5            4  20.659525  dfiv_low_dim_noise_demand_mu   \n",
       "4     10000  0.5            4  16.168991  dfiv_low_dim_noise_demand_mu   \n",
       "0     10000  0.5            0  18.132303         dfiv_low_dim_original   \n",
       "1     10000  0.5            0  15.151604         dfiv_low_dim_original   \n",
       "2     10000  0.5            0  15.876135         dfiv_low_dim_original   \n",
       "3     10000  0.5            0  15.062214         dfiv_low_dim_original   \n",
       "4     10000  0.5            0  11.821062         dfiv_low_dim_original   \n",
       "\n",
       "        case  \n",
       "0  Strong HC  \n",
       "1  Strong HC  \n",
       "2  Strong HC  \n",
       "3  Strong HC  \n",
       "4  Strong HC  \n",
       "0  Strong HC  \n",
       "1  Strong HC  \n",
       "2  Strong HC  \n",
       "3  Strong HC  \n",
       "4  Strong HC  \n",
       "0  Strong HC  \n",
       "1  Strong HC  \n",
       "2  Strong HC  \n",
       "3  Strong HC  \n",
       "4  Strong HC  \n",
       "0   Original  \n",
       "1   Original  \n",
       "2   Original  \n",
       "3   Original  \n",
       "4   Original  "
      ]
     },
     "execution_count": 54,
     "metadata": {},
     "output_type": "execute_result"
    }
   ],
   "source": [
    "df_comb.loc[df_comb['dir'] == 'dfiv_low_dim_original', 'case'] = 'Original'\n",
    "df_comb.loc[df_comb['dir'] == 'dfiv_low_dim_noise_demand_mu', 'case'] = \"Strong HC\"\n",
    "df_comb"
   ]
  },
  {
   "cell_type": "code",
   "execution_count": 55,
   "metadata": {},
   "outputs": [
    {
     "data": {
      "text/html": [
       "<div>\n",
       "<style scoped>\n",
       "    .dataframe tbody tr th:only-of-type {\n",
       "        vertical-align: middle;\n",
       "    }\n",
       "\n",
       "    .dataframe tbody tr th {\n",
       "        vertical-align: top;\n",
       "    }\n",
       "\n",
       "    .dataframe thead th {\n",
       "        text-align: right;\n",
       "    }\n",
       "</style>\n",
       "<table border=\"1\" class=\"dataframe\">\n",
       "  <thead>\n",
       "    <tr style=\"text-align: right;\">\n",
       "      <th></th>\n",
       "      <th>case</th>\n",
       "      <th>parcs_config</th>\n",
       "      <th>rmse</th>\n",
       "    </tr>\n",
       "  </thead>\n",
       "  <tbody>\n",
       "    <tr>\n",
       "      <th>0</th>\n",
       "      <td>Original</td>\n",
       "      <td>0</td>\n",
       "      <td>15.208664</td>\n",
       "    </tr>\n",
       "    <tr>\n",
       "      <th>1</th>\n",
       "      <td>Strong HC</td>\n",
       "      <td>2</td>\n",
       "      <td>14.795060</td>\n",
       "    </tr>\n",
       "    <tr>\n",
       "      <th>2</th>\n",
       "      <td>Strong HC</td>\n",
       "      <td>4</td>\n",
       "      <td>17.868120</td>\n",
       "    </tr>\n",
       "    <tr>\n",
       "      <th>3</th>\n",
       "      <td>Strong HC</td>\n",
       "      <td>8</td>\n",
       "      <td>21.725291</td>\n",
       "    </tr>\n",
       "  </tbody>\n",
       "</table>\n",
       "</div>"
      ],
      "text/plain": [
       "        case parcs_config       rmse\n",
       "0   Original            0  15.208664\n",
       "1  Strong HC            2  14.795060\n",
       "2  Strong HC            4  17.868120\n",
       "3  Strong HC            8  21.725291"
      ]
     },
     "execution_count": 55,
     "metadata": {},
     "output_type": "execute_result"
    }
   ],
   "source": [
    "df_avg = df_comb.groupby(['case', 'parcs_config']).mean()\n",
    "df_avg = df_avg.reset_index()\n",
    "df_avg = df_avg.fillna(0)\n",
    "# df_avg = df_avg[df_avg['rho'] == '0.5']\n",
    "df_avg"
   ]
  },
  {
   "cell_type": "code",
   "execution_count": 56,
   "metadata": {},
   "outputs": [
    {
     "data": {
      "text/html": [
       "<div>\n",
       "<style scoped>\n",
       "    .dataframe tbody tr th:only-of-type {\n",
       "        vertical-align: middle;\n",
       "    }\n",
       "\n",
       "    .dataframe tbody tr th {\n",
       "        vertical-align: top;\n",
       "    }\n",
       "\n",
       "    .dataframe thead th {\n",
       "        text-align: right;\n",
       "    }\n",
       "</style>\n",
       "<table border=\"1\" class=\"dataframe\">\n",
       "  <thead>\n",
       "    <tr style=\"text-align: right;\">\n",
       "      <th></th>\n",
       "      <th>case</th>\n",
       "      <th>parcs_config</th>\n",
       "      <th>rmse</th>\n",
       "    </tr>\n",
       "  </thead>\n",
       "  <tbody>\n",
       "    <tr>\n",
       "      <th>0</th>\n",
       "      <td>Original</td>\n",
       "      <td>0</td>\n",
       "      <td>2.263500</td>\n",
       "    </tr>\n",
       "    <tr>\n",
       "      <th>1</th>\n",
       "      <td>Strong HC</td>\n",
       "      <td>2</td>\n",
       "      <td>0.734916</td>\n",
       "    </tr>\n",
       "    <tr>\n",
       "      <th>2</th>\n",
       "      <td>Strong HC</td>\n",
       "      <td>4</td>\n",
       "      <td>2.583584</td>\n",
       "    </tr>\n",
       "    <tr>\n",
       "      <th>3</th>\n",
       "      <td>Strong HC</td>\n",
       "      <td>8</td>\n",
       "      <td>2.927334</td>\n",
       "    </tr>\n",
       "  </tbody>\n",
       "</table>\n",
       "</div>"
      ],
      "text/plain": [
       "        case parcs_config      rmse\n",
       "0   Original            0  2.263500\n",
       "1  Strong HC            2  0.734916\n",
       "2  Strong HC            4  2.583584\n",
       "3  Strong HC            8  2.927334"
      ]
     },
     "execution_count": 56,
     "metadata": {},
     "output_type": "execute_result"
    }
   ],
   "source": [
    "df_std = df_comb.groupby(['case', 'parcs_config'])['rmse'].std()\n",
    "df_std = df_std.reset_index()\n",
    "# df_std[df_std['rho'] == '0.5']\n",
    "df_std"
   ]
  },
  {
   "cell_type": "code",
   "execution_count": 57,
   "metadata": {},
   "outputs": [
    {
     "data": {
      "text/html": [
       "<div>\n",
       "<style scoped>\n",
       "    .dataframe tbody tr th:only-of-type {\n",
       "        vertical-align: middle;\n",
       "    }\n",
       "\n",
       "    .dataframe tbody tr th {\n",
       "        vertical-align: top;\n",
       "    }\n",
       "\n",
       "    .dataframe thead th {\n",
       "        text-align: right;\n",
       "    }\n",
       "</style>\n",
       "<table border=\"1\" class=\"dataframe\">\n",
       "  <thead>\n",
       "    <tr style=\"text-align: right;\">\n",
       "      <th></th>\n",
       "      <th>case</th>\n",
       "      <th>parcs_config</th>\n",
       "      <th>rmse</th>\n",
       "      <th>std</th>\n",
       "    </tr>\n",
       "  </thead>\n",
       "  <tbody>\n",
       "    <tr>\n",
       "      <th>0</th>\n",
       "      <td>Original</td>\n",
       "      <td>0</td>\n",
       "      <td>15.208664</td>\n",
       "      <td>2.263500</td>\n",
       "    </tr>\n",
       "    <tr>\n",
       "      <th>1</th>\n",
       "      <td>Strong HC</td>\n",
       "      <td>2</td>\n",
       "      <td>14.795060</td>\n",
       "      <td>0.734916</td>\n",
       "    </tr>\n",
       "    <tr>\n",
       "      <th>2</th>\n",
       "      <td>Strong HC</td>\n",
       "      <td>4</td>\n",
       "      <td>17.868120</td>\n",
       "      <td>2.583584</td>\n",
       "    </tr>\n",
       "    <tr>\n",
       "      <th>3</th>\n",
       "      <td>Strong HC</td>\n",
       "      <td>8</td>\n",
       "      <td>21.725291</td>\n",
       "      <td>2.927334</td>\n",
       "    </tr>\n",
       "  </tbody>\n",
       "</table>\n",
       "</div>"
      ],
      "text/plain": [
       "        case parcs_config       rmse       std\n",
       "0   Original            0  15.208664  2.263500\n",
       "1  Strong HC            2  14.795060  0.734916\n",
       "2  Strong HC            4  17.868120  2.583584\n",
       "3  Strong HC            8  21.725291  2.927334"
      ]
     },
     "execution_count": 57,
     "metadata": {},
     "output_type": "execute_result"
    }
   ],
   "source": [
    "df_avg['std'] = df_std['rmse']\n",
    "df_avg"
   ]
  },
  {
   "cell_type": "code",
   "execution_count": 58,
   "metadata": {},
   "outputs": [
    {
     "data": {
      "text/html": [
       "<div>\n",
       "<style scoped>\n",
       "    .dataframe tbody tr th:only-of-type {\n",
       "        vertical-align: middle;\n",
       "    }\n",
       "\n",
       "    .dataframe tbody tr th {\n",
       "        vertical-align: top;\n",
       "    }\n",
       "\n",
       "    .dataframe thead th {\n",
       "        text-align: right;\n",
       "    }\n",
       "</style>\n",
       "<table border=\"1\" class=\"dataframe\">\n",
       "  <thead>\n",
       "    <tr style=\"text-align: right;\">\n",
       "      <th></th>\n",
       "      <th>data_size</th>\n",
       "      <th>rho</th>\n",
       "      <th>parcs_config</th>\n",
       "      <th>rmse</th>\n",
       "      <th>dir</th>\n",
       "      <th>case</th>\n",
       "    </tr>\n",
       "  </thead>\n",
       "  <tbody>\n",
       "    <tr>\n",
       "      <th>0</th>\n",
       "      <td>10000</td>\n",
       "      <td>0.5</td>\n",
       "      <td>8</td>\n",
       "      <td>22.783050</td>\n",
       "      <td>dfiv_low_dim_noise_demand_mu</td>\n",
       "      <td>Strong HC</td>\n",
       "    </tr>\n",
       "    <tr>\n",
       "      <th>1</th>\n",
       "      <td>10000</td>\n",
       "      <td>0.5</td>\n",
       "      <td>8</td>\n",
       "      <td>19.448071</td>\n",
       "      <td>dfiv_low_dim_noise_demand_mu</td>\n",
       "      <td>Strong HC</td>\n",
       "    </tr>\n",
       "    <tr>\n",
       "      <th>2</th>\n",
       "      <td>10000</td>\n",
       "      <td>0.5</td>\n",
       "      <td>8</td>\n",
       "      <td>19.584381</td>\n",
       "      <td>dfiv_low_dim_noise_demand_mu</td>\n",
       "      <td>Strong HC</td>\n",
       "    </tr>\n",
       "    <tr>\n",
       "      <th>3</th>\n",
       "      <td>10000</td>\n",
       "      <td>0.5</td>\n",
       "      <td>8</td>\n",
       "      <td>26.383984</td>\n",
       "      <td>dfiv_low_dim_noise_demand_mu</td>\n",
       "      <td>Strong HC</td>\n",
       "    </tr>\n",
       "    <tr>\n",
       "      <th>4</th>\n",
       "      <td>10000</td>\n",
       "      <td>0.5</td>\n",
       "      <td>8</td>\n",
       "      <td>20.426969</td>\n",
       "      <td>dfiv_low_dim_noise_demand_mu</td>\n",
       "      <td>Strong HC</td>\n",
       "    </tr>\n",
       "    <tr>\n",
       "      <th>0</th>\n",
       "      <td>10000</td>\n",
       "      <td>0.5</td>\n",
       "      <td>2</td>\n",
       "      <td>13.830667</td>\n",
       "      <td>dfiv_low_dim_noise_demand_mu</td>\n",
       "      <td>Strong HC</td>\n",
       "    </tr>\n",
       "    <tr>\n",
       "      <th>1</th>\n",
       "      <td>10000</td>\n",
       "      <td>0.5</td>\n",
       "      <td>2</td>\n",
       "      <td>15.430808</td>\n",
       "      <td>dfiv_low_dim_noise_demand_mu</td>\n",
       "      <td>Strong HC</td>\n",
       "    </tr>\n",
       "    <tr>\n",
       "      <th>2</th>\n",
       "      <td>10000</td>\n",
       "      <td>0.5</td>\n",
       "      <td>2</td>\n",
       "      <td>14.879340</td>\n",
       "      <td>dfiv_low_dim_noise_demand_mu</td>\n",
       "      <td>Strong HC</td>\n",
       "    </tr>\n",
       "    <tr>\n",
       "      <th>3</th>\n",
       "      <td>10000</td>\n",
       "      <td>0.5</td>\n",
       "      <td>2</td>\n",
       "      <td>15.545421</td>\n",
       "      <td>dfiv_low_dim_noise_demand_mu</td>\n",
       "      <td>Strong HC</td>\n",
       "    </tr>\n",
       "    <tr>\n",
       "      <th>4</th>\n",
       "      <td>10000</td>\n",
       "      <td>0.5</td>\n",
       "      <td>2</td>\n",
       "      <td>14.289064</td>\n",
       "      <td>dfiv_low_dim_noise_demand_mu</td>\n",
       "      <td>Strong HC</td>\n",
       "    </tr>\n",
       "    <tr>\n",
       "      <th>0</th>\n",
       "      <td>10000</td>\n",
       "      <td>0.5</td>\n",
       "      <td>4</td>\n",
       "      <td>20.626984</td>\n",
       "      <td>dfiv_low_dim_noise_demand_mu</td>\n",
       "      <td>Strong HC</td>\n",
       "    </tr>\n",
       "    <tr>\n",
       "      <th>1</th>\n",
       "      <td>10000</td>\n",
       "      <td>0.5</td>\n",
       "      <td>4</td>\n",
       "      <td>16.647415</td>\n",
       "      <td>dfiv_low_dim_noise_demand_mu</td>\n",
       "      <td>Strong HC</td>\n",
       "    </tr>\n",
       "    <tr>\n",
       "      <th>2</th>\n",
       "      <td>10000</td>\n",
       "      <td>0.5</td>\n",
       "      <td>4</td>\n",
       "      <td>15.237683</td>\n",
       "      <td>dfiv_low_dim_noise_demand_mu</td>\n",
       "      <td>Strong HC</td>\n",
       "    </tr>\n",
       "    <tr>\n",
       "      <th>3</th>\n",
       "      <td>10000</td>\n",
       "      <td>0.5</td>\n",
       "      <td>4</td>\n",
       "      <td>20.659525</td>\n",
       "      <td>dfiv_low_dim_noise_demand_mu</td>\n",
       "      <td>Strong HC</td>\n",
       "    </tr>\n",
       "    <tr>\n",
       "      <th>4</th>\n",
       "      <td>10000</td>\n",
       "      <td>0.5</td>\n",
       "      <td>4</td>\n",
       "      <td>16.168991</td>\n",
       "      <td>dfiv_low_dim_noise_demand_mu</td>\n",
       "      <td>Strong HC</td>\n",
       "    </tr>\n",
       "    <tr>\n",
       "      <th>0</th>\n",
       "      <td>10000</td>\n",
       "      <td>0.5</td>\n",
       "      <td>0</td>\n",
       "      <td>18.132303</td>\n",
       "      <td>dfiv_low_dim_original</td>\n",
       "      <td>Original</td>\n",
       "    </tr>\n",
       "    <tr>\n",
       "      <th>1</th>\n",
       "      <td>10000</td>\n",
       "      <td>0.5</td>\n",
       "      <td>0</td>\n",
       "      <td>15.151604</td>\n",
       "      <td>dfiv_low_dim_original</td>\n",
       "      <td>Original</td>\n",
       "    </tr>\n",
       "    <tr>\n",
       "      <th>2</th>\n",
       "      <td>10000</td>\n",
       "      <td>0.5</td>\n",
       "      <td>0</td>\n",
       "      <td>15.876135</td>\n",
       "      <td>dfiv_low_dim_original</td>\n",
       "      <td>Original</td>\n",
       "    </tr>\n",
       "    <tr>\n",
       "      <th>3</th>\n",
       "      <td>10000</td>\n",
       "      <td>0.5</td>\n",
       "      <td>0</td>\n",
       "      <td>15.062214</td>\n",
       "      <td>dfiv_low_dim_original</td>\n",
       "      <td>Original</td>\n",
       "    </tr>\n",
       "    <tr>\n",
       "      <th>4</th>\n",
       "      <td>10000</td>\n",
       "      <td>0.5</td>\n",
       "      <td>0</td>\n",
       "      <td>11.821062</td>\n",
       "      <td>dfiv_low_dim_original</td>\n",
       "      <td>Original</td>\n",
       "    </tr>\n",
       "  </tbody>\n",
       "</table>\n",
       "</div>"
      ],
      "text/plain": [
       "  data_size  rho parcs_config       rmse                           dir  \\\n",
       "0     10000  0.5            8  22.783050  dfiv_low_dim_noise_demand_mu   \n",
       "1     10000  0.5            8  19.448071  dfiv_low_dim_noise_demand_mu   \n",
       "2     10000  0.5            8  19.584381  dfiv_low_dim_noise_demand_mu   \n",
       "3     10000  0.5            8  26.383984  dfiv_low_dim_noise_demand_mu   \n",
       "4     10000  0.5            8  20.426969  dfiv_low_dim_noise_demand_mu   \n",
       "0     10000  0.5            2  13.830667  dfiv_low_dim_noise_demand_mu   \n",
       "1     10000  0.5            2  15.430808  dfiv_low_dim_noise_demand_mu   \n",
       "2     10000  0.5            2  14.879340  dfiv_low_dim_noise_demand_mu   \n",
       "3     10000  0.5            2  15.545421  dfiv_low_dim_noise_demand_mu   \n",
       "4     10000  0.5            2  14.289064  dfiv_low_dim_noise_demand_mu   \n",
       "0     10000  0.5            4  20.626984  dfiv_low_dim_noise_demand_mu   \n",
       "1     10000  0.5            4  16.647415  dfiv_low_dim_noise_demand_mu   \n",
       "2     10000  0.5            4  15.237683  dfiv_low_dim_noise_demand_mu   \n",
       "3     10000  0.5            4  20.659525  dfiv_low_dim_noise_demand_mu   \n",
       "4     10000  0.5            4  16.168991  dfiv_low_dim_noise_demand_mu   \n",
       "0     10000  0.5            0  18.132303         dfiv_low_dim_original   \n",
       "1     10000  0.5            0  15.151604         dfiv_low_dim_original   \n",
       "2     10000  0.5            0  15.876135         dfiv_low_dim_original   \n",
       "3     10000  0.5            0  15.062214         dfiv_low_dim_original   \n",
       "4     10000  0.5            0  11.821062         dfiv_low_dim_original   \n",
       "\n",
       "        case  \n",
       "0  Strong HC  \n",
       "1  Strong HC  \n",
       "2  Strong HC  \n",
       "3  Strong HC  \n",
       "4  Strong HC  \n",
       "0  Strong HC  \n",
       "1  Strong HC  \n",
       "2  Strong HC  \n",
       "3  Strong HC  \n",
       "4  Strong HC  \n",
       "0  Strong HC  \n",
       "1  Strong HC  \n",
       "2  Strong HC  \n",
       "3  Strong HC  \n",
       "4  Strong HC  \n",
       "0   Original  \n",
       "1   Original  \n",
       "2   Original  \n",
       "3   Original  \n",
       "4   Original  "
      ]
     },
     "execution_count": 58,
     "metadata": {},
     "output_type": "execute_result"
    }
   ],
   "source": [
    "# df_comb = df_comb.loc[df_comb['data_size'] != '1000']\n",
    "df_comb"
   ]
  },
  {
   "cell_type": "code",
   "execution_count": 59,
   "metadata": {
    "tags": []
   },
   "outputs": [
    {
     "data": {
      "application/vnd.plotly.v1+json": {
       "config": {
        "plotlyServerURL": "https://plot.ly"
       },
       "data": [
        {
         "alignmentgroup": "True",
         "boxpoints": "all",
         "hovertemplate": "Case=Strong HC<br>parcs_config=%{x}<br>rmse=%{y}<extra></extra>",
         "legendgroup": "Strong HC",
         "marker": {
          "color": "#636efa"
         },
         "name": "Strong HC",
         "notched": false,
         "offsetgroup": "Strong HC",
         "orientation": "v",
         "showlegend": true,
         "type": "box",
         "width": 0.6,
         "x": [
          "8",
          "8",
          "8",
          "8",
          "8",
          "2",
          "2",
          "2",
          "2",
          "2",
          "4",
          "4",
          "4",
          "4",
          "4"
         ],
         "x0": " ",
         "xaxis": "x",
         "y": [
          22.783050340384627,
          19.44807053436833,
          19.58438085906247,
          26.383984233307856,
          20.426969375824193,
          13.830666587581234,
          15.430808404696785,
          14.87933953080737,
          15.545420884415861,
          14.289063567864913,
          20.626984102008983,
          16.647414621322397,
          15.237682934133124,
          20.659525139845453,
          16.168991288787158
         ],
         "y0": " ",
         "yaxis": "y"
        },
        {
         "alignmentgroup": "True",
         "boxpoints": "all",
         "hovertemplate": "Case=Original<br>parcs_config=%{x}<br>rmse=%{y}<extra></extra>",
         "legendgroup": "Original",
         "marker": {
          "color": "#EF553B"
         },
         "name": "Original",
         "notched": false,
         "offsetgroup": "Original",
         "orientation": "v",
         "showlegend": true,
         "type": "box",
         "width": 0.6,
         "x": [
          "0",
          "0",
          "0",
          "0",
          "0"
         ],
         "x0": " ",
         "xaxis": "x",
         "y": [
          18.13230338444045,
          15.15160407207868,
          15.876135117205498,
          15.062213815843263,
          11.82106184112738
         ],
         "y0": " ",
         "yaxis": "y"
        }
       ],
       "layout": {
        "boxmode": "group",
        "font": {
         "size": 30
        },
        "height": 300,
        "legend": {
         "title": {
          "text": "Case"
         },
         "tracegroupgap": 0
        },
        "margin": {
         "t": 60
        },
        "template": {
         "data": {
          "bar": [
           {
            "error_x": {
             "color": "#2a3f5f"
            },
            "error_y": {
             "color": "#2a3f5f"
            },
            "marker": {
             "line": {
              "color": "#E5ECF6",
              "width": 0.5
             },
             "pattern": {
              "fillmode": "overlay",
              "size": 10,
              "solidity": 0.2
             }
            },
            "type": "bar"
           }
          ],
          "barpolar": [
           {
            "marker": {
             "line": {
              "color": "#E5ECF6",
              "width": 0.5
             },
             "pattern": {
              "fillmode": "overlay",
              "size": 10,
              "solidity": 0.2
             }
            },
            "type": "barpolar"
           }
          ],
          "carpet": [
           {
            "aaxis": {
             "endlinecolor": "#2a3f5f",
             "gridcolor": "white",
             "linecolor": "white",
             "minorgridcolor": "white",
             "startlinecolor": "#2a3f5f"
            },
            "baxis": {
             "endlinecolor": "#2a3f5f",
             "gridcolor": "white",
             "linecolor": "white",
             "minorgridcolor": "white",
             "startlinecolor": "#2a3f5f"
            },
            "type": "carpet"
           }
          ],
          "choropleth": [
           {
            "colorbar": {
             "outlinewidth": 0,
             "ticks": ""
            },
            "type": "choropleth"
           }
          ],
          "contour": [
           {
            "colorbar": {
             "outlinewidth": 0,
             "ticks": ""
            },
            "colorscale": [
             [
              0,
              "#0d0887"
             ],
             [
              0.1111111111111111,
              "#46039f"
             ],
             [
              0.2222222222222222,
              "#7201a8"
             ],
             [
              0.3333333333333333,
              "#9c179e"
             ],
             [
              0.4444444444444444,
              "#bd3786"
             ],
             [
              0.5555555555555556,
              "#d8576b"
             ],
             [
              0.6666666666666666,
              "#ed7953"
             ],
             [
              0.7777777777777778,
              "#fb9f3a"
             ],
             [
              0.8888888888888888,
              "#fdca26"
             ],
             [
              1,
              "#f0f921"
             ]
            ],
            "type": "contour"
           }
          ],
          "contourcarpet": [
           {
            "colorbar": {
             "outlinewidth": 0,
             "ticks": ""
            },
            "type": "contourcarpet"
           }
          ],
          "heatmap": [
           {
            "colorbar": {
             "outlinewidth": 0,
             "ticks": ""
            },
            "colorscale": [
             [
              0,
              "#0d0887"
             ],
             [
              0.1111111111111111,
              "#46039f"
             ],
             [
              0.2222222222222222,
              "#7201a8"
             ],
             [
              0.3333333333333333,
              "#9c179e"
             ],
             [
              0.4444444444444444,
              "#bd3786"
             ],
             [
              0.5555555555555556,
              "#d8576b"
             ],
             [
              0.6666666666666666,
              "#ed7953"
             ],
             [
              0.7777777777777778,
              "#fb9f3a"
             ],
             [
              0.8888888888888888,
              "#fdca26"
             ],
             [
              1,
              "#f0f921"
             ]
            ],
            "type": "heatmap"
           }
          ],
          "heatmapgl": [
           {
            "colorbar": {
             "outlinewidth": 0,
             "ticks": ""
            },
            "colorscale": [
             [
              0,
              "#0d0887"
             ],
             [
              0.1111111111111111,
              "#46039f"
             ],
             [
              0.2222222222222222,
              "#7201a8"
             ],
             [
              0.3333333333333333,
              "#9c179e"
             ],
             [
              0.4444444444444444,
              "#bd3786"
             ],
             [
              0.5555555555555556,
              "#d8576b"
             ],
             [
              0.6666666666666666,
              "#ed7953"
             ],
             [
              0.7777777777777778,
              "#fb9f3a"
             ],
             [
              0.8888888888888888,
              "#fdca26"
             ],
             [
              1,
              "#f0f921"
             ]
            ],
            "type": "heatmapgl"
           }
          ],
          "histogram": [
           {
            "marker": {
             "pattern": {
              "fillmode": "overlay",
              "size": 10,
              "solidity": 0.2
             }
            },
            "type": "histogram"
           }
          ],
          "histogram2d": [
           {
            "colorbar": {
             "outlinewidth": 0,
             "ticks": ""
            },
            "colorscale": [
             [
              0,
              "#0d0887"
             ],
             [
              0.1111111111111111,
              "#46039f"
             ],
             [
              0.2222222222222222,
              "#7201a8"
             ],
             [
              0.3333333333333333,
              "#9c179e"
             ],
             [
              0.4444444444444444,
              "#bd3786"
             ],
             [
              0.5555555555555556,
              "#d8576b"
             ],
             [
              0.6666666666666666,
              "#ed7953"
             ],
             [
              0.7777777777777778,
              "#fb9f3a"
             ],
             [
              0.8888888888888888,
              "#fdca26"
             ],
             [
              1,
              "#f0f921"
             ]
            ],
            "type": "histogram2d"
           }
          ],
          "histogram2dcontour": [
           {
            "colorbar": {
             "outlinewidth": 0,
             "ticks": ""
            },
            "colorscale": [
             [
              0,
              "#0d0887"
             ],
             [
              0.1111111111111111,
              "#46039f"
             ],
             [
              0.2222222222222222,
              "#7201a8"
             ],
             [
              0.3333333333333333,
              "#9c179e"
             ],
             [
              0.4444444444444444,
              "#bd3786"
             ],
             [
              0.5555555555555556,
              "#d8576b"
             ],
             [
              0.6666666666666666,
              "#ed7953"
             ],
             [
              0.7777777777777778,
              "#fb9f3a"
             ],
             [
              0.8888888888888888,
              "#fdca26"
             ],
             [
              1,
              "#f0f921"
             ]
            ],
            "type": "histogram2dcontour"
           }
          ],
          "mesh3d": [
           {
            "colorbar": {
             "outlinewidth": 0,
             "ticks": ""
            },
            "type": "mesh3d"
           }
          ],
          "parcoords": [
           {
            "line": {
             "colorbar": {
              "outlinewidth": 0,
              "ticks": ""
             }
            },
            "type": "parcoords"
           }
          ],
          "pie": [
           {
            "automargin": true,
            "type": "pie"
           }
          ],
          "scatter": [
           {
            "fillpattern": {
             "fillmode": "overlay",
             "size": 10,
             "solidity": 0.2
            },
            "type": "scatter"
           }
          ],
          "scatter3d": [
           {
            "line": {
             "colorbar": {
              "outlinewidth": 0,
              "ticks": ""
             }
            },
            "marker": {
             "colorbar": {
              "outlinewidth": 0,
              "ticks": ""
             }
            },
            "type": "scatter3d"
           }
          ],
          "scattercarpet": [
           {
            "marker": {
             "colorbar": {
              "outlinewidth": 0,
              "ticks": ""
             }
            },
            "type": "scattercarpet"
           }
          ],
          "scattergeo": [
           {
            "marker": {
             "colorbar": {
              "outlinewidth": 0,
              "ticks": ""
             }
            },
            "type": "scattergeo"
           }
          ],
          "scattergl": [
           {
            "marker": {
             "colorbar": {
              "outlinewidth": 0,
              "ticks": ""
             }
            },
            "type": "scattergl"
           }
          ],
          "scattermapbox": [
           {
            "marker": {
             "colorbar": {
              "outlinewidth": 0,
              "ticks": ""
             }
            },
            "type": "scattermapbox"
           }
          ],
          "scatterpolar": [
           {
            "marker": {
             "colorbar": {
              "outlinewidth": 0,
              "ticks": ""
             }
            },
            "type": "scatterpolar"
           }
          ],
          "scatterpolargl": [
           {
            "marker": {
             "colorbar": {
              "outlinewidth": 0,
              "ticks": ""
             }
            },
            "type": "scatterpolargl"
           }
          ],
          "scatterternary": [
           {
            "marker": {
             "colorbar": {
              "outlinewidth": 0,
              "ticks": ""
             }
            },
            "type": "scatterternary"
           }
          ],
          "surface": [
           {
            "colorbar": {
             "outlinewidth": 0,
             "ticks": ""
            },
            "colorscale": [
             [
              0,
              "#0d0887"
             ],
             [
              0.1111111111111111,
              "#46039f"
             ],
             [
              0.2222222222222222,
              "#7201a8"
             ],
             [
              0.3333333333333333,
              "#9c179e"
             ],
             [
              0.4444444444444444,
              "#bd3786"
             ],
             [
              0.5555555555555556,
              "#d8576b"
             ],
             [
              0.6666666666666666,
              "#ed7953"
             ],
             [
              0.7777777777777778,
              "#fb9f3a"
             ],
             [
              0.8888888888888888,
              "#fdca26"
             ],
             [
              1,
              "#f0f921"
             ]
            ],
            "type": "surface"
           }
          ],
          "table": [
           {
            "cells": {
             "fill": {
              "color": "#EBF0F8"
             },
             "line": {
              "color": "white"
             }
            },
            "header": {
             "fill": {
              "color": "#C8D4E3"
             },
             "line": {
              "color": "white"
             }
            },
            "type": "table"
           }
          ]
         },
         "layout": {
          "annotationdefaults": {
           "arrowcolor": "#2a3f5f",
           "arrowhead": 0,
           "arrowwidth": 1
          },
          "autotypenumbers": "strict",
          "coloraxis": {
           "colorbar": {
            "outlinewidth": 0,
            "ticks": ""
           }
          },
          "colorscale": {
           "diverging": [
            [
             0,
             "#8e0152"
            ],
            [
             0.1,
             "#c51b7d"
            ],
            [
             0.2,
             "#de77ae"
            ],
            [
             0.3,
             "#f1b6da"
            ],
            [
             0.4,
             "#fde0ef"
            ],
            [
             0.5,
             "#f7f7f7"
            ],
            [
             0.6,
             "#e6f5d0"
            ],
            [
             0.7,
             "#b8e186"
            ],
            [
             0.8,
             "#7fbc41"
            ],
            [
             0.9,
             "#4d9221"
            ],
            [
             1,
             "#276419"
            ]
           ],
           "sequential": [
            [
             0,
             "#0d0887"
            ],
            [
             0.1111111111111111,
             "#46039f"
            ],
            [
             0.2222222222222222,
             "#7201a8"
            ],
            [
             0.3333333333333333,
             "#9c179e"
            ],
            [
             0.4444444444444444,
             "#bd3786"
            ],
            [
             0.5555555555555556,
             "#d8576b"
            ],
            [
             0.6666666666666666,
             "#ed7953"
            ],
            [
             0.7777777777777778,
             "#fb9f3a"
            ],
            [
             0.8888888888888888,
             "#fdca26"
            ],
            [
             1,
             "#f0f921"
            ]
           ],
           "sequentialminus": [
            [
             0,
             "#0d0887"
            ],
            [
             0.1111111111111111,
             "#46039f"
            ],
            [
             0.2222222222222222,
             "#7201a8"
            ],
            [
             0.3333333333333333,
             "#9c179e"
            ],
            [
             0.4444444444444444,
             "#bd3786"
            ],
            [
             0.5555555555555556,
             "#d8576b"
            ],
            [
             0.6666666666666666,
             "#ed7953"
            ],
            [
             0.7777777777777778,
             "#fb9f3a"
            ],
            [
             0.8888888888888888,
             "#fdca26"
            ],
            [
             1,
             "#f0f921"
            ]
           ]
          },
          "colorway": [
           "#636efa",
           "#EF553B",
           "#00cc96",
           "#ab63fa",
           "#FFA15A",
           "#19d3f3",
           "#FF6692",
           "#B6E880",
           "#FF97FF",
           "#FECB52"
          ],
          "font": {
           "color": "#2a3f5f"
          },
          "geo": {
           "bgcolor": "white",
           "lakecolor": "white",
           "landcolor": "#E5ECF6",
           "showlakes": true,
           "showland": true,
           "subunitcolor": "white"
          },
          "hoverlabel": {
           "align": "left"
          },
          "hovermode": "closest",
          "mapbox": {
           "style": "light"
          },
          "paper_bgcolor": "white",
          "plot_bgcolor": "#E5ECF6",
          "polar": {
           "angularaxis": {
            "gridcolor": "white",
            "linecolor": "white",
            "ticks": ""
           },
           "bgcolor": "#E5ECF6",
           "radialaxis": {
            "gridcolor": "white",
            "linecolor": "white",
            "ticks": ""
           }
          },
          "scene": {
           "xaxis": {
            "backgroundcolor": "#E5ECF6",
            "gridcolor": "white",
            "gridwidth": 2,
            "linecolor": "white",
            "showbackground": true,
            "ticks": "",
            "zerolinecolor": "white"
           },
           "yaxis": {
            "backgroundcolor": "#E5ECF6",
            "gridcolor": "white",
            "gridwidth": 2,
            "linecolor": "white",
            "showbackground": true,
            "ticks": "",
            "zerolinecolor": "white"
           },
           "zaxis": {
            "backgroundcolor": "#E5ECF6",
            "gridcolor": "white",
            "gridwidth": 2,
            "linecolor": "white",
            "showbackground": true,
            "ticks": "",
            "zerolinecolor": "white"
           }
          },
          "shapedefaults": {
           "line": {
            "color": "#2a3f5f"
           }
          },
          "ternary": {
           "aaxis": {
            "gridcolor": "white",
            "linecolor": "white",
            "ticks": ""
           },
           "baxis": {
            "gridcolor": "white",
            "linecolor": "white",
            "ticks": ""
           },
           "bgcolor": "#E5ECF6",
           "caxis": {
            "gridcolor": "white",
            "linecolor": "white",
            "ticks": ""
           }
          },
          "title": {
           "x": 0.05
          },
          "xaxis": {
           "automargin": true,
           "gridcolor": "white",
           "linecolor": "white",
           "ticks": "",
           "title": {
            "standoff": 15
           },
           "zerolinecolor": "white",
           "zerolinewidth": 2
          },
          "yaxis": {
           "automargin": true,
           "gridcolor": "white",
           "linecolor": "white",
           "ticks": "",
           "title": {
            "standoff": 15
           },
           "zerolinecolor": "white",
           "zerolinewidth": 2
          }
         }
        },
        "width": 700,
        "xaxis": {
         "anchor": "y",
         "domain": [
          0,
          1
         ],
         "title": {
          "text": "parcs_config"
         }
        },
        "yaxis": {
         "anchor": "x",
         "domain": [
          0,
          1
         ],
         "dtick": 1,
         "title": {
          "text": "rmse"
         },
         "type": "log"
        }
       }
      },
      "text/html": [
       "<div>                            <div id=\"51ab8320-6073-4130-8003-5d9c3c7c72d5\" class=\"plotly-graph-div\" style=\"height:300px; width:700px;\"></div>            <script type=\"text/javascript\">                require([\"plotly\"], function(Plotly) {                    window.PLOTLYENV=window.PLOTLYENV || {};                                    if (document.getElementById(\"51ab8320-6073-4130-8003-5d9c3c7c72d5\")) {                    Plotly.newPlot(                        \"51ab8320-6073-4130-8003-5d9c3c7c72d5\",                        [{\"alignmentgroup\":\"True\",\"boxpoints\":\"all\",\"hovertemplate\":\"Case=Strong HC<br>parcs_config=%{x}<br>rmse=%{y}<extra></extra>\",\"legendgroup\":\"Strong HC\",\"marker\":{\"color\":\"#636efa\"},\"name\":\"Strong HC\",\"notched\":false,\"offsetgroup\":\"Strong HC\",\"orientation\":\"v\",\"showlegend\":true,\"x\":[\"8\",\"8\",\"8\",\"8\",\"8\",\"2\",\"2\",\"2\",\"2\",\"2\",\"4\",\"4\",\"4\",\"4\",\"4\"],\"x0\":\" \",\"xaxis\":\"x\",\"y\":[22.783050340384627,19.44807053436833,19.58438085906247,26.383984233307856,20.426969375824193,13.830666587581234,15.430808404696785,14.87933953080737,15.545420884415861,14.289063567864913,20.626984102008983,16.647414621322397,15.237682934133124,20.659525139845453,16.168991288787158],\"y0\":\" \",\"yaxis\":\"y\",\"type\":\"box\",\"width\":0.6},{\"alignmentgroup\":\"True\",\"boxpoints\":\"all\",\"hovertemplate\":\"Case=Original<br>parcs_config=%{x}<br>rmse=%{y}<extra></extra>\",\"legendgroup\":\"Original\",\"marker\":{\"color\":\"#EF553B\"},\"name\":\"Original\",\"notched\":false,\"offsetgroup\":\"Original\",\"orientation\":\"v\",\"showlegend\":true,\"x\":[\"0\",\"0\",\"0\",\"0\",\"0\"],\"x0\":\" \",\"xaxis\":\"x\",\"y\":[18.13230338444045,15.15160407207868,15.876135117205498,15.062213815843263,11.82106184112738],\"y0\":\" \",\"yaxis\":\"y\",\"type\":\"box\",\"width\":0.6}],                        {\"template\":{\"data\":{\"histogram2dcontour\":[{\"type\":\"histogram2dcontour\",\"colorbar\":{\"outlinewidth\":0,\"ticks\":\"\"},\"colorscale\":[[0.0,\"#0d0887\"],[0.1111111111111111,\"#46039f\"],[0.2222222222222222,\"#7201a8\"],[0.3333333333333333,\"#9c179e\"],[0.4444444444444444,\"#bd3786\"],[0.5555555555555556,\"#d8576b\"],[0.6666666666666666,\"#ed7953\"],[0.7777777777777778,\"#fb9f3a\"],[0.8888888888888888,\"#fdca26\"],[1.0,\"#f0f921\"]]}],\"choropleth\":[{\"type\":\"choropleth\",\"colorbar\":{\"outlinewidth\":0,\"ticks\":\"\"}}],\"histogram2d\":[{\"type\":\"histogram2d\",\"colorbar\":{\"outlinewidth\":0,\"ticks\":\"\"},\"colorscale\":[[0.0,\"#0d0887\"],[0.1111111111111111,\"#46039f\"],[0.2222222222222222,\"#7201a8\"],[0.3333333333333333,\"#9c179e\"],[0.4444444444444444,\"#bd3786\"],[0.5555555555555556,\"#d8576b\"],[0.6666666666666666,\"#ed7953\"],[0.7777777777777778,\"#fb9f3a\"],[0.8888888888888888,\"#fdca26\"],[1.0,\"#f0f921\"]]}],\"heatmap\":[{\"type\":\"heatmap\",\"colorbar\":{\"outlinewidth\":0,\"ticks\":\"\"},\"colorscale\":[[0.0,\"#0d0887\"],[0.1111111111111111,\"#46039f\"],[0.2222222222222222,\"#7201a8\"],[0.3333333333333333,\"#9c179e\"],[0.4444444444444444,\"#bd3786\"],[0.5555555555555556,\"#d8576b\"],[0.6666666666666666,\"#ed7953\"],[0.7777777777777778,\"#fb9f3a\"],[0.8888888888888888,\"#fdca26\"],[1.0,\"#f0f921\"]]}],\"heatmapgl\":[{\"type\":\"heatmapgl\",\"colorbar\":{\"outlinewidth\":0,\"ticks\":\"\"},\"colorscale\":[[0.0,\"#0d0887\"],[0.1111111111111111,\"#46039f\"],[0.2222222222222222,\"#7201a8\"],[0.3333333333333333,\"#9c179e\"],[0.4444444444444444,\"#bd3786\"],[0.5555555555555556,\"#d8576b\"],[0.6666666666666666,\"#ed7953\"],[0.7777777777777778,\"#fb9f3a\"],[0.8888888888888888,\"#fdca26\"],[1.0,\"#f0f921\"]]}],\"contourcarpet\":[{\"type\":\"contourcarpet\",\"colorbar\":{\"outlinewidth\":0,\"ticks\":\"\"}}],\"contour\":[{\"type\":\"contour\",\"colorbar\":{\"outlinewidth\":0,\"ticks\":\"\"},\"colorscale\":[[0.0,\"#0d0887\"],[0.1111111111111111,\"#46039f\"],[0.2222222222222222,\"#7201a8\"],[0.3333333333333333,\"#9c179e\"],[0.4444444444444444,\"#bd3786\"],[0.5555555555555556,\"#d8576b\"],[0.6666666666666666,\"#ed7953\"],[0.7777777777777778,\"#fb9f3a\"],[0.8888888888888888,\"#fdca26\"],[1.0,\"#f0f921\"]]}],\"surface\":[{\"type\":\"surface\",\"colorbar\":{\"outlinewidth\":0,\"ticks\":\"\"},\"colorscale\":[[0.0,\"#0d0887\"],[0.1111111111111111,\"#46039f\"],[0.2222222222222222,\"#7201a8\"],[0.3333333333333333,\"#9c179e\"],[0.4444444444444444,\"#bd3786\"],[0.5555555555555556,\"#d8576b\"],[0.6666666666666666,\"#ed7953\"],[0.7777777777777778,\"#fb9f3a\"],[0.8888888888888888,\"#fdca26\"],[1.0,\"#f0f921\"]]}],\"mesh3d\":[{\"type\":\"mesh3d\",\"colorbar\":{\"outlinewidth\":0,\"ticks\":\"\"}}],\"scatter\":[{\"fillpattern\":{\"fillmode\":\"overlay\",\"size\":10,\"solidity\":0.2},\"type\":\"scatter\"}],\"parcoords\":[{\"type\":\"parcoords\",\"line\":{\"colorbar\":{\"outlinewidth\":0,\"ticks\":\"\"}}}],\"scatterpolargl\":[{\"type\":\"scatterpolargl\",\"marker\":{\"colorbar\":{\"outlinewidth\":0,\"ticks\":\"\"}}}],\"bar\":[{\"error_x\":{\"color\":\"#2a3f5f\"},\"error_y\":{\"color\":\"#2a3f5f\"},\"marker\":{\"line\":{\"color\":\"#E5ECF6\",\"width\":0.5},\"pattern\":{\"fillmode\":\"overlay\",\"size\":10,\"solidity\":0.2}},\"type\":\"bar\"}],\"scattergeo\":[{\"type\":\"scattergeo\",\"marker\":{\"colorbar\":{\"outlinewidth\":0,\"ticks\":\"\"}}}],\"scatterpolar\":[{\"type\":\"scatterpolar\",\"marker\":{\"colorbar\":{\"outlinewidth\":0,\"ticks\":\"\"}}}],\"histogram\":[{\"marker\":{\"pattern\":{\"fillmode\":\"overlay\",\"size\":10,\"solidity\":0.2}},\"type\":\"histogram\"}],\"scattergl\":[{\"type\":\"scattergl\",\"marker\":{\"colorbar\":{\"outlinewidth\":0,\"ticks\":\"\"}}}],\"scatter3d\":[{\"type\":\"scatter3d\",\"line\":{\"colorbar\":{\"outlinewidth\":0,\"ticks\":\"\"}},\"marker\":{\"colorbar\":{\"outlinewidth\":0,\"ticks\":\"\"}}}],\"scattermapbox\":[{\"type\":\"scattermapbox\",\"marker\":{\"colorbar\":{\"outlinewidth\":0,\"ticks\":\"\"}}}],\"scatterternary\":[{\"type\":\"scatterternary\",\"marker\":{\"colorbar\":{\"outlinewidth\":0,\"ticks\":\"\"}}}],\"scattercarpet\":[{\"type\":\"scattercarpet\",\"marker\":{\"colorbar\":{\"outlinewidth\":0,\"ticks\":\"\"}}}],\"carpet\":[{\"aaxis\":{\"endlinecolor\":\"#2a3f5f\",\"gridcolor\":\"white\",\"linecolor\":\"white\",\"minorgridcolor\":\"white\",\"startlinecolor\":\"#2a3f5f\"},\"baxis\":{\"endlinecolor\":\"#2a3f5f\",\"gridcolor\":\"white\",\"linecolor\":\"white\",\"minorgridcolor\":\"white\",\"startlinecolor\":\"#2a3f5f\"},\"type\":\"carpet\"}],\"table\":[{\"cells\":{\"fill\":{\"color\":\"#EBF0F8\"},\"line\":{\"color\":\"white\"}},\"header\":{\"fill\":{\"color\":\"#C8D4E3\"},\"line\":{\"color\":\"white\"}},\"type\":\"table\"}],\"barpolar\":[{\"marker\":{\"line\":{\"color\":\"#E5ECF6\",\"width\":0.5},\"pattern\":{\"fillmode\":\"overlay\",\"size\":10,\"solidity\":0.2}},\"type\":\"barpolar\"}],\"pie\":[{\"automargin\":true,\"type\":\"pie\"}]},\"layout\":{\"autotypenumbers\":\"strict\",\"colorway\":[\"#636efa\",\"#EF553B\",\"#00cc96\",\"#ab63fa\",\"#FFA15A\",\"#19d3f3\",\"#FF6692\",\"#B6E880\",\"#FF97FF\",\"#FECB52\"],\"font\":{\"color\":\"#2a3f5f\"},\"hovermode\":\"closest\",\"hoverlabel\":{\"align\":\"left\"},\"paper_bgcolor\":\"white\",\"plot_bgcolor\":\"#E5ECF6\",\"polar\":{\"bgcolor\":\"#E5ECF6\",\"angularaxis\":{\"gridcolor\":\"white\",\"linecolor\":\"white\",\"ticks\":\"\"},\"radialaxis\":{\"gridcolor\":\"white\",\"linecolor\":\"white\",\"ticks\":\"\"}},\"ternary\":{\"bgcolor\":\"#E5ECF6\",\"aaxis\":{\"gridcolor\":\"white\",\"linecolor\":\"white\",\"ticks\":\"\"},\"baxis\":{\"gridcolor\":\"white\",\"linecolor\":\"white\",\"ticks\":\"\"},\"caxis\":{\"gridcolor\":\"white\",\"linecolor\":\"white\",\"ticks\":\"\"}},\"coloraxis\":{\"colorbar\":{\"outlinewidth\":0,\"ticks\":\"\"}},\"colorscale\":{\"sequential\":[[0.0,\"#0d0887\"],[0.1111111111111111,\"#46039f\"],[0.2222222222222222,\"#7201a8\"],[0.3333333333333333,\"#9c179e\"],[0.4444444444444444,\"#bd3786\"],[0.5555555555555556,\"#d8576b\"],[0.6666666666666666,\"#ed7953\"],[0.7777777777777778,\"#fb9f3a\"],[0.8888888888888888,\"#fdca26\"],[1.0,\"#f0f921\"]],\"sequentialminus\":[[0.0,\"#0d0887\"],[0.1111111111111111,\"#46039f\"],[0.2222222222222222,\"#7201a8\"],[0.3333333333333333,\"#9c179e\"],[0.4444444444444444,\"#bd3786\"],[0.5555555555555556,\"#d8576b\"],[0.6666666666666666,\"#ed7953\"],[0.7777777777777778,\"#fb9f3a\"],[0.8888888888888888,\"#fdca26\"],[1.0,\"#f0f921\"]],\"diverging\":[[0,\"#8e0152\"],[0.1,\"#c51b7d\"],[0.2,\"#de77ae\"],[0.3,\"#f1b6da\"],[0.4,\"#fde0ef\"],[0.5,\"#f7f7f7\"],[0.6,\"#e6f5d0\"],[0.7,\"#b8e186\"],[0.8,\"#7fbc41\"],[0.9,\"#4d9221\"],[1,\"#276419\"]]},\"xaxis\":{\"gridcolor\":\"white\",\"linecolor\":\"white\",\"ticks\":\"\",\"title\":{\"standoff\":15},\"zerolinecolor\":\"white\",\"automargin\":true,\"zerolinewidth\":2},\"yaxis\":{\"gridcolor\":\"white\",\"linecolor\":\"white\",\"ticks\":\"\",\"title\":{\"standoff\":15},\"zerolinecolor\":\"white\",\"automargin\":true,\"zerolinewidth\":2},\"scene\":{\"xaxis\":{\"backgroundcolor\":\"#E5ECF6\",\"gridcolor\":\"white\",\"linecolor\":\"white\",\"showbackground\":true,\"ticks\":\"\",\"zerolinecolor\":\"white\",\"gridwidth\":2},\"yaxis\":{\"backgroundcolor\":\"#E5ECF6\",\"gridcolor\":\"white\",\"linecolor\":\"white\",\"showbackground\":true,\"ticks\":\"\",\"zerolinecolor\":\"white\",\"gridwidth\":2},\"zaxis\":{\"backgroundcolor\":\"#E5ECF6\",\"gridcolor\":\"white\",\"linecolor\":\"white\",\"showbackground\":true,\"ticks\":\"\",\"zerolinecolor\":\"white\",\"gridwidth\":2}},\"shapedefaults\":{\"line\":{\"color\":\"#2a3f5f\"}},\"annotationdefaults\":{\"arrowcolor\":\"#2a3f5f\",\"arrowhead\":0,\"arrowwidth\":1},\"geo\":{\"bgcolor\":\"white\",\"landcolor\":\"#E5ECF6\",\"subunitcolor\":\"white\",\"showland\":true,\"showlakes\":true,\"lakecolor\":\"white\"},\"title\":{\"x\":0.05},\"mapbox\":{\"style\":\"light\"}}},\"xaxis\":{\"anchor\":\"y\",\"domain\":[0.0,1.0],\"title\":{\"text\":\"parcs_config\"}},\"yaxis\":{\"anchor\":\"x\",\"domain\":[0.0,1.0],\"title\":{\"text\":\"rmse\"},\"type\":\"log\",\"dtick\":1},\"legend\":{\"title\":{\"text\":\"Case\"},\"tracegroupgap\":0},\"margin\":{\"t\":60},\"boxmode\":\"group\",\"height\":300,\"width\":700,\"font\":{\"size\":30}},                        {\"responsive\": true}                    ).then(function(){\n",
       "                            \n",
       "var gd = document.getElementById('51ab8320-6073-4130-8003-5d9c3c7c72d5');\n",
       "var x = new MutationObserver(function (mutations, observer) {{\n",
       "        var display = window.getComputedStyle(gd).display;\n",
       "        if (!display || display === 'none') {{\n",
       "            console.log([gd, 'removed!']);\n",
       "            Plotly.purge(gd);\n",
       "            observer.disconnect();\n",
       "        }}\n",
       "}});\n",
       "\n",
       "// Listen for the removal of the full notebook cells\n",
       "var notebookContainer = gd.closest('#notebook-container');\n",
       "if (notebookContainer) {{\n",
       "    x.observe(notebookContainer, {childList: true});\n",
       "}}\n",
       "\n",
       "// Listen for the clearing of the current output cell\n",
       "var outputEl = gd.closest('.output');\n",
       "if (outputEl) {{\n",
       "    x.observe(outputEl, {childList: true});\n",
       "}}\n",
       "\n",
       "                        })                };                });            </script>        </div>"
      ]
     },
     "metadata": {},
     "output_type": "display_data"
    }
   ],
   "source": [
    "fig = px.box(df_comb, x='parcs_config', y='rmse', color = 'case', points='all',\n",
    "                # facet_col='rho', facet_col_wrap=3,\n",
    "                log_y=True,\n",
    "                height = 300, width = 700,\n",
    "                category_orders = {'sigma': ['0', '0.2', '1', '1.8'],\n",
    "                                   'data_size': ['1000', '5000', '10000'],\n",
    "                                   'rho': ['0.1', '0.5', '0.9']},\n",
    "                labels={\n",
    "                     \"data_size\": \"N\",\n",
    "                     \"mse\": \"MSE\",\n",
    "                     \"case\": \"Case\",\n",
    "                     'sigma': 'Sigma'\n",
    "                 })\n",
    "fig.update_layout(\n",
    "    font=dict(\n",
    "        size=30\n",
    "    ))\n",
    "fig.update_xaxes()\n",
    "fig.update_yaxes(dtick=1)\n",
    "fig.update_traces(width=0.6)\n",
    "fig.show()\n",
    "fig.write_image(f\"{img_dir}/mean squared error box.pdf\")"
   ]
  },
  {
   "cell_type": "code",
   "execution_count": 1,
   "metadata": {},
   "outputs": [
    {
     "ename": "NameError",
     "evalue": "name 'px' is not defined",
     "output_type": "error",
     "traceback": [
      "\u001b[0;31m---------------------------------------------------------------------------\u001b[0m",
      "\u001b[0;31mNameError\u001b[0m                                 Traceback (most recent call last)",
      "Cell \u001b[0;32mIn[1], line 1\u001b[0m\n\u001b[0;32m----> 1\u001b[0m fig \u001b[39m=\u001b[39m px\u001b[39m.\u001b[39mbar(df_avg, x\u001b[39m=\u001b[39m\u001b[39m'\u001b[39m\u001b[39mparcs_config\u001b[39m\u001b[39m'\u001b[39m, y\u001b[39m=\u001b[39m\u001b[39m'\u001b[39m\u001b[39mrmse\u001b[39m\u001b[39m'\u001b[39m, color \u001b[39m=\u001b[39m \u001b[39m'\u001b[39m\u001b[39mcase\u001b[39m\u001b[39m'\u001b[39m,\n\u001b[1;32m      2\u001b[0m                 height \u001b[39m=\u001b[39m \u001b[39m400\u001b[39m, width \u001b[39m=\u001b[39m \u001b[39m700\u001b[39m,\n\u001b[1;32m      3\u001b[0m                 barmode\u001b[39m=\u001b[39m\u001b[39m\"\u001b[39m\u001b[39mgroup\u001b[39m\u001b[39m\"\u001b[39m,\n\u001b[1;32m      4\u001b[0m                 category_orders \u001b[39m=\u001b[39m {\u001b[39m'\u001b[39m\u001b[39msigma\u001b[39m\u001b[39m'\u001b[39m: [\u001b[39m'\u001b[39m\u001b[39m0\u001b[39m\u001b[39m'\u001b[39m, \u001b[39m'\u001b[39m\u001b[39m0.2\u001b[39m\u001b[39m'\u001b[39m, \u001b[39m'\u001b[39m\u001b[39m1\u001b[39m\u001b[39m'\u001b[39m, \u001b[39m'\u001b[39m\u001b[39m1.8\u001b[39m\u001b[39m'\u001b[39m],\n\u001b[1;32m      5\u001b[0m                                    \u001b[39m'\u001b[39m\u001b[39mdata_size\u001b[39m\u001b[39m'\u001b[39m: [\u001b[39m'\u001b[39m\u001b[39m5000\u001b[39m\u001b[39m'\u001b[39m, \u001b[39m'\u001b[39m\u001b[39m10000\u001b[39m\u001b[39m'\u001b[39m],\n\u001b[1;32m      6\u001b[0m                                    \u001b[39m'\u001b[39m\u001b[39mdata_size\u001b[39m\u001b[39m'\u001b[39m: [\u001b[39m'\u001b[39m\u001b[39m1000\u001b[39m\u001b[39m'\u001b[39m, \u001b[39m'\u001b[39m\u001b[39m5000\u001b[39m\u001b[39m'\u001b[39m, \u001b[39m'\u001b[39m\u001b[39m10000\u001b[39m\u001b[39m'\u001b[39m],\n\u001b[1;32m      7\u001b[0m                                    \u001b[39m'\u001b[39m\u001b[39mrho\u001b[39m\u001b[39m'\u001b[39m: [\u001b[39m'\u001b[39m\u001b[39m0.1\u001b[39m\u001b[39m'\u001b[39m, \u001b[39m'\u001b[39m\u001b[39m0.5\u001b[39m\u001b[39m'\u001b[39m, \u001b[39m'\u001b[39m\u001b[39m0.9\u001b[39m\u001b[39m'\u001b[39m]},\n\u001b[1;32m      8\u001b[0m                 labels\u001b[39m=\u001b[39m{\n\u001b[1;32m      9\u001b[0m                      \u001b[39m\"\u001b[39m\u001b[39mdata_size\u001b[39m\u001b[39m\"\u001b[39m: \u001b[39m\"\u001b[39m\u001b[39mN\u001b[39m\u001b[39m\"\u001b[39m,\n\u001b[1;32m     10\u001b[0m                      \u001b[39m\"\u001b[39m\u001b[39mmse\u001b[39m\u001b[39m\"\u001b[39m: \u001b[39m\"\u001b[39m\u001b[39mMSE\u001b[39m\u001b[39m\"\u001b[39m,\n\u001b[1;32m     11\u001b[0m                      \u001b[39m\"\u001b[39m\u001b[39mcase\u001b[39m\u001b[39m\"\u001b[39m: \u001b[39m\"\u001b[39m\u001b[39mCase\u001b[39m\u001b[39m\"\u001b[39m,\n\u001b[1;32m     12\u001b[0m                      \u001b[39m'\u001b[39m\u001b[39msigma\u001b[39m\u001b[39m'\u001b[39m: \u001b[39m'\u001b[39m\u001b[39mSigma\u001b[39m\u001b[39m'\u001b[39m,\n\u001b[1;32m     13\u001b[0m                      \u001b[39m'\u001b[39m\u001b[39mparcs_config\u001b[39m\u001b[39m'\u001b[39m: \u001b[39m'\u001b[39m\u001b[39mNoise Demand Mean\u001b[39m\u001b[39m'\u001b[39m\n\u001b[1;32m     14\u001b[0m                  })\n\u001b[1;32m     15\u001b[0m fig\u001b[39m.\u001b[39mupdate_xaxes(\u001b[39mtype\u001b[39m\u001b[39m=\u001b[39m\u001b[39m'\u001b[39m\u001b[39mcategory\u001b[39m\u001b[39m'\u001b[39m)\n\u001b[1;32m     16\u001b[0m fig\u001b[39m.\u001b[39mupdate_layout(\n\u001b[1;32m     17\u001b[0m     font\u001b[39m=\u001b[39m\u001b[39mdict\u001b[39m(\n\u001b[1;32m     18\u001b[0m         size\u001b[39m=\u001b[39m\u001b[39m25\u001b[39m\n\u001b[1;32m     19\u001b[0m     )\n\u001b[1;32m     20\u001b[0m )\n",
      "\u001b[0;31mNameError\u001b[0m: name 'px' is not defined"
     ]
    }
   ],
   "source": [
    "fig = px.bar(df_avg, x='parcs_config', y='rmse', color = 'case',\n",
    "                height = 400, width = 700,\n",
    "                barmode=\"group\",\n",
    "                category_orders = {'sigma': ['0', '0.2', '1', '1.8'],\n",
    "                                   'data_size': ['5000', '10000'],\n",
    "                                   'data_size': ['1000', '5000', '10000'],\n",
    "                                   'rho': ['0.1', '0.5', '0.9']},\n",
    "                labels={\n",
    "                     \"data_size\": \"N\",\n",
    "                     \"mse\": \"MSE\",\n",
    "                     \"case\": \"Case\",\n",
    "                     'sigma': 'Sigma',\n",
    "                     'parcs_config': 'Noise Demand Mean'\n",
    "                 })\n",
    "fig.update_xaxes(type='category')\n",
    "fig.update_layout(\n",
    "    font=dict(\n",
    "        size=25\n",
    "    )\n",
    ")\n",
    "fig.update_traces(width=0.3)\n",
    "fig.show()\n",
    "fig.write_image(f\"{img_dir}/mean squared error bar hc.pdf\")"
   ]
  },
  {
   "cell_type": "code",
   "execution_count": 72,
   "metadata": {},
   "outputs": [],
   "source": [
    "# fig = sns.FacetGrid(df, col = 'rho')\n",
    "# fig.map_dataframe(sns.boxplot, x='data_size', y='mse', hue='case')\n",
    "# plt.yscale('log')\n",
    "# fig.set(yscale=\"log\")\n",
    "# fig.tight_layout()\n",
    "# fig.add_legend()"
   ]
  },
  {
   "attachments": {},
   "cell_type": "markdown",
   "metadata": {},
   "source": [
    "# Draw Nonlinear Curve"
   ]
  },
  {
   "cell_type": "code",
   "execution_count": 63,
   "metadata": {},
   "outputs": [],
   "source": [
    "plt.rcParams[\"figure.figsize\"] = [7.50, 3.50]\n",
    "plt.rcParams[\"figure.autolayout\"] = True\n",
    "plt.rcParams.update({\n",
    "    \"figure.figsize\": [7.50, 4.50],\n",
    "    \"figure.autolayout\": True,\n",
    "    \"text.usetex\": False,\n",
    "    \"font.family\": \"sans-serif\",\n",
    "    'font.size': 16\n",
    "})\n",
    "\n",
    "data_size = 1000"
   ]
  },
  {
   "cell_type": "code",
   "execution_count": 64,
   "metadata": {},
   "outputs": [],
   "source": [
    "import sys\n",
    "sys.path.append('../')\n",
    "from itertools import product\n",
    "import matplotlib.pyplot as plt\n",
    "import matplotlib.collections as mcol\n",
    "from matplotlib.legend_handler import HandlerLineCollection, HandlerTuple\n",
    "from matplotlib.lines import Line2D"
   ]
  },
  {
   "cell_type": "code",
   "execution_count": 65,
   "metadata": {},
   "outputs": [],
   "source": [
    "# def psi(t: np.ndarray) -> np.ndarray:\n",
    "#     return 2 * (((t - 3) ** 3 )/ 500 + np.exp(-6 * ((t-5) ** 2)) - np.sqrt(t) + np.log(25 * (t ** 2) + 5) + np.sin(t)  - 7)\n",
    "\n",
    "# def f(p: np.ndarray, t: np.ndarray, s: np.ndarray) -> np.ndarray:\n",
    "#     return 100 + 10 * s * psi(t) - (s * psi(t) - 2) * p**3\n",
    "\n",
    "def psi(t: np.ndarray) -> np.ndarray:\n",
    "    return 2 * ((t - 5) ** 4 / 600 + np.exp(-4 * (t - 5) ** 2) + t / 10 - 2)\n",
    "\n",
    "def f(p: np.ndarray, t: np.ndarray, s: np.ndarray) -> np.ndarray:\n",
    "    return 100 + (10 + p) * s * psi(t) - 2 * p"
   ]
  },
  {
   "cell_type": "code",
   "execution_count": 66,
   "metadata": {},
   "outputs": [
    {
     "data": {
      "text/plain": [
       "-2.404595746403984"
      ]
     },
     "execution_count": 66,
     "metadata": {},
     "output_type": "execute_result"
    }
   ],
   "source": [
    "t= np.linspace(0.0, 10, 1000)\n",
    "np.mean(psi(t))"
   ]
  },
  {
   "cell_type": "code",
   "execution_count": 67,
   "metadata": {},
   "outputs": [],
   "source": [
    "dir = 'dfiv_low_dim_noise_demand_mu'\n",
    "# subdir = 'one'\n",
    "subdir = 'data_size:10000-rho:0.5-parcs_config:demand_noise_price_8'\n",
    "idx = 0"
   ]
  },
  {
   "cell_type": "code",
   "execution_count": 68,
   "metadata": {},
   "outputs": [],
   "source": [
    "result = np.load(os.path.join(DUMP_DIR, dir, subdir, 'result.npz'))\n",
    "\n",
    "treatment, covariate, prediction, oos_loss = result['treatment'], result['covariate'], result['prediction'], result['oos_loss']\n",
    "\n",
    "t = treatment[idx].flatten().tolist()\n",
    "c = covariate[idx].flatten().tolist()\n",
    "p = prediction[idx].flatten().tolist()\n",
    "loss = oos_loss[idx].flatten().tolist()\n",
    "\n",
    "tt, tc, tp, tloss = t[2800:3800], c[2800:3800], p[2800:3800], loss[2800:3800]\n",
    "pt, pc, pp, ploss = t[3800:], c[3800:], p[3800:], loss[3800:]"
   ]
  },
  {
   "cell_type": "code",
   "execution_count": 69,
   "metadata": {},
   "outputs": [],
   "source": [
    "# test data for CATE w.r.t. time with size 1000\n",
    "t_res = []\n",
    "dop = [25]  # do(P=25)\n",
    "t_time= np.linspace(0.0, 10, 1000)\n",
    "emu = [4] # E[mu] = 4\n",
    "for p, t, s in product(dop, t_time, emu):\n",
    "    t_res.append(f(p, t, s))  \n",
    "    \n",
    "    \n",
    "# test data ATE w.r.t. Price with size 1000\n",
    "p_res = []\n",
    "p = np.linspace(10, 25, 1000)\n",
    "tmu = [5] # E[time] = 5\n",
    "emu = [4] # E[emotion] = 4\n",
    "for pi, t, s in product(p, tmu, emu):\n",
    "    p_res.append(f(pi, t, s)) \n",
    "    "
   ]
  },
  {
   "cell_type": "code",
   "execution_count": 70,
   "metadata": {},
   "outputs": [],
   "source": [
    "# tp_parcs = tp\n",
    "# pp_ori = pp"
   ]
  },
  {
   "cell_type": "code",
   "execution_count": 72,
   "metadata": {},
   "outputs": [
    {
     "data": {
      "image/png": "[encoded data removed]",
      "text/plain": [
       "<Figure size 750x450 with 1 Axes>"
      ]
     },
     "metadata": {},
     "output_type": "display_data"
    }
   ],
   "source": [
    "fig, ax = plt.subplots()\n",
    "l1, = ax.plot(t_time, t_res, color='red', label='Ground Truth')\n",
    "# l2, = ax.plot(t_time, tp_parcs, color='blue', label='DFIV PARCS')\n",
    "l3, = ax.plot(t_time, tp, color='green', label='DFIV Noise Demand Mean 8')\n",
    "ax.legend(handles=(l1, l3), loc='upper right', shadow=True)\n",
    "\n",
    "ax.set_xlabel('Time of the year t')\n",
    "ax.set_ylabel('CATE')\n",
    "plt.savefig(f'{img_dir}/CATE hst2.pdf')\n",
    "plt.show()"
   ]
  },
  {
   "cell_type": "code",
   "execution_count": 29,
   "metadata": {},
   "outputs": [
    {
     "data": {
      "image/png": "[encoded data removed]",
      "text/plain": [
       "<Figure size 750x450 with 1 Axes>"
      ]
     },
     "metadata": {},
     "output_type": "display_data"
    }
   ],
   "source": [
    "# fig, ax = plt.subplots()\n",
    "# l1, = ax.plot(p, p_res, color='red', label='Ground Truth')\n",
    "# l2, = ax.plot(p, pp, color='blue', label='DFIV PARCS')\n",
    "# l3, = ax.plot(p, pp_ori, color='green', label='DFIV Original')\n",
    "# # l3, = ax.plot(t_time, tp_parcs, color='green', label='DFIV PARCS')\n",
    "# ax.legend(handles=(l1, l2, l3), loc='upper right', shadow=True)\n",
    "\n",
    "# ax.set_xlabel('Price p')\n",
    "# ax.set_ylabel('ATE')\n",
    "# plt.savefig(f'{img_dir}/p.pdf')\n",
    "# plt.show()"
   ]
  },
  {
   "cell_type": "code",
   "execution_count": 105,
   "metadata": {},
   "outputs": [],
   "source": [
    "def get_results(dir):\n",
    "    dfs = []\n",
    "    root = os.path.join(DUMP_DIR, dir)\n",
    "    for subdir in os.listdir(root):\n",
    "        if not os.path.isdir(os.path.join(root, subdir)):\n",
    "            continue\n",
    "\n",
    "        result = np.load(os.path.join(root, subdir, 'result.npz'))\n",
    "        mse = list(result['oos_loss'])[:2800]\n",
    "            \n",
    "        n = len(mse)\n",
    "        props = {}\n",
    "        if ':' in subdir:\n",
    "            props =  [item.split(':') for item in subdir.split('-')]\n",
    "            props = {item[0]: [item[1]] for item in props}\n",
    "            props = {key: val * n for key, val in props.items()}\n",
    "        props.update({'rmse': np.sqrt(mse), 'dir': [dir] * n})\n",
    "        dfs.append(pd.DataFrame(props))\n",
    "    return pd.concat(dfs)"
   ]
  },
  {
   "attachments": {},
   "cell_type": "markdown",
   "metadata": {},
   "source": [
    "# DFIV vs SpaceIV"
   ]
  },
  {
   "cell_type": "code",
   "execution_count": 113,
   "metadata": {},
   "outputs": [],
   "source": [
    "case = 'case_iv_num_8'\n",
    "spaceiv_dir = '../../spaceIV'"
   ]
  },
  {
   "cell_type": "code",
   "execution_count": 114,
   "metadata": {},
   "outputs": [],
   "source": [
    "cases = [case]\n",
    "res_dir = os.path.join(spaceiv_dir, 'results/comp/')\n",
    "dfs = {case: pd.read_csv(os.path.join(res_dir, f'{case}.csv')) for case in cases}\n",
    "df_sparseiv = dfs[case]\n",
    "df_sparseiv['model'] = 'spaceIV'"
   ]
  },
  {
   "cell_type": "code",
   "execution_count": 115,
   "metadata": {},
   "outputs": [],
   "source": [
    "def read_ys(data_dir, case):\n",
    "    ys = []\n",
    "    for dir in os.listdir(os.path.join(data_dir, case)):\n",
    "        if all(item in dir for item in ['a1', 'a2', 'a3']):\n",
    "            dir = os.path.join(data_dir, case, dir)\n",
    "            data_file = os.path.join(dir, 'data_size1600.csv')\n",
    "            df = pd.read_csv(data_file)\n",
    "            y = df['y_0'].to_numpy()\n",
    "            ys.append(y)\n",
    "        else:\n",
    "            print(f'neglected foler {dir}')\n",
    "    return np.hstack(ys)"
   ]
  },
  {
   "cell_type": "code",
   "execution_count": 116,
   "metadata": {},
   "outputs": [
    {
     "name": "stdout",
     "output_type": "stream",
     "text": [
      "0.0305897964245619 4.095392608446486\n"
     ]
    }
   ],
   "source": [
    "data_dir = os.path.join(spaceiv_dir, 'data')\n",
    "ys = read_ys(data_dir, case)\n",
    "print(f'{ys.mean()}', ys.std())"
   ]
  },
  {
   "cell_type": "code",
   "execution_count": 117,
   "metadata": {},
   "outputs": [],
   "source": [
    "# spaceIV_data_root = '../../spaceIV/data/'\n",
    "# spaceIV_data_dir = os.path.join(spaceIV_data_root, case)\n",
    "# print(spaceIV_data_dir)\n",
    "# assert os.path.exists(spaceIV_data_dir), 'no such data'"
   ]
  },
  {
   "cell_type": "code",
   "execution_count": 118,
   "metadata": {},
   "outputs": [
    {
     "data": {
      "text/html": [
       "<div>\n",
       "<style scoped>\n",
       "    .dataframe tbody tr th:only-of-type {\n",
       "        vertical-align: middle;\n",
       "    }\n",
       "\n",
       "    .dataframe tbody tr th {\n",
       "        vertical-align: top;\n",
       "    }\n",
       "\n",
       "    .dataframe thead th {\n",
       "        text-align: right;\n",
       "    }\n",
       "</style>\n",
       "<table border=\"1\" class=\"dataframe\">\n",
       "  <thead>\n",
       "    <tr style=\"text-align: right;\">\n",
       "      <th></th>\n",
       "      <th>rmse</th>\n",
       "      <th>dir</th>\n",
       "      <th>model</th>\n",
       "    </tr>\n",
       "  </thead>\n",
       "  <tbody>\n",
       "    <tr>\n",
       "      <th>0</th>\n",
       "      <td>2.371942</td>\n",
       "      <td>dfiv_spaceiv_div_8</td>\n",
       "      <td>DFIV</td>\n",
       "    </tr>\n",
       "    <tr>\n",
       "      <th>1</th>\n",
       "      <td>2.730804</td>\n",
       "      <td>dfiv_spaceiv_div_8</td>\n",
       "      <td>DFIV</td>\n",
       "    </tr>\n",
       "    <tr>\n",
       "      <th>2</th>\n",
       "      <td>2.657409</td>\n",
       "      <td>dfiv_spaceiv_div_8</td>\n",
       "      <td>DFIV</td>\n",
       "    </tr>\n",
       "    <tr>\n",
       "      <th>3</th>\n",
       "      <td>2.884911</td>\n",
       "      <td>dfiv_spaceiv_div_8</td>\n",
       "      <td>DFIV</td>\n",
       "    </tr>\n",
       "    <tr>\n",
       "      <th>4</th>\n",
       "      <td>3.887382</td>\n",
       "      <td>dfiv_spaceiv_div_8</td>\n",
       "      <td>DFIV</td>\n",
       "    </tr>\n",
       "  </tbody>\n",
       "</table>\n",
       "</div>"
      ],
      "text/plain": [
       "       rmse                 dir model\n",
       "0  2.371942  dfiv_spaceiv_div_8  DFIV\n",
       "1  2.730804  dfiv_spaceiv_div_8  DFIV\n",
       "2  2.657409  dfiv_spaceiv_div_8  DFIV\n",
       "3  2.884911  dfiv_spaceiv_div_8  DFIV\n",
       "4  3.887382  dfiv_spaceiv_div_8  DFIV"
      ]
     },
     "execution_count": 118,
     "metadata": {},
     "output_type": "execute_result"
    }
   ],
   "source": [
    "df_dfiv =  get_results('dfiv_spaceiv_div_8')\n",
    "df_dfiv['model'] = 'DFIV'\n",
    "if 'case' in df_dfiv.columns:\n",
    "    df_dfiv = df_dfiv[df_dfiv['case'] == case]\n",
    "df_dfiv"
   ]
  },
  {
   "cell_type": "code",
   "execution_count": 119,
   "metadata": {},
   "outputs": [],
   "source": [
    "df_merge = pd.concat([df_sparseiv,df_dfiv], axis=0)\n",
    "# df_merge"
   ]
  },
  {
   "cell_type": "code",
   "execution_count": 120,
   "metadata": {},
   "outputs": [
    {
     "data": {
      "text/plain": [
       "model\n",
       "DFIV        2.906489\n",
       "spaceIV    49.925948\n",
       "Name: rmse, dtype: float64"
      ]
     },
     "execution_count": 120,
     "metadata": {},
     "output_type": "execute_result"
    }
   ],
   "source": [
    "df_merge.groupby('model')['rmse'].mean()"
   ]
  },
  {
   "cell_type": "code",
   "execution_count": 121,
   "metadata": {},
   "outputs": [
    {
     "data": {
      "text/plain": [
       "model\n",
       "DFIV         0.579065\n",
       "spaceIV    172.384107\n",
       "Name: rmse, dtype: float64"
      ]
     },
     "execution_count": 121,
     "metadata": {},
     "output_type": "execute_result"
    }
   ],
   "source": [
    "df_merge.groupby('model')['rmse'].std()"
   ]
  },
  {
   "cell_type": "code",
   "execution_count": null,
   "metadata": {},
   "outputs": [],
   "source": [
    "fig = px.box(df_merge, x='model', y='mse', log_y=True,\n",
    "             points=\"all\",\n",
    "             height = 400, width = 800,\n",
    "             labels={\n",
    "                     \"mode\": \"Algorithm\",\n",
    "                     \"mse\": \"Mean Squared Error\",\n",
    "                 })\n",
    "fig.update_layout(\n",
    "    font=dict(\n",
    "        size=18\n",
    "    )\n",
    ")\n",
    "fig.show()\n",
    "fig.write_image(f\"{img_dir}/{case}.pdf\")"
   ]
  },
  {
   "attachments": {},
   "cell_type": "markdown",
   "metadata": {},
   "source": [
    "# Viz Demand Dataset"
   ]
  },
  {
   "cell_type": "code",
   "execution_count": 5,
   "metadata": {},
   "outputs": [],
   "source": [
    "plt.rcParams[\"figure.figsize\"] = [7.50, 3.50]\n",
    "plt.rcParams[\"figure.autolayout\"] = True\n",
    "plt.rcParams.update({\n",
    "    \"figure.figsize\": [7.50, 3.50],\n",
    "    \"figure.autolayout\": True,\n",
    "    \"text.usetex\": False,\n",
    "    \"font.family\": \"sans-serif\",\n",
    "    'font.size': 16\n",
    "})\n",
    "\n",
    "data_size = 1000"
   ]
  },
  {
   "cell_type": "code",
   "execution_count": 163,
   "metadata": {},
   "outputs": [
    {
     "data": {
      "image/png": "[encoded data removed]",
      "text/plain": [
       "<Figure size 750x450 with 1 Axes>"
      ]
     },
     "metadata": {},
     "output_type": "display_data"
    }
   ],
   "source": [
    "t = np.linspace(0, 10, data_size)\n",
    "\n",
    "plt.plot(t, psi(t), color='blue')\n",
    "plt.xlabel('$t$')\n",
    "plt.ylabel('$h(t)$')\n",
    "plt.savefig(f'{img_dir}/time_function.pdf')\n",
    "plt.show()"
   ]
  },
  {
   "cell_type": "code",
   "execution_count": 2,
   "metadata": {},
   "outputs": [
    {
     "ename": "NameError",
     "evalue": "name 'psi' is not defined",
     "output_type": "error",
     "traceback": [
      "\u001b[0;31m---------------------------------------------------------------------------\u001b[0m",
      "\u001b[0;31mNameError\u001b[0m                                 Traceback (most recent call last)",
      "Cell \u001b[0;32mIn[2], line 2\u001b[0m\n\u001b[1;32m      1\u001b[0m min_t \u001b[39m=\u001b[39m \u001b[39m2.53379\u001b[39m\n\u001b[0;32m----> 2\u001b[0m min_psi_t \u001b[39m=\u001b[39m psi(min_t)\n\u001b[1;32m      3\u001b[0m \u001b[39mprint\u001b[39m(\u001b[39mf\u001b[39m\u001b[39m'\u001b[39m\u001b[39mmin psi(t): \u001b[39m\u001b[39m{\u001b[39;00mmin_psi_t\u001b[39m}\u001b[39;00m\u001b[39m'\u001b[39m)\n\u001b[1;32m      4\u001b[0m z \u001b[39m=\u001b[39m \u001b[39m3\u001b[39m\n",
      "\u001b[0;31mNameError\u001b[0m: name 'psi' is not defined"
     ]
    }
   ],
   "source": [
    "min_t = 2.53379\n",
    "min_psi_t = psi(min_t)\n",
    "print(f'min psi(t): {min_psi_t}')\n",
    "z = 3\n",
    "min_p = 25 + min_psi_t * (z + 3) -3\n",
    "print(f'min p: {min_p}')\n",
    "\n",
    "max_t = 10\n",
    "max_psi_t = psi(max_t)\n",
    "print(f'max psi(t): {max_psi_t}')\n",
    "z = 3\n",
    "max_p = 25 + max_psi_t * (z + 3) + 3\n",
    "print(f'max p: {max_p}')"
   ]
  },
  {
   "cell_type": "code",
   "execution_count": null,
   "metadata": {},
   "outputs": [],
   "source": [
    "rng = np.random.default_rng(seed=0)\n",
    "rho = 0.5\n",
    "emotion = rng.choice(list(range(1, 8)), data_size)\n",
    "time = rng.uniform(0, 10, data_size)\n",
    "cost = rng.normal(0, 1.0, data_size)\n",
    "noise_price = rng.normal(0, 1.0, data_size)\n",
    "noise_demand = rho * noise_price + rng.normal(0, np.sqrt(1 - rho ** 2), data_size)\n",
    "price = 25 + (cost + 3) * psi(time) + noise_price\n",
    "structural: np.ndarray = f(price, time, emotion).astype(float)\n",
    "outcome: np.ndarray = (structural + noise_demand).astype(float)\n",
    "price_scale = (price - min_p) / (max_p - min_p)\n",
    "sigmas = [0.2, 1, 1.8]\n",
    "hetero_noise_demand = [rho * noise_price + rng.normal(0, price_scale * sigma, data_size) for sigma in sigmas]"
   ]
  },
  {
   "cell_type": "code",
   "execution_count": null,
   "metadata": {},
   "outputs": [],
   "source": [
    "# fig = px.scatter(x=price, y=noise_demand, width=800, height=400)\n",
    "# fig.update_traces(marker_size=10)\n",
    "# fig.show()"
   ]
  },
  {
   "cell_type": "code",
   "execution_count": null,
   "metadata": {},
   "outputs": [],
   "source": [
    "# from plotly.subplots import make_subplots\n",
    "# import plotly.graph_objects as go\n",
    "\n",
    "# fig = make_subplots(rows=2, cols=2, subplot_titles=(r'$\\text{Demand Variance} = 1-\\rho^2$ = 0.75$',\n",
    "#                                                     r'$\\text{Demand Variance} = r(p) * 0.2$', \n",
    "#                                                     r'$\\text{Demand Variance} = r(p)$', \n",
    "#                                                     r'$\\text{Demand Variance} = $r(p) * 1.8$'))\n",
    "\n",
    "# fig.add_trace(go.Scatter(x=price, y=noise_demand, mode=\"markers\", marker=dict(color='blue', size=10)), row=1, col=1)\n",
    "\n",
    "# fig.add_trace(go.Scatter(x=price, y=hetero_noise_demand[0], mode=\"markers\", marker=dict(color='blue', size=10)), row=1, col=2)\n",
    "\n",
    "# fig.add_trace(go.Scatter(x=price, y=hetero_noise_demand[1], mode=\"markers\", marker=dict(color='blue', size=10)), row=2, col=1)\n",
    "\n",
    "# fig.add_trace(go.Scatter(x=price, y=hetero_noise_demand[2], mode=\"markers\", marker=dict(color='blue', size=10)), row=2, col=2)\n",
    "\n",
    "# fig.update_layout(height=800, width=1200, title_text=\"\", showlegend=False)\n",
    "\n",
    "# fig.show()"
   ]
  },
  {
   "cell_type": "code",
   "execution_count": null,
   "metadata": {},
   "outputs": [],
   "source": [
    "fig, axs = plt.subplots(2, 2, figsize=(12, 7))\n",
    "\n",
    "axs[0, 0].scatter(price, noise_demand)\n",
    "axs[0, 0].set_title(r'Demand Variance = $1-\\rho ^2 = 0.75$')\n",
    "axs[0, 0].set_ylabel('The Noise of Demand')\n",
    "axs[0, 0].set_xlabel('Price')\n",
    "\n",
    "axs[0, 1].scatter(price, hetero_noise_demand[0])\n",
    "axs[0, 1].set_title(r'Demand Variance = $r(p) * 0.2$')\n",
    "axs[0, 1].set_ylabel('The Noise of Demand')\n",
    "axs[0, 1].set_xlabel('Price')\n",
    "\n",
    "axs[1, 0].scatter(price, hetero_noise_demand[1])\n",
    "axs[1, 0].set_title(r'Demand Variance = $r(p)$')\n",
    "axs[1, 0].set_ylabel('The Noise of Demand')\n",
    "axs[1, 0].set_xlabel('Price')\n",
    "\n",
    "axs[1, 1].scatter(price, hetero_noise_demand[2])\n",
    "axs[1, 1].set_title(r'Demand Variance = $r(p) * 1.8$')\n",
    "axs[1, 1].set_ylabel('The Noise of Demand')\n",
    "axs[1, 1].set_xlabel('Price')\n",
    "\n",
    "fig.savefig(f'{img_dir}/demand_noise.pdf')"
   ]
  },
  {
   "cell_type": "code",
   "execution_count": null,
   "metadata": {},
   "outputs": [],
   "source": []
  }
 ],
 "metadata": {
  "kernelspec": {
   "display_name": "Python 3 (ipykernel)",
   "language": "python",
   "name": "python3"
  },
  "language_info": {
   "codemirror_mode": {
    "name": "ipython",
    "version": 3
   },
   "file_extension": ".py",
   "mimetype": "text/x-python",
   "name": "python",
   "nbconvert_exporter": "python",
   "pygments_lexer": "ipython3",
   "version": "3.10.11"
  },
  "vscode": {
   "interpreter": {
    "hash": "13044e9446dc9e79fa0a14def05fedede05157fce78ba134978c65b5d53ab147"
   }
  }
 },
 "nbformat": 4,
 "nbformat_minor": 4
}
