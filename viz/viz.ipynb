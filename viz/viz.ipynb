{
 "cells": [
  {
   "cell_type": "code",
   "execution_count": 1,
   "metadata": {
    "tags": []
   },
   "outputs": [],
   "source": [
    "import plotly.express as px\n",
    "from glob import glob\n",
    "import os\n",
    "import pandas as pd\n",
    "import csv\n",
    "import numpy as np\n",
    "import seaborn as sns\n",
    "from collections import defaultdict\n",
    "import plotly.graph_objects as go\n",
    "from matplotlib import pyplot as plt"
   ]
  },
  {
   "cell_type": "code",
   "execution_count": 13,
   "metadata": {},
   "outputs": [],
   "source": [
    "img_dir = 'images'\n",
    "os.makedirs(img_dir, exist_ok=True)"
   ]
  },
  {
   "attachments": {},
   "cell_type": "markdown",
   "metadata": {},
   "source": [
    "# DFIV Results"
   ]
  },
  {
   "cell_type": "code",
   "execution_count": 29,
   "metadata": {
    "tags": []
   },
   "outputs": [],
   "source": [
    "DUMP_DIR = '../dumps'\n",
    "dir = 'dfiv_low_dim_parcs'"
   ]
  },
  {
   "cell_type": "code",
   "execution_count": 30,
   "metadata": {
    "tags": []
   },
   "outputs": [],
   "source": [
    "def get_results(dir):\n",
    "    dfs = []\n",
    "    root = os.path.join(DUMP_DIR, dir)\n",
    "    for subdir in os.listdir(root):\n",
    "        if not os.path.isdir(os.path.join(root, subdir)):\n",
    "            continue\n",
    "        props =  [item.split(':') for item in subdir.split('-')]\n",
    "        props = {item[0]: [item[1]] for item in props}\n",
    "\n",
    "        with open (os.path.join(root, subdir, 'result.csv'), 'r') as f:\n",
    "            reader = csv.reader(f)\n",
    "            mse = [float(row[0]) for row in list(reader)]\n",
    "            \n",
    "        n = len(mse)\n",
    "        props = {key: val * n for key, val in props.items()}\n",
    "        props.update({'mse': mse, 'dir': [dir] * n})\n",
    "        dfs.append(pd.DataFrame(props))\n",
    "    return pd.concat(dfs)"
   ]
  },
  {
   "cell_type": "code",
   "execution_count": 31,
   "metadata": {
    "tags": []
   },
   "outputs": [
    {
     "data": {
      "text/plain": [
       "{'0', '0.2', '1', '1.8'}"
      ]
     },
     "execution_count": 31,
     "metadata": {},
     "output_type": "execute_result"
    }
   ],
   "source": [
    "df_parcs =  get_results('dfiv_low_dim_parcs')\n",
    "df_parcs = df_parcs.fillna(0)\n",
    "# set(df.sigma)\n",
    "df_parcs.sigma = ['0' if val == 'None' else val for val in df_parcs.sigma]\n",
    "df_parcs['rho'] = '0.5'\n",
    "set(df_parcs.sigma)"
   ]
  },
  {
   "cell_type": "code",
   "execution_count": 32,
   "metadata": {},
   "outputs": [
    {
     "data": {
      "text/html": [
       "<div>\n",
       "<style scoped>\n",
       "    .dataframe tbody tr th:only-of-type {\n",
       "        vertical-align: middle;\n",
       "    }\n",
       "\n",
       "    .dataframe tbody tr th {\n",
       "        vertical-align: top;\n",
       "    }\n",
       "\n",
       "    .dataframe thead th {\n",
       "        text-align: right;\n",
       "    }\n",
       "</style>\n",
       "<table border=\"1\" class=\"dataframe\">\n",
       "  <thead>\n",
       "    <tr style=\"text-align: right;\">\n",
       "      <th></th>\n",
       "      <th>data_size</th>\n",
       "      <th>mse</th>\n",
       "      <th>dir</th>\n",
       "      <th>rho</th>\n",
       "    </tr>\n",
       "  </thead>\n",
       "  <tbody>\n",
       "    <tr>\n",
       "      <th>0</th>\n",
       "      <td>1000</td>\n",
       "      <td>1141.944214</td>\n",
       "      <td>dfiv_low_dim</td>\n",
       "      <td>0.5</td>\n",
       "    </tr>\n",
       "    <tr>\n",
       "      <th>1</th>\n",
       "      <td>1000</td>\n",
       "      <td>1873.563721</td>\n",
       "      <td>dfiv_low_dim</td>\n",
       "      <td>0.5</td>\n",
       "    </tr>\n",
       "    <tr>\n",
       "      <th>2</th>\n",
       "      <td>1000</td>\n",
       "      <td>1747.489990</td>\n",
       "      <td>dfiv_low_dim</td>\n",
       "      <td>0.5</td>\n",
       "    </tr>\n",
       "    <tr>\n",
       "      <th>3</th>\n",
       "      <td>1000</td>\n",
       "      <td>782.921265</td>\n",
       "      <td>dfiv_low_dim</td>\n",
       "      <td>0.5</td>\n",
       "    </tr>\n",
       "    <tr>\n",
       "      <th>4</th>\n",
       "      <td>1000</td>\n",
       "      <td>1070.878784</td>\n",
       "      <td>dfiv_low_dim</td>\n",
       "      <td>0.5</td>\n",
       "    </tr>\n",
       "    <tr>\n",
       "      <th>...</th>\n",
       "      <td>...</td>\n",
       "      <td>...</td>\n",
       "      <td>...</td>\n",
       "      <td>...</td>\n",
       "    </tr>\n",
       "    <tr>\n",
       "      <th>25</th>\n",
       "      <td>5000</td>\n",
       "      <td>162.295883</td>\n",
       "      <td>dfiv_low_dim</td>\n",
       "      <td>0.5</td>\n",
       "    </tr>\n",
       "    <tr>\n",
       "      <th>26</th>\n",
       "      <td>5000</td>\n",
       "      <td>213.827835</td>\n",
       "      <td>dfiv_low_dim</td>\n",
       "      <td>0.5</td>\n",
       "    </tr>\n",
       "    <tr>\n",
       "      <th>27</th>\n",
       "      <td>5000</td>\n",
       "      <td>196.847046</td>\n",
       "      <td>dfiv_low_dim</td>\n",
       "      <td>0.5</td>\n",
       "    </tr>\n",
       "    <tr>\n",
       "      <th>28</th>\n",
       "      <td>5000</td>\n",
       "      <td>233.762405</td>\n",
       "      <td>dfiv_low_dim</td>\n",
       "      <td>0.5</td>\n",
       "    </tr>\n",
       "    <tr>\n",
       "      <th>29</th>\n",
       "      <td>5000</td>\n",
       "      <td>260.100098</td>\n",
       "      <td>dfiv_low_dim</td>\n",
       "      <td>0.5</td>\n",
       "    </tr>\n",
       "  </tbody>\n",
       "</table>\n",
       "<p>90 rows × 4 columns</p>\n",
       "</div>"
      ],
      "text/plain": [
       "   data_size          mse           dir  rho\n",
       "0       1000  1141.944214  dfiv_low_dim  0.5\n",
       "1       1000  1873.563721  dfiv_low_dim  0.5\n",
       "2       1000  1747.489990  dfiv_low_dim  0.5\n",
       "3       1000   782.921265  dfiv_low_dim  0.5\n",
       "4       1000  1070.878784  dfiv_low_dim  0.5\n",
       "..       ...          ...           ...  ...\n",
       "25      5000   162.295883  dfiv_low_dim  0.5\n",
       "26      5000   213.827835  dfiv_low_dim  0.5\n",
       "27      5000   196.847046  dfiv_low_dim  0.5\n",
       "28      5000   233.762405  dfiv_low_dim  0.5\n",
       "29      5000   260.100098  dfiv_low_dim  0.5\n",
       "\n",
       "[90 rows x 4 columns]"
      ]
     },
     "execution_count": 32,
     "metadata": {},
     "output_type": "execute_result"
    }
   ],
   "source": [
    "df_orignal = get_results('dfiv_low_dim')\n",
    "df_orignal['rho'] = '0.5'\n",
    "df_orignal"
   ]
  },
  {
   "cell_type": "code",
   "execution_count": 36,
   "metadata": {},
   "outputs": [
    {
     "data": {
      "text/html": [
       "<div>\n",
       "<style scoped>\n",
       "    .dataframe tbody tr th:only-of-type {\n",
       "        vertical-align: middle;\n",
       "    }\n",
       "\n",
       "    .dataframe tbody tr th {\n",
       "        vertical-align: top;\n",
       "    }\n",
       "\n",
       "    .dataframe thead th {\n",
       "        text-align: right;\n",
       "    }\n",
       "</style>\n",
       "<table border=\"1\" class=\"dataframe\">\n",
       "  <thead>\n",
       "    <tr style=\"text-align: right;\">\n",
       "      <th></th>\n",
       "      <th>data_size</th>\n",
       "      <th>sigma</th>\n",
       "      <th>mse</th>\n",
       "      <th>dir</th>\n",
       "      <th>rho</th>\n",
       "    </tr>\n",
       "  </thead>\n",
       "  <tbody>\n",
       "    <tr>\n",
       "      <th>0</th>\n",
       "      <td>10000</td>\n",
       "      <td>0.2</td>\n",
       "      <td>206.138809</td>\n",
       "      <td>dfiv_low_dim_parcs</td>\n",
       "      <td>0.5</td>\n",
       "    </tr>\n",
       "    <tr>\n",
       "      <th>1</th>\n",
       "      <td>10000</td>\n",
       "      <td>0.2</td>\n",
       "      <td>174.216660</td>\n",
       "      <td>dfiv_low_dim_parcs</td>\n",
       "      <td>0.5</td>\n",
       "    </tr>\n",
       "    <tr>\n",
       "      <th>2</th>\n",
       "      <td>10000</td>\n",
       "      <td>0.2</td>\n",
       "      <td>294.281586</td>\n",
       "      <td>dfiv_low_dim_parcs</td>\n",
       "      <td>0.5</td>\n",
       "    </tr>\n",
       "    <tr>\n",
       "      <th>3</th>\n",
       "      <td>10000</td>\n",
       "      <td>0.2</td>\n",
       "      <td>117.552086</td>\n",
       "      <td>dfiv_low_dim_parcs</td>\n",
       "      <td>0.5</td>\n",
       "    </tr>\n",
       "    <tr>\n",
       "      <th>4</th>\n",
       "      <td>10000</td>\n",
       "      <td>0.2</td>\n",
       "      <td>208.440002</td>\n",
       "      <td>dfiv_low_dim_parcs</td>\n",
       "      <td>0.5</td>\n",
       "    </tr>\n",
       "    <tr>\n",
       "      <th>...</th>\n",
       "      <td>...</td>\n",
       "      <td>...</td>\n",
       "      <td>...</td>\n",
       "      <td>...</td>\n",
       "      <td>...</td>\n",
       "    </tr>\n",
       "    <tr>\n",
       "      <th>25</th>\n",
       "      <td>5000</td>\n",
       "      <td>0</td>\n",
       "      <td>162.295883</td>\n",
       "      <td>dfiv_low_dim</td>\n",
       "      <td>0.5</td>\n",
       "    </tr>\n",
       "    <tr>\n",
       "      <th>26</th>\n",
       "      <td>5000</td>\n",
       "      <td>0</td>\n",
       "      <td>213.827835</td>\n",
       "      <td>dfiv_low_dim</td>\n",
       "      <td>0.5</td>\n",
       "    </tr>\n",
       "    <tr>\n",
       "      <th>27</th>\n",
       "      <td>5000</td>\n",
       "      <td>0</td>\n",
       "      <td>196.847046</td>\n",
       "      <td>dfiv_low_dim</td>\n",
       "      <td>0.5</td>\n",
       "    </tr>\n",
       "    <tr>\n",
       "      <th>28</th>\n",
       "      <td>5000</td>\n",
       "      <td>0</td>\n",
       "      <td>233.762405</td>\n",
       "      <td>dfiv_low_dim</td>\n",
       "      <td>0.5</td>\n",
       "    </tr>\n",
       "    <tr>\n",
       "      <th>29</th>\n",
       "      <td>5000</td>\n",
       "      <td>0</td>\n",
       "      <td>260.100098</td>\n",
       "      <td>dfiv_low_dim</td>\n",
       "      <td>0.5</td>\n",
       "    </tr>\n",
       "  </tbody>\n",
       "</table>\n",
       "<p>450 rows × 5 columns</p>\n",
       "</div>"
      ],
      "text/plain": [
       "   data_size sigma         mse                 dir  rho\n",
       "0      10000   0.2  206.138809  dfiv_low_dim_parcs  0.5\n",
       "1      10000   0.2  174.216660  dfiv_low_dim_parcs  0.5\n",
       "2      10000   0.2  294.281586  dfiv_low_dim_parcs  0.5\n",
       "3      10000   0.2  117.552086  dfiv_low_dim_parcs  0.5\n",
       "4      10000   0.2  208.440002  dfiv_low_dim_parcs  0.5\n",
       "..       ...   ...         ...                 ...  ...\n",
       "25      5000     0  162.295883        dfiv_low_dim  0.5\n",
       "26      5000     0  213.827835        dfiv_low_dim  0.5\n",
       "27      5000     0  196.847046        dfiv_low_dim  0.5\n",
       "28      5000     0  233.762405        dfiv_low_dim  0.5\n",
       "29      5000     0  260.100098        dfiv_low_dim  0.5\n",
       "\n",
       "[450 rows x 5 columns]"
      ]
     },
     "execution_count": 36,
     "metadata": {},
     "output_type": "execute_result"
    }
   ],
   "source": [
    "df_comb = pd.concat([df_parcs, df_orignal])\n",
    "df_comb\n",
    "df_comb = df_comb.fillna('0')\n",
    "df_comb = df_comb[df_comb['rho'] == '0.5']\n",
    "df_comb"
   ]
  },
  {
   "cell_type": "code",
   "execution_count": 37,
   "metadata": {},
   "outputs": [
    {
     "data": {
      "text/html": [
       "<div>\n",
       "<style scoped>\n",
       "    .dataframe tbody tr th:only-of-type {\n",
       "        vertical-align: middle;\n",
       "    }\n",
       "\n",
       "    .dataframe tbody tr th {\n",
       "        vertical-align: top;\n",
       "    }\n",
       "\n",
       "    .dataframe thead th {\n",
       "        text-align: right;\n",
       "    }\n",
       "</style>\n",
       "<table border=\"1\" class=\"dataframe\">\n",
       "  <thead>\n",
       "    <tr style=\"text-align: right;\">\n",
       "      <th></th>\n",
       "      <th>data_size</th>\n",
       "      <th>sigma</th>\n",
       "      <th>mse</th>\n",
       "      <th>dir</th>\n",
       "      <th>rho</th>\n",
       "      <th>case</th>\n",
       "    </tr>\n",
       "  </thead>\n",
       "  <tbody>\n",
       "    <tr>\n",
       "      <th>0</th>\n",
       "      <td>10000</td>\n",
       "      <td>0.2</td>\n",
       "      <td>206.138809</td>\n",
       "      <td>dfiv_low_dim_parcs</td>\n",
       "      <td>0.5</td>\n",
       "      <td>PARCS'</td>\n",
       "    </tr>\n",
       "    <tr>\n",
       "      <th>1</th>\n",
       "      <td>10000</td>\n",
       "      <td>0.2</td>\n",
       "      <td>174.216660</td>\n",
       "      <td>dfiv_low_dim_parcs</td>\n",
       "      <td>0.5</td>\n",
       "      <td>PARCS'</td>\n",
       "    </tr>\n",
       "    <tr>\n",
       "      <th>2</th>\n",
       "      <td>10000</td>\n",
       "      <td>0.2</td>\n",
       "      <td>294.281586</td>\n",
       "      <td>dfiv_low_dim_parcs</td>\n",
       "      <td>0.5</td>\n",
       "      <td>PARCS'</td>\n",
       "    </tr>\n",
       "    <tr>\n",
       "      <th>3</th>\n",
       "      <td>10000</td>\n",
       "      <td>0.2</td>\n",
       "      <td>117.552086</td>\n",
       "      <td>dfiv_low_dim_parcs</td>\n",
       "      <td>0.5</td>\n",
       "      <td>PARCS'</td>\n",
       "    </tr>\n",
       "    <tr>\n",
       "      <th>4</th>\n",
       "      <td>10000</td>\n",
       "      <td>0.2</td>\n",
       "      <td>208.440002</td>\n",
       "      <td>dfiv_low_dim_parcs</td>\n",
       "      <td>0.5</td>\n",
       "      <td>PARCS'</td>\n",
       "    </tr>\n",
       "    <tr>\n",
       "      <th>...</th>\n",
       "      <td>...</td>\n",
       "      <td>...</td>\n",
       "      <td>...</td>\n",
       "      <td>...</td>\n",
       "      <td>...</td>\n",
       "      <td>...</td>\n",
       "    </tr>\n",
       "    <tr>\n",
       "      <th>25</th>\n",
       "      <td>5000</td>\n",
       "      <td>0</td>\n",
       "      <td>162.295883</td>\n",
       "      <td>dfiv_low_dim</td>\n",
       "      <td>0.5</td>\n",
       "      <td>Original</td>\n",
       "    </tr>\n",
       "    <tr>\n",
       "      <th>26</th>\n",
       "      <td>5000</td>\n",
       "      <td>0</td>\n",
       "      <td>213.827835</td>\n",
       "      <td>dfiv_low_dim</td>\n",
       "      <td>0.5</td>\n",
       "      <td>Original</td>\n",
       "    </tr>\n",
       "    <tr>\n",
       "      <th>27</th>\n",
       "      <td>5000</td>\n",
       "      <td>0</td>\n",
       "      <td>196.847046</td>\n",
       "      <td>dfiv_low_dim</td>\n",
       "      <td>0.5</td>\n",
       "      <td>Original</td>\n",
       "    </tr>\n",
       "    <tr>\n",
       "      <th>28</th>\n",
       "      <td>5000</td>\n",
       "      <td>0</td>\n",
       "      <td>233.762405</td>\n",
       "      <td>dfiv_low_dim</td>\n",
       "      <td>0.5</td>\n",
       "      <td>Original</td>\n",
       "    </tr>\n",
       "    <tr>\n",
       "      <th>29</th>\n",
       "      <td>5000</td>\n",
       "      <td>0</td>\n",
       "      <td>260.100098</td>\n",
       "      <td>dfiv_low_dim</td>\n",
       "      <td>0.5</td>\n",
       "      <td>Original</td>\n",
       "    </tr>\n",
       "  </tbody>\n",
       "</table>\n",
       "<p>450 rows × 6 columns</p>\n",
       "</div>"
      ],
      "text/plain": [
       "   data_size sigma         mse                 dir  rho      case\n",
       "0      10000   0.2  206.138809  dfiv_low_dim_parcs  0.5    PARCS'\n",
       "1      10000   0.2  174.216660  dfiv_low_dim_parcs  0.5    PARCS'\n",
       "2      10000   0.2  294.281586  dfiv_low_dim_parcs  0.5    PARCS'\n",
       "3      10000   0.2  117.552086  dfiv_low_dim_parcs  0.5    PARCS'\n",
       "4      10000   0.2  208.440002  dfiv_low_dim_parcs  0.5    PARCS'\n",
       "..       ...   ...         ...                 ...  ...       ...\n",
       "25      5000     0  162.295883        dfiv_low_dim  0.5  Original\n",
       "26      5000     0  213.827835        dfiv_low_dim  0.5  Original\n",
       "27      5000     0  196.847046        dfiv_low_dim  0.5  Original\n",
       "28      5000     0  233.762405        dfiv_low_dim  0.5  Original\n",
       "29      5000     0  260.100098        dfiv_low_dim  0.5  Original\n",
       "\n",
       "[450 rows x 6 columns]"
      ]
     },
     "execution_count": 37,
     "metadata": {},
     "output_type": "execute_result"
    }
   ],
   "source": [
    "df_comb.loc[df_comb['dir'] == 'dfiv_low_dim', 'case'] = 'Original'\n",
    "df_comb.loc[df_comb['dir'] == 'dfiv_low_dim_parcs', 'case'] = \"PARCS'\"\n",
    "df_comb"
   ]
  },
  {
   "cell_type": "code",
   "execution_count": 38,
   "metadata": {},
   "outputs": [
    {
     "data": {
      "text/html": [
       "<div>\n",
       "<style scoped>\n",
       "    .dataframe tbody tr th:only-of-type {\n",
       "        vertical-align: middle;\n",
       "    }\n",
       "\n",
       "    .dataframe tbody tr th {\n",
       "        vertical-align: top;\n",
       "    }\n",
       "\n",
       "    .dataframe thead th {\n",
       "        text-align: right;\n",
       "    }\n",
       "</style>\n",
       "<table border=\"1\" class=\"dataframe\">\n",
       "  <thead>\n",
       "    <tr style=\"text-align: right;\">\n",
       "      <th></th>\n",
       "      <th>data_size</th>\n",
       "      <th>rho</th>\n",
       "      <th>case</th>\n",
       "      <th>sigma</th>\n",
       "      <th>mse</th>\n",
       "    </tr>\n",
       "  </thead>\n",
       "  <tbody>\n",
       "    <tr>\n",
       "      <th>0</th>\n",
       "      <td>1000</td>\n",
       "      <td>0.5</td>\n",
       "      <td>Original</td>\n",
       "      <td>0</td>\n",
       "      <td>1218.824225</td>\n",
       "    </tr>\n",
       "    <tr>\n",
       "      <th>1</th>\n",
       "      <td>1000</td>\n",
       "      <td>0.5</td>\n",
       "      <td>PARCS'</td>\n",
       "      <td>0</td>\n",
       "      <td>1121.311072</td>\n",
       "    </tr>\n",
       "    <tr>\n",
       "      <th>2</th>\n",
       "      <td>1000</td>\n",
       "      <td>0.5</td>\n",
       "      <td>PARCS'</td>\n",
       "      <td>0.2</td>\n",
       "      <td>1048.434340</td>\n",
       "    </tr>\n",
       "    <tr>\n",
       "      <th>3</th>\n",
       "      <td>1000</td>\n",
       "      <td>0.5</td>\n",
       "      <td>PARCS'</td>\n",
       "      <td>1</td>\n",
       "      <td>1109.775183</td>\n",
       "    </tr>\n",
       "    <tr>\n",
       "      <th>4</th>\n",
       "      <td>1000</td>\n",
       "      <td>0.5</td>\n",
       "      <td>PARCS'</td>\n",
       "      <td>1.8</td>\n",
       "      <td>1034.191089</td>\n",
       "    </tr>\n",
       "    <tr>\n",
       "      <th>5</th>\n",
       "      <td>10000</td>\n",
       "      <td>0.5</td>\n",
       "      <td>Original</td>\n",
       "      <td>0</td>\n",
       "      <td>185.661472</td>\n",
       "    </tr>\n",
       "    <tr>\n",
       "      <th>6</th>\n",
       "      <td>10000</td>\n",
       "      <td>0.5</td>\n",
       "      <td>PARCS'</td>\n",
       "      <td>0</td>\n",
       "      <td>189.586106</td>\n",
       "    </tr>\n",
       "    <tr>\n",
       "      <th>7</th>\n",
       "      <td>10000</td>\n",
       "      <td>0.5</td>\n",
       "      <td>PARCS'</td>\n",
       "      <td>0.2</td>\n",
       "      <td>162.522503</td>\n",
       "    </tr>\n",
       "    <tr>\n",
       "      <th>8</th>\n",
       "      <td>10000</td>\n",
       "      <td>0.5</td>\n",
       "      <td>PARCS'</td>\n",
       "      <td>1</td>\n",
       "      <td>168.834884</td>\n",
       "    </tr>\n",
       "    <tr>\n",
       "      <th>9</th>\n",
       "      <td>10000</td>\n",
       "      <td>0.5</td>\n",
       "      <td>PARCS'</td>\n",
       "      <td>1.8</td>\n",
       "      <td>242.646262</td>\n",
       "    </tr>\n",
       "    <tr>\n",
       "      <th>10</th>\n",
       "      <td>5000</td>\n",
       "      <td>0.5</td>\n",
       "      <td>Original</td>\n",
       "      <td>0</td>\n",
       "      <td>222.088830</td>\n",
       "    </tr>\n",
       "    <tr>\n",
       "      <th>11</th>\n",
       "      <td>5000</td>\n",
       "      <td>0.5</td>\n",
       "      <td>PARCS'</td>\n",
       "      <td>0</td>\n",
       "      <td>249.634018</td>\n",
       "    </tr>\n",
       "    <tr>\n",
       "      <th>12</th>\n",
       "      <td>5000</td>\n",
       "      <td>0.5</td>\n",
       "      <td>PARCS'</td>\n",
       "      <td>0.2</td>\n",
       "      <td>247.772682</td>\n",
       "    </tr>\n",
       "    <tr>\n",
       "      <th>13</th>\n",
       "      <td>5000</td>\n",
       "      <td>0.5</td>\n",
       "      <td>PARCS'</td>\n",
       "      <td>1</td>\n",
       "      <td>229.211956</td>\n",
       "    </tr>\n",
       "    <tr>\n",
       "      <th>14</th>\n",
       "      <td>5000</td>\n",
       "      <td>0.5</td>\n",
       "      <td>PARCS'</td>\n",
       "      <td>1.8</td>\n",
       "      <td>224.422766</td>\n",
       "    </tr>\n",
       "  </tbody>\n",
       "</table>\n",
       "</div>"
      ],
      "text/plain": [
       "   data_size  rho      case sigma          mse\n",
       "0       1000  0.5  Original     0  1218.824225\n",
       "1       1000  0.5    PARCS'     0  1121.311072\n",
       "2       1000  0.5    PARCS'   0.2  1048.434340\n",
       "3       1000  0.5    PARCS'     1  1109.775183\n",
       "4       1000  0.5    PARCS'   1.8  1034.191089\n",
       "5      10000  0.5  Original     0   185.661472\n",
       "6      10000  0.5    PARCS'     0   189.586106\n",
       "7      10000  0.5    PARCS'   0.2   162.522503\n",
       "8      10000  0.5    PARCS'     1   168.834884\n",
       "9      10000  0.5    PARCS'   1.8   242.646262\n",
       "10      5000  0.5  Original     0   222.088830\n",
       "11      5000  0.5    PARCS'     0   249.634018\n",
       "12      5000  0.5    PARCS'   0.2   247.772682\n",
       "13      5000  0.5    PARCS'     1   229.211956\n",
       "14      5000  0.5    PARCS'   1.8   224.422766"
      ]
     },
     "execution_count": 38,
     "metadata": {},
     "output_type": "execute_result"
    }
   ],
   "source": [
    "df_avg = df_comb.groupby(['data_size', 'rho', 'case', 'sigma']).mean()\n",
    "df_avg = df_avg.reset_index()\n",
    "df_avg = df_avg.fillna(0)\n",
    "df_avg = df_avg[df_avg['rho'] == '0.5']\n",
    "df_avg"
   ]
  },
  {
   "cell_type": "code",
   "execution_count": 39,
   "metadata": {},
   "outputs": [
    {
     "data": {
      "text/html": [
       "<div>\n",
       "<style scoped>\n",
       "    .dataframe tbody tr th:only-of-type {\n",
       "        vertical-align: middle;\n",
       "    }\n",
       "\n",
       "    .dataframe tbody tr th {\n",
       "        vertical-align: top;\n",
       "    }\n",
       "\n",
       "    .dataframe thead th {\n",
       "        text-align: right;\n",
       "    }\n",
       "</style>\n",
       "<table border=\"1\" class=\"dataframe\">\n",
       "  <thead>\n",
       "    <tr style=\"text-align: right;\">\n",
       "      <th></th>\n",
       "      <th>data_size</th>\n",
       "      <th>rho</th>\n",
       "      <th>case</th>\n",
       "      <th>sigma</th>\n",
       "      <th>mse</th>\n",
       "    </tr>\n",
       "  </thead>\n",
       "  <tbody>\n",
       "    <tr>\n",
       "      <th>0</th>\n",
       "      <td>1000</td>\n",
       "      <td>0.5</td>\n",
       "      <td>Original</td>\n",
       "      <td>0</td>\n",
       "      <td>442.236167</td>\n",
       "    </tr>\n",
       "    <tr>\n",
       "      <th>1</th>\n",
       "      <td>1000</td>\n",
       "      <td>0.5</td>\n",
       "      <td>PARCS'</td>\n",
       "      <td>0</td>\n",
       "      <td>385.571241</td>\n",
       "    </tr>\n",
       "    <tr>\n",
       "      <th>2</th>\n",
       "      <td>1000</td>\n",
       "      <td>0.5</td>\n",
       "      <td>PARCS'</td>\n",
       "      <td>0.2</td>\n",
       "      <td>366.747385</td>\n",
       "    </tr>\n",
       "    <tr>\n",
       "      <th>3</th>\n",
       "      <td>1000</td>\n",
       "      <td>0.5</td>\n",
       "      <td>PARCS'</td>\n",
       "      <td>1</td>\n",
       "      <td>316.262913</td>\n",
       "    </tr>\n",
       "    <tr>\n",
       "      <th>4</th>\n",
       "      <td>1000</td>\n",
       "      <td>0.5</td>\n",
       "      <td>PARCS'</td>\n",
       "      <td>1.8</td>\n",
       "      <td>260.878080</td>\n",
       "    </tr>\n",
       "    <tr>\n",
       "      <th>5</th>\n",
       "      <td>10000</td>\n",
       "      <td>0.5</td>\n",
       "      <td>Original</td>\n",
       "      <td>0</td>\n",
       "      <td>135.733097</td>\n",
       "    </tr>\n",
       "    <tr>\n",
       "      <th>6</th>\n",
       "      <td>10000</td>\n",
       "      <td>0.5</td>\n",
       "      <td>PARCS'</td>\n",
       "      <td>0</td>\n",
       "      <td>88.997535</td>\n",
       "    </tr>\n",
       "    <tr>\n",
       "      <th>7</th>\n",
       "      <td>10000</td>\n",
       "      <td>0.5</td>\n",
       "      <td>PARCS'</td>\n",
       "      <td>0.2</td>\n",
       "      <td>44.827670</td>\n",
       "    </tr>\n",
       "    <tr>\n",
       "      <th>8</th>\n",
       "      <td>10000</td>\n",
       "      <td>0.5</td>\n",
       "      <td>PARCS'</td>\n",
       "      <td>1</td>\n",
       "      <td>41.335003</td>\n",
       "    </tr>\n",
       "    <tr>\n",
       "      <th>9</th>\n",
       "      <td>10000</td>\n",
       "      <td>0.5</td>\n",
       "      <td>PARCS'</td>\n",
       "      <td>1.8</td>\n",
       "      <td>398.626734</td>\n",
       "    </tr>\n",
       "    <tr>\n",
       "      <th>10</th>\n",
       "      <td>5000</td>\n",
       "      <td>0.5</td>\n",
       "      <td>Original</td>\n",
       "      <td>0</td>\n",
       "      <td>64.198365</td>\n",
       "    </tr>\n",
       "    <tr>\n",
       "      <th>11</th>\n",
       "      <td>5000</td>\n",
       "      <td>0.5</td>\n",
       "      <td>PARCS'</td>\n",
       "      <td>0</td>\n",
       "      <td>137.057128</td>\n",
       "    </tr>\n",
       "    <tr>\n",
       "      <th>12</th>\n",
       "      <td>5000</td>\n",
       "      <td>0.5</td>\n",
       "      <td>PARCS'</td>\n",
       "      <td>0.2</td>\n",
       "      <td>107.461595</td>\n",
       "    </tr>\n",
       "    <tr>\n",
       "      <th>13</th>\n",
       "      <td>5000</td>\n",
       "      <td>0.5</td>\n",
       "      <td>PARCS'</td>\n",
       "      <td>1</td>\n",
       "      <td>47.768090</td>\n",
       "    </tr>\n",
       "    <tr>\n",
       "      <th>14</th>\n",
       "      <td>5000</td>\n",
       "      <td>0.5</td>\n",
       "      <td>PARCS'</td>\n",
       "      <td>1.8</td>\n",
       "      <td>58.235091</td>\n",
       "    </tr>\n",
       "  </tbody>\n",
       "</table>\n",
       "</div>"
      ],
      "text/plain": [
       "   data_size  rho      case sigma         mse\n",
       "0       1000  0.5  Original     0  442.236167\n",
       "1       1000  0.5    PARCS'     0  385.571241\n",
       "2       1000  0.5    PARCS'   0.2  366.747385\n",
       "3       1000  0.5    PARCS'     1  316.262913\n",
       "4       1000  0.5    PARCS'   1.8  260.878080\n",
       "5      10000  0.5  Original     0  135.733097\n",
       "6      10000  0.5    PARCS'     0   88.997535\n",
       "7      10000  0.5    PARCS'   0.2   44.827670\n",
       "8      10000  0.5    PARCS'     1   41.335003\n",
       "9      10000  0.5    PARCS'   1.8  398.626734\n",
       "10      5000  0.5  Original     0   64.198365\n",
       "11      5000  0.5    PARCS'     0  137.057128\n",
       "12      5000  0.5    PARCS'   0.2  107.461595\n",
       "13      5000  0.5    PARCS'     1   47.768090\n",
       "14      5000  0.5    PARCS'   1.8   58.235091"
      ]
     },
     "execution_count": 39,
     "metadata": {},
     "output_type": "execute_result"
    }
   ],
   "source": [
    "df_std = df_comb.groupby(['data_size', 'rho', 'case', 'sigma'])['mse'].std()\n",
    "df_std = df_std.reset_index()\n",
    "df_std[df_std['rho'] == '0.5']"
   ]
  },
  {
   "cell_type": "code",
   "execution_count": 40,
   "metadata": {},
   "outputs": [
    {
     "data": {
      "text/html": [
       "<div>\n",
       "<style scoped>\n",
       "    .dataframe tbody tr th:only-of-type {\n",
       "        vertical-align: middle;\n",
       "    }\n",
       "\n",
       "    .dataframe tbody tr th {\n",
       "        vertical-align: top;\n",
       "    }\n",
       "\n",
       "    .dataframe thead th {\n",
       "        text-align: right;\n",
       "    }\n",
       "</style>\n",
       "<table border=\"1\" class=\"dataframe\">\n",
       "  <thead>\n",
       "    <tr style=\"text-align: right;\">\n",
       "      <th></th>\n",
       "      <th>data_size</th>\n",
       "      <th>rho</th>\n",
       "      <th>case</th>\n",
       "      <th>sigma</th>\n",
       "      <th>mse</th>\n",
       "      <th>std</th>\n",
       "    </tr>\n",
       "  </thead>\n",
       "  <tbody>\n",
       "    <tr>\n",
       "      <th>0</th>\n",
       "      <td>1000</td>\n",
       "      <td>0.5</td>\n",
       "      <td>Original</td>\n",
       "      <td>0</td>\n",
       "      <td>1218.824225</td>\n",
       "      <td>442.236167</td>\n",
       "    </tr>\n",
       "    <tr>\n",
       "      <th>1</th>\n",
       "      <td>1000</td>\n",
       "      <td>0.5</td>\n",
       "      <td>PARCS'</td>\n",
       "      <td>0</td>\n",
       "      <td>1121.311072</td>\n",
       "      <td>385.571241</td>\n",
       "    </tr>\n",
       "    <tr>\n",
       "      <th>2</th>\n",
       "      <td>1000</td>\n",
       "      <td>0.5</td>\n",
       "      <td>PARCS'</td>\n",
       "      <td>0.2</td>\n",
       "      <td>1048.434340</td>\n",
       "      <td>366.747385</td>\n",
       "    </tr>\n",
       "    <tr>\n",
       "      <th>3</th>\n",
       "      <td>1000</td>\n",
       "      <td>0.5</td>\n",
       "      <td>PARCS'</td>\n",
       "      <td>1</td>\n",
       "      <td>1109.775183</td>\n",
       "      <td>316.262913</td>\n",
       "    </tr>\n",
       "    <tr>\n",
       "      <th>4</th>\n",
       "      <td>1000</td>\n",
       "      <td>0.5</td>\n",
       "      <td>PARCS'</td>\n",
       "      <td>1.8</td>\n",
       "      <td>1034.191089</td>\n",
       "      <td>260.878080</td>\n",
       "    </tr>\n",
       "    <tr>\n",
       "      <th>5</th>\n",
       "      <td>10000</td>\n",
       "      <td>0.5</td>\n",
       "      <td>Original</td>\n",
       "      <td>0</td>\n",
       "      <td>185.661472</td>\n",
       "      <td>135.733097</td>\n",
       "    </tr>\n",
       "    <tr>\n",
       "      <th>6</th>\n",
       "      <td>10000</td>\n",
       "      <td>0.5</td>\n",
       "      <td>PARCS'</td>\n",
       "      <td>0</td>\n",
       "      <td>189.586106</td>\n",
       "      <td>88.997535</td>\n",
       "    </tr>\n",
       "    <tr>\n",
       "      <th>7</th>\n",
       "      <td>10000</td>\n",
       "      <td>0.5</td>\n",
       "      <td>PARCS'</td>\n",
       "      <td>0.2</td>\n",
       "      <td>162.522503</td>\n",
       "      <td>44.827670</td>\n",
       "    </tr>\n",
       "    <tr>\n",
       "      <th>8</th>\n",
       "      <td>10000</td>\n",
       "      <td>0.5</td>\n",
       "      <td>PARCS'</td>\n",
       "      <td>1</td>\n",
       "      <td>168.834884</td>\n",
       "      <td>41.335003</td>\n",
       "    </tr>\n",
       "    <tr>\n",
       "      <th>9</th>\n",
       "      <td>10000</td>\n",
       "      <td>0.5</td>\n",
       "      <td>PARCS'</td>\n",
       "      <td>1.8</td>\n",
       "      <td>242.646262</td>\n",
       "      <td>398.626734</td>\n",
       "    </tr>\n",
       "    <tr>\n",
       "      <th>10</th>\n",
       "      <td>5000</td>\n",
       "      <td>0.5</td>\n",
       "      <td>Original</td>\n",
       "      <td>0</td>\n",
       "      <td>222.088830</td>\n",
       "      <td>64.198365</td>\n",
       "    </tr>\n",
       "    <tr>\n",
       "      <th>11</th>\n",
       "      <td>5000</td>\n",
       "      <td>0.5</td>\n",
       "      <td>PARCS'</td>\n",
       "      <td>0</td>\n",
       "      <td>249.634018</td>\n",
       "      <td>137.057128</td>\n",
       "    </tr>\n",
       "    <tr>\n",
       "      <th>12</th>\n",
       "      <td>5000</td>\n",
       "      <td>0.5</td>\n",
       "      <td>PARCS'</td>\n",
       "      <td>0.2</td>\n",
       "      <td>247.772682</td>\n",
       "      <td>107.461595</td>\n",
       "    </tr>\n",
       "    <tr>\n",
       "      <th>13</th>\n",
       "      <td>5000</td>\n",
       "      <td>0.5</td>\n",
       "      <td>PARCS'</td>\n",
       "      <td>1</td>\n",
       "      <td>229.211956</td>\n",
       "      <td>47.768090</td>\n",
       "    </tr>\n",
       "    <tr>\n",
       "      <th>14</th>\n",
       "      <td>5000</td>\n",
       "      <td>0.5</td>\n",
       "      <td>PARCS'</td>\n",
       "      <td>1.8</td>\n",
       "      <td>224.422766</td>\n",
       "      <td>58.235091</td>\n",
       "    </tr>\n",
       "  </tbody>\n",
       "</table>\n",
       "</div>"
      ],
      "text/plain": [
       "   data_size  rho      case sigma          mse         std\n",
       "0       1000  0.5  Original     0  1218.824225  442.236167\n",
       "1       1000  0.5    PARCS'     0  1121.311072  385.571241\n",
       "2       1000  0.5    PARCS'   0.2  1048.434340  366.747385\n",
       "3       1000  0.5    PARCS'     1  1109.775183  316.262913\n",
       "4       1000  0.5    PARCS'   1.8  1034.191089  260.878080\n",
       "5      10000  0.5  Original     0   185.661472  135.733097\n",
       "6      10000  0.5    PARCS'     0   189.586106   88.997535\n",
       "7      10000  0.5    PARCS'   0.2   162.522503   44.827670\n",
       "8      10000  0.5    PARCS'     1   168.834884   41.335003\n",
       "9      10000  0.5    PARCS'   1.8   242.646262  398.626734\n",
       "10      5000  0.5  Original     0   222.088830   64.198365\n",
       "11      5000  0.5    PARCS'     0   249.634018  137.057128\n",
       "12      5000  0.5    PARCS'   0.2   247.772682  107.461595\n",
       "13      5000  0.5    PARCS'     1   229.211956   47.768090\n",
       "14      5000  0.5    PARCS'   1.8   224.422766   58.235091"
      ]
     },
     "execution_count": 40,
     "metadata": {},
     "output_type": "execute_result"
    }
   ],
   "source": [
    "df_avg['std'] = df_std['mse']\n",
    "df_avg"
   ]
  },
  {
   "cell_type": "code",
   "execution_count": 41,
   "metadata": {},
   "outputs": [],
   "source": [
    "# df_comb = df_comb.loc[df_comb['data_size'] != '1000']"
   ]
  },
  {
   "cell_type": "code",
   "execution_count": 42,
   "metadata": {
    "tags": []
   },
   "outputs": [
    {
     "data": {
      "application/vnd.plotly.v1+json": {
       "config": {
        "plotlyServerURL": "https://plot.ly"
       },
       "data": [
        {
         "alignmentgroup": "True",
         "boxpoints": "all",
         "hovertemplate": "Case=PARCS'<br>N=1000<br>Sigma=%{x}<br>MSE=%{y}<extra></extra>",
         "legendgroup": "PARCS'",
         "marker": {
          "color": "#636efa"
         },
         "name": "PARCS'",
         "notched": false,
         "offsetgroup": "PARCS'",
         "orientation": "v",
         "showlegend": true,
         "type": "box",
         "width": 0.6,
         "x": [
          "0.2",
          "0.2",
          "0.2",
          "0.2",
          "0.2",
          "0.2",
          "0.2",
          "0.2",
          "0.2",
          "0.2",
          "0.2",
          "0.2",
          "0.2",
          "0.2",
          "0.2",
          "0.2",
          "0.2",
          "0.2",
          "0.2",
          "0.2",
          "0.2",
          "0.2",
          "0.2",
          "0.2",
          "0.2",
          "0.2",
          "0.2",
          "0.2",
          "0.2",
          "0.2",
          "0",
          "0",
          "0",
          "0",
          "0",
          "0",
          "0",
          "0",
          "0",
          "0",
          "0",
          "0",
          "0",
          "0",
          "0",
          "0",
          "0",
          "0",
          "0",
          "0",
          "0",
          "0",
          "0",
          "0",
          "0",
          "0",
          "0",
          "0",
          "0",
          "0",
          "1",
          "1",
          "1",
          "1",
          "1",
          "1",
          "1",
          "1",
          "1",
          "1",
          "1",
          "1",
          "1",
          "1",
          "1",
          "1",
          "1",
          "1",
          "1",
          "1",
          "1",
          "1",
          "1",
          "1",
          "1",
          "1",
          "1",
          "1",
          "1",
          "1",
          "1.8",
          "1.8",
          "1.8",
          "1.8",
          "1.8",
          "1.8",
          "1.8",
          "1.8",
          "1.8",
          "1.8",
          "1.8",
          "1.8",
          "1.8",
          "1.8",
          "1.8",
          "1.8",
          "1.8",
          "1.8",
          "1.8",
          "1.8",
          "1.8",
          "1.8",
          "1.8",
          "1.8",
          "1.8",
          "1.8",
          "1.8",
          "1.8",
          "1.8",
          "1.8"
         ],
         "x0": " ",
         "xaxis": "x",
         "y": [
          896.1394653320312,
          702.56640625,
          661.3268432617188,
          1144.1822509765625,
          1949.6051025390625,
          742.02734375,
          1449.1285400390625,
          889.5117797851562,
          1091.0706787109375,
          859.704833984375,
          937.8120727539062,
          808.8037109375,
          1805.0255126953125,
          1243.34423828125,
          772.880859375,
          658.2120971679688,
          743.30859375,
          956.5821533203125,
          751.5097045898438,
          1405.0655517578125,
          723.4154663085938,
          1685.730712890625,
          1049.68798828125,
          741.9747924804688,
          1049.4503173828125,
          1175.493896484375,
          1080.81396484375,
          1773.502685546875,
          755.0795288085938,
          950.0731201171875,
          964.1092529296875,
          796.8491821289062,
          955.9635620117188,
          1620.7052001953125,
          1094.357666015625,
          787.0972290039062,
          1157.3416748046875,
          780.2071533203125,
          833.6367797851562,
          775.3359985351562,
          1282.30322265625,
          1035.534423828125,
          1027.3427734375,
          1214.5140380859375,
          1364.388427734375,
          1821.3480224609375,
          696.6114501953125,
          905.9037475585938,
          2170.13720703125,
          959.8564453125,
          1227.9544677734375,
          1584.9083251953125,
          624.0524291992188,
          1103.9705810546875,
          777.2282104492188,
          876.5014038085938,
          1945.2747802734375,
          1209.2318115234375,
          1307.2344970703125,
          739.4321899414062,
          1183.982177734375,
          1264.1029052734375,
          748.542724609375,
          849.8673095703125,
          950.528564453125,
          723.1040649414062,
          1061.5391845703125,
          1330.4774169921875,
          1608.4530029296875,
          895.5210571289062,
          1485.6488037109375,
          1460.321533203125,
          1109.1234130859375,
          1017.4630126953125,
          1082.7034912109375,
          1672.541748046875,
          748.7733154296875,
          1193.7628173828125,
          679.9256591796875,
          1026.219970703125,
          814.726318359375,
          1250.825439453125,
          790.2741088867188,
          1216.117431640625,
          693.1415405273438,
          919.1660766601562,
          1934.961181640625,
          1180.0609130859375,
          976.1071166992188,
          1425.273193359375,
          727.7269287109375,
          980.0116577148438,
          610.76513671875,
          1149.3035888671875,
          1371.068359375,
          1389.20849609375,
          737.686767578125,
          800.9635009765625,
          1542.5301513671875,
          1043.73583984375,
          877.555419921875,
          1153.274169921875,
          1385.3974609375,
          1446.9547119140625,
          888.35791015625,
          899.3419799804688,
          1051.5638427734375,
          1368.418212890625,
          1001.4158935546875,
          1265.09814453125,
          1258.373291015625,
          807.1560668945312,
          843.51025390625,
          1021.3346557617188,
          1086.406005859375,
          627.8382568359375,
          669.888671875,
          939.66748046875,
          1210.4969482421875,
          870.682861328125
         ],
         "y0": " ",
         "yaxis": "y"
        },
        {
         "alignmentgroup": "True",
         "boxpoints": "all",
         "hovertemplate": "Case=PARCS'<br>N=5000<br>Sigma=%{x}<br>MSE=%{y}<extra></extra>",
         "legendgroup": "PARCS'",
         "marker": {
          "color": "#636efa"
         },
         "name": "PARCS'",
         "notched": false,
         "offsetgroup": "PARCS'",
         "orientation": "v",
         "showlegend": false,
         "type": "box",
         "width": 0.6,
         "x": [
          "0",
          "0",
          "0",
          "0",
          "0",
          "0",
          "0",
          "0",
          "0",
          "0",
          "0",
          "0",
          "0",
          "0",
          "0",
          "0",
          "0",
          "0",
          "0",
          "0",
          "0",
          "0",
          "0",
          "0",
          "0",
          "0",
          "0",
          "0",
          "0",
          "0",
          "1.8",
          "1.8",
          "1.8",
          "1.8",
          "1.8",
          "1.8",
          "1.8",
          "1.8",
          "1.8",
          "1.8",
          "1.8",
          "1.8",
          "1.8",
          "1.8",
          "1.8",
          "1.8",
          "1.8",
          "1.8",
          "1.8",
          "1.8",
          "1.8",
          "1.8",
          "1.8",
          "1.8",
          "1.8",
          "1.8",
          "1.8",
          "1.8",
          "1.8",
          "1.8",
          "0.2",
          "0.2",
          "0.2",
          "0.2",
          "0.2",
          "0.2",
          "0.2",
          "0.2",
          "0.2",
          "0.2",
          "0.2",
          "0.2",
          "0.2",
          "0.2",
          "0.2",
          "0.2",
          "0.2",
          "0.2",
          "0.2",
          "0.2",
          "0.2",
          "0.2",
          "0.2",
          "0.2",
          "0.2",
          "0.2",
          "0.2",
          "0.2",
          "0.2",
          "0.2",
          "1",
          "1",
          "1",
          "1",
          "1",
          "1",
          "1",
          "1",
          "1",
          "1",
          "1",
          "1",
          "1",
          "1",
          "1",
          "1",
          "1",
          "1",
          "1",
          "1",
          "1",
          "1",
          "1",
          "1",
          "1",
          "1",
          "1",
          "1",
          "1",
          "1"
         ],
         "x0": " ",
         "xaxis": "x2",
         "y": [
          177.98593139648438,
          321.46148681640625,
          296.5282897949219,
          252.76185607910156,
          201.0759735107422,
          186.63040161132812,
          242.4517364501953,
          166.07968139648438,
          202.69171142578125,
          253.447021484375,
          215.3848419189453,
          177.9197235107422,
          225.26022338867188,
          230.36695861816406,
          357.9375915527344,
          210.78536987304688,
          284.3584899902344,
          186.70285034179688,
          214.5707550048828,
          174.25537109375,
          235.17901611328125,
          306.39715576171875,
          149.66673278808594,
          928.4588012695312,
          203.913330078125,
          234.73423767089844,
          228.25767517089844,
          235.42283630371094,
          213.21444702148438,
          175.1200408935547,
          269.8639221191406,
          225.8108673095703,
          257.23968505859375,
          209.28231811523438,
          307.0115051269531,
          132.80587768554688,
          185.3389892578125,
          182.67530822753906,
          261.8274841308594,
          303.9531555175781,
          166.66033935546875,
          342.3998718261719,
          151.24183654785156,
          250.17337036132812,
          185.5551300048828,
          298.8236083984375,
          241.1702423095703,
          254.91050720214844,
          229.30628967285156,
          120.08910369873047,
          174.53692626953125,
          328.011962890625,
          168.16648864746094,
          274.6756896972656,
          190.88629150390625,
          182.27247619628906,
          251.36387634277344,
          199.29833984375,
          218.8382568359375,
          168.49327087402344,
          326.2366943359375,
          178.30870056152344,
          233.5116424560547,
          227.03428649902344,
          194.20608520507812,
          690.2310791015625,
          246.70193481445312,
          163.2093048095703,
          256.5726013183594,
          170.17442321777344,
          162.4445343017578,
          188.57040405273438,
          252.0726318359375,
          261.8200988769531,
          212.7259063720703,
          283.51806640625,
          231.5892791748047,
          181.83941650390625,
          153.29327392578125,
          205.8199920654297,
          323.0509033203125,
          211.8419647216797,
          143.92254638671875,
          294.6153869628906,
          168.7522430419922,
          265.31414794921875,
          193.695068359375,
          466.17333984375,
          318.8036193847656,
          227.13087463378906,
          293.51348876953125,
          251.84548950195312,
          217.58999633789062,
          204.15447998046875,
          184.47964477539062,
          197.8843994140625,
          173.85601806640625,
          269.6722412109375,
          276.7139587402344,
          242.81546020507812,
          210.07298278808594,
          164.8734588623047,
          302.4448547363281,
          335.1011657714844,
          200.4173583984375,
          163.64724731445312,
          272.7415466308594,
          218.28497314453125,
          225.4619598388672,
          180.27859497070312,
          185.68148803710938,
          171.4353485107422,
          270.6527099609375,
          179.2086181640625,
          236.0124053955078,
          223.69825744628906,
          300.2029113769531,
          185.59176635742188,
          255.4698028564453,
          282.5560607910156
         ],
         "y0": " ",
         "yaxis": "y2"
        },
        {
         "alignmentgroup": "True",
         "boxpoints": "all",
         "hovertemplate": "Case=PARCS'<br>N=10000<br>Sigma=%{x}<br>MSE=%{y}<extra></extra>",
         "legendgroup": "PARCS'",
         "marker": {
          "color": "#636efa"
         },
         "name": "PARCS'",
         "notched": false,
         "offsetgroup": "PARCS'",
         "orientation": "v",
         "showlegend": false,
         "type": "box",
         "width": 0.6,
         "x": [
          "0.2",
          "0.2",
          "0.2",
          "0.2",
          "0.2",
          "0.2",
          "0.2",
          "0.2",
          "0.2",
          "0.2",
          "0.2",
          "0.2",
          "0.2",
          "0.2",
          "0.2",
          "0.2",
          "0.2",
          "0.2",
          "0.2",
          "0.2",
          "0.2",
          "0.2",
          "0.2",
          "0.2",
          "0.2",
          "0.2",
          "0.2",
          "0.2",
          "0.2",
          "0.2",
          "0",
          "0",
          "0",
          "0",
          "0",
          "0",
          "0",
          "0",
          "0",
          "0",
          "0",
          "0",
          "0",
          "0",
          "0",
          "0",
          "0",
          "0",
          "0",
          "0",
          "0",
          "0",
          "0",
          "0",
          "0",
          "0",
          "0",
          "0",
          "0",
          "0",
          "1.8",
          "1.8",
          "1.8",
          "1.8",
          "1.8",
          "1.8",
          "1.8",
          "1.8",
          "1.8",
          "1.8",
          "1.8",
          "1.8",
          "1.8",
          "1.8",
          "1.8",
          "1.8",
          "1.8",
          "1.8",
          "1.8",
          "1.8",
          "1.8",
          "1.8",
          "1.8",
          "1.8",
          "1.8",
          "1.8",
          "1.8",
          "1.8",
          "1.8",
          "1.8",
          "1",
          "1",
          "1",
          "1",
          "1",
          "1",
          "1",
          "1",
          "1",
          "1",
          "1",
          "1",
          "1",
          "1",
          "1",
          "1",
          "1",
          "1",
          "1",
          "1",
          "1",
          "1",
          "1",
          "1",
          "1",
          "1",
          "1",
          "1",
          "1",
          "1"
         ],
         "x0": " ",
         "xaxis": "x3",
         "y": [
          206.13880920410156,
          174.21665954589844,
          294.2815856933594,
          117.55208587646484,
          208.44000244140625,
          104.04277801513672,
          148.3919219970703,
          143.0390625,
          129.78260803222656,
          95.90033721923828,
          204.27976989746094,
          152.1701202392578,
          129.16143798828125,
          185.0474090576172,
          141.2564239501953,
          227.93702697753906,
          167.86920166015625,
          200.5326385498047,
          171.63485717773438,
          212.17129516601562,
          209.1002197265625,
          138.23748779296875,
          119.60797119140625,
          137.76109313964844,
          107.38394165039062,
          170.80007934570312,
          167.9080047607422,
          132.85548400878906,
          102.46817016601562,
          175.7066192626953,
          195.77574157714844,
          185.35488891601562,
          119.02249908447266,
          237.347412109375,
          142.3211669921875,
          128.2864990234375,
          182.11570739746094,
          106.9948501586914,
          546.3660888671875,
          250.9051971435547,
          127.75526428222656,
          177.04171752929688,
          164.58840942382812,
          135.8095245361328,
          209.32339477539062,
          127.4140396118164,
          381.1998596191406,
          195.1416778564453,
          142.107666015625,
          124.62389373779297,
          156.32968139648438,
          169.56866455078125,
          158.4444122314453,
          153.39341735839844,
          204.0387725830078,
          244.6151580810547,
          114.73505401611328,
          263.6173095703125,
          123.00395965576172,
          220.34124755859375,
          174.1011199951172,
          166.1811065673828,
          155.04103088378906,
          103.77420806884766,
          210.7707061767578,
          150.76954650878906,
          145.5658416748047,
          130.96286010742188,
          199.5971221923828,
          179.18333435058594,
          190.28695678710938,
          128.6313934326172,
          227.388427734375,
          151.5926971435547,
          103.74565887451172,
          154.20919799804688,
          163.8935089111328,
          132.9671173095703,
          203.93988037109375,
          203.96575927734375,
          187.88133239746094,
          138.67047119140625,
          229.763427734375,
          152.7997589111328,
          179.9677734375,
          223.1765594482422,
          2345.314453125,
          154.97930908203125,
          171.91099548339844,
          218.35629272460938,
          138.69549560546875,
          138.03082275390625,
          150.22799682617188,
          114.28626251220703,
          115.19254302978516,
          189.53834533691406,
          105.6216812133789,
          206.94985961914062,
          245.3236846923828,
          142.28228759765625,
          151.75074768066406,
          160.306884765625,
          181.95179748535156,
          281.61480712890625,
          123.93022155761719,
          203.83743286132812,
          227.00791931152344,
          161.60052490234375,
          182.5952911376953,
          172.83583068847656,
          146.51914978027344,
          121.90535736083984,
          204.2911834716797,
          193.1891326904297,
          164.98475646972656,
          217.33441162109375,
          128.8829803466797,
          176.8375244140625,
          150.41607666015625,
          167.10549926757812
         ],
         "y0": " ",
         "yaxis": "y3"
        },
        {
         "alignmentgroup": "True",
         "boxpoints": "all",
         "hovertemplate": "Case=Original<br>N=1000<br>Sigma=%{x}<br>MSE=%{y}<extra></extra>",
         "legendgroup": "Original",
         "marker": {
          "color": "#EF553B"
         },
         "name": "Original",
         "notched": false,
         "offsetgroup": "Original",
         "orientation": "v",
         "showlegend": true,
         "type": "box",
         "width": 0.6,
         "x": [
          "0",
          "0",
          "0",
          "0",
          "0",
          "0",
          "0",
          "0",
          "0",
          "0",
          "0",
          "0",
          "0",
          "0",
          "0",
          "0",
          "0",
          "0",
          "0",
          "0",
          "0",
          "0",
          "0",
          "0",
          "0",
          "0",
          "0",
          "0",
          "0",
          "0"
         ],
         "x0": " ",
         "xaxis": "x",
         "y": [
          1141.9442138671875,
          1873.563720703125,
          1747.489990234375,
          782.9212646484375,
          1070.8787841796875,
          598.2111206054688,
          938.3707275390625,
          705.8565673828125,
          756.4581298828125,
          2043.0855712890625,
          1819.19140625,
          994.4586791992188,
          1163.8182373046875,
          1071.7069091796875,
          1241.3426513671875,
          1370.9344482421875,
          1993.6712646484375,
          1103.31494140625,
          1387.4849853515625,
          1471.9832763671875,
          959.8555297851562,
          1041.73193359375,
          892.5572509765625,
          1646.273193359375,
          1304.4462890625,
          1049.5213623046875,
          584.5632934570312,
          844.4281005859375,
          828.4143676757812,
          2136.24853515625
         ],
         "y0": " ",
         "yaxis": "y"
        },
        {
         "alignmentgroup": "True",
         "boxpoints": "all",
         "hovertemplate": "Case=Original<br>N=5000<br>Sigma=%{x}<br>MSE=%{y}<extra></extra>",
         "legendgroup": "Original",
         "marker": {
          "color": "#EF553B"
         },
         "name": "Original",
         "notched": false,
         "offsetgroup": "Original",
         "orientation": "v",
         "showlegend": false,
         "type": "box",
         "width": 0.6,
         "x": [
          "0",
          "0",
          "0",
          "0",
          "0",
          "0",
          "0",
          "0",
          "0",
          "0",
          "0",
          "0",
          "0",
          "0",
          "0",
          "0",
          "0",
          "0",
          "0",
          "0",
          "0",
          "0",
          "0",
          "0",
          "0",
          "0",
          "0",
          "0",
          "0",
          "0"
         ],
         "x0": " ",
         "xaxis": "x2",
         "y": [
          237.2511749267578,
          231.96002197265625,
          249.97474670410156,
          210.18609619140625,
          168.00860595703125,
          264.6932067871094,
          192.99827575683594,
          230.23361206054688,
          195.07443237304688,
          174.61599731445312,
          177.83566284179688,
          168.4349365234375,
          205.6962890625,
          167.29029846191406,
          224.4039306640625,
          467.87384033203125,
          167.3370361328125,
          171.94972229003906,
          236.7359161376953,
          285.4091796875,
          373.17852783203125,
          191.2078399658203,
          194.00466918945312,
          191.60926818847656,
          217.86834716796875,
          162.29588317871094,
          213.8278350830078,
          196.8470458984375,
          233.7624053955078,
          260.10009765625
         ],
         "y0": " ",
         "yaxis": "y2"
        },
        {
         "alignmentgroup": "True",
         "boxpoints": "all",
         "hovertemplate": "Case=Original<br>N=10000<br>Sigma=%{x}<br>MSE=%{y}<extra></extra>",
         "legendgroup": "Original",
         "marker": {
          "color": "#EF553B"
         },
         "name": "Original",
         "notched": false,
         "offsetgroup": "Original",
         "orientation": "v",
         "showlegend": false,
         "type": "box",
         "width": 0.6,
         "x": [
          "0",
          "0",
          "0",
          "0",
          "0",
          "0",
          "0",
          "0",
          "0",
          "0",
          "0",
          "0",
          "0",
          "0",
          "0",
          "0",
          "0",
          "0",
          "0",
          "0",
          "0",
          "0",
          "0",
          "0",
          "0",
          "0",
          "0",
          "0",
          "0",
          "0"
         ],
         "x0": " ",
         "xaxis": "x3",
         "y": [
          144.45713806152344,
          385.34771728515625,
          850.1622924804688,
          143.87709045410156,
          116.32467651367188,
          145.9333953857422,
          179.24485778808594,
          209.6713409423828,
          132.7035675048828,
          170.343017578125,
          135.12310791015625,
          132.18917846679688,
          151.5054931640625,
          131.74142456054688,
          223.75741577148438,
          140.81353759765625,
          102.24889373779297,
          164.70672607421875,
          201.66555786132812,
          186.82269287109375,
          124.3815689086914,
          130.0940399169922,
          150.11219787597656,
          223.11026000976562,
          143.68910217285156,
          176.4453582763672,
          145.43917846679688,
          152.82589721679688,
          143.6183319091797,
          131.48910522460938
         ],
         "y0": " ",
         "yaxis": "y3"
        }
       ],
       "layout": {
        "annotations": [
         {
          "font": {},
          "showarrow": false,
          "text": "N=1000",
          "x": 0.15999999999999998,
          "xanchor": "center",
          "xref": "paper",
          "y": 1,
          "yanchor": "bottom",
          "yref": "paper"
         },
         {
          "font": {},
          "showarrow": false,
          "text": "N=5000",
          "x": 0.49999999999999994,
          "xanchor": "center",
          "xref": "paper",
          "y": 1,
          "yanchor": "bottom",
          "yref": "paper"
         },
         {
          "font": {},
          "showarrow": false,
          "text": "N=10000",
          "x": 0.8399999999999999,
          "xanchor": "center",
          "xref": "paper",
          "y": 1,
          "yanchor": "bottom",
          "yref": "paper"
         }
        ],
        "boxmode": "group",
        "font": {
         "size": 30
        },
        "height": 400,
        "legend": {
         "title": {
          "text": "Case"
         },
         "tracegroupgap": 0
        },
        "margin": {
         "t": 60
        },
        "template": {
         "data": {
          "bar": [
           {
            "error_x": {
             "color": "#2a3f5f"
            },
            "error_y": {
             "color": "#2a3f5f"
            },
            "marker": {
             "line": {
              "color": "#E5ECF6",
              "width": 0.5
             },
             "pattern": {
              "fillmode": "overlay",
              "size": 10,
              "solidity": 0.2
             }
            },
            "type": "bar"
           }
          ],
          "barpolar": [
           {
            "marker": {
             "line": {
              "color": "#E5ECF6",
              "width": 0.5
             },
             "pattern": {
              "fillmode": "overlay",
              "size": 10,
              "solidity": 0.2
             }
            },
            "type": "barpolar"
           }
          ],
          "carpet": [
           {
            "aaxis": {
             "endlinecolor": "#2a3f5f",
             "gridcolor": "white",
             "linecolor": "white",
             "minorgridcolor": "white",
             "startlinecolor": "#2a3f5f"
            },
            "baxis": {
             "endlinecolor": "#2a3f5f",
             "gridcolor": "white",
             "linecolor": "white",
             "minorgridcolor": "white",
             "startlinecolor": "#2a3f5f"
            },
            "type": "carpet"
           }
          ],
          "choropleth": [
           {
            "colorbar": {
             "outlinewidth": 0,
             "ticks": ""
            },
            "type": "choropleth"
           }
          ],
          "contour": [
           {
            "colorbar": {
             "outlinewidth": 0,
             "ticks": ""
            },
            "colorscale": [
             [
              0,
              "#0d0887"
             ],
             [
              0.1111111111111111,
              "#46039f"
             ],
             [
              0.2222222222222222,
              "#7201a8"
             ],
             [
              0.3333333333333333,
              "#9c179e"
             ],
             [
              0.4444444444444444,
              "#bd3786"
             ],
             [
              0.5555555555555556,
              "#d8576b"
             ],
             [
              0.6666666666666666,
              "#ed7953"
             ],
             [
              0.7777777777777778,
              "#fb9f3a"
             ],
             [
              0.8888888888888888,
              "#fdca26"
             ],
             [
              1,
              "#f0f921"
             ]
            ],
            "type": "contour"
           }
          ],
          "contourcarpet": [
           {
            "colorbar": {
             "outlinewidth": 0,
             "ticks": ""
            },
            "type": "contourcarpet"
           }
          ],
          "heatmap": [
           {
            "colorbar": {
             "outlinewidth": 0,
             "ticks": ""
            },
            "colorscale": [
             [
              0,
              "#0d0887"
             ],
             [
              0.1111111111111111,
              "#46039f"
             ],
             [
              0.2222222222222222,
              "#7201a8"
             ],
             [
              0.3333333333333333,
              "#9c179e"
             ],
             [
              0.4444444444444444,
              "#bd3786"
             ],
             [
              0.5555555555555556,
              "#d8576b"
             ],
             [
              0.6666666666666666,
              "#ed7953"
             ],
             [
              0.7777777777777778,
              "#fb9f3a"
             ],
             [
              0.8888888888888888,
              "#fdca26"
             ],
             [
              1,
              "#f0f921"
             ]
            ],
            "type": "heatmap"
           }
          ],
          "heatmapgl": [
           {
            "colorbar": {
             "outlinewidth": 0,
             "ticks": ""
            },
            "colorscale": [
             [
              0,
              "#0d0887"
             ],
             [
              0.1111111111111111,
              "#46039f"
             ],
             [
              0.2222222222222222,
              "#7201a8"
             ],
             [
              0.3333333333333333,
              "#9c179e"
             ],
             [
              0.4444444444444444,
              "#bd3786"
             ],
             [
              0.5555555555555556,
              "#d8576b"
             ],
             [
              0.6666666666666666,
              "#ed7953"
             ],
             [
              0.7777777777777778,
              "#fb9f3a"
             ],
             [
              0.8888888888888888,
              "#fdca26"
             ],
             [
              1,
              "#f0f921"
             ]
            ],
            "type": "heatmapgl"
           }
          ],
          "histogram": [
           {
            "marker": {
             "pattern": {
              "fillmode": "overlay",
              "size": 10,
              "solidity": 0.2
             }
            },
            "type": "histogram"
           }
          ],
          "histogram2d": [
           {
            "colorbar": {
             "outlinewidth": 0,
             "ticks": ""
            },
            "colorscale": [
             [
              0,
              "#0d0887"
             ],
             [
              0.1111111111111111,
              "#46039f"
             ],
             [
              0.2222222222222222,
              "#7201a8"
             ],
             [
              0.3333333333333333,
              "#9c179e"
             ],
             [
              0.4444444444444444,
              "#bd3786"
             ],
             [
              0.5555555555555556,
              "#d8576b"
             ],
             [
              0.6666666666666666,
              "#ed7953"
             ],
             [
              0.7777777777777778,
              "#fb9f3a"
             ],
             [
              0.8888888888888888,
              "#fdca26"
             ],
             [
              1,
              "#f0f921"
             ]
            ],
            "type": "histogram2d"
           }
          ],
          "histogram2dcontour": [
           {
            "colorbar": {
             "outlinewidth": 0,
             "ticks": ""
            },
            "colorscale": [
             [
              0,
              "#0d0887"
             ],
             [
              0.1111111111111111,
              "#46039f"
             ],
             [
              0.2222222222222222,
              "#7201a8"
             ],
             [
              0.3333333333333333,
              "#9c179e"
             ],
             [
              0.4444444444444444,
              "#bd3786"
             ],
             [
              0.5555555555555556,
              "#d8576b"
             ],
             [
              0.6666666666666666,
              "#ed7953"
             ],
             [
              0.7777777777777778,
              "#fb9f3a"
             ],
             [
              0.8888888888888888,
              "#fdca26"
             ],
             [
              1,
              "#f0f921"
             ]
            ],
            "type": "histogram2dcontour"
           }
          ],
          "mesh3d": [
           {
            "colorbar": {
             "outlinewidth": 0,
             "ticks": ""
            },
            "type": "mesh3d"
           }
          ],
          "parcoords": [
           {
            "line": {
             "colorbar": {
              "outlinewidth": 0,
              "ticks": ""
             }
            },
            "type": "parcoords"
           }
          ],
          "pie": [
           {
            "automargin": true,
            "type": "pie"
           }
          ],
          "scatter": [
           {
            "fillpattern": {
             "fillmode": "overlay",
             "size": 10,
             "solidity": 0.2
            },
            "type": "scatter"
           }
          ],
          "scatter3d": [
           {
            "line": {
             "colorbar": {
              "outlinewidth": 0,
              "ticks": ""
             }
            },
            "marker": {
             "colorbar": {
              "outlinewidth": 0,
              "ticks": ""
             }
            },
            "type": "scatter3d"
           }
          ],
          "scattercarpet": [
           {
            "marker": {
             "colorbar": {
              "outlinewidth": 0,
              "ticks": ""
             }
            },
            "type": "scattercarpet"
           }
          ],
          "scattergeo": [
           {
            "marker": {
             "colorbar": {
              "outlinewidth": 0,
              "ticks": ""
             }
            },
            "type": "scattergeo"
           }
          ],
          "scattergl": [
           {
            "marker": {
             "colorbar": {
              "outlinewidth": 0,
              "ticks": ""
             }
            },
            "type": "scattergl"
           }
          ],
          "scattermapbox": [
           {
            "marker": {
             "colorbar": {
              "outlinewidth": 0,
              "ticks": ""
             }
            },
            "type": "scattermapbox"
           }
          ],
          "scatterpolar": [
           {
            "marker": {
             "colorbar": {
              "outlinewidth": 0,
              "ticks": ""
             }
            },
            "type": "scatterpolar"
           }
          ],
          "scatterpolargl": [
           {
            "marker": {
             "colorbar": {
              "outlinewidth": 0,
              "ticks": ""
             }
            },
            "type": "scatterpolargl"
           }
          ],
          "scatterternary": [
           {
            "marker": {
             "colorbar": {
              "outlinewidth": 0,
              "ticks": ""
             }
            },
            "type": "scatterternary"
           }
          ],
          "surface": [
           {
            "colorbar": {
             "outlinewidth": 0,
             "ticks": ""
            },
            "colorscale": [
             [
              0,
              "#0d0887"
             ],
             [
              0.1111111111111111,
              "#46039f"
             ],
             [
              0.2222222222222222,
              "#7201a8"
             ],
             [
              0.3333333333333333,
              "#9c179e"
             ],
             [
              0.4444444444444444,
              "#bd3786"
             ],
             [
              0.5555555555555556,
              "#d8576b"
             ],
             [
              0.6666666666666666,
              "#ed7953"
             ],
             [
              0.7777777777777778,
              "#fb9f3a"
             ],
             [
              0.8888888888888888,
              "#fdca26"
             ],
             [
              1,
              "#f0f921"
             ]
            ],
            "type": "surface"
           }
          ],
          "table": [
           {
            "cells": {
             "fill": {
              "color": "#EBF0F8"
             },
             "line": {
              "color": "white"
             }
            },
            "header": {
             "fill": {
              "color": "#C8D4E3"
             },
             "line": {
              "color": "white"
             }
            },
            "type": "table"
           }
          ]
         },
         "layout": {
          "annotationdefaults": {
           "arrowcolor": "#2a3f5f",
           "arrowhead": 0,
           "arrowwidth": 1
          },
          "autotypenumbers": "strict",
          "coloraxis": {
           "colorbar": {
            "outlinewidth": 0,
            "ticks": ""
           }
          },
          "colorscale": {
           "diverging": [
            [
             0,
             "#8e0152"
            ],
            [
             0.1,
             "#c51b7d"
            ],
            [
             0.2,
             "#de77ae"
            ],
            [
             0.3,
             "#f1b6da"
            ],
            [
             0.4,
             "#fde0ef"
            ],
            [
             0.5,
             "#f7f7f7"
            ],
            [
             0.6,
             "#e6f5d0"
            ],
            [
             0.7,
             "#b8e186"
            ],
            [
             0.8,
             "#7fbc41"
            ],
            [
             0.9,
             "#4d9221"
            ],
            [
             1,
             "#276419"
            ]
           ],
           "sequential": [
            [
             0,
             "#0d0887"
            ],
            [
             0.1111111111111111,
             "#46039f"
            ],
            [
             0.2222222222222222,
             "#7201a8"
            ],
            [
             0.3333333333333333,
             "#9c179e"
            ],
            [
             0.4444444444444444,
             "#bd3786"
            ],
            [
             0.5555555555555556,
             "#d8576b"
            ],
            [
             0.6666666666666666,
             "#ed7953"
            ],
            [
             0.7777777777777778,
             "#fb9f3a"
            ],
            [
             0.8888888888888888,
             "#fdca26"
            ],
            [
             1,
             "#f0f921"
            ]
           ],
           "sequentialminus": [
            [
             0,
             "#0d0887"
            ],
            [
             0.1111111111111111,
             "#46039f"
            ],
            [
             0.2222222222222222,
             "#7201a8"
            ],
            [
             0.3333333333333333,
             "#9c179e"
            ],
            [
             0.4444444444444444,
             "#bd3786"
            ],
            [
             0.5555555555555556,
             "#d8576b"
            ],
            [
             0.6666666666666666,
             "#ed7953"
            ],
            [
             0.7777777777777778,
             "#fb9f3a"
            ],
            [
             0.8888888888888888,
             "#fdca26"
            ],
            [
             1,
             "#f0f921"
            ]
           ]
          },
          "colorway": [
           "#636efa",
           "#EF553B",
           "#00cc96",
           "#ab63fa",
           "#FFA15A",
           "#19d3f3",
           "#FF6692",
           "#B6E880",
           "#FF97FF",
           "#FECB52"
          ],
          "font": {
           "color": "#2a3f5f"
          },
          "geo": {
           "bgcolor": "white",
           "lakecolor": "white",
           "landcolor": "#E5ECF6",
           "showlakes": true,
           "showland": true,
           "subunitcolor": "white"
          },
          "hoverlabel": {
           "align": "left"
          },
          "hovermode": "closest",
          "mapbox": {
           "style": "light"
          },
          "paper_bgcolor": "white",
          "plot_bgcolor": "#E5ECF6",
          "polar": {
           "angularaxis": {
            "gridcolor": "white",
            "linecolor": "white",
            "ticks": ""
           },
           "bgcolor": "#E5ECF6",
           "radialaxis": {
            "gridcolor": "white",
            "linecolor": "white",
            "ticks": ""
           }
          },
          "scene": {
           "xaxis": {
            "backgroundcolor": "#E5ECF6",
            "gridcolor": "white",
            "gridwidth": 2,
            "linecolor": "white",
            "showbackground": true,
            "ticks": "",
            "zerolinecolor": "white"
           },
           "yaxis": {
            "backgroundcolor": "#E5ECF6",
            "gridcolor": "white",
            "gridwidth": 2,
            "linecolor": "white",
            "showbackground": true,
            "ticks": "",
            "zerolinecolor": "white"
           },
           "zaxis": {
            "backgroundcolor": "#E5ECF6",
            "gridcolor": "white",
            "gridwidth": 2,
            "linecolor": "white",
            "showbackground": true,
            "ticks": "",
            "zerolinecolor": "white"
           }
          },
          "shapedefaults": {
           "line": {
            "color": "#2a3f5f"
           }
          },
          "ternary": {
           "aaxis": {
            "gridcolor": "white",
            "linecolor": "white",
            "ticks": ""
           },
           "baxis": {
            "gridcolor": "white",
            "linecolor": "white",
            "ticks": ""
           },
           "bgcolor": "#E5ECF6",
           "caxis": {
            "gridcolor": "white",
            "linecolor": "white",
            "ticks": ""
           }
          },
          "title": {
           "x": 0.05
          },
          "xaxis": {
           "automargin": true,
           "gridcolor": "white",
           "linecolor": "white",
           "ticks": "",
           "title": {
            "standoff": 15
           },
           "zerolinecolor": "white",
           "zerolinewidth": 2
          },
          "yaxis": {
           "automargin": true,
           "gridcolor": "white",
           "linecolor": "white",
           "ticks": "",
           "title": {
            "standoff": 15
           },
           "zerolinecolor": "white",
           "zerolinewidth": 2
          }
         }
        },
        "width": 1200,
        "xaxis": {
         "anchor": "y",
         "categoryarray": [
          "0",
          "0.2",
          "1",
          "1.8"
         ],
         "categoryorder": "array",
         "domain": [
          0,
          0.31999999999999995
         ],
         "title": {
          "text": "Sigma"
         }
        },
        "xaxis2": {
         "anchor": "y2",
         "categoryarray": [
          "0",
          "0.2",
          "1",
          "1.8"
         ],
         "categoryorder": "array",
         "domain": [
          0.33999999999999997,
          0.6599999999999999
         ],
         "matches": "x",
         "title": {
          "text": "Sigma"
         }
        },
        "xaxis3": {
         "anchor": "y3",
         "categoryarray": [
          "0",
          "0.2",
          "1",
          "1.8"
         ],
         "categoryorder": "array",
         "domain": [
          0.6799999999999999,
          0.9999999999999999
         ],
         "matches": "x",
         "title": {
          "text": "Sigma"
         }
        },
        "yaxis": {
         "anchor": "x",
         "domain": [
          0,
          1
         ],
         "dtick": 1,
         "range": [
          1.9542425094393248,
          3.4771212547196617
         ],
         "title": {
          "text": "MSE"
         },
         "type": "log"
        },
        "yaxis2": {
         "anchor": "x2",
         "domain": [
          0,
          1
         ],
         "dtick": 1,
         "matches": "y",
         "showticklabels": false,
         "type": "log"
        },
        "yaxis3": {
         "anchor": "x3",
         "domain": [
          0,
          1
         ],
         "dtick": 1,
         "matches": "y",
         "showticklabels": false,
         "type": "log"
        }
       }
      }
     },
     "metadata": {},
     "output_type": "display_data"
    }
   ],
   "source": [
    "fig = px.box(df_comb, x='sigma', y='mse', color = 'case', points='all',\n",
    "                facet_col='data_size', facet_col_wrap=3,\n",
    "                log_y=True, range_y=[90,3*10**3],\n",
    "                height = 400, width = 1200,\n",
    "                category_orders = {'sigma': ['0', '0.2', '1', '1.8'],\n",
    "                                   'data_size': ['1000', '5000', '10000'],\n",
    "                                   'rho': ['0.1', '0.5', '0.9']},\n",
    "                labels={\n",
    "                     \"data_size\": \"N\",\n",
    "                     \"mse\": \"MSE\",\n",
    "                     \"case\": \"Case\",\n",
    "                     'sigma': 'Sigma'\n",
    "                 })\n",
    "fig.update_layout(\n",
    "    font=dict(\n",
    "        size=30\n",
    "    ))\n",
    "fig.update_yaxes(dtick=1)\n",
    "fig.update_traces(width=0.6)\n",
    "fig.show()\n",
    "fig.write_image(f\"{img_dir}/mean squared error box.pdf\")"
   ]
  },
  {
   "cell_type": "code",
   "execution_count": 43,
   "metadata": {},
   "outputs": [
    {
     "data": {
      "application/vnd.plotly.v1+json": {
       "config": {
        "plotlyServerURL": "https://plot.ly"
       },
       "data": [
        {
         "alignmentgroup": "True",
         "error_y": {
          "array": [
           442.2361667786003
          ]
         },
         "hovertemplate": "Case=Original<br>N=1000<br>Sigma=%{x}<br>MSE=%{y}<extra></extra>",
         "legendgroup": "Original",
         "marker": {
          "color": "#636efa",
          "pattern": {
           "shape": ""
          }
         },
         "name": "Original",
         "offsetgroup": "Original",
         "orientation": "v",
         "showlegend": true,
         "textposition": "auto",
         "type": "bar",
         "width": 0.3,
         "x": [
          "0"
         ],
         "xaxis": "x",
         "y": [
          1218.8242248535157
         ],
         "yaxis": "y"
        },
        {
         "alignmentgroup": "True",
         "error_y": {
          "array": [
           64.19836513033819
          ]
         },
         "hovertemplate": "Case=Original<br>N=5000<br>Sigma=%{x}<br>MSE=%{y}<extra></extra>",
         "legendgroup": "Original",
         "marker": {
          "color": "#636efa",
          "pattern": {
           "shape": ""
          }
         },
         "name": "Original",
         "offsetgroup": "Original",
         "orientation": "v",
         "showlegend": false,
         "textposition": "auto",
         "type": "bar",
         "width": 0.3,
         "x": [
          "0"
         ],
         "xaxis": "x2",
         "y": [
          222.08883005777994
         ],
         "yaxis": "y2"
        },
        {
         "alignmentgroup": "True",
         "error_y": {
          "array": [
           135.73309727525856
          ]
         },
         "hovertemplate": "Case=Original<br>N=10000<br>Sigma=%{x}<br>MSE=%{y}<extra></extra>",
         "legendgroup": "Original",
         "marker": {
          "color": "#636efa",
          "pattern": {
           "shape": ""
          }
         },
         "name": "Original",
         "offsetgroup": "Original",
         "orientation": "v",
         "showlegend": false,
         "textposition": "auto",
         "type": "bar",
         "width": 0.3,
         "x": [
          "0"
         ],
         "xaxis": "x3",
         "y": [
          185.66147206624348
         ],
         "yaxis": "y3"
        },
        {
         "alignmentgroup": "True",
         "error_y": {
          "array": [
           385.5712408811402,
           366.74738532877643,
           316.2629127537042,
           260.8780801469105
          ]
         },
         "hovertemplate": "Case=PARCS'<br>N=1000<br>Sigma=%{x}<br>MSE=%{y}<extra></extra>",
         "legendgroup": "PARCS'",
         "marker": {
          "color": "#EF553B",
          "pattern": {
           "shape": ""
          }
         },
         "name": "PARCS'",
         "offsetgroup": "PARCS'",
         "orientation": "v",
         "showlegend": true,
         "textposition": "auto",
         "type": "bar",
         "width": 0.3,
         "x": [
          "0",
          "0.2",
          "1",
          "1.8"
         ],
         "xaxis": "x",
         "y": [
          1121.3110717773438,
          1048.4343404134115,
          1109.7751831054688,
          1034.1910888671875
         ],
         "yaxis": "y"
        },
        {
         "alignmentgroup": "True",
         "error_y": {
          "array": [
           137.0571284111501,
           107.46159482498022,
           47.76808966438782,
           58.235091311629745
          ]
         },
         "hovertemplate": "Case=PARCS'<br>N=5000<br>Sigma=%{x}<br>MSE=%{y}<extra></extra>",
         "legendgroup": "PARCS'",
         "marker": {
          "color": "#EF553B",
          "pattern": {
           "shape": ""
          }
         },
         "name": "PARCS'",
         "offsetgroup": "PARCS'",
         "orientation": "v",
         "showlegend": false,
         "textposition": "auto",
         "type": "bar",
         "width": 0.3,
         "x": [
          "0",
          "0.2",
          "1",
          "1.8"
         ],
         "xaxis": "x2",
         "y": [
          249.63401794433594,
          247.7726816813151,
          229.2119562784831,
          224.4227663675944
         ],
         "yaxis": "y2"
        },
        {
         "alignmentgroup": "True",
         "error_y": {
          "array": [
           88.99753544315243,
           44.827669812267814,
           41.33500312015314,
           398.6267338805564
          ]
         },
         "hovertemplate": "Case=PARCS'<br>N=10000<br>Sigma=%{x}<br>MSE=%{y}<extra></extra>",
         "legendgroup": "PARCS'",
         "marker": {
          "color": "#EF553B",
          "pattern": {
           "shape": ""
          }
         },
         "name": "PARCS'",
         "offsetgroup": "PARCS'",
         "orientation": "v",
         "showlegend": false,
         "textposition": "auto",
         "type": "bar",
         "width": 0.3,
         "x": [
          "0",
          "0.2",
          "1",
          "1.8"
         ],
         "xaxis": "x3",
         "y": [
          189.586105855306,
          162.52250340779622,
          168.8348836263021,
          242.6462615966797
         ],
         "yaxis": "y3"
        }
       ],
       "layout": {
        "annotations": [
         {
          "font": {},
          "showarrow": false,
          "text": "N=1000",
          "x": 0.15999999999999998,
          "xanchor": "center",
          "xref": "paper",
          "y": 1,
          "yanchor": "bottom",
          "yref": "paper"
         },
         {
          "font": {},
          "showarrow": false,
          "text": "N=5000",
          "x": 0.49999999999999994,
          "xanchor": "center",
          "xref": "paper",
          "y": 1,
          "yanchor": "bottom",
          "yref": "paper"
         },
         {
          "font": {},
          "showarrow": false,
          "text": "N=10000",
          "x": 0.8399999999999999,
          "xanchor": "center",
          "xref": "paper",
          "y": 1,
          "yanchor": "bottom",
          "yref": "paper"
         }
        ],
        "barmode": "group",
        "font": {
         "size": 25
        },
        "height": 400,
        "legend": {
         "title": {
          "text": "Case"
         },
         "tracegroupgap": 0
        },
        "margin": {
         "t": 60
        },
        "template": {
         "data": {
          "bar": [
           {
            "error_x": {
             "color": "#2a3f5f"
            },
            "error_y": {
             "color": "#2a3f5f"
            },
            "marker": {
             "line": {
              "color": "#E5ECF6",
              "width": 0.5
             },
             "pattern": {
              "fillmode": "overlay",
              "size": 10,
              "solidity": 0.2
             }
            },
            "type": "bar"
           }
          ],
          "barpolar": [
           {
            "marker": {
             "line": {
              "color": "#E5ECF6",
              "width": 0.5
             },
             "pattern": {
              "fillmode": "overlay",
              "size": 10,
              "solidity": 0.2
             }
            },
            "type": "barpolar"
           }
          ],
          "carpet": [
           {
            "aaxis": {
             "endlinecolor": "#2a3f5f",
             "gridcolor": "white",
             "linecolor": "white",
             "minorgridcolor": "white",
             "startlinecolor": "#2a3f5f"
            },
            "baxis": {
             "endlinecolor": "#2a3f5f",
             "gridcolor": "white",
             "linecolor": "white",
             "minorgridcolor": "white",
             "startlinecolor": "#2a3f5f"
            },
            "type": "carpet"
           }
          ],
          "choropleth": [
           {
            "colorbar": {
             "outlinewidth": 0,
             "ticks": ""
            },
            "type": "choropleth"
           }
          ],
          "contour": [
           {
            "colorbar": {
             "outlinewidth": 0,
             "ticks": ""
            },
            "colorscale": [
             [
              0,
              "#0d0887"
             ],
             [
              0.1111111111111111,
              "#46039f"
             ],
             [
              0.2222222222222222,
              "#7201a8"
             ],
             [
              0.3333333333333333,
              "#9c179e"
             ],
             [
              0.4444444444444444,
              "#bd3786"
             ],
             [
              0.5555555555555556,
              "#d8576b"
             ],
             [
              0.6666666666666666,
              "#ed7953"
             ],
             [
              0.7777777777777778,
              "#fb9f3a"
             ],
             [
              0.8888888888888888,
              "#fdca26"
             ],
             [
              1,
              "#f0f921"
             ]
            ],
            "type": "contour"
           }
          ],
          "contourcarpet": [
           {
            "colorbar": {
             "outlinewidth": 0,
             "ticks": ""
            },
            "type": "contourcarpet"
           }
          ],
          "heatmap": [
           {
            "colorbar": {
             "outlinewidth": 0,
             "ticks": ""
            },
            "colorscale": [
             [
              0,
              "#0d0887"
             ],
             [
              0.1111111111111111,
              "#46039f"
             ],
             [
              0.2222222222222222,
              "#7201a8"
             ],
             [
              0.3333333333333333,
              "#9c179e"
             ],
             [
              0.4444444444444444,
              "#bd3786"
             ],
             [
              0.5555555555555556,
              "#d8576b"
             ],
             [
              0.6666666666666666,
              "#ed7953"
             ],
             [
              0.7777777777777778,
              "#fb9f3a"
             ],
             [
              0.8888888888888888,
              "#fdca26"
             ],
             [
              1,
              "#f0f921"
             ]
            ],
            "type": "heatmap"
           }
          ],
          "heatmapgl": [
           {
            "colorbar": {
             "outlinewidth": 0,
             "ticks": ""
            },
            "colorscale": [
             [
              0,
              "#0d0887"
             ],
             [
              0.1111111111111111,
              "#46039f"
             ],
             [
              0.2222222222222222,
              "#7201a8"
             ],
             [
              0.3333333333333333,
              "#9c179e"
             ],
             [
              0.4444444444444444,
              "#bd3786"
             ],
             [
              0.5555555555555556,
              "#d8576b"
             ],
             [
              0.6666666666666666,
              "#ed7953"
             ],
             [
              0.7777777777777778,
              "#fb9f3a"
             ],
             [
              0.8888888888888888,
              "#fdca26"
             ],
             [
              1,
              "#f0f921"
             ]
            ],
            "type": "heatmapgl"
           }
          ],
          "histogram": [
           {
            "marker": {
             "pattern": {
              "fillmode": "overlay",
              "size": 10,
              "solidity": 0.2
             }
            },
            "type": "histogram"
           }
          ],
          "histogram2d": [
           {
            "colorbar": {
             "outlinewidth": 0,
             "ticks": ""
            },
            "colorscale": [
             [
              0,
              "#0d0887"
             ],
             [
              0.1111111111111111,
              "#46039f"
             ],
             [
              0.2222222222222222,
              "#7201a8"
             ],
             [
              0.3333333333333333,
              "#9c179e"
             ],
             [
              0.4444444444444444,
              "#bd3786"
             ],
             [
              0.5555555555555556,
              "#d8576b"
             ],
             [
              0.6666666666666666,
              "#ed7953"
             ],
             [
              0.7777777777777778,
              "#fb9f3a"
             ],
             [
              0.8888888888888888,
              "#fdca26"
             ],
             [
              1,
              "#f0f921"
             ]
            ],
            "type": "histogram2d"
           }
          ],
          "histogram2dcontour": [
           {
            "colorbar": {
             "outlinewidth": 0,
             "ticks": ""
            },
            "colorscale": [
             [
              0,
              "#0d0887"
             ],
             [
              0.1111111111111111,
              "#46039f"
             ],
             [
              0.2222222222222222,
              "#7201a8"
             ],
             [
              0.3333333333333333,
              "#9c179e"
             ],
             [
              0.4444444444444444,
              "#bd3786"
             ],
             [
              0.5555555555555556,
              "#d8576b"
             ],
             [
              0.6666666666666666,
              "#ed7953"
             ],
             [
              0.7777777777777778,
              "#fb9f3a"
             ],
             [
              0.8888888888888888,
              "#fdca26"
             ],
             [
              1,
              "#f0f921"
             ]
            ],
            "type": "histogram2dcontour"
           }
          ],
          "mesh3d": [
           {
            "colorbar": {
             "outlinewidth": 0,
             "ticks": ""
            },
            "type": "mesh3d"
           }
          ],
          "parcoords": [
           {
            "line": {
             "colorbar": {
              "outlinewidth": 0,
              "ticks": ""
             }
            },
            "type": "parcoords"
           }
          ],
          "pie": [
           {
            "automargin": true,
            "type": "pie"
           }
          ],
          "scatter": [
           {
            "fillpattern": {
             "fillmode": "overlay",
             "size": 10,
             "solidity": 0.2
            },
            "type": "scatter"
           }
          ],
          "scatter3d": [
           {
            "line": {
             "colorbar": {
              "outlinewidth": 0,
              "ticks": ""
             }
            },
            "marker": {
             "colorbar": {
              "outlinewidth": 0,
              "ticks": ""
             }
            },
            "type": "scatter3d"
           }
          ],
          "scattercarpet": [
           {
            "marker": {
             "colorbar": {
              "outlinewidth": 0,
              "ticks": ""
             }
            },
            "type": "scattercarpet"
           }
          ],
          "scattergeo": [
           {
            "marker": {
             "colorbar": {
              "outlinewidth": 0,
              "ticks": ""
             }
            },
            "type": "scattergeo"
           }
          ],
          "scattergl": [
           {
            "marker": {
             "colorbar": {
              "outlinewidth": 0,
              "ticks": ""
             }
            },
            "type": "scattergl"
           }
          ],
          "scattermapbox": [
           {
            "marker": {
             "colorbar": {
              "outlinewidth": 0,
              "ticks": ""
             }
            },
            "type": "scattermapbox"
           }
          ],
          "scatterpolar": [
           {
            "marker": {
             "colorbar": {
              "outlinewidth": 0,
              "ticks": ""
             }
            },
            "type": "scatterpolar"
           }
          ],
          "scatterpolargl": [
           {
            "marker": {
             "colorbar": {
              "outlinewidth": 0,
              "ticks": ""
             }
            },
            "type": "scatterpolargl"
           }
          ],
          "scatterternary": [
           {
            "marker": {
             "colorbar": {
              "outlinewidth": 0,
              "ticks": ""
             }
            },
            "type": "scatterternary"
           }
          ],
          "surface": [
           {
            "colorbar": {
             "outlinewidth": 0,
             "ticks": ""
            },
            "colorscale": [
             [
              0,
              "#0d0887"
             ],
             [
              0.1111111111111111,
              "#46039f"
             ],
             [
              0.2222222222222222,
              "#7201a8"
             ],
             [
              0.3333333333333333,
              "#9c179e"
             ],
             [
              0.4444444444444444,
              "#bd3786"
             ],
             [
              0.5555555555555556,
              "#d8576b"
             ],
             [
              0.6666666666666666,
              "#ed7953"
             ],
             [
              0.7777777777777778,
              "#fb9f3a"
             ],
             [
              0.8888888888888888,
              "#fdca26"
             ],
             [
              1,
              "#f0f921"
             ]
            ],
            "type": "surface"
           }
          ],
          "table": [
           {
            "cells": {
             "fill": {
              "color": "#EBF0F8"
             },
             "line": {
              "color": "white"
             }
            },
            "header": {
             "fill": {
              "color": "#C8D4E3"
             },
             "line": {
              "color": "white"
             }
            },
            "type": "table"
           }
          ]
         },
         "layout": {
          "annotationdefaults": {
           "arrowcolor": "#2a3f5f",
           "arrowhead": 0,
           "arrowwidth": 1
          },
          "autotypenumbers": "strict",
          "coloraxis": {
           "colorbar": {
            "outlinewidth": 0,
            "ticks": ""
           }
          },
          "colorscale": {
           "diverging": [
            [
             0,
             "#8e0152"
            ],
            [
             0.1,
             "#c51b7d"
            ],
            [
             0.2,
             "#de77ae"
            ],
            [
             0.3,
             "#f1b6da"
            ],
            [
             0.4,
             "#fde0ef"
            ],
            [
             0.5,
             "#f7f7f7"
            ],
            [
             0.6,
             "#e6f5d0"
            ],
            [
             0.7,
             "#b8e186"
            ],
            [
             0.8,
             "#7fbc41"
            ],
            [
             0.9,
             "#4d9221"
            ],
            [
             1,
             "#276419"
            ]
           ],
           "sequential": [
            [
             0,
             "#0d0887"
            ],
            [
             0.1111111111111111,
             "#46039f"
            ],
            [
             0.2222222222222222,
             "#7201a8"
            ],
            [
             0.3333333333333333,
             "#9c179e"
            ],
            [
             0.4444444444444444,
             "#bd3786"
            ],
            [
             0.5555555555555556,
             "#d8576b"
            ],
            [
             0.6666666666666666,
             "#ed7953"
            ],
            [
             0.7777777777777778,
             "#fb9f3a"
            ],
            [
             0.8888888888888888,
             "#fdca26"
            ],
            [
             1,
             "#f0f921"
            ]
           ],
           "sequentialminus": [
            [
             0,
             "#0d0887"
            ],
            [
             0.1111111111111111,
             "#46039f"
            ],
            [
             0.2222222222222222,
             "#7201a8"
            ],
            [
             0.3333333333333333,
             "#9c179e"
            ],
            [
             0.4444444444444444,
             "#bd3786"
            ],
            [
             0.5555555555555556,
             "#d8576b"
            ],
            [
             0.6666666666666666,
             "#ed7953"
            ],
            [
             0.7777777777777778,
             "#fb9f3a"
            ],
            [
             0.8888888888888888,
             "#fdca26"
            ],
            [
             1,
             "#f0f921"
            ]
           ]
          },
          "colorway": [
           "#636efa",
           "#EF553B",
           "#00cc96",
           "#ab63fa",
           "#FFA15A",
           "#19d3f3",
           "#FF6692",
           "#B6E880",
           "#FF97FF",
           "#FECB52"
          ],
          "font": {
           "color": "#2a3f5f"
          },
          "geo": {
           "bgcolor": "white",
           "lakecolor": "white",
           "landcolor": "#E5ECF6",
           "showlakes": true,
           "showland": true,
           "subunitcolor": "white"
          },
          "hoverlabel": {
           "align": "left"
          },
          "hovermode": "closest",
          "mapbox": {
           "style": "light"
          },
          "paper_bgcolor": "white",
          "plot_bgcolor": "#E5ECF6",
          "polar": {
           "angularaxis": {
            "gridcolor": "white",
            "linecolor": "white",
            "ticks": ""
           },
           "bgcolor": "#E5ECF6",
           "radialaxis": {
            "gridcolor": "white",
            "linecolor": "white",
            "ticks": ""
           }
          },
          "scene": {
           "xaxis": {
            "backgroundcolor": "#E5ECF6",
            "gridcolor": "white",
            "gridwidth": 2,
            "linecolor": "white",
            "showbackground": true,
            "ticks": "",
            "zerolinecolor": "white"
           },
           "yaxis": {
            "backgroundcolor": "#E5ECF6",
            "gridcolor": "white",
            "gridwidth": 2,
            "linecolor": "white",
            "showbackground": true,
            "ticks": "",
            "zerolinecolor": "white"
           },
           "zaxis": {
            "backgroundcolor": "#E5ECF6",
            "gridcolor": "white",
            "gridwidth": 2,
            "linecolor": "white",
            "showbackground": true,
            "ticks": "",
            "zerolinecolor": "white"
           }
          },
          "shapedefaults": {
           "line": {
            "color": "#2a3f5f"
           }
          },
          "ternary": {
           "aaxis": {
            "gridcolor": "white",
            "linecolor": "white",
            "ticks": ""
           },
           "baxis": {
            "gridcolor": "white",
            "linecolor": "white",
            "ticks": ""
           },
           "bgcolor": "#E5ECF6",
           "caxis": {
            "gridcolor": "white",
            "linecolor": "white",
            "ticks": ""
           }
          },
          "title": {
           "x": 0.05
          },
          "xaxis": {
           "automargin": true,
           "gridcolor": "white",
           "linecolor": "white",
           "ticks": "",
           "title": {
            "standoff": 15
           },
           "zerolinecolor": "white",
           "zerolinewidth": 2
          },
          "yaxis": {
           "automargin": true,
           "gridcolor": "white",
           "linecolor": "white",
           "ticks": "",
           "title": {
            "standoff": 15
           },
           "zerolinecolor": "white",
           "zerolinewidth": 2
          }
         }
        },
        "width": 1200,
        "xaxis": {
         "anchor": "y",
         "categoryarray": [
          "0",
          "0.2",
          "1",
          "1.8"
         ],
         "categoryorder": "array",
         "domain": [
          0,
          0.31999999999999995
         ],
         "title": {
          "text": "Sigma"
         },
         "type": "category"
        },
        "xaxis2": {
         "anchor": "y2",
         "categoryarray": [
          "0",
          "0.2",
          "1",
          "1.8"
         ],
         "categoryorder": "array",
         "domain": [
          0.33999999999999997,
          0.6599999999999999
         ],
         "matches": "x",
         "title": {
          "text": "Sigma"
         },
         "type": "category"
        },
        "xaxis3": {
         "anchor": "y3",
         "categoryarray": [
          "0",
          "0.2",
          "1",
          "1.8"
         ],
         "categoryorder": "array",
         "domain": [
          0.6799999999999999,
          0.9999999999999999
         ],
         "matches": "x",
         "title": {
          "text": "Sigma"
         },
         "type": "category"
        },
        "yaxis": {
         "anchor": "x",
         "domain": [
          0,
          1
         ],
         "title": {
          "text": "MSE"
         }
        },
        "yaxis2": {
         "anchor": "x2",
         "domain": [
          0,
          1
         ],
         "matches": "y",
         "showticklabels": false
        },
        "yaxis3": {
         "anchor": "x3",
         "domain": [
          0,
          1
         ],
         "matches": "y",
         "showticklabels": false
        }
       }
      }
     },
     "metadata": {},
     "output_type": "display_data"
    }
   ],
   "source": [
    "fig = px.bar(df_avg, x='sigma', y='mse', barmode='group', color = 'case',\n",
    "                facet_col='data_size', facet_col_wrap=3,\n",
    "                height = 400, width = 1200,\n",
    "                category_orders = {'sigma': ['0', '0.2', '1', '1.8'],\n",
    "                                   'data_size': ['5000', '10000'],\n",
    "                                   'data_size': ['1000', '5000', '10000'],\n",
    "                                   'rho': ['0.1', '0.5', '0.9']},\n",
    "                error_y = 'std',\n",
    "                labels={\n",
    "                     \"data_size\": \"N\",\n",
    "                     \"mse\": \"MSE\",\n",
    "                     \"case\": \"Case\",\n",
    "                     'sigma': 'Sigma'\n",
    "                 })\n",
    "fig.update_xaxes(type='category')\n",
    "fig.update_layout(\n",
    "    font=dict(\n",
    "        size=25\n",
    "    )\n",
    ")\n",
    "fig.update_traces(width=0.3)\n",
    "fig.show()\n",
    "fig.write_image(f\"{img_dir}/mean squared error bar.pdf\")"
   ]
  },
  {
   "cell_type": "code",
   "execution_count": 19,
   "metadata": {},
   "outputs": [],
   "source": [
    "# fig = sns.FacetGrid(df, col = 'rho')\n",
    "# fig.map_dataframe(sns.boxplot, x='data_size', y='mse', hue='case')\n",
    "# plt.yscale('log')\n",
    "# fig.set(yscale=\"log\")\n",
    "# fig.tight_layout()\n",
    "# fig.add_legend()"
   ]
  },
  {
   "attachments": {},
   "cell_type": "markdown",
   "metadata": {},
   "source": [
    "# DFIV vs SpaceIV"
   ]
  },
  {
   "cell_type": "code",
   "execution_count": 251,
   "metadata": {},
   "outputs": [],
   "source": [
    "case = 'case_vanilla'\n",
    "spaceiv_dir = '../../spaceIV'"
   ]
  },
  {
   "cell_type": "code",
   "execution_count": 252,
   "metadata": {},
   "outputs": [],
   "source": [
    "cases = [case]\n",
    "res_dir = os.path.join(spaceiv_dir, 'results/comp/')\n",
    "dfs = {case: pd.read_csv(os.path.join(res_dir, f'{case}.csv')) for case in cases}\n",
    "df_sparseiv = dfs[case]\n",
    "df_sparseiv['model'] = 'spaceIV'"
   ]
  },
  {
   "cell_type": "code",
   "execution_count": 253,
   "metadata": {},
   "outputs": [
    {
     "ename": "FileNotFoundError",
     "evalue": "[Errno 2] No such file or directory: '../../spaceIV/data/a2a1a3-1/data_size1600.csv'",
     "output_type": "error",
     "traceback": [
      "\u001b[0;31m---------------------------------------------------------------------------\u001b[0m",
      "\u001b[0;31mFileNotFoundError\u001b[0m                         Traceback (most recent call last)",
      "\u001b[0;32m/tmp/ipykernel_10581/707244018.py\u001b[0m in \u001b[0;36m<module>\u001b[0;34m\u001b[0m\n\u001b[1;32m     14\u001b[0m     \u001b[0;32mreturn\u001b[0m \u001b[0mnp\u001b[0m\u001b[0;34m.\u001b[0m\u001b[0mstack\u001b[0m\u001b[0;34m(\u001b[0m\u001b[0mys\u001b[0m\u001b[0;34m)\u001b[0m\u001b[0;34m\u001b[0m\u001b[0;34m\u001b[0m\u001b[0m\n\u001b[1;32m     15\u001b[0m \u001b[0;34m\u001b[0m\u001b[0m\n\u001b[0;32m---> 16\u001b[0;31m \u001b[0mread_ys\u001b[0m\u001b[0;34m(\u001b[0m\u001b[0mdata_dir\u001b[0m\u001b[0;34m,\u001b[0m \u001b[0mcase\u001b[0m\u001b[0;34m)\u001b[0m\u001b[0;34m\u001b[0m\u001b[0;34m\u001b[0m\u001b[0m\n\u001b[0m",
      "\u001b[0;32m/tmp/ipykernel_10581/707244018.py\u001b[0m in \u001b[0;36mread_ys\u001b[0;34m(data_dir, case)\u001b[0m\n\u001b[1;32m      7\u001b[0m             \u001b[0mdir\u001b[0m \u001b[0;34m=\u001b[0m \u001b[0mos\u001b[0m\u001b[0;34m.\u001b[0m\u001b[0mpath\u001b[0m\u001b[0;34m.\u001b[0m\u001b[0mjoin\u001b[0m\u001b[0;34m(\u001b[0m\u001b[0mdata_dir\u001b[0m\u001b[0;34m,\u001b[0m \u001b[0mdir\u001b[0m\u001b[0;34m)\u001b[0m\u001b[0;34m\u001b[0m\u001b[0;34m\u001b[0m\u001b[0m\n\u001b[1;32m      8\u001b[0m             \u001b[0mdata_file\u001b[0m \u001b[0;34m=\u001b[0m \u001b[0mos\u001b[0m\u001b[0;34m.\u001b[0m\u001b[0mpath\u001b[0m\u001b[0;34m.\u001b[0m\u001b[0mjoin\u001b[0m\u001b[0;34m(\u001b[0m\u001b[0mdir\u001b[0m\u001b[0;34m,\u001b[0m \u001b[0;34m'data_size1600.csv'\u001b[0m\u001b[0;34m)\u001b[0m\u001b[0;34m\u001b[0m\u001b[0;34m\u001b[0m\u001b[0m\n\u001b[0;32m----> 9\u001b[0;31m             \u001b[0mdf\u001b[0m \u001b[0;34m=\u001b[0m \u001b[0mpd\u001b[0m\u001b[0;34m.\u001b[0m\u001b[0mread_csv\u001b[0m\u001b[0;34m(\u001b[0m\u001b[0mdata_file\u001b[0m\u001b[0;34m)\u001b[0m\u001b[0;34m\u001b[0m\u001b[0;34m\u001b[0m\u001b[0m\n\u001b[0m\u001b[1;32m     10\u001b[0m             \u001b[0my\u001b[0m \u001b[0;34m=\u001b[0m \u001b[0mdf\u001b[0m\u001b[0;34m[\u001b[0m\u001b[0;34m'y_0'\u001b[0m\u001b[0;34m]\u001b[0m\u001b[0;34m.\u001b[0m\u001b[0mto_numpy\u001b[0m\u001b[0;34m(\u001b[0m\u001b[0;34m)\u001b[0m\u001b[0;34m\u001b[0m\u001b[0;34m\u001b[0m\u001b[0m\n\u001b[1;32m     11\u001b[0m             \u001b[0mys\u001b[0m\u001b[0;34m.\u001b[0m\u001b[0mappend\u001b[0m\u001b[0;34m(\u001b[0m\u001b[0my\u001b[0m\u001b[0;34m)\u001b[0m\u001b[0;34m\u001b[0m\u001b[0;34m\u001b[0m\u001b[0m\n",
      "\u001b[0;32m~/miniconda3/envs/dfiv/lib/python3.7/site-packages/pandas/util/_decorators.py\u001b[0m in \u001b[0;36mwrapper\u001b[0;34m(*args, **kwargs)\u001b[0m\n\u001b[1;32m    309\u001b[0m                     \u001b[0mstacklevel\u001b[0m\u001b[0;34m=\u001b[0m\u001b[0mstacklevel\u001b[0m\u001b[0;34m,\u001b[0m\u001b[0;34m\u001b[0m\u001b[0;34m\u001b[0m\u001b[0m\n\u001b[1;32m    310\u001b[0m                 )\n\u001b[0;32m--> 311\u001b[0;31m             \u001b[0;32mreturn\u001b[0m \u001b[0mfunc\u001b[0m\u001b[0;34m(\u001b[0m\u001b[0;34m*\u001b[0m\u001b[0margs\u001b[0m\u001b[0;34m,\u001b[0m \u001b[0;34m**\u001b[0m\u001b[0mkwargs\u001b[0m\u001b[0;34m)\u001b[0m\u001b[0;34m\u001b[0m\u001b[0;34m\u001b[0m\u001b[0m\n\u001b[0m\u001b[1;32m    312\u001b[0m \u001b[0;34m\u001b[0m\u001b[0m\n\u001b[1;32m    313\u001b[0m         \u001b[0;32mreturn\u001b[0m \u001b[0mwrapper\u001b[0m\u001b[0;34m\u001b[0m\u001b[0;34m\u001b[0m\u001b[0m\n",
      "\u001b[0;32m~/miniconda3/envs/dfiv/lib/python3.7/site-packages/pandas/io/parsers/readers.py\u001b[0m in \u001b[0;36mread_csv\u001b[0;34m(filepath_or_buffer, sep, delimiter, header, names, index_col, usecols, squeeze, prefix, mangle_dupe_cols, dtype, engine, converters, true_values, false_values, skipinitialspace, skiprows, skipfooter, nrows, na_values, keep_default_na, na_filter, verbose, skip_blank_lines, parse_dates, infer_datetime_format, keep_date_col, date_parser, dayfirst, cache_dates, iterator, chunksize, compression, thousands, decimal, lineterminator, quotechar, quoting, doublequote, escapechar, comment, encoding, encoding_errors, dialect, error_bad_lines, warn_bad_lines, on_bad_lines, delim_whitespace, low_memory, memory_map, float_precision, storage_options)\u001b[0m\n\u001b[1;32m    584\u001b[0m     \u001b[0mkwds\u001b[0m\u001b[0;34m.\u001b[0m\u001b[0mupdate\u001b[0m\u001b[0;34m(\u001b[0m\u001b[0mkwds_defaults\u001b[0m\u001b[0;34m)\u001b[0m\u001b[0;34m\u001b[0m\u001b[0;34m\u001b[0m\u001b[0m\n\u001b[1;32m    585\u001b[0m \u001b[0;34m\u001b[0m\u001b[0m\n\u001b[0;32m--> 586\u001b[0;31m     \u001b[0;32mreturn\u001b[0m \u001b[0m_read\u001b[0m\u001b[0;34m(\u001b[0m\u001b[0mfilepath_or_buffer\u001b[0m\u001b[0;34m,\u001b[0m \u001b[0mkwds\u001b[0m\u001b[0;34m)\u001b[0m\u001b[0;34m\u001b[0m\u001b[0;34m\u001b[0m\u001b[0m\n\u001b[0m\u001b[1;32m    587\u001b[0m \u001b[0;34m\u001b[0m\u001b[0m\n\u001b[1;32m    588\u001b[0m \u001b[0;34m\u001b[0m\u001b[0m\n",
      "\u001b[0;32m~/miniconda3/envs/dfiv/lib/python3.7/site-packages/pandas/io/parsers/readers.py\u001b[0m in \u001b[0;36m_read\u001b[0;34m(filepath_or_buffer, kwds)\u001b[0m\n\u001b[1;32m    480\u001b[0m \u001b[0;34m\u001b[0m\u001b[0m\n\u001b[1;32m    481\u001b[0m     \u001b[0;31m# Create the parser.\u001b[0m\u001b[0;34m\u001b[0m\u001b[0;34m\u001b[0m\u001b[0;34m\u001b[0m\u001b[0m\n\u001b[0;32m--> 482\u001b[0;31m     \u001b[0mparser\u001b[0m \u001b[0;34m=\u001b[0m \u001b[0mTextFileReader\u001b[0m\u001b[0;34m(\u001b[0m\u001b[0mfilepath_or_buffer\u001b[0m\u001b[0;34m,\u001b[0m \u001b[0;34m**\u001b[0m\u001b[0mkwds\u001b[0m\u001b[0;34m)\u001b[0m\u001b[0;34m\u001b[0m\u001b[0;34m\u001b[0m\u001b[0m\n\u001b[0m\u001b[1;32m    483\u001b[0m \u001b[0;34m\u001b[0m\u001b[0m\n\u001b[1;32m    484\u001b[0m     \u001b[0;32mif\u001b[0m \u001b[0mchunksize\u001b[0m \u001b[0;32mor\u001b[0m \u001b[0miterator\u001b[0m\u001b[0;34m:\u001b[0m\u001b[0;34m\u001b[0m\u001b[0;34m\u001b[0m\u001b[0m\n",
      "\u001b[0;32m~/miniconda3/envs/dfiv/lib/python3.7/site-packages/pandas/io/parsers/readers.py\u001b[0m in \u001b[0;36m__init__\u001b[0;34m(self, f, engine, **kwds)\u001b[0m\n\u001b[1;32m    809\u001b[0m             \u001b[0mself\u001b[0m\u001b[0;34m.\u001b[0m\u001b[0moptions\u001b[0m\u001b[0;34m[\u001b[0m\u001b[0;34m\"has_index_names\"\u001b[0m\u001b[0;34m]\u001b[0m \u001b[0;34m=\u001b[0m \u001b[0mkwds\u001b[0m\u001b[0;34m[\u001b[0m\u001b[0;34m\"has_index_names\"\u001b[0m\u001b[0;34m]\u001b[0m\u001b[0;34m\u001b[0m\u001b[0;34m\u001b[0m\u001b[0m\n\u001b[1;32m    810\u001b[0m \u001b[0;34m\u001b[0m\u001b[0m\n\u001b[0;32m--> 811\u001b[0;31m         \u001b[0mself\u001b[0m\u001b[0;34m.\u001b[0m\u001b[0m_engine\u001b[0m \u001b[0;34m=\u001b[0m \u001b[0mself\u001b[0m\u001b[0;34m.\u001b[0m\u001b[0m_make_engine\u001b[0m\u001b[0;34m(\u001b[0m\u001b[0mself\u001b[0m\u001b[0;34m.\u001b[0m\u001b[0mengine\u001b[0m\u001b[0;34m)\u001b[0m\u001b[0;34m\u001b[0m\u001b[0;34m\u001b[0m\u001b[0m\n\u001b[0m\u001b[1;32m    812\u001b[0m \u001b[0;34m\u001b[0m\u001b[0m\n\u001b[1;32m    813\u001b[0m     \u001b[0;32mdef\u001b[0m \u001b[0mclose\u001b[0m\u001b[0;34m(\u001b[0m\u001b[0mself\u001b[0m\u001b[0;34m)\u001b[0m\u001b[0;34m:\u001b[0m\u001b[0;34m\u001b[0m\u001b[0;34m\u001b[0m\u001b[0m\n",
      "\u001b[0;32m~/miniconda3/envs/dfiv/lib/python3.7/site-packages/pandas/io/parsers/readers.py\u001b[0m in \u001b[0;36m_make_engine\u001b[0;34m(self, engine)\u001b[0m\n\u001b[1;32m   1038\u001b[0m             )\n\u001b[1;32m   1039\u001b[0m         \u001b[0;31m# error: Too many arguments for \"ParserBase\"\u001b[0m\u001b[0;34m\u001b[0m\u001b[0;34m\u001b[0m\u001b[0;34m\u001b[0m\u001b[0m\n\u001b[0;32m-> 1040\u001b[0;31m         \u001b[0;32mreturn\u001b[0m \u001b[0mmapping\u001b[0m\u001b[0;34m[\u001b[0m\u001b[0mengine\u001b[0m\u001b[0;34m]\u001b[0m\u001b[0;34m(\u001b[0m\u001b[0mself\u001b[0m\u001b[0;34m.\u001b[0m\u001b[0mf\u001b[0m\u001b[0;34m,\u001b[0m \u001b[0;34m**\u001b[0m\u001b[0mself\u001b[0m\u001b[0;34m.\u001b[0m\u001b[0moptions\u001b[0m\u001b[0;34m)\u001b[0m  \u001b[0;31m# type: ignore[call-arg]\u001b[0m\u001b[0;34m\u001b[0m\u001b[0;34m\u001b[0m\u001b[0m\n\u001b[0m\u001b[1;32m   1041\u001b[0m \u001b[0;34m\u001b[0m\u001b[0m\n\u001b[1;32m   1042\u001b[0m     \u001b[0;32mdef\u001b[0m \u001b[0m_failover_to_python\u001b[0m\u001b[0;34m(\u001b[0m\u001b[0mself\u001b[0m\u001b[0;34m)\u001b[0m\u001b[0;34m:\u001b[0m\u001b[0;34m\u001b[0m\u001b[0;34m\u001b[0m\u001b[0m\n",
      "\u001b[0;32m~/miniconda3/envs/dfiv/lib/python3.7/site-packages/pandas/io/parsers/c_parser_wrapper.py\u001b[0m in \u001b[0;36m__init__\u001b[0;34m(self, src, **kwds)\u001b[0m\n\u001b[1;32m     49\u001b[0m \u001b[0;34m\u001b[0m\u001b[0m\n\u001b[1;32m     50\u001b[0m         \u001b[0;31m# open handles\u001b[0m\u001b[0;34m\u001b[0m\u001b[0;34m\u001b[0m\u001b[0;34m\u001b[0m\u001b[0m\n\u001b[0;32m---> 51\u001b[0;31m         \u001b[0mself\u001b[0m\u001b[0;34m.\u001b[0m\u001b[0m_open_handles\u001b[0m\u001b[0;34m(\u001b[0m\u001b[0msrc\u001b[0m\u001b[0;34m,\u001b[0m \u001b[0mkwds\u001b[0m\u001b[0;34m)\u001b[0m\u001b[0;34m\u001b[0m\u001b[0;34m\u001b[0m\u001b[0m\n\u001b[0m\u001b[1;32m     52\u001b[0m         \u001b[0;32massert\u001b[0m \u001b[0mself\u001b[0m\u001b[0;34m.\u001b[0m\u001b[0mhandles\u001b[0m \u001b[0;32mis\u001b[0m \u001b[0;32mnot\u001b[0m \u001b[0;32mNone\u001b[0m\u001b[0;34m\u001b[0m\u001b[0;34m\u001b[0m\u001b[0m\n\u001b[1;32m     53\u001b[0m \u001b[0;34m\u001b[0m\u001b[0m\n",
      "\u001b[0;32m~/miniconda3/envs/dfiv/lib/python3.7/site-packages/pandas/io/parsers/base_parser.py\u001b[0m in \u001b[0;36m_open_handles\u001b[0;34m(self, src, kwds)\u001b[0m\n\u001b[1;32m    227\u001b[0m             \u001b[0mmemory_map\u001b[0m\u001b[0;34m=\u001b[0m\u001b[0mkwds\u001b[0m\u001b[0;34m.\u001b[0m\u001b[0mget\u001b[0m\u001b[0;34m(\u001b[0m\u001b[0;34m\"memory_map\"\u001b[0m\u001b[0;34m,\u001b[0m \u001b[0;32mFalse\u001b[0m\u001b[0;34m)\u001b[0m\u001b[0;34m,\u001b[0m\u001b[0;34m\u001b[0m\u001b[0;34m\u001b[0m\u001b[0m\n\u001b[1;32m    228\u001b[0m             \u001b[0mstorage_options\u001b[0m\u001b[0;34m=\u001b[0m\u001b[0mkwds\u001b[0m\u001b[0;34m.\u001b[0m\u001b[0mget\u001b[0m\u001b[0;34m(\u001b[0m\u001b[0;34m\"storage_options\"\u001b[0m\u001b[0;34m,\u001b[0m \u001b[0;32mNone\u001b[0m\u001b[0;34m)\u001b[0m\u001b[0;34m,\u001b[0m\u001b[0;34m\u001b[0m\u001b[0;34m\u001b[0m\u001b[0m\n\u001b[0;32m--> 229\u001b[0;31m             \u001b[0merrors\u001b[0m\u001b[0;34m=\u001b[0m\u001b[0mkwds\u001b[0m\u001b[0;34m.\u001b[0m\u001b[0mget\u001b[0m\u001b[0;34m(\u001b[0m\u001b[0;34m\"encoding_errors\"\u001b[0m\u001b[0;34m,\u001b[0m \u001b[0;34m\"strict\"\u001b[0m\u001b[0;34m)\u001b[0m\u001b[0;34m,\u001b[0m\u001b[0;34m\u001b[0m\u001b[0;34m\u001b[0m\u001b[0m\n\u001b[0m\u001b[1;32m    230\u001b[0m         )\n\u001b[1;32m    231\u001b[0m \u001b[0;34m\u001b[0m\u001b[0m\n",
      "\u001b[0;32m~/miniconda3/envs/dfiv/lib/python3.7/site-packages/pandas/io/common.py\u001b[0m in \u001b[0;36mget_handle\u001b[0;34m(path_or_buf, mode, encoding, compression, memory_map, is_text, errors, storage_options)\u001b[0m\n\u001b[1;32m    705\u001b[0m                 \u001b[0mencoding\u001b[0m\u001b[0;34m=\u001b[0m\u001b[0mioargs\u001b[0m\u001b[0;34m.\u001b[0m\u001b[0mencoding\u001b[0m\u001b[0;34m,\u001b[0m\u001b[0;34m\u001b[0m\u001b[0;34m\u001b[0m\u001b[0m\n\u001b[1;32m    706\u001b[0m                 \u001b[0merrors\u001b[0m\u001b[0;34m=\u001b[0m\u001b[0merrors\u001b[0m\u001b[0;34m,\u001b[0m\u001b[0;34m\u001b[0m\u001b[0;34m\u001b[0m\u001b[0m\n\u001b[0;32m--> 707\u001b[0;31m                 \u001b[0mnewline\u001b[0m\u001b[0;34m=\u001b[0m\u001b[0;34m\"\"\u001b[0m\u001b[0;34m,\u001b[0m\u001b[0;34m\u001b[0m\u001b[0;34m\u001b[0m\u001b[0m\n\u001b[0m\u001b[1;32m    708\u001b[0m             )\n\u001b[1;32m    709\u001b[0m         \u001b[0;32melse\u001b[0m\u001b[0;34m:\u001b[0m\u001b[0;34m\u001b[0m\u001b[0;34m\u001b[0m\u001b[0m\n",
      "\u001b[0;31mFileNotFoundError\u001b[0m: [Errno 2] No such file or directory: '../../spaceIV/data/a2a1a3-1/data_size1600.csv'"
     ]
    }
   ],
   "source": [
    "data_dir = os.path.join(spaceiv_dir, 'data')\n",
    "\n",
    "def read_ys(data_dir, case):\n",
    "    ys = []\n",
    "    for dir in os.listdir(os.path.join(data_dir, case)):\n",
    "        if all(item in dir for item in ['a1', 'a2', 'a3']):\n",
    "            dir = os.path.join(data_dir, dir)\n",
    "            data_file = os.path.join(dir, 'data_size1600.csv')\n",
    "            df = pd.read_csv(data_file)\n",
    "            y = df['y_0'].to_numpy()\n",
    "            ys.append(y)\n",
    "        else:\n",
    "            print(f'neglected foler {dir}')\n",
    "    return np.stack(ys)\n",
    "\n",
    "read_ys(data_dir, case)"
   ]
  },
  {
   "cell_type": "code",
   "execution_count": 238,
   "metadata": {},
   "outputs": [],
   "source": [
    "# spaceIV_data_root = '../../spaceIV/data/'\n",
    "# spaceIV_data_dir = os.path.join(spaceIV_data_root, case)\n",
    "# print(spaceIV_data_dir)\n",
    "# assert os.path.exists(spaceIV_data_dir), 'no such data'"
   ]
  },
  {
   "cell_type": "code",
   "execution_count": 225,
   "metadata": {},
   "outputs": [],
   "source": [
    "df_dfiv =  get_results('dfiv_spaceiv_vanilla')\n",
    "df_dfiv['model'] = 'DFIV'\n",
    "df_dfiv = df_dfiv[df_dfiv['case'] == case]"
   ]
  },
  {
   "cell_type": "code",
   "execution_count": 226,
   "metadata": {},
   "outputs": [
    {
     "data": {
      "text/html": [
       "<div>\n",
       "<style scoped>\n",
       "    .dataframe tbody tr th:only-of-type {\n",
       "        vertical-align: middle;\n",
       "    }\n",
       "\n",
       "    .dataframe tbody tr th {\n",
       "        vertical-align: top;\n",
       "    }\n",
       "\n",
       "    .dataframe thead th {\n",
       "        text-align: right;\n",
       "    }\n",
       "</style>\n",
       "<table border=\"1\" class=\"dataframe\">\n",
       "  <thead>\n",
       "    <tr style=\"text-align: right;\">\n",
       "      <th></th>\n",
       "      <th>Unnamed: 0</th>\n",
       "      <th>case</th>\n",
       "      <th>data_size</th>\n",
       "      <th>test_size</th>\n",
       "      <th>mse</th>\n",
       "      <th>model</th>\n",
       "      <th>dir</th>\n",
       "    </tr>\n",
       "  </thead>\n",
       "  <tbody>\n",
       "    <tr>\n",
       "      <th>0</th>\n",
       "      <td>0.0</td>\n",
       "      <td>case_hc_num_7</td>\n",
       "      <td>1600.0</td>\n",
       "      <td>180.0</td>\n",
       "      <td>3.374018e+03</td>\n",
       "      <td>spaceIV</td>\n",
       "      <td>NaN</td>\n",
       "    </tr>\n",
       "    <tr>\n",
       "      <th>1</th>\n",
       "      <td>1.0</td>\n",
       "      <td>case_hc_num_7</td>\n",
       "      <td>1600.0</td>\n",
       "      <td>180.0</td>\n",
       "      <td>1.187718e+01</td>\n",
       "      <td>spaceIV</td>\n",
       "      <td>NaN</td>\n",
       "    </tr>\n",
       "    <tr>\n",
       "      <th>2</th>\n",
       "      <td>2.0</td>\n",
       "      <td>case_hc_num_7</td>\n",
       "      <td>1600.0</td>\n",
       "      <td>180.0</td>\n",
       "      <td>1.018500e+01</td>\n",
       "      <td>spaceIV</td>\n",
       "      <td>NaN</td>\n",
       "    </tr>\n",
       "    <tr>\n",
       "      <th>3</th>\n",
       "      <td>3.0</td>\n",
       "      <td>case_hc_num_7</td>\n",
       "      <td>1600.0</td>\n",
       "      <td>180.0</td>\n",
       "      <td>7.628786e+02</td>\n",
       "      <td>spaceIV</td>\n",
       "      <td>NaN</td>\n",
       "    </tr>\n",
       "    <tr>\n",
       "      <th>4</th>\n",
       "      <td>4.0</td>\n",
       "      <td>case_hc_num_7</td>\n",
       "      <td>1600.0</td>\n",
       "      <td>180.0</td>\n",
       "      <td>1.585777e+02</td>\n",
       "      <td>spaceIV</td>\n",
       "      <td>NaN</td>\n",
       "    </tr>\n",
       "    <tr>\n",
       "      <th>5</th>\n",
       "      <td>5.0</td>\n",
       "      <td>case_hc_num_7</td>\n",
       "      <td>1600.0</td>\n",
       "      <td>180.0</td>\n",
       "      <td>8.217241e+00</td>\n",
       "      <td>spaceIV</td>\n",
       "      <td>NaN</td>\n",
       "    </tr>\n",
       "    <tr>\n",
       "      <th>6</th>\n",
       "      <td>6.0</td>\n",
       "      <td>case_hc_num_7</td>\n",
       "      <td>1600.0</td>\n",
       "      <td>180.0</td>\n",
       "      <td>8.523236e+03</td>\n",
       "      <td>spaceIV</td>\n",
       "      <td>NaN</td>\n",
       "    </tr>\n",
       "    <tr>\n",
       "      <th>7</th>\n",
       "      <td>7.0</td>\n",
       "      <td>case_hc_num_7</td>\n",
       "      <td>1600.0</td>\n",
       "      <td>180.0</td>\n",
       "      <td>2.978951e+06</td>\n",
       "      <td>spaceIV</td>\n",
       "      <td>NaN</td>\n",
       "    </tr>\n",
       "    <tr>\n",
       "      <th>8</th>\n",
       "      <td>8.0</td>\n",
       "      <td>case_hc_num_7</td>\n",
       "      <td>1600.0</td>\n",
       "      <td>180.0</td>\n",
       "      <td>1.514742e+01</td>\n",
       "      <td>spaceIV</td>\n",
       "      <td>NaN</td>\n",
       "    </tr>\n",
       "    <tr>\n",
       "      <th>9</th>\n",
       "      <td>9.0</td>\n",
       "      <td>case_hc_num_7</td>\n",
       "      <td>1600.0</td>\n",
       "      <td>180.0</td>\n",
       "      <td>6.095278e+00</td>\n",
       "      <td>spaceIV</td>\n",
       "      <td>NaN</td>\n",
       "    </tr>\n",
       "    <tr>\n",
       "      <th>10</th>\n",
       "      <td>10.0</td>\n",
       "      <td>case_hc_num_7</td>\n",
       "      <td>1600.0</td>\n",
       "      <td>180.0</td>\n",
       "      <td>3.596930e+02</td>\n",
       "      <td>spaceIV</td>\n",
       "      <td>NaN</td>\n",
       "    </tr>\n",
       "    <tr>\n",
       "      <th>11</th>\n",
       "      <td>11.0</td>\n",
       "      <td>case_hc_num_7</td>\n",
       "      <td>1600.0</td>\n",
       "      <td>180.0</td>\n",
       "      <td>9.079907e+00</td>\n",
       "      <td>spaceIV</td>\n",
       "      <td>NaN</td>\n",
       "    </tr>\n",
       "    <tr>\n",
       "      <th>12</th>\n",
       "      <td>12.0</td>\n",
       "      <td>case_hc_num_7</td>\n",
       "      <td>1600.0</td>\n",
       "      <td>180.0</td>\n",
       "      <td>5.050390e+00</td>\n",
       "      <td>spaceIV</td>\n",
       "      <td>NaN</td>\n",
       "    </tr>\n",
       "    <tr>\n",
       "      <th>13</th>\n",
       "      <td>13.0</td>\n",
       "      <td>case_hc_num_7</td>\n",
       "      <td>1600.0</td>\n",
       "      <td>180.0</td>\n",
       "      <td>2.842261e+01</td>\n",
       "      <td>spaceIV</td>\n",
       "      <td>NaN</td>\n",
       "    </tr>\n",
       "    <tr>\n",
       "      <th>14</th>\n",
       "      <td>14.0</td>\n",
       "      <td>case_hc_num_7</td>\n",
       "      <td>1600.0</td>\n",
       "      <td>180.0</td>\n",
       "      <td>4.551705e+02</td>\n",
       "      <td>spaceIV</td>\n",
       "      <td>NaN</td>\n",
       "    </tr>\n",
       "    <tr>\n",
       "      <th>15</th>\n",
       "      <td>15.0</td>\n",
       "      <td>case_hc_num_7</td>\n",
       "      <td>1600.0</td>\n",
       "      <td>180.0</td>\n",
       "      <td>3.754316e+04</td>\n",
       "      <td>spaceIV</td>\n",
       "      <td>NaN</td>\n",
       "    </tr>\n",
       "    <tr>\n",
       "      <th>16</th>\n",
       "      <td>16.0</td>\n",
       "      <td>case_hc_num_7</td>\n",
       "      <td>1600.0</td>\n",
       "      <td>180.0</td>\n",
       "      <td>1.256167e+01</td>\n",
       "      <td>spaceIV</td>\n",
       "      <td>NaN</td>\n",
       "    </tr>\n",
       "    <tr>\n",
       "      <th>17</th>\n",
       "      <td>17.0</td>\n",
       "      <td>case_hc_num_7</td>\n",
       "      <td>1600.0</td>\n",
       "      <td>180.0</td>\n",
       "      <td>9.771178e+01</td>\n",
       "      <td>spaceIV</td>\n",
       "      <td>NaN</td>\n",
       "    </tr>\n",
       "    <tr>\n",
       "      <th>18</th>\n",
       "      <td>18.0</td>\n",
       "      <td>case_hc_num_7</td>\n",
       "      <td>1600.0</td>\n",
       "      <td>180.0</td>\n",
       "      <td>1.821273e+01</td>\n",
       "      <td>spaceIV</td>\n",
       "      <td>NaN</td>\n",
       "    </tr>\n",
       "    <tr>\n",
       "      <th>19</th>\n",
       "      <td>19.0</td>\n",
       "      <td>case_hc_num_7</td>\n",
       "      <td>1600.0</td>\n",
       "      <td>180.0</td>\n",
       "      <td>1.089651e+04</td>\n",
       "      <td>spaceIV</td>\n",
       "      <td>NaN</td>\n",
       "    </tr>\n",
       "    <tr>\n",
       "      <th>20</th>\n",
       "      <td>20.0</td>\n",
       "      <td>case_hc_num_7</td>\n",
       "      <td>1600.0</td>\n",
       "      <td>180.0</td>\n",
       "      <td>1.084878e+01</td>\n",
       "      <td>spaceIV</td>\n",
       "      <td>NaN</td>\n",
       "    </tr>\n",
       "    <tr>\n",
       "      <th>21</th>\n",
       "      <td>21.0</td>\n",
       "      <td>case_hc_num_7</td>\n",
       "      <td>1600.0</td>\n",
       "      <td>180.0</td>\n",
       "      <td>3.232739e+01</td>\n",
       "      <td>spaceIV</td>\n",
       "      <td>NaN</td>\n",
       "    </tr>\n",
       "    <tr>\n",
       "      <th>22</th>\n",
       "      <td>22.0</td>\n",
       "      <td>case_hc_num_7</td>\n",
       "      <td>1600.0</td>\n",
       "      <td>180.0</td>\n",
       "      <td>4.227135e+04</td>\n",
       "      <td>spaceIV</td>\n",
       "      <td>NaN</td>\n",
       "    </tr>\n",
       "    <tr>\n",
       "      <th>23</th>\n",
       "      <td>23.0</td>\n",
       "      <td>case_hc_num_7</td>\n",
       "      <td>1600.0</td>\n",
       "      <td>180.0</td>\n",
       "      <td>1.737924e+02</td>\n",
       "      <td>spaceIV</td>\n",
       "      <td>NaN</td>\n",
       "    </tr>\n",
       "    <tr>\n",
       "      <th>24</th>\n",
       "      <td>24.0</td>\n",
       "      <td>case_hc_num_7</td>\n",
       "      <td>1600.0</td>\n",
       "      <td>180.0</td>\n",
       "      <td>4.009213e+03</td>\n",
       "      <td>spaceIV</td>\n",
       "      <td>NaN</td>\n",
       "    </tr>\n",
       "    <tr>\n",
       "      <th>25</th>\n",
       "      <td>25.0</td>\n",
       "      <td>case_hc_num_7</td>\n",
       "      <td>1600.0</td>\n",
       "      <td>180.0</td>\n",
       "      <td>5.054425e+00</td>\n",
       "      <td>spaceIV</td>\n",
       "      <td>NaN</td>\n",
       "    </tr>\n",
       "    <tr>\n",
       "      <th>26</th>\n",
       "      <td>26.0</td>\n",
       "      <td>case_hc_num_7</td>\n",
       "      <td>1600.0</td>\n",
       "      <td>180.0</td>\n",
       "      <td>1.317983e+01</td>\n",
       "      <td>spaceIV</td>\n",
       "      <td>NaN</td>\n",
       "    </tr>\n",
       "    <tr>\n",
       "      <th>27</th>\n",
       "      <td>27.0</td>\n",
       "      <td>case_hc_num_7</td>\n",
       "      <td>1600.0</td>\n",
       "      <td>180.0</td>\n",
       "      <td>6.384523e+00</td>\n",
       "      <td>spaceIV</td>\n",
       "      <td>NaN</td>\n",
       "    </tr>\n",
       "    <tr>\n",
       "      <th>28</th>\n",
       "      <td>28.0</td>\n",
       "      <td>case_hc_num_7</td>\n",
       "      <td>1600.0</td>\n",
       "      <td>180.0</td>\n",
       "      <td>1.181663e+01</td>\n",
       "      <td>spaceIV</td>\n",
       "      <td>NaN</td>\n",
       "    </tr>\n",
       "    <tr>\n",
       "      <th>29</th>\n",
       "      <td>29.0</td>\n",
       "      <td>case_hc_num_7</td>\n",
       "      <td>1600.0</td>\n",
       "      <td>180.0</td>\n",
       "      <td>1.471039e+01</td>\n",
       "      <td>spaceIV</td>\n",
       "      <td>NaN</td>\n",
       "    </tr>\n",
       "    <tr>\n",
       "      <th>0</th>\n",
       "      <td>NaN</td>\n",
       "      <td>case_hc_num_7</td>\n",
       "      <td>NaN</td>\n",
       "      <td>NaN</td>\n",
       "      <td>2.022763e+01</td>\n",
       "      <td>DFIV</td>\n",
       "      <td>dfiv_spaceiv_vanilla</td>\n",
       "    </tr>\n",
       "    <tr>\n",
       "      <th>1</th>\n",
       "      <td>NaN</td>\n",
       "      <td>case_hc_num_7</td>\n",
       "      <td>NaN</td>\n",
       "      <td>NaN</td>\n",
       "      <td>2.450924e+01</td>\n",
       "      <td>DFIV</td>\n",
       "      <td>dfiv_spaceiv_vanilla</td>\n",
       "    </tr>\n",
       "    <tr>\n",
       "      <th>2</th>\n",
       "      <td>NaN</td>\n",
       "      <td>case_hc_num_7</td>\n",
       "      <td>NaN</td>\n",
       "      <td>NaN</td>\n",
       "      <td>2.661643e+01</td>\n",
       "      <td>DFIV</td>\n",
       "      <td>dfiv_spaceiv_vanilla</td>\n",
       "    </tr>\n",
       "    <tr>\n",
       "      <th>3</th>\n",
       "      <td>NaN</td>\n",
       "      <td>case_hc_num_7</td>\n",
       "      <td>NaN</td>\n",
       "      <td>NaN</td>\n",
       "      <td>7.220963e+01</td>\n",
       "      <td>DFIV</td>\n",
       "      <td>dfiv_spaceiv_vanilla</td>\n",
       "    </tr>\n",
       "    <tr>\n",
       "      <th>4</th>\n",
       "      <td>NaN</td>\n",
       "      <td>case_hc_num_7</td>\n",
       "      <td>NaN</td>\n",
       "      <td>NaN</td>\n",
       "      <td>1.772555e+01</td>\n",
       "      <td>DFIV</td>\n",
       "      <td>dfiv_spaceiv_vanilla</td>\n",
       "    </tr>\n",
       "    <tr>\n",
       "      <th>5</th>\n",
       "      <td>NaN</td>\n",
       "      <td>case_hc_num_7</td>\n",
       "      <td>NaN</td>\n",
       "      <td>NaN</td>\n",
       "      <td>2.101995e+01</td>\n",
       "      <td>DFIV</td>\n",
       "      <td>dfiv_spaceiv_vanilla</td>\n",
       "    </tr>\n",
       "    <tr>\n",
       "      <th>6</th>\n",
       "      <td>NaN</td>\n",
       "      <td>case_hc_num_7</td>\n",
       "      <td>NaN</td>\n",
       "      <td>NaN</td>\n",
       "      <td>4.594813e+01</td>\n",
       "      <td>DFIV</td>\n",
       "      <td>dfiv_spaceiv_vanilla</td>\n",
       "    </tr>\n",
       "    <tr>\n",
       "      <th>7</th>\n",
       "      <td>NaN</td>\n",
       "      <td>case_hc_num_7</td>\n",
       "      <td>NaN</td>\n",
       "      <td>NaN</td>\n",
       "      <td>2.571921e+01</td>\n",
       "      <td>DFIV</td>\n",
       "      <td>dfiv_spaceiv_vanilla</td>\n",
       "    </tr>\n",
       "    <tr>\n",
       "      <th>8</th>\n",
       "      <td>NaN</td>\n",
       "      <td>case_hc_num_7</td>\n",
       "      <td>NaN</td>\n",
       "      <td>NaN</td>\n",
       "      <td>3.724718e+01</td>\n",
       "      <td>DFIV</td>\n",
       "      <td>dfiv_spaceiv_vanilla</td>\n",
       "    </tr>\n",
       "    <tr>\n",
       "      <th>9</th>\n",
       "      <td>NaN</td>\n",
       "      <td>case_hc_num_7</td>\n",
       "      <td>NaN</td>\n",
       "      <td>NaN</td>\n",
       "      <td>3.993243e+01</td>\n",
       "      <td>DFIV</td>\n",
       "      <td>dfiv_spaceiv_vanilla</td>\n",
       "    </tr>\n",
       "    <tr>\n",
       "      <th>10</th>\n",
       "      <td>NaN</td>\n",
       "      <td>case_hc_num_7</td>\n",
       "      <td>NaN</td>\n",
       "      <td>NaN</td>\n",
       "      <td>3.165885e+01</td>\n",
       "      <td>DFIV</td>\n",
       "      <td>dfiv_spaceiv_vanilla</td>\n",
       "    </tr>\n",
       "    <tr>\n",
       "      <th>11</th>\n",
       "      <td>NaN</td>\n",
       "      <td>case_hc_num_7</td>\n",
       "      <td>NaN</td>\n",
       "      <td>NaN</td>\n",
       "      <td>4.468536e+01</td>\n",
       "      <td>DFIV</td>\n",
       "      <td>dfiv_spaceiv_vanilla</td>\n",
       "    </tr>\n",
       "    <tr>\n",
       "      <th>12</th>\n",
       "      <td>NaN</td>\n",
       "      <td>case_hc_num_7</td>\n",
       "      <td>NaN</td>\n",
       "      <td>NaN</td>\n",
       "      <td>1.741843e+02</td>\n",
       "      <td>DFIV</td>\n",
       "      <td>dfiv_spaceiv_vanilla</td>\n",
       "    </tr>\n",
       "    <tr>\n",
       "      <th>13</th>\n",
       "      <td>NaN</td>\n",
       "      <td>case_hc_num_7</td>\n",
       "      <td>NaN</td>\n",
       "      <td>NaN</td>\n",
       "      <td>3.771092e+01</td>\n",
       "      <td>DFIV</td>\n",
       "      <td>dfiv_spaceiv_vanilla</td>\n",
       "    </tr>\n",
       "    <tr>\n",
       "      <th>14</th>\n",
       "      <td>NaN</td>\n",
       "      <td>case_hc_num_7</td>\n",
       "      <td>NaN</td>\n",
       "      <td>NaN</td>\n",
       "      <td>3.510608e+01</td>\n",
       "      <td>DFIV</td>\n",
       "      <td>dfiv_spaceiv_vanilla</td>\n",
       "    </tr>\n",
       "    <tr>\n",
       "      <th>15</th>\n",
       "      <td>NaN</td>\n",
       "      <td>case_hc_num_7</td>\n",
       "      <td>NaN</td>\n",
       "      <td>NaN</td>\n",
       "      <td>7.806917e+01</td>\n",
       "      <td>DFIV</td>\n",
       "      <td>dfiv_spaceiv_vanilla</td>\n",
       "    </tr>\n",
       "    <tr>\n",
       "      <th>16</th>\n",
       "      <td>NaN</td>\n",
       "      <td>case_hc_num_7</td>\n",
       "      <td>NaN</td>\n",
       "      <td>NaN</td>\n",
       "      <td>1.857077e+01</td>\n",
       "      <td>DFIV</td>\n",
       "      <td>dfiv_spaceiv_vanilla</td>\n",
       "    </tr>\n",
       "    <tr>\n",
       "      <th>17</th>\n",
       "      <td>NaN</td>\n",
       "      <td>case_hc_num_7</td>\n",
       "      <td>NaN</td>\n",
       "      <td>NaN</td>\n",
       "      <td>2.422939e+01</td>\n",
       "      <td>DFIV</td>\n",
       "      <td>dfiv_spaceiv_vanilla</td>\n",
       "    </tr>\n",
       "    <tr>\n",
       "      <th>18</th>\n",
       "      <td>NaN</td>\n",
       "      <td>case_hc_num_7</td>\n",
       "      <td>NaN</td>\n",
       "      <td>NaN</td>\n",
       "      <td>3.005229e+01</td>\n",
       "      <td>DFIV</td>\n",
       "      <td>dfiv_spaceiv_vanilla</td>\n",
       "    </tr>\n",
       "    <tr>\n",
       "      <th>19</th>\n",
       "      <td>NaN</td>\n",
       "      <td>case_hc_num_7</td>\n",
       "      <td>NaN</td>\n",
       "      <td>NaN</td>\n",
       "      <td>4.188518e+01</td>\n",
       "      <td>DFIV</td>\n",
       "      <td>dfiv_spaceiv_vanilla</td>\n",
       "    </tr>\n",
       "    <tr>\n",
       "      <th>20</th>\n",
       "      <td>NaN</td>\n",
       "      <td>case_hc_num_7</td>\n",
       "      <td>NaN</td>\n",
       "      <td>NaN</td>\n",
       "      <td>1.228091e+02</td>\n",
       "      <td>DFIV</td>\n",
       "      <td>dfiv_spaceiv_vanilla</td>\n",
       "    </tr>\n",
       "    <tr>\n",
       "      <th>21</th>\n",
       "      <td>NaN</td>\n",
       "      <td>case_hc_num_7</td>\n",
       "      <td>NaN</td>\n",
       "      <td>NaN</td>\n",
       "      <td>5.349450e+01</td>\n",
       "      <td>DFIV</td>\n",
       "      <td>dfiv_spaceiv_vanilla</td>\n",
       "    </tr>\n",
       "    <tr>\n",
       "      <th>22</th>\n",
       "      <td>NaN</td>\n",
       "      <td>case_hc_num_7</td>\n",
       "      <td>NaN</td>\n",
       "      <td>NaN</td>\n",
       "      <td>2.187087e+01</td>\n",
       "      <td>DFIV</td>\n",
       "      <td>dfiv_spaceiv_vanilla</td>\n",
       "    </tr>\n",
       "    <tr>\n",
       "      <th>23</th>\n",
       "      <td>NaN</td>\n",
       "      <td>case_hc_num_7</td>\n",
       "      <td>NaN</td>\n",
       "      <td>NaN</td>\n",
       "      <td>2.784309e+01</td>\n",
       "      <td>DFIV</td>\n",
       "      <td>dfiv_spaceiv_vanilla</td>\n",
       "    </tr>\n",
       "    <tr>\n",
       "      <th>24</th>\n",
       "      <td>NaN</td>\n",
       "      <td>case_hc_num_7</td>\n",
       "      <td>NaN</td>\n",
       "      <td>NaN</td>\n",
       "      <td>7.506156e+01</td>\n",
       "      <td>DFIV</td>\n",
       "      <td>dfiv_spaceiv_vanilla</td>\n",
       "    </tr>\n",
       "    <tr>\n",
       "      <th>25</th>\n",
       "      <td>NaN</td>\n",
       "      <td>case_hc_num_7</td>\n",
       "      <td>NaN</td>\n",
       "      <td>NaN</td>\n",
       "      <td>5.389564e+01</td>\n",
       "      <td>DFIV</td>\n",
       "      <td>dfiv_spaceiv_vanilla</td>\n",
       "    </tr>\n",
       "    <tr>\n",
       "      <th>26</th>\n",
       "      <td>NaN</td>\n",
       "      <td>case_hc_num_7</td>\n",
       "      <td>NaN</td>\n",
       "      <td>NaN</td>\n",
       "      <td>2.077310e+01</td>\n",
       "      <td>DFIV</td>\n",
       "      <td>dfiv_spaceiv_vanilla</td>\n",
       "    </tr>\n",
       "    <tr>\n",
       "      <th>27</th>\n",
       "      <td>NaN</td>\n",
       "      <td>case_hc_num_7</td>\n",
       "      <td>NaN</td>\n",
       "      <td>NaN</td>\n",
       "      <td>7.461547e+01</td>\n",
       "      <td>DFIV</td>\n",
       "      <td>dfiv_spaceiv_vanilla</td>\n",
       "    </tr>\n",
       "    <tr>\n",
       "      <th>28</th>\n",
       "      <td>NaN</td>\n",
       "      <td>case_hc_num_7</td>\n",
       "      <td>NaN</td>\n",
       "      <td>NaN</td>\n",
       "      <td>2.109842e+01</td>\n",
       "      <td>DFIV</td>\n",
       "      <td>dfiv_spaceiv_vanilla</td>\n",
       "    </tr>\n",
       "    <tr>\n",
       "      <th>29</th>\n",
       "      <td>NaN</td>\n",
       "      <td>case_hc_num_7</td>\n",
       "      <td>NaN</td>\n",
       "      <td>NaN</td>\n",
       "      <td>2.334389e+01</td>\n",
       "      <td>DFIV</td>\n",
       "      <td>dfiv_spaceiv_vanilla</td>\n",
       "    </tr>\n",
       "  </tbody>\n",
       "</table>\n",
       "</div>"
      ],
      "text/plain": [
       "    Unnamed: 0           case  data_size  test_size           mse    model  \\\n",
       "0          0.0  case_hc_num_7     1600.0      180.0  3.374018e+03  spaceIV   \n",
       "1          1.0  case_hc_num_7     1600.0      180.0  1.187718e+01  spaceIV   \n",
       "2          2.0  case_hc_num_7     1600.0      180.0  1.018500e+01  spaceIV   \n",
       "3          3.0  case_hc_num_7     1600.0      180.0  7.628786e+02  spaceIV   \n",
       "4          4.0  case_hc_num_7     1600.0      180.0  1.585777e+02  spaceIV   \n",
       "5          5.0  case_hc_num_7     1600.0      180.0  8.217241e+00  spaceIV   \n",
       "6          6.0  case_hc_num_7     1600.0      180.0  8.523236e+03  spaceIV   \n",
       "7          7.0  case_hc_num_7     1600.0      180.0  2.978951e+06  spaceIV   \n",
       "8          8.0  case_hc_num_7     1600.0      180.0  1.514742e+01  spaceIV   \n",
       "9          9.0  case_hc_num_7     1600.0      180.0  6.095278e+00  spaceIV   \n",
       "10        10.0  case_hc_num_7     1600.0      180.0  3.596930e+02  spaceIV   \n",
       "11        11.0  case_hc_num_7     1600.0      180.0  9.079907e+00  spaceIV   \n",
       "12        12.0  case_hc_num_7     1600.0      180.0  5.050390e+00  spaceIV   \n",
       "13        13.0  case_hc_num_7     1600.0      180.0  2.842261e+01  spaceIV   \n",
       "14        14.0  case_hc_num_7     1600.0      180.0  4.551705e+02  spaceIV   \n",
       "15        15.0  case_hc_num_7     1600.0      180.0  3.754316e+04  spaceIV   \n",
       "16        16.0  case_hc_num_7     1600.0      180.0  1.256167e+01  spaceIV   \n",
       "17        17.0  case_hc_num_7     1600.0      180.0  9.771178e+01  spaceIV   \n",
       "18        18.0  case_hc_num_7     1600.0      180.0  1.821273e+01  spaceIV   \n",
       "19        19.0  case_hc_num_7     1600.0      180.0  1.089651e+04  spaceIV   \n",
       "20        20.0  case_hc_num_7     1600.0      180.0  1.084878e+01  spaceIV   \n",
       "21        21.0  case_hc_num_7     1600.0      180.0  3.232739e+01  spaceIV   \n",
       "22        22.0  case_hc_num_7     1600.0      180.0  4.227135e+04  spaceIV   \n",
       "23        23.0  case_hc_num_7     1600.0      180.0  1.737924e+02  spaceIV   \n",
       "24        24.0  case_hc_num_7     1600.0      180.0  4.009213e+03  spaceIV   \n",
       "25        25.0  case_hc_num_7     1600.0      180.0  5.054425e+00  spaceIV   \n",
       "26        26.0  case_hc_num_7     1600.0      180.0  1.317983e+01  spaceIV   \n",
       "27        27.0  case_hc_num_7     1600.0      180.0  6.384523e+00  spaceIV   \n",
       "28        28.0  case_hc_num_7     1600.0      180.0  1.181663e+01  spaceIV   \n",
       "29        29.0  case_hc_num_7     1600.0      180.0  1.471039e+01  spaceIV   \n",
       "0          NaN  case_hc_num_7        NaN        NaN  2.022763e+01     DFIV   \n",
       "1          NaN  case_hc_num_7        NaN        NaN  2.450924e+01     DFIV   \n",
       "2          NaN  case_hc_num_7        NaN        NaN  2.661643e+01     DFIV   \n",
       "3          NaN  case_hc_num_7        NaN        NaN  7.220963e+01     DFIV   \n",
       "4          NaN  case_hc_num_7        NaN        NaN  1.772555e+01     DFIV   \n",
       "5          NaN  case_hc_num_7        NaN        NaN  2.101995e+01     DFIV   \n",
       "6          NaN  case_hc_num_7        NaN        NaN  4.594813e+01     DFIV   \n",
       "7          NaN  case_hc_num_7        NaN        NaN  2.571921e+01     DFIV   \n",
       "8          NaN  case_hc_num_7        NaN        NaN  3.724718e+01     DFIV   \n",
       "9          NaN  case_hc_num_7        NaN        NaN  3.993243e+01     DFIV   \n",
       "10         NaN  case_hc_num_7        NaN        NaN  3.165885e+01     DFIV   \n",
       "11         NaN  case_hc_num_7        NaN        NaN  4.468536e+01     DFIV   \n",
       "12         NaN  case_hc_num_7        NaN        NaN  1.741843e+02     DFIV   \n",
       "13         NaN  case_hc_num_7        NaN        NaN  3.771092e+01     DFIV   \n",
       "14         NaN  case_hc_num_7        NaN        NaN  3.510608e+01     DFIV   \n",
       "15         NaN  case_hc_num_7        NaN        NaN  7.806917e+01     DFIV   \n",
       "16         NaN  case_hc_num_7        NaN        NaN  1.857077e+01     DFIV   \n",
       "17         NaN  case_hc_num_7        NaN        NaN  2.422939e+01     DFIV   \n",
       "18         NaN  case_hc_num_7        NaN        NaN  3.005229e+01     DFIV   \n",
       "19         NaN  case_hc_num_7        NaN        NaN  4.188518e+01     DFIV   \n",
       "20         NaN  case_hc_num_7        NaN        NaN  1.228091e+02     DFIV   \n",
       "21         NaN  case_hc_num_7        NaN        NaN  5.349450e+01     DFIV   \n",
       "22         NaN  case_hc_num_7        NaN        NaN  2.187087e+01     DFIV   \n",
       "23         NaN  case_hc_num_7        NaN        NaN  2.784309e+01     DFIV   \n",
       "24         NaN  case_hc_num_7        NaN        NaN  7.506156e+01     DFIV   \n",
       "25         NaN  case_hc_num_7        NaN        NaN  5.389564e+01     DFIV   \n",
       "26         NaN  case_hc_num_7        NaN        NaN  2.077310e+01     DFIV   \n",
       "27         NaN  case_hc_num_7        NaN        NaN  7.461547e+01     DFIV   \n",
       "28         NaN  case_hc_num_7        NaN        NaN  2.109842e+01     DFIV   \n",
       "29         NaN  case_hc_num_7        NaN        NaN  2.334389e+01     DFIV   \n",
       "\n",
       "                     dir  \n",
       "0                    NaN  \n",
       "1                    NaN  \n",
       "2                    NaN  \n",
       "3                    NaN  \n",
       "4                    NaN  \n",
       "5                    NaN  \n",
       "6                    NaN  \n",
       "7                    NaN  \n",
       "8                    NaN  \n",
       "9                    NaN  \n",
       "10                   NaN  \n",
       "11                   NaN  \n",
       "12                   NaN  \n",
       "13                   NaN  \n",
       "14                   NaN  \n",
       "15                   NaN  \n",
       "16                   NaN  \n",
       "17                   NaN  \n",
       "18                   NaN  \n",
       "19                   NaN  \n",
       "20                   NaN  \n",
       "21                   NaN  \n",
       "22                   NaN  \n",
       "23                   NaN  \n",
       "24                   NaN  \n",
       "25                   NaN  \n",
       "26                   NaN  \n",
       "27                   NaN  \n",
       "28                   NaN  \n",
       "29                   NaN  \n",
       "0   dfiv_spaceiv_vanilla  \n",
       "1   dfiv_spaceiv_vanilla  \n",
       "2   dfiv_spaceiv_vanilla  \n",
       "3   dfiv_spaceiv_vanilla  \n",
       "4   dfiv_spaceiv_vanilla  \n",
       "5   dfiv_spaceiv_vanilla  \n",
       "6   dfiv_spaceiv_vanilla  \n",
       "7   dfiv_spaceiv_vanilla  \n",
       "8   dfiv_spaceiv_vanilla  \n",
       "9   dfiv_spaceiv_vanilla  \n",
       "10  dfiv_spaceiv_vanilla  \n",
       "11  dfiv_spaceiv_vanilla  \n",
       "12  dfiv_spaceiv_vanilla  \n",
       "13  dfiv_spaceiv_vanilla  \n",
       "14  dfiv_spaceiv_vanilla  \n",
       "15  dfiv_spaceiv_vanilla  \n",
       "16  dfiv_spaceiv_vanilla  \n",
       "17  dfiv_spaceiv_vanilla  \n",
       "18  dfiv_spaceiv_vanilla  \n",
       "19  dfiv_spaceiv_vanilla  \n",
       "20  dfiv_spaceiv_vanilla  \n",
       "21  dfiv_spaceiv_vanilla  \n",
       "22  dfiv_spaceiv_vanilla  \n",
       "23  dfiv_spaceiv_vanilla  \n",
       "24  dfiv_spaceiv_vanilla  \n",
       "25  dfiv_spaceiv_vanilla  \n",
       "26  dfiv_spaceiv_vanilla  \n",
       "27  dfiv_spaceiv_vanilla  \n",
       "28  dfiv_spaceiv_vanilla  \n",
       "29  dfiv_spaceiv_vanilla  "
      ]
     },
     "execution_count": 226,
     "metadata": {},
     "output_type": "execute_result"
    }
   ],
   "source": [
    "df_merge = pd.concat([df_sparseiv,df_dfiv], axis=0)\n",
    "df_merge"
   ]
  },
  {
   "cell_type": "code",
   "execution_count": 227,
   "metadata": {},
   "outputs": [
    {
     "data": {
      "text/plain": [
       "model\n",
       "DFIV           44.737113\n",
       "spaceIV    102926.521922\n",
       "Name: mse, dtype: float64"
      ]
     },
     "execution_count": 227,
     "metadata": {},
     "output_type": "execute_result"
    }
   ],
   "source": [
    "df_merge.groupby('model')['mse'].mean()"
   ]
  },
  {
   "cell_type": "code",
   "execution_count": 228,
   "metadata": {},
   "outputs": [
    {
     "data": {
      "text/plain": [
       "model\n",
       "DFIV           34.141865\n",
       "spaceIV    543289.796161\n",
       "Name: mse, dtype: float64"
      ]
     },
     "execution_count": 228,
     "metadata": {},
     "output_type": "execute_result"
    }
   ],
   "source": [
    "df_merge.groupby('model')['mse'].std()"
   ]
  },
  {
   "cell_type": "code",
   "execution_count": 229,
   "metadata": {},
   "outputs": [
    {
     "data": {
      "application/vnd.plotly.v1+json": {
       "config": {
        "plotlyServerURL": "https://plot.ly"
       },
       "data": [
        {
         "alignmentgroup": "True",
         "boxpoints": "all",
         "hovertemplate": "model=%{x}<br>Mean Squared Error=%{y}<extra></extra>",
         "legendgroup": "",
         "marker": {
          "color": "#636efa"
         },
         "name": "",
         "notched": false,
         "offsetgroup": "",
         "orientation": "v",
         "showlegend": false,
         "type": "box",
         "x": [
          "spaceIV",
          "spaceIV",
          "spaceIV",
          "spaceIV",
          "spaceIV",
          "spaceIV",
          "spaceIV",
          "spaceIV",
          "spaceIV",
          "spaceIV",
          "spaceIV",
          "spaceIV",
          "spaceIV",
          "spaceIV",
          "spaceIV",
          "spaceIV",
          "spaceIV",
          "spaceIV",
          "spaceIV",
          "spaceIV",
          "spaceIV",
          "spaceIV",
          "spaceIV",
          "spaceIV",
          "spaceIV",
          "spaceIV",
          "spaceIV",
          "spaceIV",
          "spaceIV",
          "spaceIV",
          "DFIV",
          "DFIV",
          "DFIV",
          "DFIV",
          "DFIV",
          "DFIV",
          "DFIV",
          "DFIV",
          "DFIV",
          "DFIV",
          "DFIV",
          "DFIV",
          "DFIV",
          "DFIV",
          "DFIV",
          "DFIV",
          "DFIV",
          "DFIV",
          "DFIV",
          "DFIV",
          "DFIV",
          "DFIV",
          "DFIV",
          "DFIV",
          "DFIV",
          "DFIV",
          "DFIV",
          "DFIV",
          "DFIV",
          "DFIV"
         ],
         "x0": " ",
         "xaxis": "x",
         "y": [
          3374.0175563903563,
          11.877180346385405,
          10.185000826130816,
          762.8785684675317,
          158.57773254954935,
          8.217240663884207,
          8523.236368902428,
          2978951.1851290804,
          15.147415700524956,
          6.095278131573749,
          359.6929655562331,
          9.07990657180912,
          5.050389524171671,
          28.42261302076658,
          455.17045706101135,
          37543.157062473,
          12.561674974135132,
          97.71177704124608,
          18.21273098164072,
          10896.505832503515,
          10.84877628290253,
          32.32739181709732,
          42271.34755146821,
          173.79240733528306,
          4009.212857081432,
          5.054424658427176,
          13.1798290990464,
          6.384522641261684,
          11.816627775815736,
          14.710391320085538,
          20.227628707885742,
          24.50923728942871,
          26.616430282592773,
          72.20962524414062,
          17.725553512573242,
          21.01995086669922,
          45.94812774658203,
          25.719207763671875,
          37.2471809387207,
          39.93243408203125,
          31.658845901489258,
          44.68536376953125,
          174.18434143066406,
          37.71092224121094,
          35.106082916259766,
          78.06916809082031,
          18.570770263671875,
          24.229387283325195,
          30.052289962768555,
          41.88518142700195,
          122.80911254882812,
          53.49449920654297,
          21.870868682861328,
          27.843093872070312,
          75.06156158447266,
          53.89563751220703,
          20.773099899291992,
          74.61547088623047,
          21.09841537475586,
          23.343891143798828
         ],
         "y0": " ",
         "yaxis": "y"
        }
       ],
       "layout": {
        "boxmode": "group",
        "font": {
         "size": 18
        },
        "height": 400,
        "legend": {
         "tracegroupgap": 0
        },
        "margin": {
         "t": 60
        },
        "template": {
         "data": {
          "bar": [
           {
            "error_x": {
             "color": "#2a3f5f"
            },
            "error_y": {
             "color": "#2a3f5f"
            },
            "marker": {
             "line": {
              "color": "#E5ECF6",
              "width": 0.5
             },
             "pattern": {
              "fillmode": "overlay",
              "size": 10,
              "solidity": 0.2
             }
            },
            "type": "bar"
           }
          ],
          "barpolar": [
           {
            "marker": {
             "line": {
              "color": "#E5ECF6",
              "width": 0.5
             },
             "pattern": {
              "fillmode": "overlay",
              "size": 10,
              "solidity": 0.2
             }
            },
            "type": "barpolar"
           }
          ],
          "carpet": [
           {
            "aaxis": {
             "endlinecolor": "#2a3f5f",
             "gridcolor": "white",
             "linecolor": "white",
             "minorgridcolor": "white",
             "startlinecolor": "#2a3f5f"
            },
            "baxis": {
             "endlinecolor": "#2a3f5f",
             "gridcolor": "white",
             "linecolor": "white",
             "minorgridcolor": "white",
             "startlinecolor": "#2a3f5f"
            },
            "type": "carpet"
           }
          ],
          "choropleth": [
           {
            "colorbar": {
             "outlinewidth": 0,
             "ticks": ""
            },
            "type": "choropleth"
           }
          ],
          "contour": [
           {
            "colorbar": {
             "outlinewidth": 0,
             "ticks": ""
            },
            "colorscale": [
             [
              0,
              "#0d0887"
             ],
             [
              0.1111111111111111,
              "#46039f"
             ],
             [
              0.2222222222222222,
              "#7201a8"
             ],
             [
              0.3333333333333333,
              "#9c179e"
             ],
             [
              0.4444444444444444,
              "#bd3786"
             ],
             [
              0.5555555555555556,
              "#d8576b"
             ],
             [
              0.6666666666666666,
              "#ed7953"
             ],
             [
              0.7777777777777778,
              "#fb9f3a"
             ],
             [
              0.8888888888888888,
              "#fdca26"
             ],
             [
              1,
              "#f0f921"
             ]
            ],
            "type": "contour"
           }
          ],
          "contourcarpet": [
           {
            "colorbar": {
             "outlinewidth": 0,
             "ticks": ""
            },
            "type": "contourcarpet"
           }
          ],
          "heatmap": [
           {
            "colorbar": {
             "outlinewidth": 0,
             "ticks": ""
            },
            "colorscale": [
             [
              0,
              "#0d0887"
             ],
             [
              0.1111111111111111,
              "#46039f"
             ],
             [
              0.2222222222222222,
              "#7201a8"
             ],
             [
              0.3333333333333333,
              "#9c179e"
             ],
             [
              0.4444444444444444,
              "#bd3786"
             ],
             [
              0.5555555555555556,
              "#d8576b"
             ],
             [
              0.6666666666666666,
              "#ed7953"
             ],
             [
              0.7777777777777778,
              "#fb9f3a"
             ],
             [
              0.8888888888888888,
              "#fdca26"
             ],
             [
              1,
              "#f0f921"
             ]
            ],
            "type": "heatmap"
           }
          ],
          "heatmapgl": [
           {
            "colorbar": {
             "outlinewidth": 0,
             "ticks": ""
            },
            "colorscale": [
             [
              0,
              "#0d0887"
             ],
             [
              0.1111111111111111,
              "#46039f"
             ],
             [
              0.2222222222222222,
              "#7201a8"
             ],
             [
              0.3333333333333333,
              "#9c179e"
             ],
             [
              0.4444444444444444,
              "#bd3786"
             ],
             [
              0.5555555555555556,
              "#d8576b"
             ],
             [
              0.6666666666666666,
              "#ed7953"
             ],
             [
              0.7777777777777778,
              "#fb9f3a"
             ],
             [
              0.8888888888888888,
              "#fdca26"
             ],
             [
              1,
              "#f0f921"
             ]
            ],
            "type": "heatmapgl"
           }
          ],
          "histogram": [
           {
            "marker": {
             "pattern": {
              "fillmode": "overlay",
              "size": 10,
              "solidity": 0.2
             }
            },
            "type": "histogram"
           }
          ],
          "histogram2d": [
           {
            "colorbar": {
             "outlinewidth": 0,
             "ticks": ""
            },
            "colorscale": [
             [
              0,
              "#0d0887"
             ],
             [
              0.1111111111111111,
              "#46039f"
             ],
             [
              0.2222222222222222,
              "#7201a8"
             ],
             [
              0.3333333333333333,
              "#9c179e"
             ],
             [
              0.4444444444444444,
              "#bd3786"
             ],
             [
              0.5555555555555556,
              "#d8576b"
             ],
             [
              0.6666666666666666,
              "#ed7953"
             ],
             [
              0.7777777777777778,
              "#fb9f3a"
             ],
             [
              0.8888888888888888,
              "#fdca26"
             ],
             [
              1,
              "#f0f921"
             ]
            ],
            "type": "histogram2d"
           }
          ],
          "histogram2dcontour": [
           {
            "colorbar": {
             "outlinewidth": 0,
             "ticks": ""
            },
            "colorscale": [
             [
              0,
              "#0d0887"
             ],
             [
              0.1111111111111111,
              "#46039f"
             ],
             [
              0.2222222222222222,
              "#7201a8"
             ],
             [
              0.3333333333333333,
              "#9c179e"
             ],
             [
              0.4444444444444444,
              "#bd3786"
             ],
             [
              0.5555555555555556,
              "#d8576b"
             ],
             [
              0.6666666666666666,
              "#ed7953"
             ],
             [
              0.7777777777777778,
              "#fb9f3a"
             ],
             [
              0.8888888888888888,
              "#fdca26"
             ],
             [
              1,
              "#f0f921"
             ]
            ],
            "type": "histogram2dcontour"
           }
          ],
          "mesh3d": [
           {
            "colorbar": {
             "outlinewidth": 0,
             "ticks": ""
            },
            "type": "mesh3d"
           }
          ],
          "parcoords": [
           {
            "line": {
             "colorbar": {
              "outlinewidth": 0,
              "ticks": ""
             }
            },
            "type": "parcoords"
           }
          ],
          "pie": [
           {
            "automargin": true,
            "type": "pie"
           }
          ],
          "scatter": [
           {
            "fillpattern": {
             "fillmode": "overlay",
             "size": 10,
             "solidity": 0.2
            },
            "type": "scatter"
           }
          ],
          "scatter3d": [
           {
            "line": {
             "colorbar": {
              "outlinewidth": 0,
              "ticks": ""
             }
            },
            "marker": {
             "colorbar": {
              "outlinewidth": 0,
              "ticks": ""
             }
            },
            "type": "scatter3d"
           }
          ],
          "scattercarpet": [
           {
            "marker": {
             "colorbar": {
              "outlinewidth": 0,
              "ticks": ""
             }
            },
            "type": "scattercarpet"
           }
          ],
          "scattergeo": [
           {
            "marker": {
             "colorbar": {
              "outlinewidth": 0,
              "ticks": ""
             }
            },
            "type": "scattergeo"
           }
          ],
          "scattergl": [
           {
            "marker": {
             "colorbar": {
              "outlinewidth": 0,
              "ticks": ""
             }
            },
            "type": "scattergl"
           }
          ],
          "scattermapbox": [
           {
            "marker": {
             "colorbar": {
              "outlinewidth": 0,
              "ticks": ""
             }
            },
            "type": "scattermapbox"
           }
          ],
          "scatterpolar": [
           {
            "marker": {
             "colorbar": {
              "outlinewidth": 0,
              "ticks": ""
             }
            },
            "type": "scatterpolar"
           }
          ],
          "scatterpolargl": [
           {
            "marker": {
             "colorbar": {
              "outlinewidth": 0,
              "ticks": ""
             }
            },
            "type": "scatterpolargl"
           }
          ],
          "scatterternary": [
           {
            "marker": {
             "colorbar": {
              "outlinewidth": 0,
              "ticks": ""
             }
            },
            "type": "scatterternary"
           }
          ],
          "surface": [
           {
            "colorbar": {
             "outlinewidth": 0,
             "ticks": ""
            },
            "colorscale": [
             [
              0,
              "#0d0887"
             ],
             [
              0.1111111111111111,
              "#46039f"
             ],
             [
              0.2222222222222222,
              "#7201a8"
             ],
             [
              0.3333333333333333,
              "#9c179e"
             ],
             [
              0.4444444444444444,
              "#bd3786"
             ],
             [
              0.5555555555555556,
              "#d8576b"
             ],
             [
              0.6666666666666666,
              "#ed7953"
             ],
             [
              0.7777777777777778,
              "#fb9f3a"
             ],
             [
              0.8888888888888888,
              "#fdca26"
             ],
             [
              1,
              "#f0f921"
             ]
            ],
            "type": "surface"
           }
          ],
          "table": [
           {
            "cells": {
             "fill": {
              "color": "#EBF0F8"
             },
             "line": {
              "color": "white"
             }
            },
            "header": {
             "fill": {
              "color": "#C8D4E3"
             },
             "line": {
              "color": "white"
             }
            },
            "type": "table"
           }
          ]
         },
         "layout": {
          "annotationdefaults": {
           "arrowcolor": "#2a3f5f",
           "arrowhead": 0,
           "arrowwidth": 1
          },
          "autotypenumbers": "strict",
          "coloraxis": {
           "colorbar": {
            "outlinewidth": 0,
            "ticks": ""
           }
          },
          "colorscale": {
           "diverging": [
            [
             0,
             "#8e0152"
            ],
            [
             0.1,
             "#c51b7d"
            ],
            [
             0.2,
             "#de77ae"
            ],
            [
             0.3,
             "#f1b6da"
            ],
            [
             0.4,
             "#fde0ef"
            ],
            [
             0.5,
             "#f7f7f7"
            ],
            [
             0.6,
             "#e6f5d0"
            ],
            [
             0.7,
             "#b8e186"
            ],
            [
             0.8,
             "#7fbc41"
            ],
            [
             0.9,
             "#4d9221"
            ],
            [
             1,
             "#276419"
            ]
           ],
           "sequential": [
            [
             0,
             "#0d0887"
            ],
            [
             0.1111111111111111,
             "#46039f"
            ],
            [
             0.2222222222222222,
             "#7201a8"
            ],
            [
             0.3333333333333333,
             "#9c179e"
            ],
            [
             0.4444444444444444,
             "#bd3786"
            ],
            [
             0.5555555555555556,
             "#d8576b"
            ],
            [
             0.6666666666666666,
             "#ed7953"
            ],
            [
             0.7777777777777778,
             "#fb9f3a"
            ],
            [
             0.8888888888888888,
             "#fdca26"
            ],
            [
             1,
             "#f0f921"
            ]
           ],
           "sequentialminus": [
            [
             0,
             "#0d0887"
            ],
            [
             0.1111111111111111,
             "#46039f"
            ],
            [
             0.2222222222222222,
             "#7201a8"
            ],
            [
             0.3333333333333333,
             "#9c179e"
            ],
            [
             0.4444444444444444,
             "#bd3786"
            ],
            [
             0.5555555555555556,
             "#d8576b"
            ],
            [
             0.6666666666666666,
             "#ed7953"
            ],
            [
             0.7777777777777778,
             "#fb9f3a"
            ],
            [
             0.8888888888888888,
             "#fdca26"
            ],
            [
             1,
             "#f0f921"
            ]
           ]
          },
          "colorway": [
           "#636efa",
           "#EF553B",
           "#00cc96",
           "#ab63fa",
           "#FFA15A",
           "#19d3f3",
           "#FF6692",
           "#B6E880",
           "#FF97FF",
           "#FECB52"
          ],
          "font": {
           "color": "#2a3f5f"
          },
          "geo": {
           "bgcolor": "white",
           "lakecolor": "white",
           "landcolor": "#E5ECF6",
           "showlakes": true,
           "showland": true,
           "subunitcolor": "white"
          },
          "hoverlabel": {
           "align": "left"
          },
          "hovermode": "closest",
          "mapbox": {
           "style": "light"
          },
          "paper_bgcolor": "white",
          "plot_bgcolor": "#E5ECF6",
          "polar": {
           "angularaxis": {
            "gridcolor": "white",
            "linecolor": "white",
            "ticks": ""
           },
           "bgcolor": "#E5ECF6",
           "radialaxis": {
            "gridcolor": "white",
            "linecolor": "white",
            "ticks": ""
           }
          },
          "scene": {
           "xaxis": {
            "backgroundcolor": "#E5ECF6",
            "gridcolor": "white",
            "gridwidth": 2,
            "linecolor": "white",
            "showbackground": true,
            "ticks": "",
            "zerolinecolor": "white"
           },
           "yaxis": {
            "backgroundcolor": "#E5ECF6",
            "gridcolor": "white",
            "gridwidth": 2,
            "linecolor": "white",
            "showbackground": true,
            "ticks": "",
            "zerolinecolor": "white"
           },
           "zaxis": {
            "backgroundcolor": "#E5ECF6",
            "gridcolor": "white",
            "gridwidth": 2,
            "linecolor": "white",
            "showbackground": true,
            "ticks": "",
            "zerolinecolor": "white"
           }
          },
          "shapedefaults": {
           "line": {
            "color": "#2a3f5f"
           }
          },
          "ternary": {
           "aaxis": {
            "gridcolor": "white",
            "linecolor": "white",
            "ticks": ""
           },
           "baxis": {
            "gridcolor": "white",
            "linecolor": "white",
            "ticks": ""
           },
           "bgcolor": "#E5ECF6",
           "caxis": {
            "gridcolor": "white",
            "linecolor": "white",
            "ticks": ""
           }
          },
          "title": {
           "x": 0.05
          },
          "xaxis": {
           "automargin": true,
           "gridcolor": "white",
           "linecolor": "white",
           "ticks": "",
           "title": {
            "standoff": 15
           },
           "zerolinecolor": "white",
           "zerolinewidth": 2
          },
          "yaxis": {
           "automargin": true,
           "gridcolor": "white",
           "linecolor": "white",
           "ticks": "",
           "title": {
            "standoff": 15
           },
           "zerolinecolor": "white",
           "zerolinewidth": 2
          }
         }
        },
        "width": 800,
        "xaxis": {
         "anchor": "y",
         "domain": [
          0,
          1
         ],
         "title": {
          "text": "model"
         }
        },
        "yaxis": {
         "anchor": "x",
         "domain": [
          0,
          1
         ],
         "title": {
          "text": "Mean Squared Error"
         },
         "type": "log"
        }
       }
      }
     },
     "metadata": {},
     "output_type": "display_data"
    }
   ],
   "source": [
    "fig = px.box(df_merge, x='model', y='mse', log_y=True,\n",
    "             points=\"all\",\n",
    "             height = 400, width = 800,\n",
    "             labels={\n",
    "                     \"mode\": \"Algorithm\",\n",
    "                     \"mse\": \"Mean Squared Error\",\n",
    "                 })\n",
    "fig.update_layout(\n",
    "    font=dict(\n",
    "        size=18\n",
    "    )\n",
    ")\n",
    "fig.show()\n",
    "fig.write_image(f\"{img_dir}/{case}.pdf\")"
   ]
  },
  {
   "attachments": {},
   "cell_type": "markdown",
   "metadata": {},
   "source": [
    "# Viz Demand Dataset"
   ]
  },
  {
   "cell_type": "code",
   "execution_count": null,
   "metadata": {},
   "outputs": [],
   "source": [
    "plt.rcParams[\"figure.figsize\"] = [7.50, 3.50]\n",
    "plt.rcParams[\"figure.autolayout\"] = True\n",
    "plt.rcParams.update({\n",
    "    \"figure.figsize\": [7.50, 3.50],\n",
    "    \"figure.autolayout\": True,\n",
    "    \"text.usetex\": True,\n",
    "    \"font.family\": \"sans-serif\",\n",
    "    'font.size': 16\n",
    "})\n",
    "\n",
    "data_size = 1000"
   ]
  },
  {
   "cell_type": "code",
   "execution_count": null,
   "metadata": {},
   "outputs": [],
   "source": [
    "def psi(t: np.ndarray) -> np.ndarray:\n",
    "    return 2 * ((t - 5) ** 4 / 600 + np.exp(-4 * (t - 5) ** 2) + t / 10 - 2)\n",
    "\n",
    "\n",
    "def f(p: np.ndarray, t: np.ndarray, s: np.ndarray) -> np.ndarray:\n",
    "    return 100 + (10 + p) * s * psi(t) - 2 * p\n",
    "\n",
    "t = np.linspace(0, 10, data_size)\n",
    "\n",
    "plt.plot(t, psi(t), color='blue')\n",
    "plt.title('Function $g(t) = 2((t-5)^4)/600 + \\exp(-4(t-5)^2) + t/10 - 2)$')\n",
    "plt.savefig(f'{img_dir}/time_function.pdf')\n",
    "plt.show()"
   ]
  },
  {
   "cell_type": "code",
   "execution_count": null,
   "metadata": {},
   "outputs": [],
   "source": [
    "min_t = 2.53379\n",
    "min_psi_t = psi(min_t)\n",
    "print(f'min psi(t): {min_psi_t}')\n",
    "z = 3\n",
    "min_p = 25 + min_psi_t * (z + 3) -3\n",
    "print(f'min p: {min_p}')\n",
    "\n",
    "max_t = 10\n",
    "max_psi_t = psi(max_t)\n",
    "print(f'max psi(t): {max_psi_t}')\n",
    "z = 3\n",
    "max_p = 25 + max_psi_t * (z + 3) + 3\n",
    "print(f'max p: {max_p}')"
   ]
  },
  {
   "cell_type": "code",
   "execution_count": null,
   "metadata": {},
   "outputs": [],
   "source": [
    "rng = np.random.default_rng(seed=0)\n",
    "rho = 0.5\n",
    "emotion = rng.choice(list(range(1, 8)), data_size)\n",
    "time = rng.uniform(0, 10, data_size)\n",
    "cost = rng.normal(0, 1.0, data_size)\n",
    "noise_price = rng.normal(0, 1.0, data_size)\n",
    "noise_demand = rho * noise_price + rng.normal(0, np.sqrt(1 - rho ** 2), data_size)\n",
    "price = 25 + (cost + 3) * psi(time) + noise_price\n",
    "structural: np.ndarray = f(price, time, emotion).astype(float)\n",
    "outcome: np.ndarray = (structural + noise_demand).astype(float)\n",
    "\n",
    "price_scale = (price - min_p) / (max_p - min_p)\n",
    "sigmas = [0.2, 1, 1.8]\n",
    "hetero_noise_demand = [rho * noise_price + rng.normal(0, price_scale * sigma, data_size) for sigma in sigmas]"
   ]
  },
  {
   "cell_type": "code",
   "execution_count": null,
   "metadata": {},
   "outputs": [],
   "source": [
    "# fig = px.scatter(x=price, y=noise_demand, width=800, height=400)\n",
    "# fig.update_traces(marker_size=10)\n",
    "# fig.show()"
   ]
  },
  {
   "cell_type": "code",
   "execution_count": null,
   "metadata": {},
   "outputs": [],
   "source": [
    "# from plotly.subplots import make_subplots\n",
    "# import plotly.graph_objects as go\n",
    "\n",
    "# fig = make_subplots(rows=2, cols=2, subplot_titles=(r'$\\text{Demand Variance} = 1-\\rho^2$ = 0.75$',\n",
    "#                                                     r'$\\text{Demand Variance} = r(p) * 0.2$', \n",
    "#                                                     r'$\\text{Demand Variance} = r(p)$', \n",
    "#                                                     r'$\\text{Demand Variance} = $r(p) * 1.8$'))\n",
    "\n",
    "# fig.add_trace(go.Scatter(x=price, y=noise_demand, mode=\"markers\", marker=dict(color='blue', size=10)), row=1, col=1)\n",
    "\n",
    "# fig.add_trace(go.Scatter(x=price, y=hetero_noise_demand[0], mode=\"markers\", marker=dict(color='blue', size=10)), row=1, col=2)\n",
    "\n",
    "# fig.add_trace(go.Scatter(x=price, y=hetero_noise_demand[1], mode=\"markers\", marker=dict(color='blue', size=10)), row=2, col=1)\n",
    "\n",
    "# fig.add_trace(go.Scatter(x=price, y=hetero_noise_demand[2], mode=\"markers\", marker=dict(color='blue', size=10)), row=2, col=2)\n",
    "\n",
    "# fig.update_layout(height=800, width=1200, title_text=\"\", showlegend=False)\n",
    "\n",
    "# fig.show()"
   ]
  },
  {
   "cell_type": "code",
   "execution_count": null,
   "metadata": {},
   "outputs": [],
   "source": [
    "fig, axs = plt.subplots(2, 2, figsize=(12, 7))\n",
    "\n",
    "axs[0, 0].scatter(price, noise_demand)\n",
    "axs[0, 0].set_title(r'Demand Variance = $1-\\rho ^2 = 0.75$')\n",
    "axs[0, 0].set_ylabel('The Noise of Demand')\n",
    "axs[0, 0].set_xlabel('Price')\n",
    "\n",
    "axs[0, 1].scatter(price, hetero_noise_demand[0])\n",
    "axs[0, 1].set_title(r'Demand Variance = $r(p) * 0.2$')\n",
    "axs[0, 1].set_ylabel('The Noise of Demand')\n",
    "axs[0, 1].set_xlabel('Price')\n",
    "\n",
    "axs[1, 0].scatter(price, hetero_noise_demand[1])\n",
    "axs[1, 0].set_title(r'Demand Variance = $r(p)$')\n",
    "axs[1, 0].set_ylabel('The Noise of Demand')\n",
    "axs[1, 0].set_xlabel('Price')\n",
    "\n",
    "axs[1, 1].scatter(price, hetero_noise_demand[2])\n",
    "axs[1, 1].set_title(r'Demand Variance = $r(p) * 1.8$')\n",
    "axs[1, 1].set_ylabel('The Noise of Demand')\n",
    "axs[1, 1].set_xlabel('Price')\n",
    "\n",
    "fig.savefig(f'{img_dir}/demand_noise.pdf')"
   ]
  },
  {
   "cell_type": "code",
   "execution_count": null,
   "metadata": {},
   "outputs": [],
   "source": []
  }
 ],
 "metadata": {
  "kernelspec": {
   "display_name": "Python 3 (ipykernel)",
   "language": "python",
   "name": "python3"
  },
  "language_info": {
   "codemirror_mode": {
    "name": "ipython",
    "version": 3
   },
   "file_extension": ".py",
   "mimetype": "text/x-python",
   "name": "python",
   "nbconvert_exporter": "python",
   "pygments_lexer": "ipython3",
   "version": "3.7.16"
  },
  "vscode": {
   "interpreter": {
    "hash": "13044e9446dc9e79fa0a14def05fedede05157fce78ba134978c65b5d53ab147"
   }
  }
 },
 "nbformat": 4,
 "nbformat_minor": 4
}
