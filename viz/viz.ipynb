{
 "cells": [
  {
   "cell_type": "code",
   "execution_count": 1,
   "metadata": {
    "tags": []
   },
   "outputs": [],
   "source": [
    "import plotly.express as px\n",
    "from glob import glob\n",
    "import os\n",
    "import pandas as pd\n",
    "import csv\n",
    "import numpy as np\n",
    "import seaborn as sns\n",
    "from collections import defaultdict\n",
    "import plotly.graph_objects as go\n",
    "from matplotlib import pyplot as plt"
   ]
  },
  {
   "cell_type": "code",
   "execution_count": 2,
   "metadata": {},
   "outputs": [],
   "source": [
    "img_dir = 'images'\n",
    "os.makedirs(img_dir, exist_ok=True)"
   ]
  },
  {
   "attachments": {},
   "cell_type": "markdown",
   "metadata": {},
   "source": [
    "# DFIV Results"
   ]
  },
  {
   "cell_type": "code",
   "execution_count": 40,
   "metadata": {
    "tags": []
   },
   "outputs": [],
   "source": [
    "DUMP_DIR = '../dumps'\n",
    "keys = ['Original Data', 'Simulated Data', 'Simulated Non-homoscedastic Data with sigma=0.2', 'Simulated Non-homoscedastic Data with sigma=1', 'Simulated Non-homoscedastic Data with sigma=1.8']\n",
    "dirs = ['dfiv', 'dfiv_original', 'dfiv_hetero0.2', 'dfiv_hetero1', 'dfiv_hetero1.8']\n",
    "oi = {key: dir for key, dir in zip(keys, dirs)}"
   ]
  },
  {
   "cell_type": "code",
   "execution_count": 41,
   "metadata": {
    "tags": []
   },
   "outputs": [],
   "source": [
    "def get_results(oi):\n",
    "    alldict = defaultdict(list)\n",
    "    for key, dir in oi.items():\n",
    "        m = 0\n",
    "        for subdir in glob(os.path.join(DUMP_DIR, dir, 'data_size*')):\n",
    "            params = [param.split(':') for param in subdir.split('/')[-1].split('-')]\n",
    "            \n",
    "            if os.path.exists(os.path.join(subdir, 'result.csv')):\n",
    "                with open (os.path.join(subdir, 'result.csv'), 'r') as f:\n",
    "                    reader = csv.reader(f)\n",
    "                    mse = [float(row[0]) for row in list(reader)]\n",
    "                    n = len(mse)\n",
    "                    m += n\n",
    "\n",
    "                params = {param[0]: [float(param[1])] * n for param in params}\n",
    "                subdict = {**params, 'mse': mse, 'case': [key] * n}\n",
    "                alldict = {key: subdict[key] + alldict[key] for key in subdict.keys()}\n",
    "    return pd.DataFrame(alldict)"
   ]
  },
  {
   "cell_type": "code",
   "execution_count": 42,
   "metadata": {
    "tags": []
   },
   "outputs": [
    {
     "data": {
      "text/html": [
       "<div>\n",
       "<style scoped>\n",
       "    .dataframe tbody tr th:only-of-type {\n",
       "        vertical-align: middle;\n",
       "    }\n",
       "\n",
       "    .dataframe tbody tr th {\n",
       "        vertical-align: top;\n",
       "    }\n",
       "\n",
       "    .dataframe thead th {\n",
       "        text-align: right;\n",
       "    }\n",
       "</style>\n",
       "<table border=\"1\" class=\"dataframe\">\n",
       "  <thead>\n",
       "    <tr style=\"text-align: right;\">\n",
       "      <th></th>\n",
       "      <th>data_size</th>\n",
       "      <th>rho</th>\n",
       "      <th>mse</th>\n",
       "      <th>case</th>\n",
       "    </tr>\n",
       "  </thead>\n",
       "  <tbody>\n",
       "    <tr>\n",
       "      <th>0</th>\n",
       "      <td>1000.0</td>\n",
       "      <td>0.5</td>\n",
       "      <td>830.545532</td>\n",
       "      <td>Simulated Non-homoscedastic Data with sigma=1.8</td>\n",
       "    </tr>\n",
       "    <tr>\n",
       "      <th>1</th>\n",
       "      <td>1000.0</td>\n",
       "      <td>0.5</td>\n",
       "      <td>1198.522339</td>\n",
       "      <td>Simulated Non-homoscedastic Data with sigma=1.8</td>\n",
       "    </tr>\n",
       "    <tr>\n",
       "      <th>2</th>\n",
       "      <td>1000.0</td>\n",
       "      <td>0.5</td>\n",
       "      <td>984.446899</td>\n",
       "      <td>Simulated Non-homoscedastic Data with sigma=1.8</td>\n",
       "    </tr>\n",
       "    <tr>\n",
       "      <th>3</th>\n",
       "      <td>1000.0</td>\n",
       "      <td>0.5</td>\n",
       "      <td>1185.703979</td>\n",
       "      <td>Simulated Non-homoscedastic Data with sigma=1.8</td>\n",
       "    </tr>\n",
       "    <tr>\n",
       "      <th>4</th>\n",
       "      <td>1000.0</td>\n",
       "      <td>0.5</td>\n",
       "      <td>1215.752075</td>\n",
       "      <td>Simulated Non-homoscedastic Data with sigma=1.8</td>\n",
       "    </tr>\n",
       "    <tr>\n",
       "      <th>...</th>\n",
       "      <td>...</td>\n",
       "      <td>...</td>\n",
       "      <td>...</td>\n",
       "      <td>...</td>\n",
       "    </tr>\n",
       "    <tr>\n",
       "      <th>195</th>\n",
       "      <td>1000.0</td>\n",
       "      <td>0.1</td>\n",
       "      <td>1114.532593</td>\n",
       "      <td>Original Data</td>\n",
       "    </tr>\n",
       "    <tr>\n",
       "      <th>196</th>\n",
       "      <td>1000.0</td>\n",
       "      <td>0.1</td>\n",
       "      <td>736.397644</td>\n",
       "      <td>Original Data</td>\n",
       "    </tr>\n",
       "    <tr>\n",
       "      <th>197</th>\n",
       "      <td>1000.0</td>\n",
       "      <td>0.1</td>\n",
       "      <td>1416.458740</td>\n",
       "      <td>Original Data</td>\n",
       "    </tr>\n",
       "    <tr>\n",
       "      <th>198</th>\n",
       "      <td>1000.0</td>\n",
       "      <td>0.1</td>\n",
       "      <td>991.781067</td>\n",
       "      <td>Original Data</td>\n",
       "    </tr>\n",
       "    <tr>\n",
       "      <th>199</th>\n",
       "      <td>1000.0</td>\n",
       "      <td>0.1</td>\n",
       "      <td>1476.277832</td>\n",
       "      <td>Original Data</td>\n",
       "    </tr>\n",
       "  </tbody>\n",
       "</table>\n",
       "<p>200 rows × 4 columns</p>\n",
       "</div>"
      ],
      "text/plain": [
       "     data_size  rho          mse  \\\n",
       "0       1000.0  0.5   830.545532   \n",
       "1       1000.0  0.5  1198.522339   \n",
       "2       1000.0  0.5   984.446899   \n",
       "3       1000.0  0.5  1185.703979   \n",
       "4       1000.0  0.5  1215.752075   \n",
       "..         ...  ...          ...   \n",
       "195     1000.0  0.1  1114.532593   \n",
       "196     1000.0  0.1   736.397644   \n",
       "197     1000.0  0.1  1416.458740   \n",
       "198     1000.0  0.1   991.781067   \n",
       "199     1000.0  0.1  1476.277832   \n",
       "\n",
       "                                                case  \n",
       "0    Simulated Non-homoscedastic Data with sigma=1.8  \n",
       "1    Simulated Non-homoscedastic Data with sigma=1.8  \n",
       "2    Simulated Non-homoscedastic Data with sigma=1.8  \n",
       "3    Simulated Non-homoscedastic Data with sigma=1.8  \n",
       "4    Simulated Non-homoscedastic Data with sigma=1.8  \n",
       "..                                               ...  \n",
       "195                                    Original Data  \n",
       "196                                    Original Data  \n",
       "197                                    Original Data  \n",
       "198                                    Original Data  \n",
       "199                                    Original Data  \n",
       "\n",
       "[200 rows x 4 columns]"
      ]
     },
     "execution_count": 42,
     "metadata": {},
     "output_type": "execute_result"
    }
   ],
   "source": [
    "df =  get_results(oi)\n",
    "df"
   ]
  },
  {
   "cell_type": "code",
   "execution_count": 43,
   "metadata": {},
   "outputs": [
    {
     "data": {
      "text/html": [
       "<div>\n",
       "<style scoped>\n",
       "    .dataframe tbody tr th:only-of-type {\n",
       "        vertical-align: middle;\n",
       "    }\n",
       "\n",
       "    .dataframe tbody tr th {\n",
       "        vertical-align: top;\n",
       "    }\n",
       "\n",
       "    .dataframe thead th {\n",
       "        text-align: right;\n",
       "    }\n",
       "</style>\n",
       "<table border=\"1\" class=\"dataframe\">\n",
       "  <thead>\n",
       "    <tr style=\"text-align: right;\">\n",
       "      <th></th>\n",
       "      <th>data_size</th>\n",
       "      <th>rho</th>\n",
       "      <th>case</th>\n",
       "      <th>mse</th>\n",
       "    </tr>\n",
       "  </thead>\n",
       "  <tbody>\n",
       "    <tr>\n",
       "      <th>0</th>\n",
       "      <td>1000.0</td>\n",
       "      <td>0.1</td>\n",
       "      <td>Original Data</td>\n",
       "      <td>1158.039597</td>\n",
       "    </tr>\n",
       "    <tr>\n",
       "      <th>1</th>\n",
       "      <td>1000.0</td>\n",
       "      <td>0.1</td>\n",
       "      <td>Simulated Data</td>\n",
       "      <td>1186.400485</td>\n",
       "    </tr>\n",
       "    <tr>\n",
       "      <th>2</th>\n",
       "      <td>1000.0</td>\n",
       "      <td>0.1</td>\n",
       "      <td>Simulated Non-homoscedastic Data with sigma=0.2</td>\n",
       "      <td>1162.693053</td>\n",
       "    </tr>\n",
       "    <tr>\n",
       "      <th>3</th>\n",
       "      <td>1000.0</td>\n",
       "      <td>0.1</td>\n",
       "      <td>Simulated Non-homoscedastic Data with sigma=1</td>\n",
       "      <td>1042.768924</td>\n",
       "    </tr>\n",
       "    <tr>\n",
       "      <th>4</th>\n",
       "      <td>1000.0</td>\n",
       "      <td>0.1</td>\n",
       "      <td>Simulated Non-homoscedastic Data with sigma=1.8</td>\n",
       "      <td>1393.387570</td>\n",
       "    </tr>\n",
       "    <tr>\n",
       "      <th>5</th>\n",
       "      <td>1000.0</td>\n",
       "      <td>0.5</td>\n",
       "      <td>Original Data</td>\n",
       "      <td>1112.588321</td>\n",
       "    </tr>\n",
       "    <tr>\n",
       "      <th>6</th>\n",
       "      <td>1000.0</td>\n",
       "      <td>0.5</td>\n",
       "      <td>Simulated Data</td>\n",
       "      <td>1110.746127</td>\n",
       "    </tr>\n",
       "    <tr>\n",
       "      <th>7</th>\n",
       "      <td>1000.0</td>\n",
       "      <td>0.5</td>\n",
       "      <td>Simulated Non-homoscedastic Data with sigma=0.2</td>\n",
       "      <td>1237.549808</td>\n",
       "    </tr>\n",
       "    <tr>\n",
       "      <th>8</th>\n",
       "      <td>1000.0</td>\n",
       "      <td>0.5</td>\n",
       "      <td>Simulated Non-homoscedastic Data with sigma=1</td>\n",
       "      <td>1116.412695</td>\n",
       "    </tr>\n",
       "    <tr>\n",
       "      <th>9</th>\n",
       "      <td>1000.0</td>\n",
       "      <td>0.5</td>\n",
       "      <td>Simulated Non-homoscedastic Data with sigma=1.8</td>\n",
       "      <td>1177.893301</td>\n",
       "    </tr>\n",
       "  </tbody>\n",
       "</table>\n",
       "</div>"
      ],
      "text/plain": [
       "   data_size  rho                                             case  \\\n",
       "0     1000.0  0.1                                    Original Data   \n",
       "1     1000.0  0.1                                   Simulated Data   \n",
       "2     1000.0  0.1  Simulated Non-homoscedastic Data with sigma=0.2   \n",
       "3     1000.0  0.1    Simulated Non-homoscedastic Data with sigma=1   \n",
       "4     1000.0  0.1  Simulated Non-homoscedastic Data with sigma=1.8   \n",
       "5     1000.0  0.5                                    Original Data   \n",
       "6     1000.0  0.5                                   Simulated Data   \n",
       "7     1000.0  0.5  Simulated Non-homoscedastic Data with sigma=0.2   \n",
       "8     1000.0  0.5    Simulated Non-homoscedastic Data with sigma=1   \n",
       "9     1000.0  0.5  Simulated Non-homoscedastic Data with sigma=1.8   \n",
       "\n",
       "           mse  \n",
       "0  1158.039597  \n",
       "1  1186.400485  \n",
       "2  1162.693053  \n",
       "3  1042.768924  \n",
       "4  1393.387570  \n",
       "5  1112.588321  \n",
       "6  1110.746127  \n",
       "7  1237.549808  \n",
       "8  1116.412695  \n",
       "9  1177.893301  "
      ]
     },
     "execution_count": 43,
     "metadata": {},
     "output_type": "execute_result"
    }
   ],
   "source": [
    "df_avg = df.groupby(['data_size', 'rho', 'case']).mean()\n",
    "df_avg = df_avg.reset_index()\n",
    "df_avg"
   ]
  },
  {
   "cell_type": "code",
   "execution_count": 63,
   "metadata": {},
   "outputs": [
    {
     "data": {
      "text/html": [
       "<div>\n",
       "<style scoped>\n",
       "    .dataframe tbody tr th:only-of-type {\n",
       "        vertical-align: middle;\n",
       "    }\n",
       "\n",
       "    .dataframe tbody tr th {\n",
       "        vertical-align: top;\n",
       "    }\n",
       "\n",
       "    .dataframe thead th {\n",
       "        text-align: right;\n",
       "    }\n",
       "</style>\n",
       "<table border=\"1\" class=\"dataframe\">\n",
       "  <thead>\n",
       "    <tr style=\"text-align: right;\">\n",
       "      <th></th>\n",
       "      <th>data_size</th>\n",
       "      <th>rho</th>\n",
       "      <th>case</th>\n",
       "      <th>mse</th>\n",
       "    </tr>\n",
       "  </thead>\n",
       "  <tbody>\n",
       "    <tr>\n",
       "      <th>0</th>\n",
       "      <td>1000.0</td>\n",
       "      <td>0.1</td>\n",
       "      <td>Original Data</td>\n",
       "      <td>245.494102</td>\n",
       "    </tr>\n",
       "    <tr>\n",
       "      <th>1</th>\n",
       "      <td>1000.0</td>\n",
       "      <td>0.1</td>\n",
       "      <td>Simulated Data</td>\n",
       "      <td>331.210475</td>\n",
       "    </tr>\n",
       "    <tr>\n",
       "      <th>2</th>\n",
       "      <td>1000.0</td>\n",
       "      <td>0.1</td>\n",
       "      <td>Simulated Non-homoscedastic Data with sigma=0.2</td>\n",
       "      <td>293.094268</td>\n",
       "    </tr>\n",
       "    <tr>\n",
       "      <th>3</th>\n",
       "      <td>1000.0</td>\n",
       "      <td>0.1</td>\n",
       "      <td>Simulated Non-homoscedastic Data with sigma=1</td>\n",
       "      <td>291.120245</td>\n",
       "    </tr>\n",
       "    <tr>\n",
       "      <th>4</th>\n",
       "      <td>1000.0</td>\n",
       "      <td>0.1</td>\n",
       "      <td>Simulated Non-homoscedastic Data with sigma=1.8</td>\n",
       "      <td>838.432710</td>\n",
       "    </tr>\n",
       "    <tr>\n",
       "      <th>5</th>\n",
       "      <td>1000.0</td>\n",
       "      <td>0.5</td>\n",
       "      <td>Original Data</td>\n",
       "      <td>273.087264</td>\n",
       "    </tr>\n",
       "    <tr>\n",
       "      <th>6</th>\n",
       "      <td>1000.0</td>\n",
       "      <td>0.5</td>\n",
       "      <td>Simulated Data</td>\n",
       "      <td>419.245661</td>\n",
       "    </tr>\n",
       "    <tr>\n",
       "      <th>7</th>\n",
       "      <td>1000.0</td>\n",
       "      <td>0.5</td>\n",
       "      <td>Simulated Non-homoscedastic Data with sigma=0.2</td>\n",
       "      <td>477.020419</td>\n",
       "    </tr>\n",
       "    <tr>\n",
       "      <th>8</th>\n",
       "      <td>1000.0</td>\n",
       "      <td>0.5</td>\n",
       "      <td>Simulated Non-homoscedastic Data with sigma=1</td>\n",
       "      <td>345.920893</td>\n",
       "    </tr>\n",
       "    <tr>\n",
       "      <th>9</th>\n",
       "      <td>1000.0</td>\n",
       "      <td>0.5</td>\n",
       "      <td>Simulated Non-homoscedastic Data with sigma=1.8</td>\n",
       "      <td>363.136261</td>\n",
       "    </tr>\n",
       "  </tbody>\n",
       "</table>\n",
       "</div>"
      ],
      "text/plain": [
       "   data_size  rho                                             case         mse\n",
       "0     1000.0  0.1                                    Original Data  245.494102\n",
       "1     1000.0  0.1                                   Simulated Data  331.210475\n",
       "2     1000.0  0.1  Simulated Non-homoscedastic Data with sigma=0.2  293.094268\n",
       "3     1000.0  0.1    Simulated Non-homoscedastic Data with sigma=1  291.120245\n",
       "4     1000.0  0.1  Simulated Non-homoscedastic Data with sigma=1.8  838.432710\n",
       "5     1000.0  0.5                                    Original Data  273.087264\n",
       "6     1000.0  0.5                                   Simulated Data  419.245661\n",
       "7     1000.0  0.5  Simulated Non-homoscedastic Data with sigma=0.2  477.020419\n",
       "8     1000.0  0.5    Simulated Non-homoscedastic Data with sigma=1  345.920893\n",
       "9     1000.0  0.5  Simulated Non-homoscedastic Data with sigma=1.8  363.136261"
      ]
     },
     "execution_count": 63,
     "metadata": {},
     "output_type": "execute_result"
    }
   ],
   "source": [
    "df_std = df.groupby(['data_size', 'rho', 'case'])['mse'].std()\n",
    "df_std = df_std.reset_index()\n",
    "df_std"
   ]
  },
  {
   "cell_type": "code",
   "execution_count": 64,
   "metadata": {},
   "outputs": [],
   "source": [
    "color_discrete_map = {\n",
    "    'dfiv': '#7149C6',\n",
    "    'dfiv_original': '#0F6292',\n",
    "    'dfiv_hetero1': '#FF8400',\n",
    "    'dfiv_hetero1.5': '#379237',\n",
    "    'dfiv_hetero0.5': '#FF6464'\n",
    "}"
   ]
  },
  {
   "cell_type": "code",
   "execution_count": 65,
   "metadata": {
    "tags": []
   },
   "outputs": [
    {
     "data": {
      "application/vnd.plotly.v1+json": {
       "config": {
        "plotlyServerURL": "https://plot.ly"
       },
       "data": [
        {
         "alignmentgroup": "True",
         "boxpoints": "all",
         "hovertemplate": "Case=Original Data<br>rho=0.1<br>Data Size=%{x}<br>Mean Squared Error=%{y}<extra></extra>",
         "legendgroup": "Original Data",
         "marker": {
          "color": "#19d3f3"
         },
         "name": "Original Data",
         "notched": false,
         "offsetgroup": "Original Data",
         "orientation": "v",
         "showlegend": true,
         "type": "box",
         "x": [
          1000,
          1000,
          1000,
          1000,
          1000,
          1000,
          1000,
          1000,
          1000,
          1000,
          1000,
          1000,
          1000,
          1000,
          1000,
          1000,
          1000,
          1000,
          1000,
          1000
         ],
         "x0": " ",
         "xaxis": "x",
         "y": [
          781.296630859375,
          1132.429931640625,
          924.000732421875,
          1233.5543212890625,
          1069.0579833984375,
          1265.074951171875,
          1070.8470458984375,
          1111.7479248046875,
          1312.5245361328125,
          1282.5279541015625,
          1726.618408203125,
          840.5546264648438,
          1039.051025390625,
          1251.9742431640625,
          1384.083740234375,
          1114.5325927734375,
          736.3976440429688,
          1416.458740234375,
          991.7810668945312,
          1476.27783203125
         ],
         "y0": " ",
         "yaxis": "y"
        },
        {
         "alignmentgroup": "True",
         "boxpoints": "all",
         "hovertemplate": "Case=Original Data<br>rho=0.5<br>Data Size=%{x}<br>Mean Squared Error=%{y}<extra></extra>",
         "legendgroup": "Original Data",
         "marker": {
          "color": "#19d3f3"
         },
         "name": "Original Data",
         "notched": false,
         "offsetgroup": "Original Data",
         "orientation": "v",
         "showlegend": false,
         "type": "box",
         "x": [
          1000,
          1000,
          1000,
          1000,
          1000,
          1000,
          1000,
          1000,
          1000,
          1000,
          1000,
          1000,
          1000,
          1000,
          1000,
          1000,
          1000,
          1000,
          1000,
          1000
         ],
         "x0": " ",
         "xaxis": "x2",
         "y": [
          1197.751953125,
          1034.9703369140625,
          859.3936767578125,
          1269.927978515625,
          1264.869140625,
          1019.9269409179688,
          846.8571166992188,
          1405.641357421875,
          1810.8807373046875,
          1544.107177734375,
          1019.6677856445312,
          881.9354248046875,
          1393.5396728515625,
          887.3497924804688,
          951.9349365234375,
          971.0331420898438,
          813.835205078125,
          925.8812255859375,
          865.64794921875,
          1286.6148681640625
         ],
         "y0": " ",
         "yaxis": "y2"
        },
        {
         "alignmentgroup": "True",
         "boxpoints": "all",
         "hovertemplate": "Case=Simulated Data<br>rho=0.1<br>Data Size=%{x}<br>Mean Squared Error=%{y}<extra></extra>",
         "legendgroup": "Simulated Data",
         "marker": {
          "color": "#FF6692"
         },
         "name": "Simulated Data",
         "notched": false,
         "offsetgroup": "Simulated Data",
         "orientation": "v",
         "showlegend": true,
         "type": "box",
         "x": [
          1000,
          1000,
          1000,
          1000,
          1000,
          1000,
          1000,
          1000,
          1000,
          1000,
          1000,
          1000,
          1000,
          1000,
          1000,
          1000,
          1000,
          1000,
          1000,
          1000
         ],
         "x0": " ",
         "xaxis": "x",
         "y": [
          832.2249145507812,
          1195.8538818359375,
          1650.7669677734375,
          1257.7626953125,
          893.8366088867188,
          1030.737060546875,
          1258.8758544921875,
          879.6323852539062,
          1998.4498291015625,
          1196.238037109375,
          1342.6387939453125,
          1069.8216552734375,
          1790.93603515625,
          754.5374145507812,
          881.7547607421875,
          1309.2484130859375,
          1375.2720947265625,
          1149.8792724609375,
          966.852294921875,
          892.6907348632812
         ],
         "y0": " ",
         "yaxis": "y"
        },
        {
         "alignmentgroup": "True",
         "boxpoints": "all",
         "hovertemplate": "Case=Simulated Data<br>rho=0.5<br>Data Size=%{x}<br>Mean Squared Error=%{y}<extra></extra>",
         "legendgroup": "Simulated Data",
         "marker": {
          "color": "#FF6692"
         },
         "name": "Simulated Data",
         "notched": false,
         "offsetgroup": "Simulated Data",
         "orientation": "v",
         "showlegend": false,
         "type": "box",
         "x": [
          1000,
          1000,
          1000,
          1000,
          1000,
          1000,
          1000,
          1000,
          1000,
          1000,
          1000,
          1000,
          1000,
          1000,
          1000,
          1000,
          1000,
          1000,
          1000,
          1000
         ],
         "x0": " ",
         "xaxis": "x2",
         "y": [
          952.58984375,
          907.8844604492188,
          1802.7069091796875,
          908.4170532226562,
          878.3408813476562,
          1181.5867919921875,
          633.394775390625,
          886.7301635742188,
          779.595703125,
          762.0702514648438,
          1200.3319091796875,
          1647.3673095703125,
          2338.633056640625,
          1443.8787841796875,
          726.6272583007812,
          957.5123901367188,
          911.1437377929688,
          1296.1761474609375,
          1020.9000244140625,
          979.0350952148438
         ],
         "y0": " ",
         "yaxis": "y2"
        },
        {
         "alignmentgroup": "True",
         "boxpoints": "all",
         "hovertemplate": "Case=Simulated Non-homoscedastic Data with sigma=0.2<br>rho=0.1<br>Data Size=%{x}<br>Mean Squared Error=%{y}<extra></extra>",
         "legendgroup": "Simulated Non-homoscedastic Data with sigma=0.2",
         "marker": {
          "color": "#B6E880"
         },
         "name": "Simulated Non-homoscedastic Data with sigma=0.2",
         "notched": false,
         "offsetgroup": "Simulated Non-homoscedastic Data with sigma=0.2",
         "orientation": "v",
         "showlegend": true,
         "type": "box",
         "x": [
          1000,
          1000,
          1000,
          1000,
          1000,
          1000,
          1000,
          1000,
          1000,
          1000,
          1000,
          1000,
          1000,
          1000,
          1000,
          1000,
          1000,
          1000,
          1000,
          1000
         ],
         "x0": " ",
         "xaxis": "x",
         "y": [
          1260.6817626953125,
          1155.1962890625,
          1401.2432861328125,
          1014.94384765625,
          1130.922119140625,
          1032.376953125,
          1111.345703125,
          983.4934692382812,
          1459.9998779296875,
          803.2197265625,
          1556.6038818359375,
          1655.3846435546875,
          1126.35546875,
          893.0490112304688,
          432.1779479980469,
          1458.4295654296875,
          1133.4466552734375,
          1091.07763671875,
          1549.2484130859375,
          1004.664794921875
         ],
         "y0": " ",
         "yaxis": "y"
        },
        {
         "alignmentgroup": "True",
         "boxpoints": "all",
         "hovertemplate": "Case=Simulated Non-homoscedastic Data with sigma=0.2<br>rho=0.5<br>Data Size=%{x}<br>Mean Squared Error=%{y}<extra></extra>",
         "legendgroup": "Simulated Non-homoscedastic Data with sigma=0.2",
         "marker": {
          "color": "#B6E880"
         },
         "name": "Simulated Non-homoscedastic Data with sigma=0.2",
         "notched": false,
         "offsetgroup": "Simulated Non-homoscedastic Data with sigma=0.2",
         "orientation": "v",
         "showlegend": false,
         "type": "box",
         "x": [
          1000,
          1000,
          1000,
          1000,
          1000,
          1000,
          1000,
          1000,
          1000,
          1000,
          1000,
          1000,
          1000,
          1000,
          1000,
          1000,
          1000,
          1000,
          1000,
          1000
         ],
         "x0": " ",
         "xaxis": "x2",
         "y": [
          927.43408203125,
          815.45751953125,
          1076.244140625,
          1122.2242431640625,
          2527.82470703125,
          1487.6656494140625,
          1010.493408203125,
          1155.983154296875,
          1501.2764892578125,
          936.0084838867188,
          1232.0174560546875,
          1243.612060546875,
          2099.092041015625,
          611.12890625,
          1043.46337890625,
          1787.7584228515625,
          860.4091796875,
          1073.55224609375,
          677.142578125,
          1562.2080078125
         ],
         "y0": " ",
         "yaxis": "y2"
        },
        {
         "alignmentgroup": "True",
         "boxpoints": "all",
         "hovertemplate": "Case=Simulated Non-homoscedastic Data with sigma=1<br>rho=0.1<br>Data Size=%{x}<br>Mean Squared Error=%{y}<extra></extra>",
         "legendgroup": "Simulated Non-homoscedastic Data with sigma=1",
         "marker": {
          "color": "#FF97FF"
         },
         "name": "Simulated Non-homoscedastic Data with sigma=1",
         "notched": false,
         "offsetgroup": "Simulated Non-homoscedastic Data with sigma=1",
         "orientation": "v",
         "showlegend": true,
         "type": "box",
         "x": [
          1000,
          1000,
          1000,
          1000,
          1000,
          1000,
          1000,
          1000,
          1000,
          1000,
          1000,
          1000,
          1000,
          1000,
          1000,
          1000,
          1000,
          1000,
          1000,
          1000
         ],
         "x0": " ",
         "xaxis": "x",
         "y": [
          1168.153564453125,
          648.35302734375,
          1511.0806884765625,
          833.2666015625,
          1054.9149169921875,
          849.5296630859375,
          972.148193359375,
          1252.4541015625,
          1479.523193359375,
          996.2023315429688,
          1344.1805419921875,
          1372.317626953125,
          1542.533447265625,
          578.8760986328125,
          1048.3857421875,
          953.9915771484375,
          826.3591918945312,
          891.6988525390625,
          744.4949340820312,
          786.9141845703125
         ],
         "y0": " ",
         "yaxis": "y"
        },
        {
         "alignmentgroup": "True",
         "boxpoints": "all",
         "hovertemplate": "Case=Simulated Non-homoscedastic Data with sigma=1<br>rho=0.5<br>Data Size=%{x}<br>Mean Squared Error=%{y}<extra></extra>",
         "legendgroup": "Simulated Non-homoscedastic Data with sigma=1",
         "marker": {
          "color": "#FF97FF"
         },
         "name": "Simulated Non-homoscedastic Data with sigma=1",
         "notched": false,
         "offsetgroup": "Simulated Non-homoscedastic Data with sigma=1",
         "orientation": "v",
         "showlegend": false,
         "type": "box",
         "x": [
          1000,
          1000,
          1000,
          1000,
          1000,
          1000,
          1000,
          1000,
          1000,
          1000,
          1000,
          1000,
          1000,
          1000,
          1000,
          1000,
          1000,
          1000,
          1000,
          1000
         ],
         "x0": " ",
         "xaxis": "x2",
         "y": [
          758.7406005859375,
          790.1347045898438,
          765.350341796875,
          1251.701171875,
          1144.399658203125,
          1268.369873046875,
          900.7025146484375,
          1661.0078125,
          1896.2232666015625,
          1207.3201904296875,
          841.627685546875,
          693.1135864257812,
          1186.71484375,
          895.2742919921875,
          772.8506469726562,
          1761.727294921875,
          1179.9730224609375,
          1297.5743408203125,
          1124.372314453125,
          931.0757446289062
         ],
         "y0": " ",
         "yaxis": "y2"
        },
        {
         "alignmentgroup": "True",
         "boxpoints": "all",
         "hovertemplate": "Case=Simulated Non-homoscedastic Data with sigma=1.8<br>rho=0.1<br>Data Size=%{x}<br>Mean Squared Error=%{y}<extra></extra>",
         "legendgroup": "Simulated Non-homoscedastic Data with sigma=1.8",
         "marker": {
          "color": "#FECB52"
         },
         "name": "Simulated Non-homoscedastic Data with sigma=1.8",
         "notched": false,
         "offsetgroup": "Simulated Non-homoscedastic Data with sigma=1.8",
         "orientation": "v",
         "showlegend": true,
         "type": "box",
         "x": [
          1000,
          1000,
          1000,
          1000,
          1000,
          1000,
          1000,
          1000,
          1000,
          1000,
          1000,
          1000,
          1000,
          1000,
          1000,
          1000,
          1000,
          1000,
          1000,
          1000
         ],
         "x0": " ",
         "xaxis": "x",
         "y": [
          1511.32568359375,
          878.600830078125,
          1573.217529296875,
          1211.4326171875,
          1020.2654418945312,
          984.56884765625,
          1357.318603515625,
          1061.6220703125,
          1216.54833984375,
          4658.1640625,
          1293.7152099609375,
          1742.0826416015625,
          1703.7789306640625,
          680.8610229492188,
          827.6932373046875,
          1921.0899658203125,
          924.9539184570312,
          1341.1331787109375,
          1033.5670166015625,
          925.812255859375
         ],
         "y0": " ",
         "yaxis": "y"
        },
        {
         "alignmentgroup": "True",
         "boxpoints": "all",
         "hovertemplate": "Case=Simulated Non-homoscedastic Data with sigma=1.8<br>rho=0.5<br>Data Size=%{x}<br>Mean Squared Error=%{y}<extra></extra>",
         "legendgroup": "Simulated Non-homoscedastic Data with sigma=1.8",
         "marker": {
          "color": "#FECB52"
         },
         "name": "Simulated Non-homoscedastic Data with sigma=1.8",
         "notched": false,
         "offsetgroup": "Simulated Non-homoscedastic Data with sigma=1.8",
         "orientation": "v",
         "showlegend": false,
         "type": "box",
         "x": [
          1000,
          1000,
          1000,
          1000,
          1000,
          1000,
          1000,
          1000,
          1000,
          1000,
          1000,
          1000,
          1000,
          1000,
          1000,
          1000,
          1000,
          1000,
          1000,
          1000
         ],
         "x0": " ",
         "xaxis": "x2",
         "y": [
          830.5455322265625,
          1198.5223388671875,
          984.4468994140625,
          1185.7039794921875,
          1215.7520751953125,
          668.7992553710938,
          1303.1962890625,
          1066.0423583984375,
          1942.416748046875,
          1634.3662109375,
          870.5307006835938,
          1206.068115234375,
          1613.85107421875,
          667.6001586914062,
          1053.489013671875,
          1625.3914794921875,
          1643.8973388671875,
          935.4713134765625,
          701.6326904296875,
          1210.1424560546875
         ],
         "y0": " ",
         "yaxis": "y2"
        }
       ],
       "layout": {
        "annotations": [
         {
          "font": {},
          "showarrow": false,
          "text": "rho=0.1",
          "x": 0.245,
          "xanchor": "center",
          "xref": "paper",
          "y": 1,
          "yanchor": "bottom",
          "yref": "paper"
         },
         {
          "font": {},
          "showarrow": false,
          "text": "rho=0.5",
          "x": 0.755,
          "xanchor": "center",
          "xref": "paper",
          "y": 1,
          "yanchor": "bottom",
          "yref": "paper"
         }
        ],
        "boxmode": "group",
        "font": {
         "size": 18
        },
        "height": 400,
        "legend": {
         "title": {
          "text": "Case"
         },
         "tracegroupgap": 0
        },
        "margin": {
         "t": 60
        },
        "template": {
         "data": {
          "bar": [
           {
            "error_x": {
             "color": "#2a3f5f"
            },
            "error_y": {
             "color": "#2a3f5f"
            },
            "marker": {
             "line": {
              "color": "#E5ECF6",
              "width": 0.5
             },
             "pattern": {
              "fillmode": "overlay",
              "size": 10,
              "solidity": 0.2
             }
            },
            "type": "bar"
           }
          ],
          "barpolar": [
           {
            "marker": {
             "line": {
              "color": "#E5ECF6",
              "width": 0.5
             },
             "pattern": {
              "fillmode": "overlay",
              "size": 10,
              "solidity": 0.2
             }
            },
            "type": "barpolar"
           }
          ],
          "carpet": [
           {
            "aaxis": {
             "endlinecolor": "#2a3f5f",
             "gridcolor": "white",
             "linecolor": "white",
             "minorgridcolor": "white",
             "startlinecolor": "#2a3f5f"
            },
            "baxis": {
             "endlinecolor": "#2a3f5f",
             "gridcolor": "white",
             "linecolor": "white",
             "minorgridcolor": "white",
             "startlinecolor": "#2a3f5f"
            },
            "type": "carpet"
           }
          ],
          "choropleth": [
           {
            "colorbar": {
             "outlinewidth": 0,
             "ticks": ""
            },
            "type": "choropleth"
           }
          ],
          "contour": [
           {
            "colorbar": {
             "outlinewidth": 0,
             "ticks": ""
            },
            "colorscale": [
             [
              0,
              "#0d0887"
             ],
             [
              0.1111111111111111,
              "#46039f"
             ],
             [
              0.2222222222222222,
              "#7201a8"
             ],
             [
              0.3333333333333333,
              "#9c179e"
             ],
             [
              0.4444444444444444,
              "#bd3786"
             ],
             [
              0.5555555555555556,
              "#d8576b"
             ],
             [
              0.6666666666666666,
              "#ed7953"
             ],
             [
              0.7777777777777778,
              "#fb9f3a"
             ],
             [
              0.8888888888888888,
              "#fdca26"
             ],
             [
              1,
              "#f0f921"
             ]
            ],
            "type": "contour"
           }
          ],
          "contourcarpet": [
           {
            "colorbar": {
             "outlinewidth": 0,
             "ticks": ""
            },
            "type": "contourcarpet"
           }
          ],
          "heatmap": [
           {
            "colorbar": {
             "outlinewidth": 0,
             "ticks": ""
            },
            "colorscale": [
             [
              0,
              "#0d0887"
             ],
             [
              0.1111111111111111,
              "#46039f"
             ],
             [
              0.2222222222222222,
              "#7201a8"
             ],
             [
              0.3333333333333333,
              "#9c179e"
             ],
             [
              0.4444444444444444,
              "#bd3786"
             ],
             [
              0.5555555555555556,
              "#d8576b"
             ],
             [
              0.6666666666666666,
              "#ed7953"
             ],
             [
              0.7777777777777778,
              "#fb9f3a"
             ],
             [
              0.8888888888888888,
              "#fdca26"
             ],
             [
              1,
              "#f0f921"
             ]
            ],
            "type": "heatmap"
           }
          ],
          "heatmapgl": [
           {
            "colorbar": {
             "outlinewidth": 0,
             "ticks": ""
            },
            "colorscale": [
             [
              0,
              "#0d0887"
             ],
             [
              0.1111111111111111,
              "#46039f"
             ],
             [
              0.2222222222222222,
              "#7201a8"
             ],
             [
              0.3333333333333333,
              "#9c179e"
             ],
             [
              0.4444444444444444,
              "#bd3786"
             ],
             [
              0.5555555555555556,
              "#d8576b"
             ],
             [
              0.6666666666666666,
              "#ed7953"
             ],
             [
              0.7777777777777778,
              "#fb9f3a"
             ],
             [
              0.8888888888888888,
              "#fdca26"
             ],
             [
              1,
              "#f0f921"
             ]
            ],
            "type": "heatmapgl"
           }
          ],
          "histogram": [
           {
            "marker": {
             "pattern": {
              "fillmode": "overlay",
              "size": 10,
              "solidity": 0.2
             }
            },
            "type": "histogram"
           }
          ],
          "histogram2d": [
           {
            "colorbar": {
             "outlinewidth": 0,
             "ticks": ""
            },
            "colorscale": [
             [
              0,
              "#0d0887"
             ],
             [
              0.1111111111111111,
              "#46039f"
             ],
             [
              0.2222222222222222,
              "#7201a8"
             ],
             [
              0.3333333333333333,
              "#9c179e"
             ],
             [
              0.4444444444444444,
              "#bd3786"
             ],
             [
              0.5555555555555556,
              "#d8576b"
             ],
             [
              0.6666666666666666,
              "#ed7953"
             ],
             [
              0.7777777777777778,
              "#fb9f3a"
             ],
             [
              0.8888888888888888,
              "#fdca26"
             ],
             [
              1,
              "#f0f921"
             ]
            ],
            "type": "histogram2d"
           }
          ],
          "histogram2dcontour": [
           {
            "colorbar": {
             "outlinewidth": 0,
             "ticks": ""
            },
            "colorscale": [
             [
              0,
              "#0d0887"
             ],
             [
              0.1111111111111111,
              "#46039f"
             ],
             [
              0.2222222222222222,
              "#7201a8"
             ],
             [
              0.3333333333333333,
              "#9c179e"
             ],
             [
              0.4444444444444444,
              "#bd3786"
             ],
             [
              0.5555555555555556,
              "#d8576b"
             ],
             [
              0.6666666666666666,
              "#ed7953"
             ],
             [
              0.7777777777777778,
              "#fb9f3a"
             ],
             [
              0.8888888888888888,
              "#fdca26"
             ],
             [
              1,
              "#f0f921"
             ]
            ],
            "type": "histogram2dcontour"
           }
          ],
          "mesh3d": [
           {
            "colorbar": {
             "outlinewidth": 0,
             "ticks": ""
            },
            "type": "mesh3d"
           }
          ],
          "parcoords": [
           {
            "line": {
             "colorbar": {
              "outlinewidth": 0,
              "ticks": ""
             }
            },
            "type": "parcoords"
           }
          ],
          "pie": [
           {
            "automargin": true,
            "type": "pie"
           }
          ],
          "scatter": [
           {
            "fillpattern": {
             "fillmode": "overlay",
             "size": 10,
             "solidity": 0.2
            },
            "type": "scatter"
           }
          ],
          "scatter3d": [
           {
            "line": {
             "colorbar": {
              "outlinewidth": 0,
              "ticks": ""
             }
            },
            "marker": {
             "colorbar": {
              "outlinewidth": 0,
              "ticks": ""
             }
            },
            "type": "scatter3d"
           }
          ],
          "scattercarpet": [
           {
            "marker": {
             "colorbar": {
              "outlinewidth": 0,
              "ticks": ""
             }
            },
            "type": "scattercarpet"
           }
          ],
          "scattergeo": [
           {
            "marker": {
             "colorbar": {
              "outlinewidth": 0,
              "ticks": ""
             }
            },
            "type": "scattergeo"
           }
          ],
          "scattergl": [
           {
            "marker": {
             "colorbar": {
              "outlinewidth": 0,
              "ticks": ""
             }
            },
            "type": "scattergl"
           }
          ],
          "scattermapbox": [
           {
            "marker": {
             "colorbar": {
              "outlinewidth": 0,
              "ticks": ""
             }
            },
            "type": "scattermapbox"
           }
          ],
          "scatterpolar": [
           {
            "marker": {
             "colorbar": {
              "outlinewidth": 0,
              "ticks": ""
             }
            },
            "type": "scatterpolar"
           }
          ],
          "scatterpolargl": [
           {
            "marker": {
             "colorbar": {
              "outlinewidth": 0,
              "ticks": ""
             }
            },
            "type": "scatterpolargl"
           }
          ],
          "scatterternary": [
           {
            "marker": {
             "colorbar": {
              "outlinewidth": 0,
              "ticks": ""
             }
            },
            "type": "scatterternary"
           }
          ],
          "surface": [
           {
            "colorbar": {
             "outlinewidth": 0,
             "ticks": ""
            },
            "colorscale": [
             [
              0,
              "#0d0887"
             ],
             [
              0.1111111111111111,
              "#46039f"
             ],
             [
              0.2222222222222222,
              "#7201a8"
             ],
             [
              0.3333333333333333,
              "#9c179e"
             ],
             [
              0.4444444444444444,
              "#bd3786"
             ],
             [
              0.5555555555555556,
              "#d8576b"
             ],
             [
              0.6666666666666666,
              "#ed7953"
             ],
             [
              0.7777777777777778,
              "#fb9f3a"
             ],
             [
              0.8888888888888888,
              "#fdca26"
             ],
             [
              1,
              "#f0f921"
             ]
            ],
            "type": "surface"
           }
          ],
          "table": [
           {
            "cells": {
             "fill": {
              "color": "#EBF0F8"
             },
             "line": {
              "color": "white"
             }
            },
            "header": {
             "fill": {
              "color": "#C8D4E3"
             },
             "line": {
              "color": "white"
             }
            },
            "type": "table"
           }
          ]
         },
         "layout": {
          "annotationdefaults": {
           "arrowcolor": "#2a3f5f",
           "arrowhead": 0,
           "arrowwidth": 1
          },
          "autotypenumbers": "strict",
          "coloraxis": {
           "colorbar": {
            "outlinewidth": 0,
            "ticks": ""
           }
          },
          "colorscale": {
           "diverging": [
            [
             0,
             "#8e0152"
            ],
            [
             0.1,
             "#c51b7d"
            ],
            [
             0.2,
             "#de77ae"
            ],
            [
             0.3,
             "#f1b6da"
            ],
            [
             0.4,
             "#fde0ef"
            ],
            [
             0.5,
             "#f7f7f7"
            ],
            [
             0.6,
             "#e6f5d0"
            ],
            [
             0.7,
             "#b8e186"
            ],
            [
             0.8,
             "#7fbc41"
            ],
            [
             0.9,
             "#4d9221"
            ],
            [
             1,
             "#276419"
            ]
           ],
           "sequential": [
            [
             0,
             "#0d0887"
            ],
            [
             0.1111111111111111,
             "#46039f"
            ],
            [
             0.2222222222222222,
             "#7201a8"
            ],
            [
             0.3333333333333333,
             "#9c179e"
            ],
            [
             0.4444444444444444,
             "#bd3786"
            ],
            [
             0.5555555555555556,
             "#d8576b"
            ],
            [
             0.6666666666666666,
             "#ed7953"
            ],
            [
             0.7777777777777778,
             "#fb9f3a"
            ],
            [
             0.8888888888888888,
             "#fdca26"
            ],
            [
             1,
             "#f0f921"
            ]
           ],
           "sequentialminus": [
            [
             0,
             "#0d0887"
            ],
            [
             0.1111111111111111,
             "#46039f"
            ],
            [
             0.2222222222222222,
             "#7201a8"
            ],
            [
             0.3333333333333333,
             "#9c179e"
            ],
            [
             0.4444444444444444,
             "#bd3786"
            ],
            [
             0.5555555555555556,
             "#d8576b"
            ],
            [
             0.6666666666666666,
             "#ed7953"
            ],
            [
             0.7777777777777778,
             "#fb9f3a"
            ],
            [
             0.8888888888888888,
             "#fdca26"
            ],
            [
             1,
             "#f0f921"
            ]
           ]
          },
          "colorway": [
           "#636efa",
           "#EF553B",
           "#00cc96",
           "#ab63fa",
           "#FFA15A",
           "#19d3f3",
           "#FF6692",
           "#B6E880",
           "#FF97FF",
           "#FECB52"
          ],
          "font": {
           "color": "#2a3f5f"
          },
          "geo": {
           "bgcolor": "white",
           "lakecolor": "white",
           "landcolor": "#E5ECF6",
           "showlakes": true,
           "showland": true,
           "subunitcolor": "white"
          },
          "hoverlabel": {
           "align": "left"
          },
          "hovermode": "closest",
          "mapbox": {
           "style": "light"
          },
          "paper_bgcolor": "white",
          "plot_bgcolor": "#E5ECF6",
          "polar": {
           "angularaxis": {
            "gridcolor": "white",
            "linecolor": "white",
            "ticks": ""
           },
           "bgcolor": "#E5ECF6",
           "radialaxis": {
            "gridcolor": "white",
            "linecolor": "white",
            "ticks": ""
           }
          },
          "scene": {
           "xaxis": {
            "backgroundcolor": "#E5ECF6",
            "gridcolor": "white",
            "gridwidth": 2,
            "linecolor": "white",
            "showbackground": true,
            "ticks": "",
            "zerolinecolor": "white"
           },
           "yaxis": {
            "backgroundcolor": "#E5ECF6",
            "gridcolor": "white",
            "gridwidth": 2,
            "linecolor": "white",
            "showbackground": true,
            "ticks": "",
            "zerolinecolor": "white"
           },
           "zaxis": {
            "backgroundcolor": "#E5ECF6",
            "gridcolor": "white",
            "gridwidth": 2,
            "linecolor": "white",
            "showbackground": true,
            "ticks": "",
            "zerolinecolor": "white"
           }
          },
          "shapedefaults": {
           "line": {
            "color": "#2a3f5f"
           }
          },
          "ternary": {
           "aaxis": {
            "gridcolor": "white",
            "linecolor": "white",
            "ticks": ""
           },
           "baxis": {
            "gridcolor": "white",
            "linecolor": "white",
            "ticks": ""
           },
           "bgcolor": "#E5ECF6",
           "caxis": {
            "gridcolor": "white",
            "linecolor": "white",
            "ticks": ""
           }
          },
          "title": {
           "x": 0.05
          },
          "xaxis": {
           "automargin": true,
           "gridcolor": "white",
           "linecolor": "white",
           "ticks": "",
           "title": {
            "standoff": 15
           },
           "zerolinecolor": "white",
           "zerolinewidth": 2
          },
          "yaxis": {
           "automargin": true,
           "gridcolor": "white",
           "linecolor": "white",
           "ticks": "",
           "title": {
            "standoff": 15
           },
           "zerolinecolor": "white",
           "zerolinewidth": 2
          }
         }
        },
        "width": 1200,
        "xaxis": {
         "anchor": "y",
         "domain": [
          0,
          0.49
         ],
         "title": {
          "text": "Data Size"
         }
        },
        "xaxis2": {
         "anchor": "y2",
         "domain": [
          0.51,
          1
         ],
         "matches": "x",
         "title": {
          "text": "Data Size"
         }
        },
        "yaxis": {
         "anchor": "x",
         "domain": [
          0,
          1
         ],
         "title": {
          "text": "Mean Squared Error"
         },
         "type": "log"
        },
        "yaxis2": {
         "anchor": "x2",
         "domain": [
          0,
          1
         ],
         "matches": "y",
         "showticklabels": false,
         "type": "log"
        }
       }
      }
     },
     "metadata": {},
     "output_type": "display_data"
    }
   ],
   "source": [
    "fig = px.box(df, x='data_size', y='mse', color='case', points=\"all\",\n",
    "                 log_y=True, \n",
    "                 facet_col='rho', facet_col_wrap=3,\n",
    "                 color_discrete_map = color_discrete_map,\n",
    "                 height = 400, width = 1200,\n",
    "                 category_orders = {'case': keys, 'rho': [0.1, 0.5] },\n",
    "                 labels={\n",
    "                     \"data_size\": \"Data Size\",\n",
    "                     \"mse\": \"Mean Squared Error\",\n",
    "                     \"case\": \"Case\"\n",
    "                 })\n",
    "fig.update_layout(\n",
    "    font=dict(\n",
    "        size=18\n",
    "    ),\n",
    "    \n",
    ")\n",
    "# fig.update_layout(legend=dict(\n",
    "#     yanchor=\"top\",\n",
    "#     y=-2,\n",
    "#     xanchor=\"left\",\n",
    "#     x=1\n",
    "# ))\n",
    "fig.show()\n",
    "fig.write_image(f\"{img_dir}/mean squared error box.pdf\")"
   ]
  },
  {
   "cell_type": "code",
   "execution_count": 66,
   "metadata": {},
   "outputs": [
    {
     "data": {
      "application/vnd.plotly.v1+json": {
       "config": {
        "plotlyServerURL": "https://plot.ly"
       },
       "data": [
        {
         "alignmentgroup": "True",
         "hovertemplate": "Case=Original Data<br>rho=0.1<br>Data Size=%{x}<br>Mean Squared Error=%{y}<extra></extra>",
         "legendgroup": "Original Data",
         "marker": {
          "color": "#19d3f3",
          "pattern": {
           "shape": ""
          }
         },
         "name": "Original Data",
         "offsetgroup": "Original Data",
         "orientation": "v",
         "showlegend": true,
         "textposition": "auto",
         "type": "bar",
         "width": 0.1,
         "x": [
          1000
         ],
         "xaxis": "x",
         "y": [
          1158.0395965576172
         ],
         "yaxis": "y"
        },
        {
         "alignmentgroup": "True",
         "hovertemplate": "Case=Original Data<br>rho=0.5<br>Data Size=%{x}<br>Mean Squared Error=%{y}<extra></extra>",
         "legendgroup": "Original Data",
         "marker": {
          "color": "#19d3f3",
          "pattern": {
           "shape": ""
          }
         },
         "name": "Original Data",
         "offsetgroup": "Original Data",
         "orientation": "v",
         "showlegend": false,
         "textposition": "auto",
         "type": "bar",
         "width": 0.1,
         "x": [
          1000
         ],
         "xaxis": "x2",
         "y": [
          1112.5883209228516
         ],
         "yaxis": "y2"
        },
        {
         "alignmentgroup": "True",
         "hovertemplate": "Case=Simulated Data<br>rho=0.1<br>Data Size=%{x}<br>Mean Squared Error=%{y}<extra></extra>",
         "legendgroup": "Simulated Data",
         "marker": {
          "color": "#FF6692",
          "pattern": {
           "shape": ""
          }
         },
         "name": "Simulated Data",
         "offsetgroup": "Simulated Data",
         "orientation": "v",
         "showlegend": true,
         "textposition": "auto",
         "type": "bar",
         "width": 0.1,
         "x": [
          1000
         ],
         "xaxis": "x",
         "y": [
          1186.4004852294922
         ],
         "yaxis": "y"
        },
        {
         "alignmentgroup": "True",
         "hovertemplate": "Case=Simulated Data<br>rho=0.5<br>Data Size=%{x}<br>Mean Squared Error=%{y}<extra></extra>",
         "legendgroup": "Simulated Data",
         "marker": {
          "color": "#FF6692",
          "pattern": {
           "shape": ""
          }
         },
         "name": "Simulated Data",
         "offsetgroup": "Simulated Data",
         "orientation": "v",
         "showlegend": false,
         "textposition": "auto",
         "type": "bar",
         "width": 0.1,
         "x": [
          1000
         ],
         "xaxis": "x2",
         "y": [
          1110.746127319336
         ],
         "yaxis": "y2"
        },
        {
         "alignmentgroup": "True",
         "hovertemplate": "Case=Simulated Non-homoscedastic Data with sigma=0.2<br>rho=0.1<br>Data Size=%{x}<br>Mean Squared Error=%{y}<extra></extra>",
         "legendgroup": "Simulated Non-homoscedastic Data with sigma=0.2",
         "marker": {
          "color": "#B6E880",
          "pattern": {
           "shape": ""
          }
         },
         "name": "Simulated Non-homoscedastic Data with sigma=0.2",
         "offsetgroup": "Simulated Non-homoscedastic Data with sigma=0.2",
         "orientation": "v",
         "showlegend": true,
         "textposition": "auto",
         "type": "bar",
         "width": 0.1,
         "x": [
          1000
         ],
         "xaxis": "x",
         "y": [
          1162.69305267334
         ],
         "yaxis": "y"
        },
        {
         "alignmentgroup": "True",
         "hovertemplate": "Case=Simulated Non-homoscedastic Data with sigma=0.2<br>rho=0.5<br>Data Size=%{x}<br>Mean Squared Error=%{y}<extra></extra>",
         "legendgroup": "Simulated Non-homoscedastic Data with sigma=0.2",
         "marker": {
          "color": "#B6E880",
          "pattern": {
           "shape": ""
          }
         },
         "name": "Simulated Non-homoscedastic Data with sigma=0.2",
         "offsetgroup": "Simulated Non-homoscedastic Data with sigma=0.2",
         "orientation": "v",
         "showlegend": false,
         "textposition": "auto",
         "type": "bar",
         "width": 0.1,
         "x": [
          1000
         ],
         "xaxis": "x2",
         "y": [
          1237.5498077392579
         ],
         "yaxis": "y2"
        },
        {
         "alignmentgroup": "True",
         "hovertemplate": "Case=Simulated Non-homoscedastic Data with sigma=1<br>rho=0.1<br>Data Size=%{x}<br>Mean Squared Error=%{y}<extra></extra>",
         "legendgroup": "Simulated Non-homoscedastic Data with sigma=1",
         "marker": {
          "color": "#FF97FF",
          "pattern": {
           "shape": ""
          }
         },
         "name": "Simulated Non-homoscedastic Data with sigma=1",
         "offsetgroup": "Simulated Non-homoscedastic Data with sigma=1",
         "orientation": "v",
         "showlegend": true,
         "textposition": "auto",
         "type": "bar",
         "width": 0.1,
         "x": [
          1000
         ],
         "xaxis": "x",
         "y": [
          1042.7689239501954
         ],
         "yaxis": "y"
        },
        {
         "alignmentgroup": "True",
         "hovertemplate": "Case=Simulated Non-homoscedastic Data with sigma=1<br>rho=0.5<br>Data Size=%{x}<br>Mean Squared Error=%{y}<extra></extra>",
         "legendgroup": "Simulated Non-homoscedastic Data with sigma=1",
         "marker": {
          "color": "#FF97FF",
          "pattern": {
           "shape": ""
          }
         },
         "name": "Simulated Non-homoscedastic Data with sigma=1",
         "offsetgroup": "Simulated Non-homoscedastic Data with sigma=1",
         "orientation": "v",
         "showlegend": false,
         "textposition": "auto",
         "type": "bar",
         "width": 0.1,
         "x": [
          1000
         ],
         "xaxis": "x2",
         "y": [
          1116.4126953125
         ],
         "yaxis": "y2"
        },
        {
         "alignmentgroup": "True",
         "hovertemplate": "Case=Simulated Non-homoscedastic Data with sigma=1.8<br>rho=0.1<br>Data Size=%{x}<br>Mean Squared Error=%{y}<extra></extra>",
         "legendgroup": "Simulated Non-homoscedastic Data with sigma=1.8",
         "marker": {
          "color": "#FECB52",
          "pattern": {
           "shape": ""
          }
         },
         "name": "Simulated Non-homoscedastic Data with sigma=1.8",
         "offsetgroup": "Simulated Non-homoscedastic Data with sigma=1.8",
         "orientation": "v",
         "showlegend": true,
         "textposition": "auto",
         "type": "bar",
         "width": 0.1,
         "x": [
          1000
         ],
         "xaxis": "x",
         "y": [
          1393.3875701904296
         ],
         "yaxis": "y"
        },
        {
         "alignmentgroup": "True",
         "hovertemplate": "Case=Simulated Non-homoscedastic Data with sigma=1.8<br>rho=0.5<br>Data Size=%{x}<br>Mean Squared Error=%{y}<extra></extra>",
         "legendgroup": "Simulated Non-homoscedastic Data with sigma=1.8",
         "marker": {
          "color": "#FECB52",
          "pattern": {
           "shape": ""
          }
         },
         "name": "Simulated Non-homoscedastic Data with sigma=1.8",
         "offsetgroup": "Simulated Non-homoscedastic Data with sigma=1.8",
         "orientation": "v",
         "showlegend": false,
         "textposition": "auto",
         "type": "bar",
         "width": 0.1,
         "x": [
          1000
         ],
         "xaxis": "x2",
         "y": [
          1177.8933013916017
         ],
         "yaxis": "y2"
        }
       ],
       "layout": {
        "annotations": [
         {
          "font": {},
          "showarrow": false,
          "text": "rho=0.1",
          "x": 0.245,
          "xanchor": "center",
          "xref": "paper",
          "y": 1,
          "yanchor": "bottom",
          "yref": "paper"
         },
         {
          "font": {},
          "showarrow": false,
          "text": "rho=0.5",
          "x": 0.755,
          "xanchor": "center",
          "xref": "paper",
          "y": 1,
          "yanchor": "bottom",
          "yref": "paper"
         }
        ],
        "barmode": "group",
        "font": {
         "size": 18
        },
        "height": 400,
        "legend": {
         "title": {
          "text": "Case"
         },
         "tracegroupgap": 0
        },
        "margin": {
         "t": 60
        },
        "template": {
         "data": {
          "bar": [
           {
            "error_x": {
             "color": "#2a3f5f"
            },
            "error_y": {
             "color": "#2a3f5f"
            },
            "marker": {
             "line": {
              "color": "#E5ECF6",
              "width": 0.5
             },
             "pattern": {
              "fillmode": "overlay",
              "size": 10,
              "solidity": 0.2
             }
            },
            "type": "bar"
           }
          ],
          "barpolar": [
           {
            "marker": {
             "line": {
              "color": "#E5ECF6",
              "width": 0.5
             },
             "pattern": {
              "fillmode": "overlay",
              "size": 10,
              "solidity": 0.2
             }
            },
            "type": "barpolar"
           }
          ],
          "carpet": [
           {
            "aaxis": {
             "endlinecolor": "#2a3f5f",
             "gridcolor": "white",
             "linecolor": "white",
             "minorgridcolor": "white",
             "startlinecolor": "#2a3f5f"
            },
            "baxis": {
             "endlinecolor": "#2a3f5f",
             "gridcolor": "white",
             "linecolor": "white",
             "minorgridcolor": "white",
             "startlinecolor": "#2a3f5f"
            },
            "type": "carpet"
           }
          ],
          "choropleth": [
           {
            "colorbar": {
             "outlinewidth": 0,
             "ticks": ""
            },
            "type": "choropleth"
           }
          ],
          "contour": [
           {
            "colorbar": {
             "outlinewidth": 0,
             "ticks": ""
            },
            "colorscale": [
             [
              0,
              "#0d0887"
             ],
             [
              0.1111111111111111,
              "#46039f"
             ],
             [
              0.2222222222222222,
              "#7201a8"
             ],
             [
              0.3333333333333333,
              "#9c179e"
             ],
             [
              0.4444444444444444,
              "#bd3786"
             ],
             [
              0.5555555555555556,
              "#d8576b"
             ],
             [
              0.6666666666666666,
              "#ed7953"
             ],
             [
              0.7777777777777778,
              "#fb9f3a"
             ],
             [
              0.8888888888888888,
              "#fdca26"
             ],
             [
              1,
              "#f0f921"
             ]
            ],
            "type": "contour"
           }
          ],
          "contourcarpet": [
           {
            "colorbar": {
             "outlinewidth": 0,
             "ticks": ""
            },
            "type": "contourcarpet"
           }
          ],
          "heatmap": [
           {
            "colorbar": {
             "outlinewidth": 0,
             "ticks": ""
            },
            "colorscale": [
             [
              0,
              "#0d0887"
             ],
             [
              0.1111111111111111,
              "#46039f"
             ],
             [
              0.2222222222222222,
              "#7201a8"
             ],
             [
              0.3333333333333333,
              "#9c179e"
             ],
             [
              0.4444444444444444,
              "#bd3786"
             ],
             [
              0.5555555555555556,
              "#d8576b"
             ],
             [
              0.6666666666666666,
              "#ed7953"
             ],
             [
              0.7777777777777778,
              "#fb9f3a"
             ],
             [
              0.8888888888888888,
              "#fdca26"
             ],
             [
              1,
              "#f0f921"
             ]
            ],
            "type": "heatmap"
           }
          ],
          "heatmapgl": [
           {
            "colorbar": {
             "outlinewidth": 0,
             "ticks": ""
            },
            "colorscale": [
             [
              0,
              "#0d0887"
             ],
             [
              0.1111111111111111,
              "#46039f"
             ],
             [
              0.2222222222222222,
              "#7201a8"
             ],
             [
              0.3333333333333333,
              "#9c179e"
             ],
             [
              0.4444444444444444,
              "#bd3786"
             ],
             [
              0.5555555555555556,
              "#d8576b"
             ],
             [
              0.6666666666666666,
              "#ed7953"
             ],
             [
              0.7777777777777778,
              "#fb9f3a"
             ],
             [
              0.8888888888888888,
              "#fdca26"
             ],
             [
              1,
              "#f0f921"
             ]
            ],
            "type": "heatmapgl"
           }
          ],
          "histogram": [
           {
            "marker": {
             "pattern": {
              "fillmode": "overlay",
              "size": 10,
              "solidity": 0.2
             }
            },
            "type": "histogram"
           }
          ],
          "histogram2d": [
           {
            "colorbar": {
             "outlinewidth": 0,
             "ticks": ""
            },
            "colorscale": [
             [
              0,
              "#0d0887"
             ],
             [
              0.1111111111111111,
              "#46039f"
             ],
             [
              0.2222222222222222,
              "#7201a8"
             ],
             [
              0.3333333333333333,
              "#9c179e"
             ],
             [
              0.4444444444444444,
              "#bd3786"
             ],
             [
              0.5555555555555556,
              "#d8576b"
             ],
             [
              0.6666666666666666,
              "#ed7953"
             ],
             [
              0.7777777777777778,
              "#fb9f3a"
             ],
             [
              0.8888888888888888,
              "#fdca26"
             ],
             [
              1,
              "#f0f921"
             ]
            ],
            "type": "histogram2d"
           }
          ],
          "histogram2dcontour": [
           {
            "colorbar": {
             "outlinewidth": 0,
             "ticks": ""
            },
            "colorscale": [
             [
              0,
              "#0d0887"
             ],
             [
              0.1111111111111111,
              "#46039f"
             ],
             [
              0.2222222222222222,
              "#7201a8"
             ],
             [
              0.3333333333333333,
              "#9c179e"
             ],
             [
              0.4444444444444444,
              "#bd3786"
             ],
             [
              0.5555555555555556,
              "#d8576b"
             ],
             [
              0.6666666666666666,
              "#ed7953"
             ],
             [
              0.7777777777777778,
              "#fb9f3a"
             ],
             [
              0.8888888888888888,
              "#fdca26"
             ],
             [
              1,
              "#f0f921"
             ]
            ],
            "type": "histogram2dcontour"
           }
          ],
          "mesh3d": [
           {
            "colorbar": {
             "outlinewidth": 0,
             "ticks": ""
            },
            "type": "mesh3d"
           }
          ],
          "parcoords": [
           {
            "line": {
             "colorbar": {
              "outlinewidth": 0,
              "ticks": ""
             }
            },
            "type": "parcoords"
           }
          ],
          "pie": [
           {
            "automargin": true,
            "type": "pie"
           }
          ],
          "scatter": [
           {
            "fillpattern": {
             "fillmode": "overlay",
             "size": 10,
             "solidity": 0.2
            },
            "type": "scatter"
           }
          ],
          "scatter3d": [
           {
            "line": {
             "colorbar": {
              "outlinewidth": 0,
              "ticks": ""
             }
            },
            "marker": {
             "colorbar": {
              "outlinewidth": 0,
              "ticks": ""
             }
            },
            "type": "scatter3d"
           }
          ],
          "scattercarpet": [
           {
            "marker": {
             "colorbar": {
              "outlinewidth": 0,
              "ticks": ""
             }
            },
            "type": "scattercarpet"
           }
          ],
          "scattergeo": [
           {
            "marker": {
             "colorbar": {
              "outlinewidth": 0,
              "ticks": ""
             }
            },
            "type": "scattergeo"
           }
          ],
          "scattergl": [
           {
            "marker": {
             "colorbar": {
              "outlinewidth": 0,
              "ticks": ""
             }
            },
            "type": "scattergl"
           }
          ],
          "scattermapbox": [
           {
            "marker": {
             "colorbar": {
              "outlinewidth": 0,
              "ticks": ""
             }
            },
            "type": "scattermapbox"
           }
          ],
          "scatterpolar": [
           {
            "marker": {
             "colorbar": {
              "outlinewidth": 0,
              "ticks": ""
             }
            },
            "type": "scatterpolar"
           }
          ],
          "scatterpolargl": [
           {
            "marker": {
             "colorbar": {
              "outlinewidth": 0,
              "ticks": ""
             }
            },
            "type": "scatterpolargl"
           }
          ],
          "scatterternary": [
           {
            "marker": {
             "colorbar": {
              "outlinewidth": 0,
              "ticks": ""
             }
            },
            "type": "scatterternary"
           }
          ],
          "surface": [
           {
            "colorbar": {
             "outlinewidth": 0,
             "ticks": ""
            },
            "colorscale": [
             [
              0,
              "#0d0887"
             ],
             [
              0.1111111111111111,
              "#46039f"
             ],
             [
              0.2222222222222222,
              "#7201a8"
             ],
             [
              0.3333333333333333,
              "#9c179e"
             ],
             [
              0.4444444444444444,
              "#bd3786"
             ],
             [
              0.5555555555555556,
              "#d8576b"
             ],
             [
              0.6666666666666666,
              "#ed7953"
             ],
             [
              0.7777777777777778,
              "#fb9f3a"
             ],
             [
              0.8888888888888888,
              "#fdca26"
             ],
             [
              1,
              "#f0f921"
             ]
            ],
            "type": "surface"
           }
          ],
          "table": [
           {
            "cells": {
             "fill": {
              "color": "#EBF0F8"
             },
             "line": {
              "color": "white"
             }
            },
            "header": {
             "fill": {
              "color": "#C8D4E3"
             },
             "line": {
              "color": "white"
             }
            },
            "type": "table"
           }
          ]
         },
         "layout": {
          "annotationdefaults": {
           "arrowcolor": "#2a3f5f",
           "arrowhead": 0,
           "arrowwidth": 1
          },
          "autotypenumbers": "strict",
          "coloraxis": {
           "colorbar": {
            "outlinewidth": 0,
            "ticks": ""
           }
          },
          "colorscale": {
           "diverging": [
            [
             0,
             "#8e0152"
            ],
            [
             0.1,
             "#c51b7d"
            ],
            [
             0.2,
             "#de77ae"
            ],
            [
             0.3,
             "#f1b6da"
            ],
            [
             0.4,
             "#fde0ef"
            ],
            [
             0.5,
             "#f7f7f7"
            ],
            [
             0.6,
             "#e6f5d0"
            ],
            [
             0.7,
             "#b8e186"
            ],
            [
             0.8,
             "#7fbc41"
            ],
            [
             0.9,
             "#4d9221"
            ],
            [
             1,
             "#276419"
            ]
           ],
           "sequential": [
            [
             0,
             "#0d0887"
            ],
            [
             0.1111111111111111,
             "#46039f"
            ],
            [
             0.2222222222222222,
             "#7201a8"
            ],
            [
             0.3333333333333333,
             "#9c179e"
            ],
            [
             0.4444444444444444,
             "#bd3786"
            ],
            [
             0.5555555555555556,
             "#d8576b"
            ],
            [
             0.6666666666666666,
             "#ed7953"
            ],
            [
             0.7777777777777778,
             "#fb9f3a"
            ],
            [
             0.8888888888888888,
             "#fdca26"
            ],
            [
             1,
             "#f0f921"
            ]
           ],
           "sequentialminus": [
            [
             0,
             "#0d0887"
            ],
            [
             0.1111111111111111,
             "#46039f"
            ],
            [
             0.2222222222222222,
             "#7201a8"
            ],
            [
             0.3333333333333333,
             "#9c179e"
            ],
            [
             0.4444444444444444,
             "#bd3786"
            ],
            [
             0.5555555555555556,
             "#d8576b"
            ],
            [
             0.6666666666666666,
             "#ed7953"
            ],
            [
             0.7777777777777778,
             "#fb9f3a"
            ],
            [
             0.8888888888888888,
             "#fdca26"
            ],
            [
             1,
             "#f0f921"
            ]
           ]
          },
          "colorway": [
           "#636efa",
           "#EF553B",
           "#00cc96",
           "#ab63fa",
           "#FFA15A",
           "#19d3f3",
           "#FF6692",
           "#B6E880",
           "#FF97FF",
           "#FECB52"
          ],
          "font": {
           "color": "#2a3f5f"
          },
          "geo": {
           "bgcolor": "white",
           "lakecolor": "white",
           "landcolor": "#E5ECF6",
           "showlakes": true,
           "showland": true,
           "subunitcolor": "white"
          },
          "hoverlabel": {
           "align": "left"
          },
          "hovermode": "closest",
          "mapbox": {
           "style": "light"
          },
          "paper_bgcolor": "white",
          "plot_bgcolor": "#E5ECF6",
          "polar": {
           "angularaxis": {
            "gridcolor": "white",
            "linecolor": "white",
            "ticks": ""
           },
           "bgcolor": "#E5ECF6",
           "radialaxis": {
            "gridcolor": "white",
            "linecolor": "white",
            "ticks": ""
           }
          },
          "scene": {
           "xaxis": {
            "backgroundcolor": "#E5ECF6",
            "gridcolor": "white",
            "gridwidth": 2,
            "linecolor": "white",
            "showbackground": true,
            "ticks": "",
            "zerolinecolor": "white"
           },
           "yaxis": {
            "backgroundcolor": "#E5ECF6",
            "gridcolor": "white",
            "gridwidth": 2,
            "linecolor": "white",
            "showbackground": true,
            "ticks": "",
            "zerolinecolor": "white"
           },
           "zaxis": {
            "backgroundcolor": "#E5ECF6",
            "gridcolor": "white",
            "gridwidth": 2,
            "linecolor": "white",
            "showbackground": true,
            "ticks": "",
            "zerolinecolor": "white"
           }
          },
          "shapedefaults": {
           "line": {
            "color": "#2a3f5f"
           }
          },
          "ternary": {
           "aaxis": {
            "gridcolor": "white",
            "linecolor": "white",
            "ticks": ""
           },
           "baxis": {
            "gridcolor": "white",
            "linecolor": "white",
            "ticks": ""
           },
           "bgcolor": "#E5ECF6",
           "caxis": {
            "gridcolor": "white",
            "linecolor": "white",
            "ticks": ""
           }
          },
          "title": {
           "x": 0.05
          },
          "xaxis": {
           "automargin": true,
           "gridcolor": "white",
           "linecolor": "white",
           "ticks": "",
           "title": {
            "standoff": 15
           },
           "zerolinecolor": "white",
           "zerolinewidth": 2
          },
          "yaxis": {
           "automargin": true,
           "gridcolor": "white",
           "linecolor": "white",
           "ticks": "",
           "title": {
            "standoff": 15
           },
           "zerolinecolor": "white",
           "zerolinewidth": 2
          }
         }
        },
        "width": 1200,
        "xaxis": {
         "anchor": "y",
         "domain": [
          0,
          0.49
         ],
         "title": {
          "text": "Data Size"
         },
         "type": "category"
        },
        "xaxis2": {
         "anchor": "y2",
         "domain": [
          0.51,
          1
         ],
         "matches": "x",
         "title": {
          "text": "Data Size"
         },
         "type": "category"
        },
        "yaxis": {
         "anchor": "x",
         "domain": [
          0,
          1
         ],
         "title": {
          "text": "Mean Squared Error"
         }
        },
        "yaxis2": {
         "anchor": "x2",
         "domain": [
          0,
          1
         ],
         "matches": "y",
         "showticklabels": false
        }
       }
      }
     },
     "metadata": {},
     "output_type": "display_data"
    }
   ],
   "source": [
    "fig = px.bar(df_avg, x='data_size', y='mse', color='case', barmode='group',\n",
    "                facet_col='rho', facet_col_wrap=3,\n",
    "                height = 400, width = 1200,\n",
    "                color_discrete_map = color_discrete_map,\n",
    "                category_orders = {'case': keys, 'rho': [0.1, 0.5] },\n",
    "                labels={\n",
    "                     \"data_size\": \"Data Size\",\n",
    "                     \"mse\": \"Mean Squared Error\",\n",
    "                     \"case\": \"Case\"\n",
    "                 })\n",
    "fig.update_xaxes(type='category')\n",
    "fig.update_layout(\n",
    "    font=dict(\n",
    "        size=18\n",
    "    )\n",
    ")\n",
    "fig.update_traces(width=0.1)\n",
    "fig.show()\n",
    "fig.write_image(f\"{img_dir}/mean squared error bar.pdf\")"
   ]
  },
  {
   "cell_type": "code",
   "execution_count": 47,
   "metadata": {},
   "outputs": [],
   "source": [
    "# fig = sns.FacetGrid(df, col = 'rho')\n",
    "# fig.map_dataframe(sns.boxplot, x='data_size', y='mse', hue='case')\n",
    "# plt.yscale('log')\n",
    "# fig.set(yscale=\"log\")\n",
    "# fig.tight_layout()\n",
    "# fig.add_legend()"
   ]
  },
  {
   "attachments": {},
   "cell_type": "markdown",
   "metadata": {},
   "source": [
    "# DFIV vs SparseIV"
   ]
  },
  {
   "cell_type": "code",
   "execution_count": 35,
   "metadata": {},
   "outputs": [],
   "source": [
    "case = 'case_vanilla'"
   ]
  },
  {
   "cell_type": "code",
   "execution_count": 36,
   "metadata": {},
   "outputs": [],
   "source": [
    "cases = [case]\n",
    "res_dir = '../../spaceIV/results/comp/'\n",
    "dfs = {case: pd.read_csv(os.path.join(res_dir, f'{case}.csv')) for case in cases}\n",
    "df_sparseiv = dfs[case]\n",
    "df_sparseiv['model'] = 'spaceIV'"
   ]
  },
  {
   "cell_type": "code",
   "execution_count": 37,
   "metadata": {},
   "outputs": [],
   "source": [
    "oi = {case: case}\n",
    "df_dfiv =  get_results(oi)\n",
    "df_dfiv['model'] = 'DFIV'"
   ]
  },
  {
   "cell_type": "code",
   "execution_count": 38,
   "metadata": {},
   "outputs": [
    {
     "data": {
      "text/html": [
       "<div>\n",
       "<style scoped>\n",
       "    .dataframe tbody tr th:only-of-type {\n",
       "        vertical-align: middle;\n",
       "    }\n",
       "\n",
       "    .dataframe tbody tr th {\n",
       "        vertical-align: top;\n",
       "    }\n",
       "\n",
       "    .dataframe thead th {\n",
       "        text-align: right;\n",
       "    }\n",
       "</style>\n",
       "<table border=\"1\" class=\"dataframe\">\n",
       "  <thead>\n",
       "    <tr style=\"text-align: right;\">\n",
       "      <th></th>\n",
       "      <th>Unnamed: 0</th>\n",
       "      <th>case</th>\n",
       "      <th>data_size</th>\n",
       "      <th>test_size</th>\n",
       "      <th>mse</th>\n",
       "      <th>model</th>\n",
       "      <th>val_size</th>\n",
       "    </tr>\n",
       "  </thead>\n",
       "  <tbody>\n",
       "    <tr>\n",
       "      <th>0</th>\n",
       "      <td>0.0</td>\n",
       "      <td>case_vanilla</td>\n",
       "      <td>1600.0</td>\n",
       "      <td>180.0</td>\n",
       "      <td>10.494213</td>\n",
       "      <td>sparseIV</td>\n",
       "      <td>NaN</td>\n",
       "    </tr>\n",
       "    <tr>\n",
       "      <th>1</th>\n",
       "      <td>1.0</td>\n",
       "      <td>case_vanilla</td>\n",
       "      <td>1600.0</td>\n",
       "      <td>180.0</td>\n",
       "      <td>9.783889</td>\n",
       "      <td>sparseIV</td>\n",
       "      <td>NaN</td>\n",
       "    </tr>\n",
       "    <tr>\n",
       "      <th>2</th>\n",
       "      <td>2.0</td>\n",
       "      <td>case_vanilla</td>\n",
       "      <td>1600.0</td>\n",
       "      <td>180.0</td>\n",
       "      <td>12.687496</td>\n",
       "      <td>sparseIV</td>\n",
       "      <td>NaN</td>\n",
       "    </tr>\n",
       "    <tr>\n",
       "      <th>3</th>\n",
       "      <td>3.0</td>\n",
       "      <td>case_vanilla</td>\n",
       "      <td>1600.0</td>\n",
       "      <td>180.0</td>\n",
       "      <td>15.497702</td>\n",
       "      <td>sparseIV</td>\n",
       "      <td>NaN</td>\n",
       "    </tr>\n",
       "    <tr>\n",
       "      <th>4</th>\n",
       "      <td>4.0</td>\n",
       "      <td>case_vanilla</td>\n",
       "      <td>1600.0</td>\n",
       "      <td>180.0</td>\n",
       "      <td>6.417971</td>\n",
       "      <td>sparseIV</td>\n",
       "      <td>NaN</td>\n",
       "    </tr>\n",
       "    <tr>\n",
       "      <th>5</th>\n",
       "      <td>5.0</td>\n",
       "      <td>case_vanilla</td>\n",
       "      <td>1600.0</td>\n",
       "      <td>180.0</td>\n",
       "      <td>9.237920</td>\n",
       "      <td>sparseIV</td>\n",
       "      <td>NaN</td>\n",
       "    </tr>\n",
       "    <tr>\n",
       "      <th>6</th>\n",
       "      <td>6.0</td>\n",
       "      <td>case_vanilla</td>\n",
       "      <td>1600.0</td>\n",
       "      <td>180.0</td>\n",
       "      <td>18.877758</td>\n",
       "      <td>sparseIV</td>\n",
       "      <td>NaN</td>\n",
       "    </tr>\n",
       "    <tr>\n",
       "      <th>7</th>\n",
       "      <td>7.0</td>\n",
       "      <td>case_vanilla</td>\n",
       "      <td>1600.0</td>\n",
       "      <td>180.0</td>\n",
       "      <td>14.849074</td>\n",
       "      <td>sparseIV</td>\n",
       "      <td>NaN</td>\n",
       "    </tr>\n",
       "    <tr>\n",
       "      <th>8</th>\n",
       "      <td>8.0</td>\n",
       "      <td>case_vanilla</td>\n",
       "      <td>1600.0</td>\n",
       "      <td>180.0</td>\n",
       "      <td>14.391256</td>\n",
       "      <td>sparseIV</td>\n",
       "      <td>NaN</td>\n",
       "    </tr>\n",
       "    <tr>\n",
       "      <th>9</th>\n",
       "      <td>9.0</td>\n",
       "      <td>case_vanilla</td>\n",
       "      <td>1600.0</td>\n",
       "      <td>180.0</td>\n",
       "      <td>12.277851</td>\n",
       "      <td>sparseIV</td>\n",
       "      <td>NaN</td>\n",
       "    </tr>\n",
       "    <tr>\n",
       "      <th>10</th>\n",
       "      <td>10.0</td>\n",
       "      <td>case_vanilla</td>\n",
       "      <td>1600.0</td>\n",
       "      <td>180.0</td>\n",
       "      <td>9.929561</td>\n",
       "      <td>sparseIV</td>\n",
       "      <td>NaN</td>\n",
       "    </tr>\n",
       "    <tr>\n",
       "      <th>11</th>\n",
       "      <td>11.0</td>\n",
       "      <td>case_vanilla</td>\n",
       "      <td>1600.0</td>\n",
       "      <td>180.0</td>\n",
       "      <td>7.476838</td>\n",
       "      <td>sparseIV</td>\n",
       "      <td>NaN</td>\n",
       "    </tr>\n",
       "    <tr>\n",
       "      <th>12</th>\n",
       "      <td>12.0</td>\n",
       "      <td>case_vanilla</td>\n",
       "      <td>1600.0</td>\n",
       "      <td>180.0</td>\n",
       "      <td>9.145131</td>\n",
       "      <td>sparseIV</td>\n",
       "      <td>NaN</td>\n",
       "    </tr>\n",
       "    <tr>\n",
       "      <th>13</th>\n",
       "      <td>13.0</td>\n",
       "      <td>case_vanilla</td>\n",
       "      <td>1600.0</td>\n",
       "      <td>180.0</td>\n",
       "      <td>7.486842</td>\n",
       "      <td>sparseIV</td>\n",
       "      <td>NaN</td>\n",
       "    </tr>\n",
       "    <tr>\n",
       "      <th>14</th>\n",
       "      <td>14.0</td>\n",
       "      <td>case_vanilla</td>\n",
       "      <td>1600.0</td>\n",
       "      <td>180.0</td>\n",
       "      <td>7.806522</td>\n",
       "      <td>sparseIV</td>\n",
       "      <td>NaN</td>\n",
       "    </tr>\n",
       "    <tr>\n",
       "      <th>15</th>\n",
       "      <td>15.0</td>\n",
       "      <td>case_vanilla</td>\n",
       "      <td>1600.0</td>\n",
       "      <td>180.0</td>\n",
       "      <td>9.302989</td>\n",
       "      <td>sparseIV</td>\n",
       "      <td>NaN</td>\n",
       "    </tr>\n",
       "    <tr>\n",
       "      <th>16</th>\n",
       "      <td>16.0</td>\n",
       "      <td>case_vanilla</td>\n",
       "      <td>1600.0</td>\n",
       "      <td>180.0</td>\n",
       "      <td>8.058527</td>\n",
       "      <td>sparseIV</td>\n",
       "      <td>NaN</td>\n",
       "    </tr>\n",
       "    <tr>\n",
       "      <th>17</th>\n",
       "      <td>17.0</td>\n",
       "      <td>case_vanilla</td>\n",
       "      <td>1600.0</td>\n",
       "      <td>180.0</td>\n",
       "      <td>15.320230</td>\n",
       "      <td>sparseIV</td>\n",
       "      <td>NaN</td>\n",
       "    </tr>\n",
       "    <tr>\n",
       "      <th>18</th>\n",
       "      <td>18.0</td>\n",
       "      <td>case_vanilla</td>\n",
       "      <td>1600.0</td>\n",
       "      <td>180.0</td>\n",
       "      <td>0.000504</td>\n",
       "      <td>sparseIV</td>\n",
       "      <td>NaN</td>\n",
       "    </tr>\n",
       "    <tr>\n",
       "      <th>19</th>\n",
       "      <td>19.0</td>\n",
       "      <td>case_vanilla</td>\n",
       "      <td>1600.0</td>\n",
       "      <td>180.0</td>\n",
       "      <td>8.208460</td>\n",
       "      <td>sparseIV</td>\n",
       "      <td>NaN</td>\n",
       "    </tr>\n",
       "    <tr>\n",
       "      <th>20</th>\n",
       "      <td>20.0</td>\n",
       "      <td>case_vanilla</td>\n",
       "      <td>1600.0</td>\n",
       "      <td>180.0</td>\n",
       "      <td>17.947430</td>\n",
       "      <td>sparseIV</td>\n",
       "      <td>NaN</td>\n",
       "    </tr>\n",
       "    <tr>\n",
       "      <th>21</th>\n",
       "      <td>21.0</td>\n",
       "      <td>case_vanilla</td>\n",
       "      <td>1600.0</td>\n",
       "      <td>180.0</td>\n",
       "      <td>9.933339</td>\n",
       "      <td>sparseIV</td>\n",
       "      <td>NaN</td>\n",
       "    </tr>\n",
       "    <tr>\n",
       "      <th>22</th>\n",
       "      <td>22.0</td>\n",
       "      <td>case_vanilla</td>\n",
       "      <td>1600.0</td>\n",
       "      <td>180.0</td>\n",
       "      <td>9.489941</td>\n",
       "      <td>sparseIV</td>\n",
       "      <td>NaN</td>\n",
       "    </tr>\n",
       "    <tr>\n",
       "      <th>23</th>\n",
       "      <td>23.0</td>\n",
       "      <td>case_vanilla</td>\n",
       "      <td>1600.0</td>\n",
       "      <td>180.0</td>\n",
       "      <td>9.268514</td>\n",
       "      <td>sparseIV</td>\n",
       "      <td>NaN</td>\n",
       "    </tr>\n",
       "    <tr>\n",
       "      <th>24</th>\n",
       "      <td>24.0</td>\n",
       "      <td>case_vanilla</td>\n",
       "      <td>1600.0</td>\n",
       "      <td>180.0</td>\n",
       "      <td>10.908998</td>\n",
       "      <td>sparseIV</td>\n",
       "      <td>NaN</td>\n",
       "    </tr>\n",
       "    <tr>\n",
       "      <th>25</th>\n",
       "      <td>25.0</td>\n",
       "      <td>case_vanilla</td>\n",
       "      <td>1600.0</td>\n",
       "      <td>180.0</td>\n",
       "      <td>13.859319</td>\n",
       "      <td>sparseIV</td>\n",
       "      <td>NaN</td>\n",
       "    </tr>\n",
       "    <tr>\n",
       "      <th>26</th>\n",
       "      <td>26.0</td>\n",
       "      <td>case_vanilla</td>\n",
       "      <td>1600.0</td>\n",
       "      <td>180.0</td>\n",
       "      <td>10.288264</td>\n",
       "      <td>sparseIV</td>\n",
       "      <td>NaN</td>\n",
       "    </tr>\n",
       "    <tr>\n",
       "      <th>27</th>\n",
       "      <td>27.0</td>\n",
       "      <td>case_vanilla</td>\n",
       "      <td>1600.0</td>\n",
       "      <td>180.0</td>\n",
       "      <td>7.111324</td>\n",
       "      <td>sparseIV</td>\n",
       "      <td>NaN</td>\n",
       "    </tr>\n",
       "    <tr>\n",
       "      <th>28</th>\n",
       "      <td>28.0</td>\n",
       "      <td>case_vanilla</td>\n",
       "      <td>1600.0</td>\n",
       "      <td>180.0</td>\n",
       "      <td>12.932795</td>\n",
       "      <td>sparseIV</td>\n",
       "      <td>NaN</td>\n",
       "    </tr>\n",
       "    <tr>\n",
       "      <th>29</th>\n",
       "      <td>29.0</td>\n",
       "      <td>case_vanilla</td>\n",
       "      <td>1600.0</td>\n",
       "      <td>180.0</td>\n",
       "      <td>21.706419</td>\n",
       "      <td>sparseIV</td>\n",
       "      <td>NaN</td>\n",
       "    </tr>\n",
       "    <tr>\n",
       "      <th>0</th>\n",
       "      <td>NaN</td>\n",
       "      <td>case_vanilla</td>\n",
       "      <td>1600.0</td>\n",
       "      <td>NaN</td>\n",
       "      <td>8.715432</td>\n",
       "      <td>DFIV</td>\n",
       "      <td>180.0</td>\n",
       "    </tr>\n",
       "    <tr>\n",
       "      <th>1</th>\n",
       "      <td>NaN</td>\n",
       "      <td>case_vanilla</td>\n",
       "      <td>1600.0</td>\n",
       "      <td>NaN</td>\n",
       "      <td>12.159823</td>\n",
       "      <td>DFIV</td>\n",
       "      <td>180.0</td>\n",
       "    </tr>\n",
       "    <tr>\n",
       "      <th>2</th>\n",
       "      <td>NaN</td>\n",
       "      <td>case_vanilla</td>\n",
       "      <td>1600.0</td>\n",
       "      <td>NaN</td>\n",
       "      <td>6.657021</td>\n",
       "      <td>DFIV</td>\n",
       "      <td>180.0</td>\n",
       "    </tr>\n",
       "  </tbody>\n",
       "</table>\n",
       "</div>"
      ],
      "text/plain": [
       "    Unnamed: 0          case  data_size  test_size        mse     model  \\\n",
       "0          0.0  case_vanilla     1600.0      180.0  10.494213  sparseIV   \n",
       "1          1.0  case_vanilla     1600.0      180.0   9.783889  sparseIV   \n",
       "2          2.0  case_vanilla     1600.0      180.0  12.687496  sparseIV   \n",
       "3          3.0  case_vanilla     1600.0      180.0  15.497702  sparseIV   \n",
       "4          4.0  case_vanilla     1600.0      180.0   6.417971  sparseIV   \n",
       "5          5.0  case_vanilla     1600.0      180.0   9.237920  sparseIV   \n",
       "6          6.0  case_vanilla     1600.0      180.0  18.877758  sparseIV   \n",
       "7          7.0  case_vanilla     1600.0      180.0  14.849074  sparseIV   \n",
       "8          8.0  case_vanilla     1600.0      180.0  14.391256  sparseIV   \n",
       "9          9.0  case_vanilla     1600.0      180.0  12.277851  sparseIV   \n",
       "10        10.0  case_vanilla     1600.0      180.0   9.929561  sparseIV   \n",
       "11        11.0  case_vanilla     1600.0      180.0   7.476838  sparseIV   \n",
       "12        12.0  case_vanilla     1600.0      180.0   9.145131  sparseIV   \n",
       "13        13.0  case_vanilla     1600.0      180.0   7.486842  sparseIV   \n",
       "14        14.0  case_vanilla     1600.0      180.0   7.806522  sparseIV   \n",
       "15        15.0  case_vanilla     1600.0      180.0   9.302989  sparseIV   \n",
       "16        16.0  case_vanilla     1600.0      180.0   8.058527  sparseIV   \n",
       "17        17.0  case_vanilla     1600.0      180.0  15.320230  sparseIV   \n",
       "18        18.0  case_vanilla     1600.0      180.0   0.000504  sparseIV   \n",
       "19        19.0  case_vanilla     1600.0      180.0   8.208460  sparseIV   \n",
       "20        20.0  case_vanilla     1600.0      180.0  17.947430  sparseIV   \n",
       "21        21.0  case_vanilla     1600.0      180.0   9.933339  sparseIV   \n",
       "22        22.0  case_vanilla     1600.0      180.0   9.489941  sparseIV   \n",
       "23        23.0  case_vanilla     1600.0      180.0   9.268514  sparseIV   \n",
       "24        24.0  case_vanilla     1600.0      180.0  10.908998  sparseIV   \n",
       "25        25.0  case_vanilla     1600.0      180.0  13.859319  sparseIV   \n",
       "26        26.0  case_vanilla     1600.0      180.0  10.288264  sparseIV   \n",
       "27        27.0  case_vanilla     1600.0      180.0   7.111324  sparseIV   \n",
       "28        28.0  case_vanilla     1600.0      180.0  12.932795  sparseIV   \n",
       "29        29.0  case_vanilla     1600.0      180.0  21.706419  sparseIV   \n",
       "0          NaN  case_vanilla     1600.0        NaN   8.715432      DFIV   \n",
       "1          NaN  case_vanilla     1600.0        NaN  12.159823      DFIV   \n",
       "2          NaN  case_vanilla     1600.0        NaN   6.657021      DFIV   \n",
       "\n",
       "    val_size  \n",
       "0        NaN  \n",
       "1        NaN  \n",
       "2        NaN  \n",
       "3        NaN  \n",
       "4        NaN  \n",
       "5        NaN  \n",
       "6        NaN  \n",
       "7        NaN  \n",
       "8        NaN  \n",
       "9        NaN  \n",
       "10       NaN  \n",
       "11       NaN  \n",
       "12       NaN  \n",
       "13       NaN  \n",
       "14       NaN  \n",
       "15       NaN  \n",
       "16       NaN  \n",
       "17       NaN  \n",
       "18       NaN  \n",
       "19       NaN  \n",
       "20       NaN  \n",
       "21       NaN  \n",
       "22       NaN  \n",
       "23       NaN  \n",
       "24       NaN  \n",
       "25       NaN  \n",
       "26       NaN  \n",
       "27       NaN  \n",
       "28       NaN  \n",
       "29       NaN  \n",
       "0      180.0  \n",
       "1      180.0  \n",
       "2      180.0  "
      ]
     },
     "execution_count": 38,
     "metadata": {},
     "output_type": "execute_result"
    }
   ],
   "source": [
    "df_merge = pd.concat([df_sparseiv,df_dfiv], axis=0)\n",
    "df_merge"
   ]
  },
  {
   "cell_type": "code",
   "execution_count": 54,
   "metadata": {},
   "outputs": [
    {
     "data": {
      "application/vnd.plotly.v1+json": {
       "config": {
        "plotlyServerURL": "https://plot.ly"
       },
       "data": [
        {
         "alignmentgroup": "True",
         "boxpoints": "all",
         "hovertemplate": "model=%{x}<br>Mean Squared Error=%{y}<extra></extra>",
         "legendgroup": "",
         "marker": {
          "color": "#636efa"
         },
         "name": "",
         "notched": false,
         "offsetgroup": "",
         "orientation": "v",
         "showlegend": false,
         "type": "box",
         "x": [
          "sparseIV",
          "sparseIV",
          "sparseIV",
          "sparseIV",
          "sparseIV",
          "sparseIV",
          "sparseIV",
          "sparseIV",
          "sparseIV",
          "sparseIV",
          "sparseIV",
          "sparseIV",
          "sparseIV",
          "sparseIV",
          "sparseIV",
          "sparseIV",
          "sparseIV",
          "sparseIV",
          "sparseIV",
          "sparseIV",
          "sparseIV",
          "sparseIV",
          "sparseIV",
          "sparseIV",
          "sparseIV",
          "sparseIV",
          "sparseIV",
          "sparseIV",
          "sparseIV",
          "sparseIV",
          "DFIV",
          "DFIV",
          "DFIV"
         ],
         "x0": " ",
         "xaxis": "x",
         "y": [
          10.494212760478716,
          9.783888924943607,
          12.687496291697364,
          15.4977015034282,
          6.417970954449958,
          9.237920416542837,
          18.87775781982229,
          14.849073670411826,
          14.391255550626338,
          12.27785148140828,
          9.929561449927183,
          7.476837985712572,
          9.145131412494164,
          7.486841537250744,
          7.806521798026218,
          9.302989256791257,
          8.058527258071361,
          15.320230208947685,
          0.0005041885702187,
          8.208459743809398,
          17.94743015324858,
          9.93333913689601,
          9.489941205865524,
          9.268513845805504,
          10.908998261973402,
          13.85931915159376,
          10.288263945874872,
          7.111323642634046,
          12.932794989013372,
          21.70641913831546,
          8.715432167053223,
          12.159823417663574,
          6.6570210456848145
         ],
         "y0": " ",
         "yaxis": "y"
        }
       ],
       "layout": {
        "boxmode": "group",
        "font": {
         "size": 18
        },
        "height": 400,
        "legend": {
         "tracegroupgap": 0
        },
        "margin": {
         "t": 60
        },
        "template": {
         "data": {
          "bar": [
           {
            "error_x": {
             "color": "#2a3f5f"
            },
            "error_y": {
             "color": "#2a3f5f"
            },
            "marker": {
             "line": {
              "color": "#E5ECF6",
              "width": 0.5
             },
             "pattern": {
              "fillmode": "overlay",
              "size": 10,
              "solidity": 0.2
             }
            },
            "type": "bar"
           }
          ],
          "barpolar": [
           {
            "marker": {
             "line": {
              "color": "#E5ECF6",
              "width": 0.5
             },
             "pattern": {
              "fillmode": "overlay",
              "size": 10,
              "solidity": 0.2
             }
            },
            "type": "barpolar"
           }
          ],
          "carpet": [
           {
            "aaxis": {
             "endlinecolor": "#2a3f5f",
             "gridcolor": "white",
             "linecolor": "white",
             "minorgridcolor": "white",
             "startlinecolor": "#2a3f5f"
            },
            "baxis": {
             "endlinecolor": "#2a3f5f",
             "gridcolor": "white",
             "linecolor": "white",
             "minorgridcolor": "white",
             "startlinecolor": "#2a3f5f"
            },
            "type": "carpet"
           }
          ],
          "choropleth": [
           {
            "colorbar": {
             "outlinewidth": 0,
             "ticks": ""
            },
            "type": "choropleth"
           }
          ],
          "contour": [
           {
            "colorbar": {
             "outlinewidth": 0,
             "ticks": ""
            },
            "colorscale": [
             [
              0,
              "#0d0887"
             ],
             [
              0.1111111111111111,
              "#46039f"
             ],
             [
              0.2222222222222222,
              "#7201a8"
             ],
             [
              0.3333333333333333,
              "#9c179e"
             ],
             [
              0.4444444444444444,
              "#bd3786"
             ],
             [
              0.5555555555555556,
              "#d8576b"
             ],
             [
              0.6666666666666666,
              "#ed7953"
             ],
             [
              0.7777777777777778,
              "#fb9f3a"
             ],
             [
              0.8888888888888888,
              "#fdca26"
             ],
             [
              1,
              "#f0f921"
             ]
            ],
            "type": "contour"
           }
          ],
          "contourcarpet": [
           {
            "colorbar": {
             "outlinewidth": 0,
             "ticks": ""
            },
            "type": "contourcarpet"
           }
          ],
          "heatmap": [
           {
            "colorbar": {
             "outlinewidth": 0,
             "ticks": ""
            },
            "colorscale": [
             [
              0,
              "#0d0887"
             ],
             [
              0.1111111111111111,
              "#46039f"
             ],
             [
              0.2222222222222222,
              "#7201a8"
             ],
             [
              0.3333333333333333,
              "#9c179e"
             ],
             [
              0.4444444444444444,
              "#bd3786"
             ],
             [
              0.5555555555555556,
              "#d8576b"
             ],
             [
              0.6666666666666666,
              "#ed7953"
             ],
             [
              0.7777777777777778,
              "#fb9f3a"
             ],
             [
              0.8888888888888888,
              "#fdca26"
             ],
             [
              1,
              "#f0f921"
             ]
            ],
            "type": "heatmap"
           }
          ],
          "heatmapgl": [
           {
            "colorbar": {
             "outlinewidth": 0,
             "ticks": ""
            },
            "colorscale": [
             [
              0,
              "#0d0887"
             ],
             [
              0.1111111111111111,
              "#46039f"
             ],
             [
              0.2222222222222222,
              "#7201a8"
             ],
             [
              0.3333333333333333,
              "#9c179e"
             ],
             [
              0.4444444444444444,
              "#bd3786"
             ],
             [
              0.5555555555555556,
              "#d8576b"
             ],
             [
              0.6666666666666666,
              "#ed7953"
             ],
             [
              0.7777777777777778,
              "#fb9f3a"
             ],
             [
              0.8888888888888888,
              "#fdca26"
             ],
             [
              1,
              "#f0f921"
             ]
            ],
            "type": "heatmapgl"
           }
          ],
          "histogram": [
           {
            "marker": {
             "pattern": {
              "fillmode": "overlay",
              "size": 10,
              "solidity": 0.2
             }
            },
            "type": "histogram"
           }
          ],
          "histogram2d": [
           {
            "colorbar": {
             "outlinewidth": 0,
             "ticks": ""
            },
            "colorscale": [
             [
              0,
              "#0d0887"
             ],
             [
              0.1111111111111111,
              "#46039f"
             ],
             [
              0.2222222222222222,
              "#7201a8"
             ],
             [
              0.3333333333333333,
              "#9c179e"
             ],
             [
              0.4444444444444444,
              "#bd3786"
             ],
             [
              0.5555555555555556,
              "#d8576b"
             ],
             [
              0.6666666666666666,
              "#ed7953"
             ],
             [
              0.7777777777777778,
              "#fb9f3a"
             ],
             [
              0.8888888888888888,
              "#fdca26"
             ],
             [
              1,
              "#f0f921"
             ]
            ],
            "type": "histogram2d"
           }
          ],
          "histogram2dcontour": [
           {
            "colorbar": {
             "outlinewidth": 0,
             "ticks": ""
            },
            "colorscale": [
             [
              0,
              "#0d0887"
             ],
             [
              0.1111111111111111,
              "#46039f"
             ],
             [
              0.2222222222222222,
              "#7201a8"
             ],
             [
              0.3333333333333333,
              "#9c179e"
             ],
             [
              0.4444444444444444,
              "#bd3786"
             ],
             [
              0.5555555555555556,
              "#d8576b"
             ],
             [
              0.6666666666666666,
              "#ed7953"
             ],
             [
              0.7777777777777778,
              "#fb9f3a"
             ],
             [
              0.8888888888888888,
              "#fdca26"
             ],
             [
              1,
              "#f0f921"
             ]
            ],
            "type": "histogram2dcontour"
           }
          ],
          "mesh3d": [
           {
            "colorbar": {
             "outlinewidth": 0,
             "ticks": ""
            },
            "type": "mesh3d"
           }
          ],
          "parcoords": [
           {
            "line": {
             "colorbar": {
              "outlinewidth": 0,
              "ticks": ""
             }
            },
            "type": "parcoords"
           }
          ],
          "pie": [
           {
            "automargin": true,
            "type": "pie"
           }
          ],
          "scatter": [
           {
            "fillpattern": {
             "fillmode": "overlay",
             "size": 10,
             "solidity": 0.2
            },
            "type": "scatter"
           }
          ],
          "scatter3d": [
           {
            "line": {
             "colorbar": {
              "outlinewidth": 0,
              "ticks": ""
             }
            },
            "marker": {
             "colorbar": {
              "outlinewidth": 0,
              "ticks": ""
             }
            },
            "type": "scatter3d"
           }
          ],
          "scattercarpet": [
           {
            "marker": {
             "colorbar": {
              "outlinewidth": 0,
              "ticks": ""
             }
            },
            "type": "scattercarpet"
           }
          ],
          "scattergeo": [
           {
            "marker": {
             "colorbar": {
              "outlinewidth": 0,
              "ticks": ""
             }
            },
            "type": "scattergeo"
           }
          ],
          "scattergl": [
           {
            "marker": {
             "colorbar": {
              "outlinewidth": 0,
              "ticks": ""
             }
            },
            "type": "scattergl"
           }
          ],
          "scattermapbox": [
           {
            "marker": {
             "colorbar": {
              "outlinewidth": 0,
              "ticks": ""
             }
            },
            "type": "scattermapbox"
           }
          ],
          "scatterpolar": [
           {
            "marker": {
             "colorbar": {
              "outlinewidth": 0,
              "ticks": ""
             }
            },
            "type": "scatterpolar"
           }
          ],
          "scatterpolargl": [
           {
            "marker": {
             "colorbar": {
              "outlinewidth": 0,
              "ticks": ""
             }
            },
            "type": "scatterpolargl"
           }
          ],
          "scatterternary": [
           {
            "marker": {
             "colorbar": {
              "outlinewidth": 0,
              "ticks": ""
             }
            },
            "type": "scatterternary"
           }
          ],
          "surface": [
           {
            "colorbar": {
             "outlinewidth": 0,
             "ticks": ""
            },
            "colorscale": [
             [
              0,
              "#0d0887"
             ],
             [
              0.1111111111111111,
              "#46039f"
             ],
             [
              0.2222222222222222,
              "#7201a8"
             ],
             [
              0.3333333333333333,
              "#9c179e"
             ],
             [
              0.4444444444444444,
              "#bd3786"
             ],
             [
              0.5555555555555556,
              "#d8576b"
             ],
             [
              0.6666666666666666,
              "#ed7953"
             ],
             [
              0.7777777777777778,
              "#fb9f3a"
             ],
             [
              0.8888888888888888,
              "#fdca26"
             ],
             [
              1,
              "#f0f921"
             ]
            ],
            "type": "surface"
           }
          ],
          "table": [
           {
            "cells": {
             "fill": {
              "color": "#EBF0F8"
             },
             "line": {
              "color": "white"
             }
            },
            "header": {
             "fill": {
              "color": "#C8D4E3"
             },
             "line": {
              "color": "white"
             }
            },
            "type": "table"
           }
          ]
         },
         "layout": {
          "annotationdefaults": {
           "arrowcolor": "#2a3f5f",
           "arrowhead": 0,
           "arrowwidth": 1
          },
          "autotypenumbers": "strict",
          "coloraxis": {
           "colorbar": {
            "outlinewidth": 0,
            "ticks": ""
           }
          },
          "colorscale": {
           "diverging": [
            [
             0,
             "#8e0152"
            ],
            [
             0.1,
             "#c51b7d"
            ],
            [
             0.2,
             "#de77ae"
            ],
            [
             0.3,
             "#f1b6da"
            ],
            [
             0.4,
             "#fde0ef"
            ],
            [
             0.5,
             "#f7f7f7"
            ],
            [
             0.6,
             "#e6f5d0"
            ],
            [
             0.7,
             "#b8e186"
            ],
            [
             0.8,
             "#7fbc41"
            ],
            [
             0.9,
             "#4d9221"
            ],
            [
             1,
             "#276419"
            ]
           ],
           "sequential": [
            [
             0,
             "#0d0887"
            ],
            [
             0.1111111111111111,
             "#46039f"
            ],
            [
             0.2222222222222222,
             "#7201a8"
            ],
            [
             0.3333333333333333,
             "#9c179e"
            ],
            [
             0.4444444444444444,
             "#bd3786"
            ],
            [
             0.5555555555555556,
             "#d8576b"
            ],
            [
             0.6666666666666666,
             "#ed7953"
            ],
            [
             0.7777777777777778,
             "#fb9f3a"
            ],
            [
             0.8888888888888888,
             "#fdca26"
            ],
            [
             1,
             "#f0f921"
            ]
           ],
           "sequentialminus": [
            [
             0,
             "#0d0887"
            ],
            [
             0.1111111111111111,
             "#46039f"
            ],
            [
             0.2222222222222222,
             "#7201a8"
            ],
            [
             0.3333333333333333,
             "#9c179e"
            ],
            [
             0.4444444444444444,
             "#bd3786"
            ],
            [
             0.5555555555555556,
             "#d8576b"
            ],
            [
             0.6666666666666666,
             "#ed7953"
            ],
            [
             0.7777777777777778,
             "#fb9f3a"
            ],
            [
             0.8888888888888888,
             "#fdca26"
            ],
            [
             1,
             "#f0f921"
            ]
           ]
          },
          "colorway": [
           "#636efa",
           "#EF553B",
           "#00cc96",
           "#ab63fa",
           "#FFA15A",
           "#19d3f3",
           "#FF6692",
           "#B6E880",
           "#FF97FF",
           "#FECB52"
          ],
          "font": {
           "color": "#2a3f5f"
          },
          "geo": {
           "bgcolor": "white",
           "lakecolor": "white",
           "landcolor": "#E5ECF6",
           "showlakes": true,
           "showland": true,
           "subunitcolor": "white"
          },
          "hoverlabel": {
           "align": "left"
          },
          "hovermode": "closest",
          "mapbox": {
           "style": "light"
          },
          "paper_bgcolor": "white",
          "plot_bgcolor": "#E5ECF6",
          "polar": {
           "angularaxis": {
            "gridcolor": "white",
            "linecolor": "white",
            "ticks": ""
           },
           "bgcolor": "#E5ECF6",
           "radialaxis": {
            "gridcolor": "white",
            "linecolor": "white",
            "ticks": ""
           }
          },
          "scene": {
           "xaxis": {
            "backgroundcolor": "#E5ECF6",
            "gridcolor": "white",
            "gridwidth": 2,
            "linecolor": "white",
            "showbackground": true,
            "ticks": "",
            "zerolinecolor": "white"
           },
           "yaxis": {
            "backgroundcolor": "#E5ECF6",
            "gridcolor": "white",
            "gridwidth": 2,
            "linecolor": "white",
            "showbackground": true,
            "ticks": "",
            "zerolinecolor": "white"
           },
           "zaxis": {
            "backgroundcolor": "#E5ECF6",
            "gridcolor": "white",
            "gridwidth": 2,
            "linecolor": "white",
            "showbackground": true,
            "ticks": "",
            "zerolinecolor": "white"
           }
          },
          "shapedefaults": {
           "line": {
            "color": "#2a3f5f"
           }
          },
          "ternary": {
           "aaxis": {
            "gridcolor": "white",
            "linecolor": "white",
            "ticks": ""
           },
           "baxis": {
            "gridcolor": "white",
            "linecolor": "white",
            "ticks": ""
           },
           "bgcolor": "#E5ECF6",
           "caxis": {
            "gridcolor": "white",
            "linecolor": "white",
            "ticks": ""
           }
          },
          "title": {
           "x": 0.05
          },
          "xaxis": {
           "automargin": true,
           "gridcolor": "white",
           "linecolor": "white",
           "ticks": "",
           "title": {
            "standoff": 15
           },
           "zerolinecolor": "white",
           "zerolinewidth": 2
          },
          "yaxis": {
           "automargin": true,
           "gridcolor": "white",
           "linecolor": "white",
           "ticks": "",
           "title": {
            "standoff": 15
           },
           "zerolinecolor": "white",
           "zerolinewidth": 2
          }
         }
        },
        "width": 800,
        "xaxis": {
         "anchor": "y",
         "domain": [
          0,
          1
         ],
         "title": {
          "text": "model"
         }
        },
        "yaxis": {
         "anchor": "x",
         "domain": [
          0,
          1
         ],
         "title": {
          "text": "Mean Squared Error"
         }
        }
       }
      }
     },
     "metadata": {},
     "output_type": "display_data"
    }
   ],
   "source": [
    "fig = px.box(df_merge, x='model', y='mse',\n",
    "             points=\"all\",\n",
    "             height = 400, width = 800,\n",
    "             labels={\n",
    "                     \"mode\": \"Algorithm\",\n",
    "                     \"mse\": \"Mean Squared Error\",\n",
    "                 })\n",
    "fig.update_layout(\n",
    "    font=dict(\n",
    "        size=18\n",
    "    )\n",
    ")\n",
    "fig.show()\n",
    "fig.write_image(f\"{img_dir}/spaceiv_vanilla.pdf\")"
   ]
  },
  {
   "attachments": {},
   "cell_type": "markdown",
   "metadata": {},
   "source": [
    "# Viz Demand Dataset"
   ]
  },
  {
   "cell_type": "code",
   "execution_count": 22,
   "metadata": {},
   "outputs": [],
   "source": [
    "plt.rcParams[\"figure.figsize\"] = [7.50, 3.50]\n",
    "plt.rcParams[\"figure.autolayout\"] = True\n",
    "plt.rcParams.update({\n",
    "    \"figure.figsize\": [7.50, 3.50],\n",
    "    \"figure.autolayout\": True,\n",
    "    \"text.usetex\": True,\n",
    "    \"font.family\": \"sans-serif\",\n",
    "    'font.size': 16\n",
    "})\n",
    "\n",
    "data_size = 1000"
   ]
  },
  {
   "cell_type": "code",
   "execution_count": 23,
   "metadata": {},
   "outputs": [
    {
     "data": {
      "image/png": "[encoded data removed]",
      "text/plain": [
       "<Figure size 750x350 with 1 Axes>"
      ]
     },
     "metadata": {},
     "output_type": "display_data"
    }
   ],
   "source": [
    "def psi(t: np.ndarray) -> np.ndarray:\n",
    "    return 2 * ((t - 5) ** 4 / 600 + np.exp(-4 * (t - 5) ** 2) + t / 10 - 2)\n",
    "\n",
    "\n",
    "def f(p: np.ndarray, t: np.ndarray, s: np.ndarray) -> np.ndarray:\n",
    "    return 100 + (10 + p) * s * psi(t) - 2 * p\n",
    "\n",
    "t = np.linspace(0, 10, data_size)\n",
    "\n",
    "plt.plot(t, psi(t), color='blue')\n",
    "plt.title('Function $g(t) = 2((t-5)^4)/600 + \\exp(-4(t-5)^2) + t/10 - 2)$')\n",
    "plt.savefig(f'{img_dir}/time_function.pdf')\n",
    "plt.show()"
   ]
  },
  {
   "cell_type": "code",
   "execution_count": 26,
   "metadata": {},
   "outputs": [
    {
     "name": "stdout",
     "output_type": "stream",
     "text": [
      "min psi(t): -3.369931811094699\n",
      "min p: 1.780409133431803\n",
      "max psi(t): 0.08333333333333393\n",
      "max p: 28.500000000000004\n"
     ]
    }
   ],
   "source": [
    "min_t = 2.53379\n",
    "min_psi_t = psi(min_t)\n",
    "print(f'min psi(t): {min_psi_t}')\n",
    "z = 3\n",
    "min_p = 25 + min_psi_t * (z + 3) -3\n",
    "print(f'min p: {min_p}')\n",
    "\n",
    "max_t = 10\n",
    "max_psi_t = psi(max_t)\n",
    "print(f'max psi(t): {max_psi_t}')\n",
    "z = 3\n",
    "max_p = 25 + max_psi_t * (z + 3) + 3\n",
    "print(f'max p: {max_p}')"
   ]
  },
  {
   "cell_type": "code",
   "execution_count": 27,
   "metadata": {},
   "outputs": [],
   "source": [
    "rng = np.random.default_rng(seed=0)\n",
    "rho = 0.5\n",
    "emotion = rng.choice(list(range(1, 8)), data_size)\n",
    "time = rng.uniform(0, 10, data_size)\n",
    "cost = rng.normal(0, 1.0, data_size)\n",
    "noise_price = rng.normal(0, 1.0, data_size)\n",
    "noise_demand = rho * noise_price + rng.normal(0, np.sqrt(1 - rho ** 2), data_size)\n",
    "price = 25 + (cost + 3) * psi(time) + noise_price\n",
    "structural: np.ndarray = f(price, time, emotion).astype(float)\n",
    "outcome: np.ndarray = (structural + noise_demand).astype(float)\n",
    "\n",
    "price_scale = (price - min_p) / (max_p - min_p)\n",
    "sigmas = [0.2, 1, 1.8]\n",
    "hetero_noise_demand = [rho * noise_price + rng.normal(0, price_scale * sigma, data_size) for sigma in sigmas]"
   ]
  },
  {
   "cell_type": "code",
   "execution_count": 25,
   "metadata": {},
   "outputs": [],
   "source": [
    "# fig = px.scatter(x=price, y=noise_demand, width=800, height=400)\n",
    "# fig.update_traces(marker_size=10)\n",
    "# fig.show()"
   ]
  },
  {
   "cell_type": "code",
   "execution_count": 120,
   "metadata": {},
   "outputs": [],
   "source": [
    "# from plotly.subplots import make_subplots\n",
    "# import plotly.graph_objects as go\n",
    "\n",
    "# fig = make_subplots(rows=2, cols=2, subplot_titles=(r'$\\text{Demand Variance} = 1-\\rho^2$ = 0.75$',\n",
    "#                                                     r'$\\text{Demand Variance} = r(p) * 0.2$', \n",
    "#                                                     r'$\\text{Demand Variance} = r(p)$', \n",
    "#                                                     r'$\\text{Demand Variance} = $r(p) * 1.8$'))\n",
    "\n",
    "# fig.add_trace(go.Scatter(x=price, y=noise_demand, mode=\"markers\", marker=dict(color='blue', size=10)), row=1, col=1)\n",
    "\n",
    "# fig.add_trace(go.Scatter(x=price, y=hetero_noise_demand[0], mode=\"markers\", marker=dict(color='blue', size=10)), row=1, col=2)\n",
    "\n",
    "# fig.add_trace(go.Scatter(x=price, y=hetero_noise_demand[1], mode=\"markers\", marker=dict(color='blue', size=10)), row=2, col=1)\n",
    "\n",
    "# fig.add_trace(go.Scatter(x=price, y=hetero_noise_demand[2], mode=\"markers\", marker=dict(color='blue', size=10)), row=2, col=2)\n",
    "\n",
    "# fig.update_layout(height=800, width=1200, title_text=\"\", showlegend=False)\n",
    "\n",
    "# fig.show()"
   ]
  },
  {
   "cell_type": "code",
   "execution_count": 28,
   "metadata": {},
   "outputs": [
    {
     "data": {
      "image/png": "[encoded data removed]",
      "text/plain": [
       "<Figure size 1200x700 with 4 Axes>"
      ]
     },
     "metadata": {},
     "output_type": "display_data"
    }
   ],
   "source": [
    "fig, axs = plt.subplots(2, 2, figsize=(12, 7))\n",
    "\n",
    "axs[0, 0].scatter(price, noise_demand)\n",
    "axs[0, 0].set_title(r'Demand Variance = $1-\\rho ^2 = 0.75$')\n",
    "axs[0, 0].set_ylabel('The Noise of Demand')\n",
    "axs[0, 0].set_xlabel('Price')\n",
    "\n",
    "axs[0, 1].scatter(price, hetero_noise_demand[0])\n",
    "axs[0, 1].set_title(r'Demand Variance = $r(p) * 0.2$')\n",
    "axs[0, 1].set_ylabel('The Noise of Demand')\n",
    "axs[0, 1].set_xlabel('Price')\n",
    "\n",
    "axs[1, 0].scatter(price, hetero_noise_demand[1])\n",
    "axs[1, 0].set_title(r'Demand Variance = $r(p)$')\n",
    "axs[1, 0].set_ylabel('The Noise of Demand')\n",
    "axs[1, 0].set_xlabel('Price')\n",
    "\n",
    "axs[1, 1].scatter(price, hetero_noise_demand[2])\n",
    "axs[1, 1].set_title(r'Demand Variance = $r(p) * 1.8$')\n",
    "axs[1, 1].set_ylabel('The Noise of Demand')\n",
    "axs[1, 1].set_xlabel('Price')\n",
    "\n",
    "fig.savefig(f'{img_dir}/demand_noise.pdf')"
   ]
  },
  {
   "cell_type": "code",
   "execution_count": null,
   "metadata": {},
   "outputs": [],
   "source": []
  }
 ],
 "metadata": {
  "kernelspec": {
   "display_name": "Python 3 (ipykernel)",
   "language": "python",
   "name": "python3"
  },
  "language_info": {
   "codemirror_mode": {
    "name": "ipython",
    "version": 3
   },
   "file_extension": ".py",
   "mimetype": "text/x-python",
   "name": "python",
   "nbconvert_exporter": "python",
   "pygments_lexer": "ipython3",
   "version": "3.7.16"
  },
  "vscode": {
   "interpreter": {
    "hash": "13044e9446dc9e79fa0a14def05fedede05157fce78ba134978c65b5d53ab147"
   }
  }
 },
 "nbformat": 4,
 "nbformat_minor": 4
}
