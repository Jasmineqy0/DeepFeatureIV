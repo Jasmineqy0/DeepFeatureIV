{
 "cells": [
  {
   "cell_type": "code",
   "execution_count": 1,
   "metadata": {
    "tags": []
   },
   "outputs": [],
   "source": [
    "import plotly.express as px\n",
    "from glob import glob\n",
    "import os\n",
    "import pandas as pd\n",
    "import csv\n",
    "from collections import defaultdict"
   ]
  },
  {
   "cell_type": "code",
   "execution_count": 2,
   "metadata": {},
   "outputs": [],
   "source": [
    "# import plotly.io as pio\n",
    "# pio.renderers.default = 'iframe' # or 'notebook' or 'colab' or 'jupyterlab'"
   ]
  },
  {
   "cell_type": "code",
   "execution_count": 3,
   "metadata": {
    "tags": []
   },
   "outputs": [],
   "source": [
    "DUMP_DIR = '../dumps'\n",
    "dump = {'dfiv': 'dfiv',\n",
    "        'dfiv_parcs': 'dfiv_parcs',}"
   ]
  },
  {
   "cell_type": "code",
   "execution_count": 4,
   "metadata": {
    "tags": []
   },
   "outputs": [],
   "source": [
    "alldict = defaultdict(list)\n",
    "for key, dir in dump.items():\n",
    "    m = 0\n",
    "    for subdir in glob(os.path.join(DUMP_DIR, dir, 'data_size*')):\n",
    "        params = [param.split(':') for param in subdir.split('/')[-1].split('-')]\n",
    "        \n",
    "        if os.path.exists(os.path.join(subdir, 'result.csv')):\n",
    "            with open (os.path.join(subdir, 'result.csv'), 'r') as f:\n",
    "                reader = csv.reader(f)\n",
    "                mse = [float(row[0]) for row in list(reader)]\n",
    "                n = len(mse)\n",
    "                m += n\n",
    "\n",
    "            params = {param[0]: [param[1]] * n for param in params}\n",
    "            subdict = {**params, 'mse': mse, 'model': [key] * n}\n",
    "            alldict = {key: subdict[key] + alldict[key] for key in subdict.keys()}"
   ]
  },
  {
   "cell_type": "code",
   "execution_count": 5,
   "metadata": {
    "tags": []
   },
   "outputs": [
    {
     "data": {
      "text/html": [
       "<div>\n",
       "<style scoped>\n",
       "    .dataframe tbody tr th:only-of-type {\n",
       "        vertical-align: middle;\n",
       "    }\n",
       "\n",
       "    .dataframe tbody tr th {\n",
       "        vertical-align: top;\n",
       "    }\n",
       "\n",
       "    .dataframe thead th {\n",
       "        text-align: right;\n",
       "    }\n",
       "</style>\n",
       "<table border=\"1\" class=\"dataframe\">\n",
       "  <thead>\n",
       "    <tr style=\"text-align: right;\">\n",
       "      <th></th>\n",
       "      <th>data_size</th>\n",
       "      <th>rho</th>\n",
       "      <th>mse</th>\n",
       "      <th>model</th>\n",
       "    </tr>\n",
       "  </thead>\n",
       "  <tbody>\n",
       "    <tr>\n",
       "      <th>0</th>\n",
       "      <td>5000</td>\n",
       "      <td>0.9</td>\n",
       "      <td>223.873367</td>\n",
       "      <td>dfiv_parcs</td>\n",
       "    </tr>\n",
       "    <tr>\n",
       "      <th>1</th>\n",
       "      <td>5000</td>\n",
       "      <td>0.9</td>\n",
       "      <td>230.456345</td>\n",
       "      <td>dfiv_parcs</td>\n",
       "    </tr>\n",
       "    <tr>\n",
       "      <th>2</th>\n",
       "      <td>5000</td>\n",
       "      <td>0.9</td>\n",
       "      <td>200.590942</td>\n",
       "      <td>dfiv_parcs</td>\n",
       "    </tr>\n",
       "    <tr>\n",
       "      <th>3</th>\n",
       "      <td>5000</td>\n",
       "      <td>0.9</td>\n",
       "      <td>161.784332</td>\n",
       "      <td>dfiv_parcs</td>\n",
       "    </tr>\n",
       "    <tr>\n",
       "      <th>4</th>\n",
       "      <td>5000</td>\n",
       "      <td>0.9</td>\n",
       "      <td>233.797455</td>\n",
       "      <td>dfiv_parcs</td>\n",
       "    </tr>\n",
       "    <tr>\n",
       "      <th>...</th>\n",
       "      <td>...</td>\n",
       "      <td>...</td>\n",
       "      <td>...</td>\n",
       "      <td>...</td>\n",
       "    </tr>\n",
       "    <tr>\n",
       "      <th>235</th>\n",
       "      <td>1000</td>\n",
       "      <td>0.1</td>\n",
       "      <td>945.748230</td>\n",
       "      <td>dfiv</td>\n",
       "    </tr>\n",
       "    <tr>\n",
       "      <th>236</th>\n",
       "      <td>1000</td>\n",
       "      <td>0.1</td>\n",
       "      <td>1251.022095</td>\n",
       "      <td>dfiv</td>\n",
       "    </tr>\n",
       "    <tr>\n",
       "      <th>237</th>\n",
       "      <td>1000</td>\n",
       "      <td>0.1</td>\n",
       "      <td>861.942566</td>\n",
       "      <td>dfiv</td>\n",
       "    </tr>\n",
       "    <tr>\n",
       "      <th>238</th>\n",
       "      <td>1000</td>\n",
       "      <td>0.1</td>\n",
       "      <td>869.289124</td>\n",
       "      <td>dfiv</td>\n",
       "    </tr>\n",
       "    <tr>\n",
       "      <th>239</th>\n",
       "      <td>1000</td>\n",
       "      <td>0.1</td>\n",
       "      <td>781.412415</td>\n",
       "      <td>dfiv</td>\n",
       "    </tr>\n",
       "  </tbody>\n",
       "</table>\n",
       "<p>240 rows × 4 columns</p>\n",
       "</div>"
      ],
      "text/plain": [
       "    data_size  rho          mse       model\n",
       "0        5000  0.9   223.873367  dfiv_parcs\n",
       "1        5000  0.9   230.456345  dfiv_parcs\n",
       "2        5000  0.9   200.590942  dfiv_parcs\n",
       "3        5000  0.9   161.784332  dfiv_parcs\n",
       "4        5000  0.9   233.797455  dfiv_parcs\n",
       "..        ...  ...          ...         ...\n",
       "235      1000  0.1   945.748230        dfiv\n",
       "236      1000  0.1  1251.022095        dfiv\n",
       "237      1000  0.1   861.942566        dfiv\n",
       "238      1000  0.1   869.289124        dfiv\n",
       "239      1000  0.1   781.412415        dfiv\n",
       "\n",
       "[240 rows x 4 columns]"
      ]
     },
     "execution_count": 5,
     "metadata": {},
     "output_type": "execute_result"
    }
   ],
   "source": [
    "df = pd.DataFrame(alldict)\n",
    "df"
   ]
  },
  {
   "cell_type": "code",
   "execution_count": 8,
   "metadata": {
    "tags": []
   },
   "outputs": [
    {
     "data": {
      "application/vnd.plotly.v1+json": {
       "config": {
        "plotlyServerURL": "https://plot.ly"
       },
       "data": [
        {
         "alignmentgroup": "True",
         "hovertemplate": "model=dfiv_parcs<br>rho=0.9<br>data_size=%{x}<br>mse=%{y}<extra></extra>",
         "legendgroup": "dfiv_parcs",
         "marker": {
          "color": "#636efa"
         },
         "name": "dfiv_parcs",
         "notched": false,
         "offsetgroup": "dfiv_parcs",
         "orientation": "v",
         "showlegend": true,
         "type": "box",
         "x": [
          "5000",
          "5000",
          "5000",
          "5000",
          "5000",
          "5000",
          "5000",
          "5000",
          "5000",
          "5000",
          "5000",
          "5000",
          "5000",
          "5000",
          "5000",
          "5000",
          "5000",
          "5000",
          "5000",
          "5000",
          "1000",
          "1000",
          "1000",
          "1000",
          "1000",
          "1000",
          "1000",
          "1000",
          "1000",
          "1000",
          "1000",
          "1000",
          "1000",
          "1000",
          "1000",
          "1000",
          "1000",
          "1000",
          "1000",
          "1000"
         ],
         "x0": " ",
         "xaxis": "x",
         "y": [
          223.8733673095703,
          230.4563446044922,
          200.5909423828125,
          161.78433227539062,
          233.79745483398438,
          248.19488525390625,
          328.9227600097656,
          270.4985046386719,
          261.10150146484375,
          182.3575439453125,
          209.43026733398438,
          173.45721435546875,
          249.0176544189453,
          163.07559204101562,
          205.2132568359375,
          192.70616149902344,
          165.11065673828125,
          243.55093383789062,
          322.800048828125,
          223.0779266357422,
          663.688720703125,
          664.9540405273438,
          757.5601196289062,
          1179.0074462890625,
          716.9277954101562,
          1607.758056640625,
          1006.2972412109375,
          1312.4549560546875,
          948.3739013671875,
          1956.9061279296875,
          1216.8927001953125,
          1710.2044677734375,
          1095.04052734375,
          1774.388427734375,
          789.1429443359375,
          1029.1190185546875,
          1506.4730224609375,
          1141.9390869140625,
          1184.296875,
          1940.5628662109375
         ],
         "y0": " ",
         "yaxis": "y"
        },
        {
         "alignmentgroup": "True",
         "hovertemplate": "model=dfiv_parcs<br>rho=0.5<br>data_size=%{x}<br>mse=%{y}<extra></extra>",
         "legendgroup": "dfiv_parcs",
         "marker": {
          "color": "#636efa"
         },
         "name": "dfiv_parcs",
         "notched": false,
         "offsetgroup": "dfiv_parcs",
         "orientation": "v",
         "showlegend": false,
         "type": "box",
         "x": [
          "5000",
          "5000",
          "5000",
          "5000",
          "5000",
          "5000",
          "5000",
          "5000",
          "5000",
          "5000",
          "5000",
          "5000",
          "5000",
          "5000",
          "5000",
          "5000",
          "5000",
          "5000",
          "5000",
          "5000",
          "1000",
          "1000",
          "1000",
          "1000",
          "1000",
          "1000",
          "1000",
          "1000",
          "1000",
          "1000",
          "1000",
          "1000",
          "1000",
          "1000",
          "1000",
          "1000",
          "1000",
          "1000",
          "1000",
          "1000"
         ],
         "x0": " ",
         "xaxis": "x2",
         "y": [
          282.8143005371094,
          249.26206970214844,
          195.06646728515625,
          250.65765380859375,
          208.42013549804688,
          264.98773193359375,
          209.40838623046875,
          342.4515075683594,
          310.6925354003906,
          179.06651306152344,
          182.96624755859375,
          263.66717529296875,
          209.6585235595703,
          219.36752319335938,
          185.9822235107422,
          215.4588623046875,
          258.0555725097656,
          162.85142517089844,
          192.40660095214844,
          254.83956909179688,
          745.2469482421875,
          1790.5550537109375,
          1327.691650390625,
          824.21533203125,
          667.9669799804688,
          1336.04931640625,
          1082.8270263671875,
          1379.98486328125,
          924.3265380859375,
          803.3404541015625,
          1598.446044921875,
          1077.0400390625,
          1056.14013671875,
          1219.290771484375,
          455.6007080078125,
          790.0994873046875,
          952.7578735351562,
          1229.6802978515625,
          849.3632202148438,
          1393.3851318359375
         ],
         "y0": " ",
         "yaxis": "y2"
        },
        {
         "alignmentgroup": "True",
         "hovertemplate": "model=dfiv_parcs<br>rho=0.1<br>data_size=%{x}<br>mse=%{y}<extra></extra>",
         "legendgroup": "dfiv_parcs",
         "marker": {
          "color": "#636efa"
         },
         "name": "dfiv_parcs",
         "notched": false,
         "offsetgroup": "dfiv_parcs",
         "orientation": "v",
         "showlegend": false,
         "type": "box",
         "x": [
          "5000",
          "5000",
          "5000",
          "5000",
          "5000",
          "5000",
          "5000",
          "5000",
          "5000",
          "5000",
          "5000",
          "5000",
          "5000",
          "5000",
          "5000",
          "5000",
          "5000",
          "5000",
          "5000",
          "5000",
          "1000",
          "1000",
          "1000",
          "1000",
          "1000",
          "1000",
          "1000",
          "1000",
          "1000",
          "1000",
          "1000",
          "1000",
          "1000",
          "1000",
          "1000",
          "1000",
          "1000",
          "1000",
          "1000",
          "1000"
         ],
         "x0": " ",
         "xaxis": "x3",
         "y": [
          145.14578247070312,
          225.21719360351562,
          193.433349609375,
          245.47787475585938,
          206.11724853515625,
          176.50140380859375,
          174.62596130371094,
          260.520263671875,
          232.9279022216797,
          262.3968200683594,
          224.688232421875,
          234.92970275878906,
          185.15463256835938,
          228.79310607910156,
          284.740234375,
          182.76974487304688,
          163.57025146484375,
          229.05319213867188,
          285.8125305175781,
          201.43118286132812,
          1106.088623046875,
          1156.4781494140625,
          1389.07666015625,
          887.3645629882812,
          711.9879150390625,
          1359.571533203125,
          532.2872924804688,
          1118.871826171875,
          1395.66845703125,
          802.1204223632812,
          2259.6748046875,
          1805.1466064453125,
          1106.6773681640625,
          1180.300048828125,
          1071.24365234375,
          1237.7476806640625,
          1250.8050537109375,
          1792.4957275390625,
          1538.207275390625,
          1438.120849609375
         ],
         "y0": " ",
         "yaxis": "y3"
        },
        {
         "alignmentgroup": "True",
         "hovertemplate": "model=dfiv<br>rho=0.9<br>data_size=%{x}<br>mse=%{y}<extra></extra>",
         "legendgroup": "dfiv",
         "marker": {
          "color": "#EF553B"
         },
         "name": "dfiv",
         "notched": false,
         "offsetgroup": "dfiv",
         "orientation": "v",
         "showlegend": true,
         "type": "box",
         "x": [
          "5000",
          "5000",
          "5000",
          "5000",
          "5000",
          "5000",
          "5000",
          "5000",
          "5000",
          "5000",
          "5000",
          "5000",
          "5000",
          "5000",
          "5000",
          "5000",
          "5000",
          "5000",
          "5000",
          "5000",
          "1000",
          "1000",
          "1000",
          "1000",
          "1000",
          "1000",
          "1000",
          "1000",
          "1000",
          "1000",
          "1000",
          "1000",
          "1000",
          "1000",
          "1000",
          "1000",
          "1000",
          "1000",
          "1000",
          "1000"
         ],
         "x0": " ",
         "xaxis": "x",
         "y": [
          210.01914978027344,
          229.90963745117188,
          308.251953125,
          374.0765075683594,
          213.0401611328125,
          234.0701141357422,
          148.1262664794922,
          183.78321838378906,
          210.49118041992188,
          155.9683074951172,
          229.602783203125,
          329.32568359375,
          169.61695861816406,
          181.37855529785156,
          206.5830535888672,
          248.75192260742188,
          255.81259155273438,
          212.21343994140625,
          187.347412109375,
          131.90963745117188,
          1293.651123046875,
          1392.00146484375,
          997.9671630859375,
          1422.75927734375,
          870.7478637695312,
          1009.6539306640625,
          658.273193359375,
          980.2914428710938,
          816.7849731445312,
          885.6718139648438,
          1527.32177734375,
          1018.5767822265625,
          985.1666870117188,
          1672.4146728515625,
          1255.5927734375,
          1489.7860107421875,
          1573.826904296875,
          1970.0606689453125,
          1661.1748046875,
          1013.992919921875
         ],
         "y0": " ",
         "yaxis": "y"
        },
        {
         "alignmentgroup": "True",
         "hovertemplate": "model=dfiv<br>rho=0.5<br>data_size=%{x}<br>mse=%{y}<extra></extra>",
         "legendgroup": "dfiv",
         "marker": {
          "color": "#EF553B"
         },
         "name": "dfiv",
         "notched": false,
         "offsetgroup": "dfiv",
         "orientation": "v",
         "showlegend": false,
         "type": "box",
         "x": [
          "5000",
          "5000",
          "5000",
          "5000",
          "5000",
          "5000",
          "5000",
          "5000",
          "5000",
          "5000",
          "5000",
          "5000",
          "5000",
          "5000",
          "5000",
          "5000",
          "5000",
          "5000",
          "5000",
          "5000",
          "1000",
          "1000",
          "1000",
          "1000",
          "1000",
          "1000",
          "1000",
          "1000",
          "1000",
          "1000",
          "1000",
          "1000",
          "1000",
          "1000",
          "1000",
          "1000",
          "1000",
          "1000",
          "1000",
          "1000"
         ],
         "x0": " ",
         "xaxis": "x2",
         "y": [
          144.1354522705078,
          179.46282958984375,
          233.7452850341797,
          159.71482849121094,
          288.9473876953125,
          136.5225372314453,
          207.50689697265625,
          175.65185546875,
          218.00946044921875,
          226.4305419921875,
          238.36033630371094,
          252.34230041503906,
          177.2018585205078,
          238.71990966796875,
          179.55599975585938,
          227.39292907714844,
          177.25216674804688,
          207.80117797851562,
          213.50888061523438,
          243.030517578125,
          1103.0860595703125,
          991.045166015625,
          1159.6328125,
          1002.8910522460938,
          984.5548095703125,
          704.8423461914062,
          651.168212890625,
          993.9177856445312,
          1000.8713989257812,
          900.1435546875,
          583.8814086914062,
          1134.111083984375,
          1062.130126953125,
          1256.413330078125,
          737.1502075195312,
          719.1884155273438,
          981.6337280273438,
          783.821044921875,
          1486.605224609375,
          1246.158447265625
         ],
         "y0": " ",
         "yaxis": "y2"
        },
        {
         "alignmentgroup": "True",
         "hovertemplate": "model=dfiv<br>rho=0.1<br>data_size=%{x}<br>mse=%{y}<extra></extra>",
         "legendgroup": "dfiv",
         "marker": {
          "color": "#EF553B"
         },
         "name": "dfiv",
         "notched": false,
         "offsetgroup": "dfiv",
         "orientation": "v",
         "showlegend": false,
         "type": "box",
         "x": [
          "5000",
          "5000",
          "5000",
          "5000",
          "5000",
          "5000",
          "5000",
          "5000",
          "5000",
          "5000",
          "5000",
          "5000",
          "5000",
          "5000",
          "5000",
          "5000",
          "5000",
          "5000",
          "5000",
          "5000",
          "1000",
          "1000",
          "1000",
          "1000",
          "1000",
          "1000",
          "1000",
          "1000",
          "1000",
          "1000",
          "1000",
          "1000",
          "1000",
          "1000",
          "1000",
          "1000",
          "1000",
          "1000",
          "1000",
          "1000"
         ],
         "x0": " ",
         "xaxis": "x3",
         "y": [
          202.98855590820312,
          204.78843688964844,
          183.9024200439453,
          325.5378723144531,
          308.36688232421875,
          209.78555297851562,
          171.72125244140625,
          191.79527282714844,
          179.68927001953125,
          269.0150146484375,
          186.27511596679688,
          192.72377014160156,
          226.05270385742188,
          228.21932983398438,
          233.2335205078125,
          195.9906005859375,
          269.65765380859375,
          184.20375061035156,
          216.16824340820312,
          218.2612762451172,
          964.86572265625,
          924.3941040039062,
          1064.8028564453125,
          1234.843994140625,
          1404.4610595703125,
          1000.7916870117188,
          697.8851318359375,
          723.0446166992188,
          1381.20458984375,
          943.5114135742188,
          918.0625,
          758.3379516601562,
          742.9388427734375,
          903.9166259765625,
          1165.1334228515625,
          945.7482299804688,
          1251.0220947265625,
          861.9425659179688,
          869.2891235351562,
          781.4124145507812
         ],
         "y0": " ",
         "yaxis": "y3"
        }
       ],
       "layout": {
        "annotations": [
         {
          "font": {},
          "showarrow": false,
          "text": "rho=0.9",
          "x": 0.15999999999999998,
          "xanchor": "center",
          "xref": "paper",
          "y": 1,
          "yanchor": "bottom",
          "yref": "paper"
         },
         {
          "font": {},
          "showarrow": false,
          "text": "rho=0.5",
          "x": 0.49999999999999994,
          "xanchor": "center",
          "xref": "paper",
          "y": 1,
          "yanchor": "bottom",
          "yref": "paper"
         },
         {
          "font": {},
          "showarrow": false,
          "text": "rho=0.1",
          "x": 0.8399999999999999,
          "xanchor": "center",
          "xref": "paper",
          "y": 1,
          "yanchor": "bottom",
          "yref": "paper"
         }
        ],
        "boxmode": "group",
        "legend": {
         "title": {
          "text": "model"
         },
         "tracegroupgap": 0
        },
        "margin": {
         "t": 60
        },
        "template": {
         "data": {
          "bar": [
           {
            "error_x": {
             "color": "#2a3f5f"
            },
            "error_y": {
             "color": "#2a3f5f"
            },
            "marker": {
             "line": {
              "color": "#E5ECF6",
              "width": 0.5
             },
             "pattern": {
              "fillmode": "overlay",
              "size": 10,
              "solidity": 0.2
             }
            },
            "type": "bar"
           }
          ],
          "barpolar": [
           {
            "marker": {
             "line": {
              "color": "#E5ECF6",
              "width": 0.5
             },
             "pattern": {
              "fillmode": "overlay",
              "size": 10,
              "solidity": 0.2
             }
            },
            "type": "barpolar"
           }
          ],
          "carpet": [
           {
            "aaxis": {
             "endlinecolor": "#2a3f5f",
             "gridcolor": "white",
             "linecolor": "white",
             "minorgridcolor": "white",
             "startlinecolor": "#2a3f5f"
            },
            "baxis": {
             "endlinecolor": "#2a3f5f",
             "gridcolor": "white",
             "linecolor": "white",
             "minorgridcolor": "white",
             "startlinecolor": "#2a3f5f"
            },
            "type": "carpet"
           }
          ],
          "choropleth": [
           {
            "colorbar": {
             "outlinewidth": 0,
             "ticks": ""
            },
            "type": "choropleth"
           }
          ],
          "contour": [
           {
            "colorbar": {
             "outlinewidth": 0,
             "ticks": ""
            },
            "colorscale": [
             [
              0,
              "#0d0887"
             ],
             [
              0.1111111111111111,
              "#46039f"
             ],
             [
              0.2222222222222222,
              "#7201a8"
             ],
             [
              0.3333333333333333,
              "#9c179e"
             ],
             [
              0.4444444444444444,
              "#bd3786"
             ],
             [
              0.5555555555555556,
              "#d8576b"
             ],
             [
              0.6666666666666666,
              "#ed7953"
             ],
             [
              0.7777777777777778,
              "#fb9f3a"
             ],
             [
              0.8888888888888888,
              "#fdca26"
             ],
             [
              1,
              "#f0f921"
             ]
            ],
            "type": "contour"
           }
          ],
          "contourcarpet": [
           {
            "colorbar": {
             "outlinewidth": 0,
             "ticks": ""
            },
            "type": "contourcarpet"
           }
          ],
          "heatmap": [
           {
            "colorbar": {
             "outlinewidth": 0,
             "ticks": ""
            },
            "colorscale": [
             [
              0,
              "#0d0887"
             ],
             [
              0.1111111111111111,
              "#46039f"
             ],
             [
              0.2222222222222222,
              "#7201a8"
             ],
             [
              0.3333333333333333,
              "#9c179e"
             ],
             [
              0.4444444444444444,
              "#bd3786"
             ],
             [
              0.5555555555555556,
              "#d8576b"
             ],
             [
              0.6666666666666666,
              "#ed7953"
             ],
             [
              0.7777777777777778,
              "#fb9f3a"
             ],
             [
              0.8888888888888888,
              "#fdca26"
             ],
             [
              1,
              "#f0f921"
             ]
            ],
            "type": "heatmap"
           }
          ],
          "heatmapgl": [
           {
            "colorbar": {
             "outlinewidth": 0,
             "ticks": ""
            },
            "colorscale": [
             [
              0,
              "#0d0887"
             ],
             [
              0.1111111111111111,
              "#46039f"
             ],
             [
              0.2222222222222222,
              "#7201a8"
             ],
             [
              0.3333333333333333,
              "#9c179e"
             ],
             [
              0.4444444444444444,
              "#bd3786"
             ],
             [
              0.5555555555555556,
              "#d8576b"
             ],
             [
              0.6666666666666666,
              "#ed7953"
             ],
             [
              0.7777777777777778,
              "#fb9f3a"
             ],
             [
              0.8888888888888888,
              "#fdca26"
             ],
             [
              1,
              "#f0f921"
             ]
            ],
            "type": "heatmapgl"
           }
          ],
          "histogram": [
           {
            "marker": {
             "pattern": {
              "fillmode": "overlay",
              "size": 10,
              "solidity": 0.2
             }
            },
            "type": "histogram"
           }
          ],
          "histogram2d": [
           {
            "colorbar": {
             "outlinewidth": 0,
             "ticks": ""
            },
            "colorscale": [
             [
              0,
              "#0d0887"
             ],
             [
              0.1111111111111111,
              "#46039f"
             ],
             [
              0.2222222222222222,
              "#7201a8"
             ],
             [
              0.3333333333333333,
              "#9c179e"
             ],
             [
              0.4444444444444444,
              "#bd3786"
             ],
             [
              0.5555555555555556,
              "#d8576b"
             ],
             [
              0.6666666666666666,
              "#ed7953"
             ],
             [
              0.7777777777777778,
              "#fb9f3a"
             ],
             [
              0.8888888888888888,
              "#fdca26"
             ],
             [
              1,
              "#f0f921"
             ]
            ],
            "type": "histogram2d"
           }
          ],
          "histogram2dcontour": [
           {
            "colorbar": {
             "outlinewidth": 0,
             "ticks": ""
            },
            "colorscale": [
             [
              0,
              "#0d0887"
             ],
             [
              0.1111111111111111,
              "#46039f"
             ],
             [
              0.2222222222222222,
              "#7201a8"
             ],
             [
              0.3333333333333333,
              "#9c179e"
             ],
             [
              0.4444444444444444,
              "#bd3786"
             ],
             [
              0.5555555555555556,
              "#d8576b"
             ],
             [
              0.6666666666666666,
              "#ed7953"
             ],
             [
              0.7777777777777778,
              "#fb9f3a"
             ],
             [
              0.8888888888888888,
              "#fdca26"
             ],
             [
              1,
              "#f0f921"
             ]
            ],
            "type": "histogram2dcontour"
           }
          ],
          "mesh3d": [
           {
            "colorbar": {
             "outlinewidth": 0,
             "ticks": ""
            },
            "type": "mesh3d"
           }
          ],
          "parcoords": [
           {
            "line": {
             "colorbar": {
              "outlinewidth": 0,
              "ticks": ""
             }
            },
            "type": "parcoords"
           }
          ],
          "pie": [
           {
            "automargin": true,
            "type": "pie"
           }
          ],
          "scatter": [
           {
            "fillpattern": {
             "fillmode": "overlay",
             "size": 10,
             "solidity": 0.2
            },
            "type": "scatter"
           }
          ],
          "scatter3d": [
           {
            "line": {
             "colorbar": {
              "outlinewidth": 0,
              "ticks": ""
             }
            },
            "marker": {
             "colorbar": {
              "outlinewidth": 0,
              "ticks": ""
             }
            },
            "type": "scatter3d"
           }
          ],
          "scattercarpet": [
           {
            "marker": {
             "colorbar": {
              "outlinewidth": 0,
              "ticks": ""
             }
            },
            "type": "scattercarpet"
           }
          ],
          "scattergeo": [
           {
            "marker": {
             "colorbar": {
              "outlinewidth": 0,
              "ticks": ""
             }
            },
            "type": "scattergeo"
           }
          ],
          "scattergl": [
           {
            "marker": {
             "colorbar": {
              "outlinewidth": 0,
              "ticks": ""
             }
            },
            "type": "scattergl"
           }
          ],
          "scattermapbox": [
           {
            "marker": {
             "colorbar": {
              "outlinewidth": 0,
              "ticks": ""
             }
            },
            "type": "scattermapbox"
           }
          ],
          "scatterpolar": [
           {
            "marker": {
             "colorbar": {
              "outlinewidth": 0,
              "ticks": ""
             }
            },
            "type": "scatterpolar"
           }
          ],
          "scatterpolargl": [
           {
            "marker": {
             "colorbar": {
              "outlinewidth": 0,
              "ticks": ""
             }
            },
            "type": "scatterpolargl"
           }
          ],
          "scatterternary": [
           {
            "marker": {
             "colorbar": {
              "outlinewidth": 0,
              "ticks": ""
             }
            },
            "type": "scatterternary"
           }
          ],
          "surface": [
           {
            "colorbar": {
             "outlinewidth": 0,
             "ticks": ""
            },
            "colorscale": [
             [
              0,
              "#0d0887"
             ],
             [
              0.1111111111111111,
              "#46039f"
             ],
             [
              0.2222222222222222,
              "#7201a8"
             ],
             [
              0.3333333333333333,
              "#9c179e"
             ],
             [
              0.4444444444444444,
              "#bd3786"
             ],
             [
              0.5555555555555556,
              "#d8576b"
             ],
             [
              0.6666666666666666,
              "#ed7953"
             ],
             [
              0.7777777777777778,
              "#fb9f3a"
             ],
             [
              0.8888888888888888,
              "#fdca26"
             ],
             [
              1,
              "#f0f921"
             ]
            ],
            "type": "surface"
           }
          ],
          "table": [
           {
            "cells": {
             "fill": {
              "color": "#EBF0F8"
             },
             "line": {
              "color": "white"
             }
            },
            "header": {
             "fill": {
              "color": "#C8D4E3"
             },
             "line": {
              "color": "white"
             }
            },
            "type": "table"
           }
          ]
         },
         "layout": {
          "annotationdefaults": {
           "arrowcolor": "#2a3f5f",
           "arrowhead": 0,
           "arrowwidth": 1
          },
          "autotypenumbers": "strict",
          "coloraxis": {
           "colorbar": {
            "outlinewidth": 0,
            "ticks": ""
           }
          },
          "colorscale": {
           "diverging": [
            [
             0,
             "#8e0152"
            ],
            [
             0.1,
             "#c51b7d"
            ],
            [
             0.2,
             "#de77ae"
            ],
            [
             0.3,
             "#f1b6da"
            ],
            [
             0.4,
             "#fde0ef"
            ],
            [
             0.5,
             "#f7f7f7"
            ],
            [
             0.6,
             "#e6f5d0"
            ],
            [
             0.7,
             "#b8e186"
            ],
            [
             0.8,
             "#7fbc41"
            ],
            [
             0.9,
             "#4d9221"
            ],
            [
             1,
             "#276419"
            ]
           ],
           "sequential": [
            [
             0,
             "#0d0887"
            ],
            [
             0.1111111111111111,
             "#46039f"
            ],
            [
             0.2222222222222222,
             "#7201a8"
            ],
            [
             0.3333333333333333,
             "#9c179e"
            ],
            [
             0.4444444444444444,
             "#bd3786"
            ],
            [
             0.5555555555555556,
             "#d8576b"
            ],
            [
             0.6666666666666666,
             "#ed7953"
            ],
            [
             0.7777777777777778,
             "#fb9f3a"
            ],
            [
             0.8888888888888888,
             "#fdca26"
            ],
            [
             1,
             "#f0f921"
            ]
           ],
           "sequentialminus": [
            [
             0,
             "#0d0887"
            ],
            [
             0.1111111111111111,
             "#46039f"
            ],
            [
             0.2222222222222222,
             "#7201a8"
            ],
            [
             0.3333333333333333,
             "#9c179e"
            ],
            [
             0.4444444444444444,
             "#bd3786"
            ],
            [
             0.5555555555555556,
             "#d8576b"
            ],
            [
             0.6666666666666666,
             "#ed7953"
            ],
            [
             0.7777777777777778,
             "#fb9f3a"
            ],
            [
             0.8888888888888888,
             "#fdca26"
            ],
            [
             1,
             "#f0f921"
            ]
           ]
          },
          "colorway": [
           "#636efa",
           "#EF553B",
           "#00cc96",
           "#ab63fa",
           "#FFA15A",
           "#19d3f3",
           "#FF6692",
           "#B6E880",
           "#FF97FF",
           "#FECB52"
          ],
          "font": {
           "color": "#2a3f5f"
          },
          "geo": {
           "bgcolor": "white",
           "lakecolor": "white",
           "landcolor": "#E5ECF6",
           "showlakes": true,
           "showland": true,
           "subunitcolor": "white"
          },
          "hoverlabel": {
           "align": "left"
          },
          "hovermode": "closest",
          "mapbox": {
           "style": "light"
          },
          "paper_bgcolor": "white",
          "plot_bgcolor": "#E5ECF6",
          "polar": {
           "angularaxis": {
            "gridcolor": "white",
            "linecolor": "white",
            "ticks": ""
           },
           "bgcolor": "#E5ECF6",
           "radialaxis": {
            "gridcolor": "white",
            "linecolor": "white",
            "ticks": ""
           }
          },
          "scene": {
           "xaxis": {
            "backgroundcolor": "#E5ECF6",
            "gridcolor": "white",
            "gridwidth": 2,
            "linecolor": "white",
            "showbackground": true,
            "ticks": "",
            "zerolinecolor": "white"
           },
           "yaxis": {
            "backgroundcolor": "#E5ECF6",
            "gridcolor": "white",
            "gridwidth": 2,
            "linecolor": "white",
            "showbackground": true,
            "ticks": "",
            "zerolinecolor": "white"
           },
           "zaxis": {
            "backgroundcolor": "#E5ECF6",
            "gridcolor": "white",
            "gridwidth": 2,
            "linecolor": "white",
            "showbackground": true,
            "ticks": "",
            "zerolinecolor": "white"
           }
          },
          "shapedefaults": {
           "line": {
            "color": "#2a3f5f"
           }
          },
          "ternary": {
           "aaxis": {
            "gridcolor": "white",
            "linecolor": "white",
            "ticks": ""
           },
           "baxis": {
            "gridcolor": "white",
            "linecolor": "white",
            "ticks": ""
           },
           "bgcolor": "#E5ECF6",
           "caxis": {
            "gridcolor": "white",
            "linecolor": "white",
            "ticks": ""
           }
          },
          "title": {
           "x": 0.05
          },
          "xaxis": {
           "automargin": true,
           "gridcolor": "white",
           "linecolor": "white",
           "ticks": "",
           "title": {
            "standoff": 15
           },
           "zerolinecolor": "white",
           "zerolinewidth": 2
          },
          "yaxis": {
           "automargin": true,
           "gridcolor": "white",
           "linecolor": "white",
           "ticks": "",
           "title": {
            "standoff": 15
           },
           "zerolinecolor": "white",
           "zerolinewidth": 2
          }
         }
        },
        "xaxis": {
         "anchor": "y",
         "domain": [
          0,
          0.31999999999999995
         ],
         "title": {
          "text": "data_size"
         }
        },
        "xaxis2": {
         "anchor": "y2",
         "domain": [
          0.33999999999999997,
          0.6599999999999999
         ],
         "matches": "x",
         "title": {
          "text": "data_size"
         }
        },
        "xaxis3": {
         "anchor": "y3",
         "domain": [
          0.6799999999999999,
          0.9999999999999999
         ],
         "matches": "x",
         "title": {
          "text": "data_size"
         }
        },
        "yaxis": {
         "anchor": "x",
         "domain": [
          0,
          1
         ],
         "title": {
          "text": "mse"
         },
         "type": "log"
        },
        "yaxis2": {
         "anchor": "x2",
         "domain": [
          0,
          1
         ],
         "matches": "y",
         "showticklabels": false,
         "type": "log"
        },
        "yaxis3": {
         "anchor": "x3",
         "domain": [
          0,
          1
         ],
         "matches": "y",
         "showticklabels": false,
         "type": "log"
        }
       }
      },
      "text/html": [
       "<div>                            <div id=\"7a6e4184-26f7-4714-be8f-facbe3efad20\" class=\"plotly-graph-div\" style=\"height:525px; width:100%;\"></div>            <script type=\"text/javascript\">                require([\"plotly\"], function(Plotly) {                    window.PLOTLYENV=window.PLOTLYENV || {};                                    if (document.getElementById(\"7a6e4184-26f7-4714-be8f-facbe3efad20\")) {                    Plotly.newPlot(                        \"7a6e4184-26f7-4714-be8f-facbe3efad20\",                        [{\"alignmentgroup\":\"True\",\"hovertemplate\":\"model=dfiv_parcs<br>rho=0.9<br>data_size=%{x}<br>mse=%{y}<extra></extra>\",\"legendgroup\":\"dfiv_parcs\",\"marker\":{\"color\":\"#636efa\"},\"name\":\"dfiv_parcs\",\"notched\":false,\"offsetgroup\":\"dfiv_parcs\",\"orientation\":\"v\",\"showlegend\":true,\"x\":[\"5000\",\"5000\",\"5000\",\"5000\",\"5000\",\"5000\",\"5000\",\"5000\",\"5000\",\"5000\",\"5000\",\"5000\",\"5000\",\"5000\",\"5000\",\"5000\",\"5000\",\"5000\",\"5000\",\"5000\",\"1000\",\"1000\",\"1000\",\"1000\",\"1000\",\"1000\",\"1000\",\"1000\",\"1000\",\"1000\",\"1000\",\"1000\",\"1000\",\"1000\",\"1000\",\"1000\",\"1000\",\"1000\",\"1000\",\"1000\"],\"x0\":\" \",\"xaxis\":\"x\",\"y\":[223.8733673095703,230.4563446044922,200.5909423828125,161.78433227539062,233.79745483398438,248.19488525390625,328.9227600097656,270.4985046386719,261.10150146484375,182.3575439453125,209.43026733398438,173.45721435546875,249.0176544189453,163.07559204101562,205.2132568359375,192.70616149902344,165.11065673828125,243.55093383789062,322.800048828125,223.0779266357422,663.688720703125,664.9540405273438,757.5601196289062,1179.0074462890625,716.9277954101562,1607.758056640625,1006.2972412109375,1312.4549560546875,948.3739013671875,1956.9061279296875,1216.8927001953125,1710.2044677734375,1095.04052734375,1774.388427734375,789.1429443359375,1029.1190185546875,1506.4730224609375,1141.9390869140625,1184.296875,1940.5628662109375],\"y0\":\" \",\"yaxis\":\"y\",\"type\":\"box\"},{\"alignmentgroup\":\"True\",\"hovertemplate\":\"model=dfiv_parcs<br>rho=0.5<br>data_size=%{x}<br>mse=%{y}<extra></extra>\",\"legendgroup\":\"dfiv_parcs\",\"marker\":{\"color\":\"#636efa\"},\"name\":\"dfiv_parcs\",\"notched\":false,\"offsetgroup\":\"dfiv_parcs\",\"orientation\":\"v\",\"showlegend\":false,\"x\":[\"5000\",\"5000\",\"5000\",\"5000\",\"5000\",\"5000\",\"5000\",\"5000\",\"5000\",\"5000\",\"5000\",\"5000\",\"5000\",\"5000\",\"5000\",\"5000\",\"5000\",\"5000\",\"5000\",\"5000\",\"1000\",\"1000\",\"1000\",\"1000\",\"1000\",\"1000\",\"1000\",\"1000\",\"1000\",\"1000\",\"1000\",\"1000\",\"1000\",\"1000\",\"1000\",\"1000\",\"1000\",\"1000\",\"1000\",\"1000\"],\"x0\":\" \",\"xaxis\":\"x2\",\"y\":[282.8143005371094,249.26206970214844,195.06646728515625,250.65765380859375,208.42013549804688,264.98773193359375,209.40838623046875,342.4515075683594,310.6925354003906,179.06651306152344,182.96624755859375,263.66717529296875,209.6585235595703,219.36752319335938,185.9822235107422,215.4588623046875,258.0555725097656,162.85142517089844,192.40660095214844,254.83956909179688,745.2469482421875,1790.5550537109375,1327.691650390625,824.21533203125,667.9669799804688,1336.04931640625,1082.8270263671875,1379.98486328125,924.3265380859375,803.3404541015625,1598.446044921875,1077.0400390625,1056.14013671875,1219.290771484375,455.6007080078125,790.0994873046875,952.7578735351562,1229.6802978515625,849.3632202148438,1393.3851318359375],\"y0\":\" \",\"yaxis\":\"y2\",\"type\":\"box\"},{\"alignmentgroup\":\"True\",\"hovertemplate\":\"model=dfiv_parcs<br>rho=0.1<br>data_size=%{x}<br>mse=%{y}<extra></extra>\",\"legendgroup\":\"dfiv_parcs\",\"marker\":{\"color\":\"#636efa\"},\"name\":\"dfiv_parcs\",\"notched\":false,\"offsetgroup\":\"dfiv_parcs\",\"orientation\":\"v\",\"showlegend\":false,\"x\":[\"5000\",\"5000\",\"5000\",\"5000\",\"5000\",\"5000\",\"5000\",\"5000\",\"5000\",\"5000\",\"5000\",\"5000\",\"5000\",\"5000\",\"5000\",\"5000\",\"5000\",\"5000\",\"5000\",\"5000\",\"1000\",\"1000\",\"1000\",\"1000\",\"1000\",\"1000\",\"1000\",\"1000\",\"1000\",\"1000\",\"1000\",\"1000\",\"1000\",\"1000\",\"1000\",\"1000\",\"1000\",\"1000\",\"1000\",\"1000\"],\"x0\":\" \",\"xaxis\":\"x3\",\"y\":[145.14578247070312,225.21719360351562,193.433349609375,245.47787475585938,206.11724853515625,176.50140380859375,174.62596130371094,260.520263671875,232.9279022216797,262.3968200683594,224.688232421875,234.92970275878906,185.15463256835938,228.79310607910156,284.740234375,182.76974487304688,163.57025146484375,229.05319213867188,285.8125305175781,201.43118286132812,1106.088623046875,1156.4781494140625,1389.07666015625,887.3645629882812,711.9879150390625,1359.571533203125,532.2872924804688,1118.871826171875,1395.66845703125,802.1204223632812,2259.6748046875,1805.1466064453125,1106.6773681640625,1180.300048828125,1071.24365234375,1237.7476806640625,1250.8050537109375,1792.4957275390625,1538.207275390625,1438.120849609375],\"y0\":\" \",\"yaxis\":\"y3\",\"type\":\"box\"},{\"alignmentgroup\":\"True\",\"hovertemplate\":\"model=dfiv<br>rho=0.9<br>data_size=%{x}<br>mse=%{y}<extra></extra>\",\"legendgroup\":\"dfiv\",\"marker\":{\"color\":\"#EF553B\"},\"name\":\"dfiv\",\"notched\":false,\"offsetgroup\":\"dfiv\",\"orientation\":\"v\",\"showlegend\":true,\"x\":[\"5000\",\"5000\",\"5000\",\"5000\",\"5000\",\"5000\",\"5000\",\"5000\",\"5000\",\"5000\",\"5000\",\"5000\",\"5000\",\"5000\",\"5000\",\"5000\",\"5000\",\"5000\",\"5000\",\"5000\",\"1000\",\"1000\",\"1000\",\"1000\",\"1000\",\"1000\",\"1000\",\"1000\",\"1000\",\"1000\",\"1000\",\"1000\",\"1000\",\"1000\",\"1000\",\"1000\",\"1000\",\"1000\",\"1000\",\"1000\"],\"x0\":\" \",\"xaxis\":\"x\",\"y\":[210.01914978027344,229.90963745117188,308.251953125,374.0765075683594,213.0401611328125,234.0701141357422,148.1262664794922,183.78321838378906,210.49118041992188,155.9683074951172,229.602783203125,329.32568359375,169.61695861816406,181.37855529785156,206.5830535888672,248.75192260742188,255.81259155273438,212.21343994140625,187.347412109375,131.90963745117188,1293.651123046875,1392.00146484375,997.9671630859375,1422.75927734375,870.7478637695312,1009.6539306640625,658.273193359375,980.2914428710938,816.7849731445312,885.6718139648438,1527.32177734375,1018.5767822265625,985.1666870117188,1672.4146728515625,1255.5927734375,1489.7860107421875,1573.826904296875,1970.0606689453125,1661.1748046875,1013.992919921875],\"y0\":\" \",\"yaxis\":\"y\",\"type\":\"box\"},{\"alignmentgroup\":\"True\",\"hovertemplate\":\"model=dfiv<br>rho=0.5<br>data_size=%{x}<br>mse=%{y}<extra></extra>\",\"legendgroup\":\"dfiv\",\"marker\":{\"color\":\"#EF553B\"},\"name\":\"dfiv\",\"notched\":false,\"offsetgroup\":\"dfiv\",\"orientation\":\"v\",\"showlegend\":false,\"x\":[\"5000\",\"5000\",\"5000\",\"5000\",\"5000\",\"5000\",\"5000\",\"5000\",\"5000\",\"5000\",\"5000\",\"5000\",\"5000\",\"5000\",\"5000\",\"5000\",\"5000\",\"5000\",\"5000\",\"5000\",\"1000\",\"1000\",\"1000\",\"1000\",\"1000\",\"1000\",\"1000\",\"1000\",\"1000\",\"1000\",\"1000\",\"1000\",\"1000\",\"1000\",\"1000\",\"1000\",\"1000\",\"1000\",\"1000\",\"1000\"],\"x0\":\" \",\"xaxis\":\"x2\",\"y\":[144.1354522705078,179.46282958984375,233.7452850341797,159.71482849121094,288.9473876953125,136.5225372314453,207.50689697265625,175.65185546875,218.00946044921875,226.4305419921875,238.36033630371094,252.34230041503906,177.2018585205078,238.71990966796875,179.55599975585938,227.39292907714844,177.25216674804688,207.80117797851562,213.50888061523438,243.030517578125,1103.0860595703125,991.045166015625,1159.6328125,1002.8910522460938,984.5548095703125,704.8423461914062,651.168212890625,993.9177856445312,1000.8713989257812,900.1435546875,583.8814086914062,1134.111083984375,1062.130126953125,1256.413330078125,737.1502075195312,719.1884155273438,981.6337280273438,783.821044921875,1486.605224609375,1246.158447265625],\"y0\":\" \",\"yaxis\":\"y2\",\"type\":\"box\"},{\"alignmentgroup\":\"True\",\"hovertemplate\":\"model=dfiv<br>rho=0.1<br>data_size=%{x}<br>mse=%{y}<extra></extra>\",\"legendgroup\":\"dfiv\",\"marker\":{\"color\":\"#EF553B\"},\"name\":\"dfiv\",\"notched\":false,\"offsetgroup\":\"dfiv\",\"orientation\":\"v\",\"showlegend\":false,\"x\":[\"5000\",\"5000\",\"5000\",\"5000\",\"5000\",\"5000\",\"5000\",\"5000\",\"5000\",\"5000\",\"5000\",\"5000\",\"5000\",\"5000\",\"5000\",\"5000\",\"5000\",\"5000\",\"5000\",\"5000\",\"1000\",\"1000\",\"1000\",\"1000\",\"1000\",\"1000\",\"1000\",\"1000\",\"1000\",\"1000\",\"1000\",\"1000\",\"1000\",\"1000\",\"1000\",\"1000\",\"1000\",\"1000\",\"1000\",\"1000\"],\"x0\":\" \",\"xaxis\":\"x3\",\"y\":[202.98855590820312,204.78843688964844,183.9024200439453,325.5378723144531,308.36688232421875,209.78555297851562,171.72125244140625,191.79527282714844,179.68927001953125,269.0150146484375,186.27511596679688,192.72377014160156,226.05270385742188,228.21932983398438,233.2335205078125,195.9906005859375,269.65765380859375,184.20375061035156,216.16824340820312,218.2612762451172,964.86572265625,924.3941040039062,1064.8028564453125,1234.843994140625,1404.4610595703125,1000.7916870117188,697.8851318359375,723.0446166992188,1381.20458984375,943.5114135742188,918.0625,758.3379516601562,742.9388427734375,903.9166259765625,1165.1334228515625,945.7482299804688,1251.0220947265625,861.9425659179688,869.2891235351562,781.4124145507812],\"y0\":\" \",\"yaxis\":\"y3\",\"type\":\"box\"}],                        {\"template\":{\"data\":{\"histogram2dcontour\":[{\"type\":\"histogram2dcontour\",\"colorbar\":{\"outlinewidth\":0,\"ticks\":\"\"},\"colorscale\":[[0.0,\"#0d0887\"],[0.1111111111111111,\"#46039f\"],[0.2222222222222222,\"#7201a8\"],[0.3333333333333333,\"#9c179e\"],[0.4444444444444444,\"#bd3786\"],[0.5555555555555556,\"#d8576b\"],[0.6666666666666666,\"#ed7953\"],[0.7777777777777778,\"#fb9f3a\"],[0.8888888888888888,\"#fdca26\"],[1.0,\"#f0f921\"]]}],\"choropleth\":[{\"type\":\"choropleth\",\"colorbar\":{\"outlinewidth\":0,\"ticks\":\"\"}}],\"histogram2d\":[{\"type\":\"histogram2d\",\"colorbar\":{\"outlinewidth\":0,\"ticks\":\"\"},\"colorscale\":[[0.0,\"#0d0887\"],[0.1111111111111111,\"#46039f\"],[0.2222222222222222,\"#7201a8\"],[0.3333333333333333,\"#9c179e\"],[0.4444444444444444,\"#bd3786\"],[0.5555555555555556,\"#d8576b\"],[0.6666666666666666,\"#ed7953\"],[0.7777777777777778,\"#fb9f3a\"],[0.8888888888888888,\"#fdca26\"],[1.0,\"#f0f921\"]]}],\"heatmap\":[{\"type\":\"heatmap\",\"colorbar\":{\"outlinewidth\":0,\"ticks\":\"\"},\"colorscale\":[[0.0,\"#0d0887\"],[0.1111111111111111,\"#46039f\"],[0.2222222222222222,\"#7201a8\"],[0.3333333333333333,\"#9c179e\"],[0.4444444444444444,\"#bd3786\"],[0.5555555555555556,\"#d8576b\"],[0.6666666666666666,\"#ed7953\"],[0.7777777777777778,\"#fb9f3a\"],[0.8888888888888888,\"#fdca26\"],[1.0,\"#f0f921\"]]}],\"heatmapgl\":[{\"type\":\"heatmapgl\",\"colorbar\":{\"outlinewidth\":0,\"ticks\":\"\"},\"colorscale\":[[0.0,\"#0d0887\"],[0.1111111111111111,\"#46039f\"],[0.2222222222222222,\"#7201a8\"],[0.3333333333333333,\"#9c179e\"],[0.4444444444444444,\"#bd3786\"],[0.5555555555555556,\"#d8576b\"],[0.6666666666666666,\"#ed7953\"],[0.7777777777777778,\"#fb9f3a\"],[0.8888888888888888,\"#fdca26\"],[1.0,\"#f0f921\"]]}],\"contourcarpet\":[{\"type\":\"contourcarpet\",\"colorbar\":{\"outlinewidth\":0,\"ticks\":\"\"}}],\"contour\":[{\"type\":\"contour\",\"colorbar\":{\"outlinewidth\":0,\"ticks\":\"\"},\"colorscale\":[[0.0,\"#0d0887\"],[0.1111111111111111,\"#46039f\"],[0.2222222222222222,\"#7201a8\"],[0.3333333333333333,\"#9c179e\"],[0.4444444444444444,\"#bd3786\"],[0.5555555555555556,\"#d8576b\"],[0.6666666666666666,\"#ed7953\"],[0.7777777777777778,\"#fb9f3a\"],[0.8888888888888888,\"#fdca26\"],[1.0,\"#f0f921\"]]}],\"surface\":[{\"type\":\"surface\",\"colorbar\":{\"outlinewidth\":0,\"ticks\":\"\"},\"colorscale\":[[0.0,\"#0d0887\"],[0.1111111111111111,\"#46039f\"],[0.2222222222222222,\"#7201a8\"],[0.3333333333333333,\"#9c179e\"],[0.4444444444444444,\"#bd3786\"],[0.5555555555555556,\"#d8576b\"],[0.6666666666666666,\"#ed7953\"],[0.7777777777777778,\"#fb9f3a\"],[0.8888888888888888,\"#fdca26\"],[1.0,\"#f0f921\"]]}],\"mesh3d\":[{\"type\":\"mesh3d\",\"colorbar\":{\"outlinewidth\":0,\"ticks\":\"\"}}],\"scatter\":[{\"fillpattern\":{\"fillmode\":\"overlay\",\"size\":10,\"solidity\":0.2},\"type\":\"scatter\"}],\"parcoords\":[{\"type\":\"parcoords\",\"line\":{\"colorbar\":{\"outlinewidth\":0,\"ticks\":\"\"}}}],\"scatterpolargl\":[{\"type\":\"scatterpolargl\",\"marker\":{\"colorbar\":{\"outlinewidth\":0,\"ticks\":\"\"}}}],\"bar\":[{\"error_x\":{\"color\":\"#2a3f5f\"},\"error_y\":{\"color\":\"#2a3f5f\"},\"marker\":{\"line\":{\"color\":\"#E5ECF6\",\"width\":0.5},\"pattern\":{\"fillmode\":\"overlay\",\"size\":10,\"solidity\":0.2}},\"type\":\"bar\"}],\"scattergeo\":[{\"type\":\"scattergeo\",\"marker\":{\"colorbar\":{\"outlinewidth\":0,\"ticks\":\"\"}}}],\"scatterpolar\":[{\"type\":\"scatterpolar\",\"marker\":{\"colorbar\":{\"outlinewidth\":0,\"ticks\":\"\"}}}],\"histogram\":[{\"marker\":{\"pattern\":{\"fillmode\":\"overlay\",\"size\":10,\"solidity\":0.2}},\"type\":\"histogram\"}],\"scattergl\":[{\"type\":\"scattergl\",\"marker\":{\"colorbar\":{\"outlinewidth\":0,\"ticks\":\"\"}}}],\"scatter3d\":[{\"type\":\"scatter3d\",\"line\":{\"colorbar\":{\"outlinewidth\":0,\"ticks\":\"\"}},\"marker\":{\"colorbar\":{\"outlinewidth\":0,\"ticks\":\"\"}}}],\"scattermapbox\":[{\"type\":\"scattermapbox\",\"marker\":{\"colorbar\":{\"outlinewidth\":0,\"ticks\":\"\"}}}],\"scatterternary\":[{\"type\":\"scatterternary\",\"marker\":{\"colorbar\":{\"outlinewidth\":0,\"ticks\":\"\"}}}],\"scattercarpet\":[{\"type\":\"scattercarpet\",\"marker\":{\"colorbar\":{\"outlinewidth\":0,\"ticks\":\"\"}}}],\"carpet\":[{\"aaxis\":{\"endlinecolor\":\"#2a3f5f\",\"gridcolor\":\"white\",\"linecolor\":\"white\",\"minorgridcolor\":\"white\",\"startlinecolor\":\"#2a3f5f\"},\"baxis\":{\"endlinecolor\":\"#2a3f5f\",\"gridcolor\":\"white\",\"linecolor\":\"white\",\"minorgridcolor\":\"white\",\"startlinecolor\":\"#2a3f5f\"},\"type\":\"carpet\"}],\"table\":[{\"cells\":{\"fill\":{\"color\":\"#EBF0F8\"},\"line\":{\"color\":\"white\"}},\"header\":{\"fill\":{\"color\":\"#C8D4E3\"},\"line\":{\"color\":\"white\"}},\"type\":\"table\"}],\"barpolar\":[{\"marker\":{\"line\":{\"color\":\"#E5ECF6\",\"width\":0.5},\"pattern\":{\"fillmode\":\"overlay\",\"size\":10,\"solidity\":0.2}},\"type\":\"barpolar\"}],\"pie\":[{\"automargin\":true,\"type\":\"pie\"}]},\"layout\":{\"autotypenumbers\":\"strict\",\"colorway\":[\"#636efa\",\"#EF553B\",\"#00cc96\",\"#ab63fa\",\"#FFA15A\",\"#19d3f3\",\"#FF6692\",\"#B6E880\",\"#FF97FF\",\"#FECB52\"],\"font\":{\"color\":\"#2a3f5f\"},\"hovermode\":\"closest\",\"hoverlabel\":{\"align\":\"left\"},\"paper_bgcolor\":\"white\",\"plot_bgcolor\":\"#E5ECF6\",\"polar\":{\"bgcolor\":\"#E5ECF6\",\"angularaxis\":{\"gridcolor\":\"white\",\"linecolor\":\"white\",\"ticks\":\"\"},\"radialaxis\":{\"gridcolor\":\"white\",\"linecolor\":\"white\",\"ticks\":\"\"}},\"ternary\":{\"bgcolor\":\"#E5ECF6\",\"aaxis\":{\"gridcolor\":\"white\",\"linecolor\":\"white\",\"ticks\":\"\"},\"baxis\":{\"gridcolor\":\"white\",\"linecolor\":\"white\",\"ticks\":\"\"},\"caxis\":{\"gridcolor\":\"white\",\"linecolor\":\"white\",\"ticks\":\"\"}},\"coloraxis\":{\"colorbar\":{\"outlinewidth\":0,\"ticks\":\"\"}},\"colorscale\":{\"sequential\":[[0.0,\"#0d0887\"],[0.1111111111111111,\"#46039f\"],[0.2222222222222222,\"#7201a8\"],[0.3333333333333333,\"#9c179e\"],[0.4444444444444444,\"#bd3786\"],[0.5555555555555556,\"#d8576b\"],[0.6666666666666666,\"#ed7953\"],[0.7777777777777778,\"#fb9f3a\"],[0.8888888888888888,\"#fdca26\"],[1.0,\"#f0f921\"]],\"sequentialminus\":[[0.0,\"#0d0887\"],[0.1111111111111111,\"#46039f\"],[0.2222222222222222,\"#7201a8\"],[0.3333333333333333,\"#9c179e\"],[0.4444444444444444,\"#bd3786\"],[0.5555555555555556,\"#d8576b\"],[0.6666666666666666,\"#ed7953\"],[0.7777777777777778,\"#fb9f3a\"],[0.8888888888888888,\"#fdca26\"],[1.0,\"#f0f921\"]],\"diverging\":[[0,\"#8e0152\"],[0.1,\"#c51b7d\"],[0.2,\"#de77ae\"],[0.3,\"#f1b6da\"],[0.4,\"#fde0ef\"],[0.5,\"#f7f7f7\"],[0.6,\"#e6f5d0\"],[0.7,\"#b8e186\"],[0.8,\"#7fbc41\"],[0.9,\"#4d9221\"],[1,\"#276419\"]]},\"xaxis\":{\"gridcolor\":\"white\",\"linecolor\":\"white\",\"ticks\":\"\",\"title\":{\"standoff\":15},\"zerolinecolor\":\"white\",\"automargin\":true,\"zerolinewidth\":2},\"yaxis\":{\"gridcolor\":\"white\",\"linecolor\":\"white\",\"ticks\":\"\",\"title\":{\"standoff\":15},\"zerolinecolor\":\"white\",\"automargin\":true,\"zerolinewidth\":2},\"scene\":{\"xaxis\":{\"backgroundcolor\":\"#E5ECF6\",\"gridcolor\":\"white\",\"linecolor\":\"white\",\"showbackground\":true,\"ticks\":\"\",\"zerolinecolor\":\"white\",\"gridwidth\":2},\"yaxis\":{\"backgroundcolor\":\"#E5ECF6\",\"gridcolor\":\"white\",\"linecolor\":\"white\",\"showbackground\":true,\"ticks\":\"\",\"zerolinecolor\":\"white\",\"gridwidth\":2},\"zaxis\":{\"backgroundcolor\":\"#E5ECF6\",\"gridcolor\":\"white\",\"linecolor\":\"white\",\"showbackground\":true,\"ticks\":\"\",\"zerolinecolor\":\"white\",\"gridwidth\":2}},\"shapedefaults\":{\"line\":{\"color\":\"#2a3f5f\"}},\"annotationdefaults\":{\"arrowcolor\":\"#2a3f5f\",\"arrowhead\":0,\"arrowwidth\":1},\"geo\":{\"bgcolor\":\"white\",\"landcolor\":\"#E5ECF6\",\"subunitcolor\":\"white\",\"showland\":true,\"showlakes\":true,\"lakecolor\":\"white\"},\"title\":{\"x\":0.05},\"mapbox\":{\"style\":\"light\"}}},\"xaxis\":{\"anchor\":\"y\",\"domain\":[0.0,0.31999999999999995],\"title\":{\"text\":\"data_size\"}},\"yaxis\":{\"anchor\":\"x\",\"domain\":[0.0,1.0],\"title\":{\"text\":\"mse\"},\"type\":\"log\"},\"xaxis2\":{\"anchor\":\"y2\",\"domain\":[0.33999999999999997,0.6599999999999999],\"matches\":\"x\",\"title\":{\"text\":\"data_size\"}},\"yaxis2\":{\"anchor\":\"x2\",\"domain\":[0.0,1.0],\"matches\":\"y\",\"showticklabels\":false,\"type\":\"log\"},\"xaxis3\":{\"anchor\":\"y3\",\"domain\":[0.6799999999999999,0.9999999999999999],\"matches\":\"x\",\"title\":{\"text\":\"data_size\"}},\"yaxis3\":{\"anchor\":\"x3\",\"domain\":[0.0,1.0],\"matches\":\"y\",\"showticklabels\":false,\"type\":\"log\"},\"annotations\":[{\"font\":{},\"showarrow\":false,\"text\":\"rho=0.9\",\"x\":0.15999999999999998,\"xanchor\":\"center\",\"xref\":\"paper\",\"y\":1.0,\"yanchor\":\"bottom\",\"yref\":\"paper\"},{\"font\":{},\"showarrow\":false,\"text\":\"rho=0.5\",\"x\":0.49999999999999994,\"xanchor\":\"center\",\"xref\":\"paper\",\"y\":1.0,\"yanchor\":\"bottom\",\"yref\":\"paper\"},{\"font\":{},\"showarrow\":false,\"text\":\"rho=0.1\",\"x\":0.8399999999999999,\"xanchor\":\"center\",\"xref\":\"paper\",\"y\":1.0,\"yanchor\":\"bottom\",\"yref\":\"paper\"}],\"legend\":{\"title\":{\"text\":\"model\"},\"tracegroupgap\":0},\"margin\":{\"t\":60},\"boxmode\":\"group\"},                        {\"responsive\": true}                    ).then(function(){\n",
       "                            \n",
       "var gd = document.getElementById('7a6e4184-26f7-4714-be8f-facbe3efad20');\n",
       "var x = new MutationObserver(function (mutations, observer) {{\n",
       "        var display = window.getComputedStyle(gd).display;\n",
       "        if (!display || display === 'none') {{\n",
       "            console.log([gd, 'removed!']);\n",
       "            Plotly.purge(gd);\n",
       "            observer.disconnect();\n",
       "        }}\n",
       "}});\n",
       "\n",
       "// Listen for the removal of the full notebook cells\n",
       "var notebookContainer = gd.closest('#notebook-container');\n",
       "if (notebookContainer) {{\n",
       "    x.observe(notebookContainer, {childList: true});\n",
       "}}\n",
       "\n",
       "// Listen for the clearing of the current output cell\n",
       "var outputEl = gd.closest('.output');\n",
       "if (outputEl) {{\n",
       "    x.observe(outputEl, {childList: true});\n",
       "}}\n",
       "\n",
       "                        })                };                });            </script>        </div>"
      ]
     },
     "metadata": {},
     "output_type": "display_data"
    }
   ],
   "source": [
    "fig = px.box(df, x='data_size', y='mse', color='model', log_y=True,\n",
    "                facet_col='rho', facet_col_wrap=3)\n",
    "fig.show()"
   ]
  },
  {
   "cell_type": "code",
   "execution_count": null,
   "metadata": {},
   "outputs": [],
   "source": []
  }
 ],
 "metadata": {
  "kernelspec": {
   "display_name": "Python 3 (ipykernel)",
   "language": "python",
   "name": "python3"
  },
  "language_info": {
   "codemirror_mode": {
    "name": "ipython",
    "version": 3
   },
   "file_extension": ".py",
   "mimetype": "text/x-python",
   "name": "python",
   "nbconvert_exporter": "python",
   "pygments_lexer": "ipython3",
   "version": "3.7.16"
  },
  "vscode": {
   "interpreter": {
    "hash": "13044e9446dc9e79fa0a14def05fedede05157fce78ba134978c65b5d53ab147"
   }
  }
 },
 "nbformat": 4,
 "nbformat_minor": 4
}
